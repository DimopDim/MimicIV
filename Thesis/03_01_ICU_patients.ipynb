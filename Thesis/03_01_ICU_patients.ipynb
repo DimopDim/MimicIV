{
 "cells": [
  {
   "cell_type": "code",
   "execution_count": null,
   "metadata": {},
   "outputs": [],
   "source": [
    "\"\"\"\n",
    "Σε αυτό το αρχείο χρεισιμοποιούνται οι ICD9 κωδικοί που\n",
    "αναφέρονται στο εγκεφαλικό και παράγεται το αρχείο\n",
    "\"icd9_cerebral_infarction.csv\" όπου τους επεξηγεί.\n",
    "Στη συνέχεια παράγεται το αρχείο \"diagnoses_cerebral_infarction.csv\"\n",
    "όπου περιλαμβάνονται σε αυτό οι ασθενείς με εγκεφαλικό.\n",
    "Έπειτα δημιουργείται το αρχείο \"death.csv\" όπου\n",
    "εμπεριέχονται σε αυτό οι ασθενείς που απεβίωσαν.\n",
    "\n",
    "523.740 -> Εισαγωγές στις νοσοκομειακές μονάδες.\n",
    " 12.015 -> Εισαγωγές στις νοσοκομειακές μονάδες ασθενών με εγκεφαλικό.\n",
    "  9.926 -> Μοναδικές εισαγωγές στις νοσοκομειακές μονάδες χωρίς περιλαμβάνονται οι ενδονοσοκομειακές μετακινήσεις.\n",
    "  8.320 -> Μοναδικών ασθενών στις νοσοκομειακές μονάδες.\n",
    "  7.431 -> Επιβίωσαν στις νοσοκομειακές μονάδες (89,31%).\n",
    "    889 -> Απεβίωσαν στις νοσοκομειακές μονάδες (10,69%).\n",
    "  \n",
    "  \n",
    "  5.436 -> Εισαγωγές στο σύνολο ασθενών στις ΜΕΘ.\n",
    "  3.809 -> Μοναδικές εισαγωγές ασθενών στις ΜΕΘ\n",
    "  3.646 -> Μοναδικοί ασθενείς στις ΜΕΘ\n",
    "  2.887 -> Επιβίωσαν στις ΜΕΘ (73,71%)\n",
    "    759 -> Απεβίωσαν στις ΜΕΘ (26,29%)\n",
    "\"\"\""
   ]
  },
  {
   "cell_type": "code",
   "execution_count": 2,
   "metadata": {},
   "outputs": [],
   "source": [
    "import pandas as pd"
   ]
  },
  {
   "cell_type": "code",
   "execution_count": 3,
   "metadata": {},
   "outputs": [],
   "source": [
    "# Δήλωση των data frame.\n",
    "df_hosp_patients = pd.read_csv('D:\\Thesis\\exports\\o3_hosp_patients.csv')\n",
    "df_icd = pd.read_csv('D:\\Thesis\\mimic-iv-1.0\\hosp\\d_icd_diagnoses.csv.gz')\n",
    "df_icu_stay = pd.read_csv('D:\\Thesis\\mimic-iv-1.0\\icu\\icustays.csv.gz',\n",
    "                          usecols = ['subject_id', 'hadm_id'])"
   ]
  },
  {
   "cell_type": "code",
   "execution_count": 4,
   "metadata": {},
   "outputs": [
    {
     "name": "stdout",
     "output_type": "stream",
     "text": [
      "<class 'pandas.core.frame.DataFrame'>\n",
      "RangeIndex: 12015 entries, 0 to 12014\n",
      "Data columns (total 3 columns):\n",
      " #   Column      Non-Null Count  Dtype\n",
      "---  ------      --------------  -----\n",
      " 0   subject_id  12015 non-null  int64\n",
      " 1   hadm_id     12015 non-null  int64\n",
      " 2   icd_code    12015 non-null  int64\n",
      "dtypes: int64(3)\n",
      "memory usage: 281.7 KB\n"
     ]
    }
   ],
   "source": [
    "# 12.015 -> Εισαγωγές στις νοσοκομειακές μονάδες ασθενών με εγκεφαλικό.\n",
    "df_hosp_patients.info()"
   ]
  },
  {
   "cell_type": "code",
   "execution_count": 5,
   "metadata": {},
   "outputs": [
    {
     "name": "stdout",
     "output_type": "stream",
     "text": [
      "<class 'pandas.core.frame.DataFrame'>\n",
      "Int64Index: 9926 entries, 0 to 12014\n",
      "Data columns (total 3 columns):\n",
      " #   Column      Non-Null Count  Dtype\n",
      "---  ------      --------------  -----\n",
      " 0   subject_id  9926 non-null   int64\n",
      " 1   hadm_id     9926 non-null   int64\n",
      " 2   icd_code    9926 non-null   int64\n",
      "dtypes: int64(3)\n",
      "memory usage: 310.2 KB\n"
     ]
    }
   ],
   "source": [
    "# 9.926 -> Μοναδικές εισαγωγές στις νοσοκομειακές μονάδες χωρίς περιλαμβάνονται οι ενδονοσοκομειακές μετακινήσεις.\n",
    "df_hosp_patients.drop_duplicates(subset=['hadm_id']).info()"
   ]
  },
  {
   "cell_type": "code",
   "execution_count": 6,
   "metadata": {},
   "outputs": [],
   "source": [
    "# Συνολικές εισαγωγές στις ΜΕΘ (5.436)\n",
    "rslt_df=pd.merge(df_hosp_patients, df_icu_stay, on=['subject_id','hadm_id'])\n",
    "rslt_df.to_csv('D:\\Thesis\\exports\\o4_icu_total_admissions.csv', index = False)"
   ]
  },
  {
   "cell_type": "code",
   "execution_count": 7,
   "metadata": {},
   "outputs": [
    {
     "name": "stdout",
     "output_type": "stream",
     "text": [
      "<class 'pandas.core.frame.DataFrame'>\n",
      "Int64Index: 5436 entries, 0 to 5435\n",
      "Data columns (total 3 columns):\n",
      " #   Column      Non-Null Count  Dtype\n",
      "---  ------      --------------  -----\n",
      " 0   subject_id  5436 non-null   int64\n",
      " 1   hadm_id     5436 non-null   int64\n",
      " 2   icd_code    5436 non-null   int64\n",
      "dtypes: int64(3)\n",
      "memory usage: 169.9 KB\n"
     ]
    }
   ],
   "source": [
    "rslt_df.info()"
   ]
  },
  {
   "cell_type": "code",
   "execution_count": 8,
   "metadata": {},
   "outputs": [],
   "source": [
    "# Μοναδικ΄ές εισαγωγές στις ΜΕΘ (3809)\n",
    "rslt_df.drop_duplicates(subset=['hadm_id']).to_csv('D:\\Thesis\\exports\\o5_icu_unique_admissions.csv', index = False)"
   ]
  },
  {
   "cell_type": "code",
   "execution_count": 9,
   "metadata": {},
   "outputs": [
    {
     "name": "stdout",
     "output_type": "stream",
     "text": [
      "<class 'pandas.core.frame.DataFrame'>\n",
      "Int64Index: 3646 entries, 0 to 5435\n",
      "Data columns (total 3 columns):\n",
      " #   Column      Non-Null Count  Dtype\n",
      "---  ------      --------------  -----\n",
      " 0   subject_id  3646 non-null   int64\n",
      " 1   hadm_id     3646 non-null   int64\n",
      " 2   icd_code    3646 non-null   int64\n",
      "dtypes: int64(3)\n",
      "memory usage: 113.9 KB\n"
     ]
    }
   ],
   "source": [
    "# Μοναδικοί ασθενείς στις ΜΕΘ (3646)\n",
    "rslt_df.drop_duplicates(subset=['subject_id']).info()"
   ]
  }
 ],
 "metadata": {
  "kernelspec": {
   "display_name": "Python 3",
   "language": "python",
   "name": "python3"
  },
  "language_info": {
   "codemirror_mode": {
    "name": "ipython",
    "version": 3
   },
   "file_extension": ".py",
   "mimetype": "text/x-python",
   "name": "python",
   "nbconvert_exporter": "python",
   "pygments_lexer": "ipython3",
   "version": "3.8.5"
  }
 },
 "nbformat": 4,
 "nbformat_minor": 4
}
