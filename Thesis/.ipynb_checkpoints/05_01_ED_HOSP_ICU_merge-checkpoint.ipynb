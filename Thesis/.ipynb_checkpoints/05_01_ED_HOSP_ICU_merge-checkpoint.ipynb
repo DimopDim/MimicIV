{
 "cells": [
  {
   "cell_type": "code",
   "execution_count": 1,
   "metadata": {},
   "outputs": [],
   "source": [
    "import pandas as pd"
   ]
  },
  {
   "cell_type": "code",
   "execution_count": 2,
   "metadata": {},
   "outputs": [],
   "source": [
    "df_tables = pd.read_csv('D:\\Thesis\\exports\\o29_HOSP_ICU_merged.csv')\n",
    "\n",
    "df_ed_patients = pd.read_csv('D:\\Thesis\\exports\\o2_ed_mean_vitals.csv')"
   ]
  },
  {
   "cell_type": "code",
   "execution_count": 3,
   "metadata": {},
   "outputs": [],
   "source": [
    "# Μετατροπή της στήλης charttime από object σε datetime\n",
    "\n",
    "df_ed_patients['charttime']= pd.to_datetime(df_ed_patients['charttime'])\n",
    "\n",
    "#Διαχωρισμός σε δυο καινούργιες στήλες της ημερομηνίας και ώρας\n",
    "df_ed_patients['date'] = pd.to_datetime(df_ed_patients['charttime']).dt.date\n",
    "df_ed_patients['time'] = pd.to_datetime(df_ed_patients['charttime']).dt.time"
   ]
  },
  {
   "cell_type": "code",
   "execution_count": 4,
   "metadata": {},
   "outputs": [],
   "source": [
    "\"\"\"\n",
    "Διαγράφω τις στήλες stay_id και charttime.\n",
    "Θα παράξουν στήλες που δεν χρειάζομαι.\n",
    "\"\"\"\n",
    "df_ed_patients = df_ed_patients.drop(['stay_id', 'charttime'], axis=1)"
   ]
  },
  {
   "cell_type": "code",
   "execution_count": 5,
   "metadata": {},
   "outputs": [],
   "source": [
    "#Ελέγχω αν μετά την συγχώνευση υπάρχουν διπλές ίδιες στήλες.\n",
    "\n",
    "rslt=pd.merge(df_tables, df_ed_patients, on=['subject_id','hadm_id', 'date', 'time'],\n",
    "              how=\"outer\", suffixes=('', '_delme'))\n",
    "\n",
    "# Και αν υπάρχουν τις αφαιρώ.\n",
    "rslt = rslt[[c for c in rslt.columns if not c.endswith('_delme')]]"
   ]
  },
  {
   "cell_type": "code",
   "execution_count": 6,
   "metadata": {},
   "outputs": [],
   "source": [
    "# Εισάγω την τιμή ED στα κενά κελιά του Department\n",
    "rslt[['Department']] = rslt[['Department']].fillna('ED')"
   ]
  },
  {
   "cell_type": "code",
   "execution_count": 8,
   "metadata": {},
   "outputs": [],
   "source": [
    "#Εξαγωγή σε csv\n",
    "rslt.to_csv('D:\\Thesis\\exports\\o30_ED_HOSP_ICU_merged.csv', index=False)"
   ]
  }
 ],
 "metadata": {
  "kernelspec": {
   "display_name": "Python 3",
   "language": "python",
   "name": "python3"
  },
  "language_info": {
   "codemirror_mode": {
    "name": "ipython",
    "version": 3
   },
   "file_extension": ".py",
   "mimetype": "text/x-python",
   "name": "python",
   "nbconvert_exporter": "python",
   "pygments_lexer": "ipython3",
   "version": "3.8.5"
  }
 },
 "nbformat": 4,
 "nbformat_minor": 4
}
