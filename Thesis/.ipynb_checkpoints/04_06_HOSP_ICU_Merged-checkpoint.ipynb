{
 "cells": [
  {
   "cell_type": "code",
   "execution_count": 1,
   "metadata": {},
   "outputs": [
    {
     "data": {
      "text/plain": [
       "'\\nΕνοποίηση και των δύο πινάκων που αφορούν την\\nICU και HOSP.\\n\\nICU -> 90.817 γραμμές / 995 στήλες\\nHOSP -> 34.341 γραμμές / 340 στήλες\\n\\n\\n\\nfinal_table ->  γραμμές /  στήλες\\n\\n -> Θέσεις στο πίνακα.\\n -> Κενές θέσεις στον πίνακα.\\n  -> Συνολικές εγγραφές.\\n\\n'"
      ]
     },
     "execution_count": 1,
     "metadata": {},
     "output_type": "execute_result"
    }
   ],
   "source": [
    "\"\"\"\n",
    "Ενοποίηση και των δύο πινάκων που αφορούν την\n",
    "ICU και HOSP.\n",
    "\n",
    "ICU -> 90.817 γραμμές / 995 στήλες\n",
    "HOSP -> 34.341 γραμμές / 340 στήλες\n",
    "\n",
    "\n",
    "\n",
    "final_table -> 125.128 γραμμές / 1103 στήλες\n",
    "\n",
    " -> Θέσεις στο πίνακα.\n",
    " -> Κενές θέσεις στον πίνακα.\n",
    "  -> Συνολικές εγγραφές.\n",
    "\n",
    "\"\"\""
   ]
  },
  {
   "cell_type": "code",
   "execution_count": 2,
   "metadata": {},
   "outputs": [],
   "source": [
    "import pandas as pd"
   ]
  },
  {
   "cell_type": "code",
   "execution_count": 3,
   "metadata": {},
   "outputs": [],
   "source": [
    "df_icu = pd.read_csv('D:\\Thesis\\exports\\o20_ICU_merged_chart_lab.csv')\n",
    "\n",
    "df_lab = pd.read_csv('D:\\Thesis\\exports\\o28_hosp_fill_lab_label_header_tbl.csv')"
   ]
  },
  {
   "cell_type": "code",
   "execution_count": 4,
   "metadata": {},
   "outputs": [],
   "source": [
    "#Ελέγχω αν μετά την συγχώνευση υπάρχουν διπλές ίδιες στήλες\n",
    "\n",
    "rslt=pd.merge(df_icu, df_lab, on=['subject_id','hadm_id', 'date', 'time'],\n",
    "              how=\"outer\", suffixes=('', '_delme'))\n",
    "\n",
    "# Και αν υπάρχουν τις αφαιρώ\n",
    "rslt = rslt[[c for c in rslt.columns if not c.endswith('_delme')]]"
   ]
  },
  {
   "cell_type": "code",
   "execution_count": 7,
   "metadata": {},
   "outputs": [
    {
     "data": {
      "text/plain": [
       "132594951"
      ]
     },
     "execution_count": 7,
     "metadata": {},
     "output_type": "execute_result"
    }
   ],
   "source": [
    "# Ελέγχω αν υπάρχει NaN σε ολόκληρο το dataframe\n",
    "rslt.isna().sum().sum()"
   ]
  },
  {
   "cell_type": "code",
   "execution_count": 6,
   "metadata": {},
   "outputs": [],
   "source": [
    "rslt[['Department']] = rslt[['Department']].fillna('HOSP')"
   ]
  },
  {
   "cell_type": "code",
   "execution_count": 8,
   "metadata": {},
   "outputs": [],
   "source": [
    "#Εξαγωγή σε csv\n",
    "rslt.to_csv('D:\\Thesis\\exports\\o29_HOSP_ICU_merged.csv', index=False)"
   ]
  }
 ],
 "metadata": {
  "kernelspec": {
   "display_name": "Python 3",
   "language": "python",
   "name": "python3"
  },
  "language_info": {
   "codemirror_mode": {
    "name": "ipython",
    "version": 3
   },
   "file_extension": ".py",
   "mimetype": "text/x-python",
   "name": "python",
   "nbconvert_exporter": "python",
   "pygments_lexer": "ipython3",
   "version": "3.8.5"
  }
 },
 "nbformat": 4,
 "nbformat_minor": 4
}
