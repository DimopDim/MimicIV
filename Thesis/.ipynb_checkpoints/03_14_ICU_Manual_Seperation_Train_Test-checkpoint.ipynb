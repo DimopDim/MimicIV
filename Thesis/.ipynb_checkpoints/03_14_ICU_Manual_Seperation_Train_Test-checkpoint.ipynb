{
 "cells": [
  {
   "cell_type": "code",
   "execution_count": 1,
   "metadata": {},
   "outputs": [],
   "source": [
    "import pandas as pd\n",
    "import numpy as np"
   ]
  },
  {
   "cell_type": "code",
   "execution_count": 2,
   "metadata": {},
   "outputs": [],
   "source": [
    "df_icu = pd.read_csv('D:\\Thesis\\exports\\o31_ICU_final.csv')"
   ]
  },
  {
   "cell_type": "code",
   "execution_count": 4,
   "metadata": {},
   "outputs": [],
   "source": [
    "df_1 = df_icu.iloc[:63568,:]\n",
    "df_2 = df_icu.iloc[63568:,:]"
   ]
  },
  {
   "cell_type": "code",
   "execution_count": 5,
   "metadata": {},
   "outputs": [],
   "source": [
    "df_1.to_csv('D:\\Thesis\\Weka\\Train_Test_Sets\\Sorted Set\\Train_70.csv', index=False)\n",
    "df_2.to_csv('D:\\Thesis\\Weka\\Train_Test_Sets\\Sorted Set\\Test_30.csv', index=False)"
   ]
  }
 ],
 "metadata": {
  "kernelspec": {
   "display_name": "Python 3",
   "language": "python",
   "name": "python3"
  },
  "language_info": {
   "codemirror_mode": {
    "name": "ipython",
    "version": 3
   },
   "file_extension": ".py",
   "mimetype": "text/x-python",
   "name": "python",
   "nbconvert_exporter": "python",
   "pygments_lexer": "ipython3",
   "version": "3.8.5"
  }
 },
 "nbformat": 4,
 "nbformat_minor": 4
}
