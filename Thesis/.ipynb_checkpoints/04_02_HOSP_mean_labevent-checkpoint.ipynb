{
 "cells": [
  {
   "cell_type": "code",
   "execution_count": 1,
   "metadata": {},
   "outputs": [],
   "source": [
    "\"\"\"\n",
    "Απομονώνω από το αρχείο labevents.csv όπου περιλαμβάνει\n",
    "τα εργαστηριακά αποτελέσματα τους ασθενείς με εγκεφαλικό\n",
    "\n",
    "Έχοντας τμηματοποιήσει έξω από την python τον πίνακα labevents\n",
    "σε τρεις διαφορετικούς πίνακες τους συγκρίνω και ενσωματώνω τα\n",
    "στοιχεία τους στο \"o23_hosp_labevents_grouped_8hours.csv\" όπου εμπεριέχονται\n",
    "οι ασθενείς με εγκεφαλικό.\n",
    "\n",
    "Στο σύνολο τους οι εγγραφές της labevent είναι 122.289.828\n",
    "Από αυτές το  αναφέρονται στους ασθενείς με εγκεφαλικό που\n",
    "έχουν εισαχθεί στα νοσοκομεία και όχι στις ΜΕΘ.\n",
    "\n",
    "569.340 -> είναι ομαδοποιημένες οι ίδιες εξετάσεις ανά οχτάωρο.\n",
    "\"\"\""
   ]
  },
  {
   "cell_type": "code",
   "execution_count": 2,
   "metadata": {},
   "outputs": [],
   "source": [
    "import pandas as pd"
   ]
  },
  {
   "cell_type": "code",
   "execution_count": 3,
   "metadata": {},
   "outputs": [],
   "source": [
    "df_patients = pd.read_csv('D:\\Thesis\\exports\\o21_only_hosp_patients.csv')"
   ]
  },
  {
   "cell_type": "code",
   "execution_count": 4,
   "metadata": {},
   "outputs": [
    {
     "name": "stderr",
     "output_type": "stream",
     "text": [
      "C:\\Users\\Dimopoulos\\anaconda3\\lib\\site-packages\\IPython\\core\\interactiveshell.py:3146: DtypeWarning: Columns (7) have mixed types.Specify dtype option on import or set low_memory=False.\n",
      "  has_raised = await self.run_ast_nodes(code_ast.body, cell_name,\n"
     ]
    }
   ],
   "source": [
    "#Επεξεργασία πρώτου μέρους του αρχείου labevents\n",
    " \n",
    "df_labevents = pd.read_csv('D:\\Thesis\\Split_Merge_tables\\Splited_Labevents\\labevents_0.csv')\n",
    "df_labevents.columns = [\"labevent_id\", \"subject_id\", \"hadm_id\", \"specimen_id\", \"itemid\",\n",
    "                        \"charttime\", \"storetime\", \"value\", \"valuenum\", \"valueuom\",\n",
    "                        \"ref_range_lower\", \"ref_range_upper\", \"flag\", \"priority\", \"comments\"]\n",
    "\n",
    "rslt_df=pd.merge(df_patients, df_labevents, on=['subject_id','hadm_id'])\n",
    "\n",
    "rslt_df.to_csv('D:\\Thesis\\Split_Merge_tables\\Merged_Labevents\\hosp\\cerebral_infarction_labevents_0.csv', index=False)\n",
    "\n",
    "del (df_labevents, rslt_df) # Διαγραφή των dataframe για απελευθέρωση μνήμης."
   ]
  },
  {
   "cell_type": "code",
   "execution_count": 5,
   "metadata": {},
   "outputs": [],
   "source": [
    "#Επεξεργασία δεύτερου μέρους του αρχείου labevents\n",
    "\n",
    "df_labevents = pd.read_csv('D:\\Thesis\\Split_Merge_tables\\Splited_Labevents\\labevents_1.csv')\n",
    "df_labevents.columns = [\"labevent_id\", \"subject_id\", \"hadm_id\", \"specimen_id\", \"itemid\",\n",
    "                        \"charttime\", \"storetime\", \"value\", \"valuenum\", \"valueuom\",\n",
    "                        \"ref_range_lower\", \"ref_range_upper\", \"flag\", \"priority\", \"comments\"]\n",
    "\n",
    "rslt_df=pd.merge(df_patients, df_labevents, on=['subject_id','hadm_id'])\n",
    "\n",
    "rslt_df.to_csv('D:\\Thesis\\Split_Merge_tables\\Merged_Labevents\\hosp\\cerebral_infarction_labevents_1.csv', index=False)\n",
    "\n",
    "del (df_labevents, rslt_df) # Διαγραφή των dataframe για απελευθέρωση μνήμης."
   ]
  },
  {
   "cell_type": "code",
   "execution_count": 6,
   "metadata": {},
   "outputs": [
    {
     "name": "stderr",
     "output_type": "stream",
     "text": [
      "C:\\Users\\Dimopoulos\\anaconda3\\lib\\site-packages\\IPython\\core\\interactiveshell.py:3146: DtypeWarning: Columns (7,9,12) have mixed types.Specify dtype option on import or set low_memory=False.\n",
      "  has_raised = await self.run_ast_nodes(code_ast.body, cell_name,\n"
     ]
    }
   ],
   "source": [
    "#Επεξεργασία τρίτου μέρους του αρχείου labevents\n",
    "\n",
    "df_labevents = pd.read_csv('D:\\Thesis\\Split_Merge_tables\\Splited_Labevents\\labevents_2.csv')\n",
    "df_labevents.columns = [\"labevent_id\", \"subject_id\", \"hadm_id\", \"specimen_id\", \"itemid\",\n",
    "                        \"charttime\", \"storetime\", \"value\", \"valuenum\", \"valueuom\",\n",
    "                        \"ref_range_lower\", \"ref_range_upper\", \"flag\", \"priority\", \"comments\"]\n",
    "\n",
    "rslt_df=pd.merge(df_patients, df_labevents, on=['subject_id','hadm_id'])\n",
    "\n",
    "rslt_df.to_csv('D:\\Thesis\\Split_Merge_tables\\Merged_Labevents\\hosp\\cerebral_infarction_labevents_2.csv', index=False)\n",
    "\n",
    "del (df_labevents, rslt_df) # Διαγραφή των dataframe για απελευθέρωση μνήμης."
   ]
  },
  {
   "cell_type": "code",
   "execution_count": 7,
   "metadata": {},
   "outputs": [
    {
     "name": "stderr",
     "output_type": "stream",
     "text": [
      "C:\\Users\\Dimopoulos\\anaconda3\\lib\\site-packages\\IPython\\core\\interactiveshell.py:3146: DtypeWarning: Columns (8) have mixed types.Specify dtype option on import or set low_memory=False.\n",
      "  has_raised = await self.run_ast_nodes(code_ast.body, cell_name,\n"
     ]
    }
   ],
   "source": [
    "df_labevents_0 = pd.read_csv('D:\\Thesis\\Split_Merge_tables\\Merged_Labevents\\hosp\\cerebral_infarction_labevents_0.csv',\n",
    "                             usecols = [\"labevent_id\", \"subject_id\", \"hadm_id\", \"specimen_id\", \"itemid\",\n",
    "                                        \"charttime\", \"storetime\", \"value\", \"valuenum\", \"valueuom\",\n",
    "                                        \"ref_range_lower\", \"ref_range_upper\", \"flag\", \"priority\", \"comments\"])\n",
    "\n",
    "df_labevents_1 = pd.read_csv('D:\\Thesis\\Split_Merge_tables\\Merged_Labevents\\hosp\\cerebral_infarction_labevents_1.csv',\n",
    "                             usecols = [\"labevent_id\", \"subject_id\", \"hadm_id\", \"specimen_id\", \"itemid\",\n",
    "                                        \"charttime\", \"storetime\", \"value\", \"valuenum\", \"valueuom\",\n",
    "                                        \"ref_range_lower\", \"ref_range_upper\", \"flag\", \"priority\", \"comments\"])\n",
    "\n",
    "df_labevents_2 = pd.read_csv('D:\\Thesis\\Split_Merge_tables\\Merged_Labevents\\hosp\\cerebral_infarction_labevents_2.csv',\n",
    "                             usecols = [\"labevent_id\", \"subject_id\", \"hadm_id\", \"specimen_id\", \"itemid\",\n",
    "                                        \"charttime\", \"storetime\", \"value\", \"valuenum\", \"valueuom\",\n",
    "                                        \"ref_range_lower\", \"ref_range_upper\", \"flag\", \"priority\", \"comments\"])"
   ]
  },
  {
   "cell_type": "code",
   "execution_count": 8,
   "metadata": {},
   "outputs": [],
   "source": [
    "#Ενσωματώνουμε τα μέρη του labevent σε ένα αρχείο.\n",
    "pd.concat(\n",
    "    [df_labevents_0,\n",
    "     df_labevents_1,\n",
    "     df_labevents_2]).to_csv('D:\\Thesis\\exports\\o22_hosp_labevents.csv', index=False)\n",
    "\n",
    "# Διαγραφή των dataframe για απελευθέρωση μνήμης.\n",
    "del (df_labevents_0,\n",
    "     df_labevents_1,\n",
    "     df_labevents_2)"
   ]
  },
  {
   "cell_type": "code",
   "execution_count": 9,
   "metadata": {},
   "outputs": [],
   "source": [
    "df_labevents = pd.read_csv('D:\\Thesis\\exports\\o22_hosp_labevents.csv')"
   ]
  },
  {
   "cell_type": "code",
   "execution_count": 10,
   "metadata": {},
   "outputs": [],
   "source": [
    "# Μετατροπή της στήλης charttime από object σε datetime\n",
    "\n",
    "df_labevents['charttime']= pd.to_datetime(df_labevents['charttime'])"
   ]
  },
  {
   "cell_type": "code",
   "execution_count": 11,
   "metadata": {},
   "outputs": [],
   "source": [
    "#Απομονώνω τις γραμμές που δεν περιλαμβάνουν τιμές στην valuenum\n",
    "df_labevents = df_labevents[df_labevents['valuenum'].notna()]"
   ]
  },
  {
   "cell_type": "code",
   "execution_count": 12,
   "metadata": {},
   "outputs": [
    {
     "data": {
      "text/html": [
       "<div>\n",
       "<style scoped>\n",
       "    .dataframe tbody tr th:only-of-type {\n",
       "        vertical-align: middle;\n",
       "    }\n",
       "\n",
       "    .dataframe tbody tr th {\n",
       "        vertical-align: top;\n",
       "    }\n",
       "\n",
       "    .dataframe thead th {\n",
       "        text-align: right;\n",
       "    }\n",
       "</style>\n",
       "<table border=\"1\" class=\"dataframe\">\n",
       "  <thead>\n",
       "    <tr style=\"text-align: right;\">\n",
       "      <th></th>\n",
       "      <th>subject_id</th>\n",
       "      <th>hadm_id</th>\n",
       "      <th>itemid</th>\n",
       "      <th>charttime</th>\n",
       "      <th>Mean_Lab</th>\n",
       "    </tr>\n",
       "  </thead>\n",
       "  <tbody>\n",
       "    <tr>\n",
       "      <th>0</th>\n",
       "      <td>10001877</td>\n",
       "      <td>25679292</td>\n",
       "      <td>50852</td>\n",
       "      <td>2149-05-22 08:00:00</td>\n",
       "      <td>7.700</td>\n",
       "    </tr>\n",
       "    <tr>\n",
       "      <th>1</th>\n",
       "      <td>10001877</td>\n",
       "      <td>25679292</td>\n",
       "      <td>50862</td>\n",
       "      <td>2149-05-23 00:00:00</td>\n",
       "      <td>3.200</td>\n",
       "    </tr>\n",
       "    <tr>\n",
       "      <th>2</th>\n",
       "      <td>10001877</td>\n",
       "      <td>25679292</td>\n",
       "      <td>50868</td>\n",
       "      <td>2149-05-22 00:00:00</td>\n",
       "      <td>11.000</td>\n",
       "    </tr>\n",
       "    <tr>\n",
       "      <th>3</th>\n",
       "      <td>10001877</td>\n",
       "      <td>25679292</td>\n",
       "      <td>50868</td>\n",
       "      <td>2149-05-23 00:00:00</td>\n",
       "      <td>8.000</td>\n",
       "    </tr>\n",
       "    <tr>\n",
       "      <th>4</th>\n",
       "      <td>10001877</td>\n",
       "      <td>25679292</td>\n",
       "      <td>50868</td>\n",
       "      <td>2149-05-24 00:00:00</td>\n",
       "      <td>9.000</td>\n",
       "    </tr>\n",
       "    <tr>\n",
       "      <th>...</th>\n",
       "      <td>...</td>\n",
       "      <td>...</td>\n",
       "      <td>...</td>\n",
       "      <td>...</td>\n",
       "      <td>...</td>\n",
       "    </tr>\n",
       "    <tr>\n",
       "      <th>569335</th>\n",
       "      <td>19999840</td>\n",
       "      <td>26071774</td>\n",
       "      <td>51491</td>\n",
       "      <td>2164-07-25 00:00:00</td>\n",
       "      <td>5.000</td>\n",
       "    </tr>\n",
       "    <tr>\n",
       "      <th>569336</th>\n",
       "      <td>19999840</td>\n",
       "      <td>26071774</td>\n",
       "      <td>51493</td>\n",
       "      <td>2164-07-25 00:00:00</td>\n",
       "      <td>29.000</td>\n",
       "    </tr>\n",
       "    <tr>\n",
       "      <th>569337</th>\n",
       "      <td>19999840</td>\n",
       "      <td>26071774</td>\n",
       "      <td>51498</td>\n",
       "      <td>2164-07-24 16:00:00</td>\n",
       "      <td>1.010</td>\n",
       "    </tr>\n",
       "    <tr>\n",
       "      <th>569338</th>\n",
       "      <td>19999840</td>\n",
       "      <td>26071774</td>\n",
       "      <td>51498</td>\n",
       "      <td>2164-07-25 00:00:00</td>\n",
       "      <td>1.007</td>\n",
       "    </tr>\n",
       "    <tr>\n",
       "      <th>569339</th>\n",
       "      <td>19999840</td>\n",
       "      <td>26071774</td>\n",
       "      <td>51516</td>\n",
       "      <td>2164-07-25 00:00:00</td>\n",
       "      <td>5.000</td>\n",
       "    </tr>\n",
       "  </tbody>\n",
       "</table>\n",
       "<p>569340 rows × 5 columns</p>\n",
       "</div>"
      ],
      "text/plain": [
       "        subject_id   hadm_id  itemid           charttime  Mean_Lab\n",
       "0         10001877  25679292   50852 2149-05-22 08:00:00     7.700\n",
       "1         10001877  25679292   50862 2149-05-23 00:00:00     3.200\n",
       "2         10001877  25679292   50868 2149-05-22 00:00:00    11.000\n",
       "3         10001877  25679292   50868 2149-05-23 00:00:00     8.000\n",
       "4         10001877  25679292   50868 2149-05-24 00:00:00     9.000\n",
       "...            ...       ...     ...                 ...       ...\n",
       "569335    19999840  26071774   51491 2164-07-25 00:00:00     5.000\n",
       "569336    19999840  26071774   51493 2164-07-25 00:00:00    29.000\n",
       "569337    19999840  26071774   51498 2164-07-24 16:00:00     1.010\n",
       "569338    19999840  26071774   51498 2164-07-25 00:00:00     1.007\n",
       "569339    19999840  26071774   51516 2164-07-25 00:00:00     5.000\n",
       "\n",
       "[569340 rows x 5 columns]"
      ]
     },
     "execution_count": 12,
     "metadata": {},
     "output_type": "execute_result"
    }
   ],
   "source": [
    "grouped_multiple = df_labevents.groupby(['subject_id', 'hadm_id', 'itemid',\n",
    "                                         pd.Grouper(key='charttime',\n",
    "                                                    freq='8H')]).agg({'valuenum': ['mean']})\n",
    "grouped_multiple.columns = ['Mean_Lab']\n",
    "grouped_multiple = grouped_multiple.reset_index()\n",
    "grouped_multiple"
   ]
  },
  {
   "cell_type": "code",
   "execution_count": 13,
   "metadata": {},
   "outputs": [],
   "source": [
    "grouped_multiple.to_csv('D:\\Thesis\\exports\\o23_hosp_labevents_grouped_8hours.csv', index=False)"
   ]
  }
 ],
 "metadata": {
  "kernelspec": {
   "display_name": "Python 3",
   "language": "python",
   "name": "python3"
  },
  "language_info": {
   "codemirror_mode": {
    "name": "ipython",
    "version": 3
   },
   "file_extension": ".py",
   "mimetype": "text/x-python",
   "name": "python",
   "nbconvert_exporter": "python",
   "pygments_lexer": "ipython3",
   "version": "3.8.5"
  }
 },
 "nbformat": 4,
 "nbformat_minor": 4
}
