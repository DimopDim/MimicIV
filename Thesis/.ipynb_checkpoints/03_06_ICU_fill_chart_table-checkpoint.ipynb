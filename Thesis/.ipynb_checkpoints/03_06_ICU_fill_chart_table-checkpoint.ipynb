{
 "cells": [
  {
   "cell_type": "code",
   "execution_count": 1,
   "metadata": {},
   "outputs": [
    {
     "data": {
      "text/plain": [
       "'\\nΓεμίζω τον πίνακα με τις μετρήσεις\\nτου chartevet 8ώρου.\\n\\nΟ πίνακας μου απαρτίζεται από 707\\nστήλες και 65189 γραμμές, οπότε μου\\nδημιουργούν 46.088.623 κελιά.\\n\\nΟι τιμές μου ανέρχονται στα 4.177.458\\nοπότε με μια αφαίρεση προκείπτουν\\n41.911.165 NaN κελιά\\n'"
      ]
     },
     "execution_count": 1,
     "metadata": {},
     "output_type": "execute_result"
    }
   ],
   "source": [
    "\"\"\"\n",
    "Γεμίζω τον πίνακα με τις μετρήσεις\n",
    "του chartevet 8ώρου.\n",
    "\n",
    "Ο πίνακας μου απαρτίζεται από 707\n",
    "στήλες και 65189 γραμμές, οπότε μου\n",
    "δημιουργούν 46.088.623 κελιά.\n",
    "\n",
    "Οι τιμές μου ανέρχονται στα 4.177.458\n",
    "οπότε με μια αφαίρεση προκείπτουν\n",
    "41.911.165 NaN κελιά\n",
    "\"\"\""
   ]
  },
  {
   "cell_type": "code",
   "execution_count": 2,
   "metadata": {},
   "outputs": [],
   "source": [
    "import pandas as pd"
   ]
  },
  {
   "cell_type": "code",
   "execution_count": 3,
   "metadata": {},
   "outputs": [],
   "source": [
    "df_chart_tbl = pd.read_csv('D:\\Thesis\\exports\\o10_empty_chart_tbl.csv', index_col=False)\n",
    "df_mean_chart = pd.read_csv('D:\\Thesis\\exports\\o9_chartevent_8_hour_mean.csv', index_col=False)\n",
    "df_data_chart = pd.read_csv('D:\\Thesis\\mimic-iv-1.0\\icu\\d_items.csv.gz')"
   ]
  },
  {
   "cell_type": "code",
   "execution_count": 4,
   "metadata": {},
   "outputs": [],
   "source": [
    "# Φέρνω τις τελευταίες στήλες, πρώτες\n",
    "for i in range (1, 5):\n",
    "    cols = list(df_chart_tbl.columns)\n",
    "    cols = [cols[-1]] + cols[:-1]\n",
    "    df_chart_tbl = df_chart_tbl[cols]"
   ]
  },
  {
   "cell_type": "code",
   "execution_count": 5,
   "metadata": {},
   "outputs": [
    {
     "data": {
      "text/plain": [
       "0"
      ]
     },
     "execution_count": 5,
     "metadata": {},
     "output_type": "execute_result"
    }
   ],
   "source": [
    "# Ελέγχω αν υπάρχει NaN στην στήλη με τις μέσες τιμές, το αποτέλεσμα ισούται με μηδέν.\n",
    "df_mean_chart['Mean_Chart'].isna().sum()"
   ]
  },
  {
   "cell_type": "code",
   "execution_count": 6,
   "metadata": {},
   "outputs": [],
   "source": [
    "\"\"\"\n",
    "Δημιουργώ εκ νέου την στήλη concat\n",
    "χωρίς κενά ανάμεσα στα στοιχεία.\n",
    "Θα χρησιμοποιήσω αυτή τη στήλη σαν\n",
    "index γιατί τα κενά μπορεί να\n",
    "δημιουργήσουν πρόβλημα.\n",
    "\"\"\"\n",
    "df_chart_tbl[\"concat\"] = (df_chart_tbl[\"subject_id\"].astype(str)\n",
    "                          + df_chart_tbl[\"hadm_id\"].astype(str)\n",
    "                          + df_chart_tbl[\"date\"].astype(str)\n",
    "                          + df_chart_tbl[\"time\"].astype(str))\n",
    "\n",
    "\"\"\"\n",
    "Αφαιρώ τους χαρακτήρες - και :\n",
    "από της τιμές της concat για να\n",
    "αποφύγω πιθανά προβλήματα\n",
    "\"\"\"\n",
    "df_chart_tbl['concat'] = df_chart_tbl['concat'].str.replace('-','')\n",
    "df_chart_tbl['concat'] = df_chart_tbl['concat'].str.replace(':','')"
   ]
  },
  {
   "cell_type": "code",
   "execution_count": 7,
   "metadata": {},
   "outputs": [],
   "source": [
    "# Ορίζω την στήλη concat ως index των γραμμών\n",
    "df_chart_tbl = df_chart_tbl.set_index('concat')"
   ]
  },
  {
   "cell_type": "code",
   "execution_count": 8,
   "metadata": {},
   "outputs": [],
   "source": [
    "\"\"\"\n",
    "Δημιουργώ την στήλη concat και στον πίνακα\n",
    "που περιλαμβάνει τις μετρήσεις για να είναι\n",
    "το κοινό σημείο ανάμεσα στους δυο πίνακες\n",
    "\"\"\"\n",
    "df_mean_chart[\"concat\"] = (df_mean_chart[\"subject_id\"].astype(str)\n",
    "                           + df_mean_chart[\"hadm_id\"].astype(str)\n",
    "                           + df_mean_chart[\"date\"].astype(str)\n",
    "                           + df_mean_chart[\"time\"].astype(str))\n",
    "\n",
    "\n",
    "\"\"\"\n",
    "Αφαιρώ τους χαρακτήρες - και :\n",
    "από της τιμές της concat για να\n",
    "αποφύγω πιθανά προβλήματα\n",
    "\"\"\"\n",
    "df_mean_chart['concat'] = df_mean_chart['concat'].str.replace('-','')\n",
    "df_mean_chart['concat'] = df_mean_chart['concat'].str.replace(':','')"
   ]
  },
  {
   "cell_type": "code",
   "execution_count": 9,
   "metadata": {},
   "outputs": [],
   "source": [
    "for row in df_mean_chart.itertuples():\n",
    "    con = row.concat\n",
    "    item = row.itemid\n",
    "    value = row.Mean_Chart\n",
    "    df_chart_tbl.at['{}'.format(con), '{}'.format(item)] = value"
   ]
  },
  {
   "cell_type": "code",
   "execution_count": 10,
   "metadata": {},
   "outputs": [
    {
     "data": {
      "text/plain": [
       "41911165"
      ]
     },
     "execution_count": 10,
     "metadata": {},
     "output_type": "execute_result"
    }
   ],
   "source": [
    "# Κενά κελιά\n",
    "df_chart_tbl.isna().sum().sum()"
   ]
  },
  {
   "cell_type": "code",
   "execution_count": 11,
   "metadata": {},
   "outputs": [],
   "source": [
    "# Αποθήκευση του τελικού αρχείου με επικεφαλίδες τους κωδικούς των παρατηρήσεων\n",
    "df_chart_tbl.to_csv('D:\\Thesis\\exports\\o11_fill_chart_itemid_header_tbl.csv', index=False)"
   ]
  },
  {
   "cell_type": "code",
   "execution_count": 12,
   "metadata": {},
   "outputs": [],
   "source": [
    "df_data_chart = df_data_chart.set_index('itemid')"
   ]
  },
  {
   "cell_type": "code",
   "execution_count": 13,
   "metadata": {},
   "outputs": [],
   "source": [
    "# Ενοποίηση τιμών σε κελιά\n",
    "df_data_chart[\"header\"] = (df_data_chart[\"label\"].astype(str)\n",
    "                           + \" (\"\n",
    "                           + df_data_chart[\"unitname\"].astype(str)\n",
    "                           + \")\")"
   ]
  },
  {
   "cell_type": "code",
   "execution_count": 14,
   "metadata": {},
   "outputs": [],
   "source": [
    "\"\"\"\n",
    "Ελέγχω τις κεφαλίδες και αν δεν ανήκουν στις\n",
    "τέσσερις πρώτες τιμές κάνω τις αντικατάσταση.\n",
    "\"\"\"\n",
    "for col in df_chart_tbl.columns:\n",
    "    if ((col != 'subject_id') and\n",
    "        (col != 'hadm_id') and\n",
    "        (col != 'date') and\n",
    "        (col != 'time')):\n",
    "        temp = (df_data_chart.loc[int(col), 'header'])\n",
    "        df_chart_tbl.rename(columns={'{}'.format(col): '{}'.format(temp)}, inplace=True)"
   ]
  },
  {
   "cell_type": "code",
   "execution_count": 15,
   "metadata": {},
   "outputs": [],
   "source": [
    "# Αποθήκευση του τελικού αρχείου με επικεφαλίδες τις ονομασίες των παρατηρήσεων\n",
    "df_chart_tbl.to_csv('D:\\Thesis\\exports\\o12_fill_chart_label_header_tbl.csv', index=False)"
   ]
  }
 ],
 "metadata": {
  "kernelspec": {
   "display_name": "Python 3",
   "language": "python",
   "name": "python3"
  },
  "language_info": {
   "codemirror_mode": {
    "name": "ipython",
    "version": 3
   },
   "file_extension": ".py",
   "mimetype": "text/x-python",
   "name": "python",
   "nbconvert_exporter": "python",
   "pygments_lexer": "ipython3",
   "version": "3.8.5"
  }
 },
 "nbformat": 4,
 "nbformat_minor": 4
}
