{
 "cells": [
  {
   "cell_type": "code",
   "execution_count": 1,
   "metadata": {},
   "outputs": [
    {
     "data": {
      "text/plain": [
       "'\\nΔιαχωρίζω από το σύνολο των ασθενών\\nαυτούς που δεν εισήχθησαν στις ΜΕΘ.\\n'"
      ]
     },
     "execution_count": 1,
     "metadata": {},
     "output_type": "execute_result"
    }
   ],
   "source": [
    "\"\"\"\n",
    "Διαχωρίζω από το σύνολο των ασθενών\n",
    "αυτούς που δεν εισήχθησαν στις ΜΕΘ.\n",
    "\"\"\""
   ]
  },
  {
   "cell_type": "code",
   "execution_count": 2,
   "metadata": {},
   "outputs": [],
   "source": [
    "import pandas as pd"
   ]
  },
  {
   "cell_type": "code",
   "execution_count": 3,
   "metadata": {},
   "outputs": [],
   "source": [
    "#Διάβασμα από csv\n",
    "df_sum_hosp_admissions = pd.read_csv('D:\\Thesis\\exports\\o3_hosp_patients.csv', usecols = ['subject_id', 'hadm_id'])\n",
    "\n",
    "df_unique_icu = pd.read_csv('D:\\Thesis\\exports\\o5_icu_unique_admissions.csv', usecols = ['subject_id', 'hadm_id'])"
   ]
  },
  {
   "cell_type": "code",
   "execution_count": 4,
   "metadata": {},
   "outputs": [],
   "source": [
    "df_sum_hosp_admissions = df_sum_hosp_admissions.drop_duplicates(subset=['hadm_id'])"
   ]
  },
  {
   "cell_type": "code",
   "execution_count": 5,
   "metadata": {},
   "outputs": [],
   "source": [
    "\"\"\"\n",
    "Εισάγω μια στήλη με περιεχόμενο 1\n",
    "έτσι ώστε να μπορέσω να τους ασθενείς\n",
    "από τις ΜΕΘ από το σύνολο των ασθενών.\n",
    "\"\"\"\n",
    "df_unique_icu.insert(2, \"Flag\", 1)"
   ]
  },
  {
   "cell_type": "code",
   "execution_count": 6,
   "metadata": {},
   "outputs": [],
   "source": [
    "# Ενωποιώ τους δύο πίνακες\n",
    "\n",
    "rslt=pd.merge(df_sum_hosp_admissions, df_unique_icu, on=['subject_id','hadm_id'],\n",
    "              how=\"outer\")"
   ]
  },
  {
   "cell_type": "code",
   "execution_count": 7,
   "metadata": {},
   "outputs": [],
   "source": [
    "# Κρατώ μόνο αυτούς που δεν έχουν τιμή στη στήλη flag\n",
    "temp = rslt.loc[rslt['Flag'].isnull()]"
   ]
  },
  {
   "cell_type": "code",
   "execution_count": 8,
   "metadata": {},
   "outputs": [],
   "source": [
    "temp = temp.drop(['Flag'], axis = 1)"
   ]
  },
  {
   "cell_type": "code",
   "execution_count": 9,
   "metadata": {},
   "outputs": [],
   "source": [
    "temp.to_csv(\"D:\\Thesis\\exports\\o21_only_hosp_patients.csv\")"
   ]
  }
 ],
 "metadata": {
  "kernelspec": {
   "display_name": "Python 3",
   "language": "python",
   "name": "python3"
  },
  "language_info": {
   "codemirror_mode": {
    "name": "ipython",
    "version": 3
   },
   "file_extension": ".py",
   "mimetype": "text/x-python",
   "name": "python",
   "nbconvert_exporter": "python",
   "pygments_lexer": "ipython3",
   "version": "3.8.5"
  }
 },
 "nbformat": 4,
 "nbformat_minor": 4
}
