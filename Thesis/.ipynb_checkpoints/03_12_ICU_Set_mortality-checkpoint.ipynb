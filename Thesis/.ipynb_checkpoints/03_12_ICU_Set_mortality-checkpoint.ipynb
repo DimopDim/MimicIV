{
 "cells": [
  {
   "cell_type": "markdown",
   "metadata": {},
   "source": [
    "## Εισαγωγή στήλης θνησιμότητας στην ICU"
   ]
  },
  {
   "cell_type": "code",
   "execution_count": 1,
   "metadata": {},
   "outputs": [],
   "source": [
    "import pandas as pd\n",
    "import numpy as np"
   ]
  },
  {
   "cell_type": "code",
   "execution_count": 2,
   "metadata": {},
   "outputs": [],
   "source": [
    "df_icu = pd.read_csv('D:\\Thesis\\exports\\o20_ICU_merged_chart_lab.csv')\n",
    "\n",
    "df_death= pd.read_csv('D:\\Thesis\\mimic-iv-1.0\\core\\Admissions.csv.gz', usecols = ['subject_id', 'hadm_id', 'hospital_expire_flag'])\n",
    "\n",
    "df_death = df_death.loc[df_death['hospital_expire_flag'] == 1]"
   ]
  },
  {
   "cell_type": "code",
   "execution_count": 3,
   "metadata": {},
   "outputs": [],
   "source": [
    "# Ενοποιώ τα dataframes του συνολικού πίνακα με της θνησιμότητας.\n",
    "\n",
    "df_rslt=pd.merge(df_icu, df_death, on=['subject_id','hadm_id'],\n",
    "              how=\"left\", suffixes=('', '_delme'))"
   ]
  },
  {
   "cell_type": "code",
   "execution_count": 4,
   "metadata": {},
   "outputs": [],
   "source": [
    "# Εισάγω την τιμή μηδέν στα κενά κελιά της hospital_expire_flag\n",
    "df_rslt[['hospital_expire_flag']] = df_rslt[['hospital_expire_flag']].fillna(0)\n",
    "\n",
    "# Μετατρέπω την στήλη hospital_expire_flag σε ακέραιο.\n",
    "df_rslt['hospital_expire_flag'] = df_rslt['hospital_expire_flag'].apply(int)"
   ]
  },
  {
   "cell_type": "code",
   "execution_count": 5,
   "metadata": {},
   "outputs": [],
   "source": [
    "\"\"\"\n",
    "Αντικατάσταση τιμών από μηδέν σε\n",
    "survival και από ένα σε death\n",
    "στην στήλη hospital_expire_flag\n",
    "\"\"\"\n",
    "\n",
    "#df_rslt = df_rslt[\"hospital_expire_flag\"].replace({0 : \"survival\", 1 :\"death\"}, inplace = True)\n",
    "\n",
    "\n",
    "df_rslt[\"hospital_expire_flag\"] = np.where(df_rslt[\"hospital_expire_flag\"] == 0, \"survival\", \"death\")\n"
   ]
  },
  {
   "cell_type": "markdown",
   "metadata": {},
   "source": [
    "## Στοίχιση πίνακα"
   ]
  },
  {
   "cell_type": "code",
   "execution_count": 6,
   "metadata": {},
   "outputs": [],
   "source": [
    "\"\"\"\n",
    "Μετατροπή του date από object σε date για να\n",
    "μπορέσει να εκτελεστεί η στοίχιση που ακολουθεί.\n",
    "\"\"\"\n",
    "df_rslt['date'] = pd.to_datetime(df_rslt.date)"
   ]
  },
  {
   "cell_type": "code",
   "execution_count": 7,
   "metadata": {},
   "outputs": [],
   "source": [
    "df_rslt = df_rslt.sort_values(by=[\"subject_id\", \"date\", \"time\"], ascending=[True, True, True])"
   ]
  },
  {
   "cell_type": "code",
   "execution_count": 8,
   "metadata": {},
   "outputs": [],
   "source": [
    "#Εξαγωγή σε csv\n",
    "df_rslt.to_csv('D:\\Thesis\\exports\\o31_ICU_final.csv', index=False)"
   ]
  }
 ],
 "metadata": {
  "kernelspec": {
   "display_name": "Python 3",
   "language": "python",
   "name": "python3"
  },
  "language_info": {
   "codemirror_mode": {
    "name": "ipython",
    "version": 3
   },
   "file_extension": ".py",
   "mimetype": "text/x-python",
   "name": "python",
   "nbconvert_exporter": "python",
   "pygments_lexer": "ipython3",
   "version": "3.8.5"
  }
 },
 "nbformat": 4,
 "nbformat_minor": 4
}
