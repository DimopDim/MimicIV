{
 "cells": [
  {
   "cell_type": "markdown",
   "metadata": {},
   "source": [
    "## Δημιουργία Train - Test Set (4 αρχεία)"
   ]
  },
  {
   "cell_type": "code",
   "execution_count": 1,
   "metadata": {},
   "outputs": [],
   "source": [
    "import pandas as pd\n",
    "import numpy as np\n",
    "from sklearn.model_selection import train_test_split"
   ]
  },
  {
   "cell_type": "code",
   "execution_count": 2,
   "metadata": {},
   "outputs": [],
   "source": [
    "df_icu = pd.read_csv('D:\\Thesis\\exports\\o31_ICU_final.csv')"
   ]
  },
  {
   "cell_type": "code",
   "execution_count": 3,
   "metadata": {},
   "outputs": [],
   "source": [
    "y = df_icu.hospital_expire_flag"
   ]
  },
  {
   "cell_type": "code",
   "execution_count": 4,
   "metadata": {},
   "outputs": [],
   "source": [
    "x = df_icu.drop('hospital_expire_flag',axis=1)"
   ]
  },
  {
   "cell_type": "code",
   "execution_count": 5,
   "metadata": {},
   "outputs": [],
   "source": [
    "x_train,x_test,y_train,y_test=train_test_split(x,y,test_size=0.3)"
   ]
  },
  {
   "cell_type": "code",
   "execution_count": 6,
   "metadata": {},
   "outputs": [
    {
     "name": "stdout",
     "output_type": "stream",
     "text": [
      "shape of original dataset : (90817, 1101)\n",
      "shape of input - training set (63571, 1100)\n",
      "shape of output - training set (63571,)\n",
      "shape of input - testing set (27246, 1100)\n",
      "shape of output - testing set (27246,)\n"
     ]
    }
   ],
   "source": [
    "print(\"shape of original dataset :\", df_icu.shape)\n",
    "print(\"shape of input - training set\", x_train.shape)\n",
    "print(\"shape of output - training set\", y_train.shape)\n",
    "print(\"shape of input - testing set\", x_test.shape)\n",
    "print(\"shape of output - testing set\", y_test.shape)"
   ]
  },
  {
   "cell_type": "code",
   "execution_count": 7,
   "metadata": {},
   "outputs": [],
   "source": [
    "#Εξαγωγή σε csv\n",
    "#Χαλάει την ταξινόμηση\n",
    "x_train.to_csv('D:\\Thesis\\exports\\Train_Test_Sets\\Four_files\\o1_xTrain.csv', index=False)\n",
    "x_test.to_csv('D:\\Thesis\\exports\\Train_Test_Sets\\Four_files\\o2_xTest.csv', index=False)\n",
    "y_train.to_csv('D:\\Thesis\\exports\\Train_Test_Sets\\Four_files\\o3_yTrain.csv', index=False)\n",
    "y_test.to_csv('D:\\Thesis\\exports\\Train_Test_Sets\\Four_files\\o1_yTest.csv', index=False)"
   ]
  },
  {
   "cell_type": "markdown",
   "metadata": {},
   "source": [
    "## Δημιουργία Training - Test Set (2 αρχεία)"
   ]
  },
  {
   "cell_type": "code",
   "execution_count": 8,
   "metadata": {},
   "outputs": [],
   "source": [
    "df_icu = pd.read_csv('D:\\Thesis\\exports\\o31_ICU_final.csv')"
   ]
  },
  {
   "cell_type": "code",
   "execution_count": 9,
   "metadata": {},
   "outputs": [],
   "source": [
    "x_train,x_test=train_test_split(df_icu,test_size=0.3)"
   ]
  },
  {
   "cell_type": "code",
   "execution_count": 10,
   "metadata": {},
   "outputs": [
    {
     "name": "stdout",
     "output_type": "stream",
     "text": [
      "shape of original dataset : (90817, 1101)\n",
      "shape of input - training set (63571, 1101)\n"
     ]
    }
   ],
   "source": [
    "print(\"shape of original dataset :\", df_icu.shape)\n",
    "print(\"shape of input - training set\", x_train.shape)"
   ]
  },
  {
   "cell_type": "code",
   "execution_count": 11,
   "metadata": {},
   "outputs": [],
   "source": [
    "#Εξαγωγή σε csv\n",
    "#Χαλάει την ταξινόμηση\n",
    "x_train.to_csv('D:\\Thesis\\exports\\Train_Test_Sets\\Two_files\\o1_xTrain.csv', index=False)\n",
    "x_test.to_csv('D:\\Thesis\\exports\\Train_Test_Sets\\Two_files\\o2_xTest.csv', index=False)"
   ]
  },
  {
   "cell_type": "markdown",
   "metadata": {},
   "source": [
    "# Από εδώ και κάτω είναι για την παραγωγή του CSV της Βίκυς"
   ]
  },
  {
   "cell_type": "code",
   "execution_count": 12,
   "metadata": {},
   "outputs": [],
   "source": [
    "temp=df_icu.tail(27249)"
   ]
  },
  {
   "cell_type": "code",
   "execution_count": 13,
   "metadata": {},
   "outputs": [],
   "source": [
    "# εκτυπώνει όλες τις τιμές από τα dataframe.\n",
    "#pd.set_option('display.max_rows', None)"
   ]
  },
  {
   "cell_type": "code",
   "execution_count": 14,
   "metadata": {},
   "outputs": [],
   "source": [
    "temp.to_csv('D:\\Thesis\\exports\\Train_Test_Sets\\Manual_files\\Test30.csv', index=False)"
   ]
  },
  {
   "cell_type": "code",
   "execution_count": 15,
   "metadata": {},
   "outputs": [],
   "source": [
    "temp = pd.read_csv('D:\\Thesis\\exports\\Train_Test_Sets\\Manual_files\\Test30.csv')"
   ]
  },
  {
   "cell_type": "code",
   "execution_count": 17,
   "metadata": {},
   "outputs": [],
   "source": [
    "eight_hours = pd.read_csv('D:\\Thesis\\exports\\Train_Test_Sets\\Manual_files\\eight_hours_tbl.csv')"
   ]
  },
  {
   "cell_type": "code",
   "execution_count": 18,
   "metadata": {},
   "outputs": [],
   "source": [
    "rslt_df=pd.merge(temp, eight_hours, left_index=True, right_index=True)"
   ]
  },
  {
   "cell_type": "code",
   "execution_count": 19,
   "metadata": {},
   "outputs": [],
   "source": [
    "# Φέρνω τις τελευταίες στήλες, πρώτες\n",
    "cols = list(rslt_df.columns)\n",
    "cols = [cols[-1]] + cols[:-1]\n",
    "rslt_df = rslt_df[cols]"
   ]
  },
  {
   "cell_type": "code",
   "execution_count": 20,
   "metadata": {},
   "outputs": [],
   "source": [
    "tempII = rslt_df.loc[rslt_df['eight_hours'] == 1]"
   ]
  },
  {
   "cell_type": "code",
   "execution_count": 21,
   "metadata": {},
   "outputs": [],
   "source": [
    "Final = tempII.drop_duplicates(subset=['subject_id'])"
   ]
  },
  {
   "cell_type": "code",
   "execution_count": 22,
   "metadata": {},
   "outputs": [],
   "source": [
    "Final.to_csv('D:\\Thesis\\exports\\Train_Test_Sets\\Manual_files\\eight_hours_unique.csv', index=False)"
   ]
  }
 ],
 "metadata": {
  "kernelspec": {
   "display_name": "Python 3",
   "language": "python",
   "name": "python3"
  },
  "language_info": {
   "codemirror_mode": {
    "name": "ipython",
    "version": 3
   },
   "file_extension": ".py",
   "mimetype": "text/x-python",
   "name": "python",
   "nbconvert_exporter": "python",
   "pygments_lexer": "ipython3",
   "version": "3.8.5"
  }
 },
 "nbformat": 4,
 "nbformat_minor": 4
}
