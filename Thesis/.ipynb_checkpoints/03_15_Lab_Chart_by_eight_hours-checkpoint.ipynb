{
 "cells": [
  {
   "cell_type": "markdown",
   "metadata": {},
   "source": [
    "# Διαχωρισμός γραμμών ανά οχτάωρο"
   ]
  },
  {
   "cell_type": "code",
   "execution_count": 1,
   "metadata": {},
   "outputs": [],
   "source": [
    "import pandas as pd\n",
    "import numpy as np"
   ]
  },
  {
   "cell_type": "code",
   "execution_count": 2,
   "metadata": {},
   "outputs": [],
   "source": [
    "df_test = pd.read_csv('D:\\Thesis\\Weka\\Train_Test_Sets\\Sorted Set\\Test_30.csv')"
   ]
  },
  {
   "cell_type": "code",
   "execution_count": 3,
   "metadata": {},
   "outputs": [],
   "source": [
    "# εκτυπώνει όλες τις τιμές από τα dataframe.\n",
    "#pd.set_option('display.max_rows', None)"
   ]
  },
  {
   "cell_type": "code",
   "execution_count": 4,
   "metadata": {},
   "outputs": [],
   "source": [
    "eight_hours = pd.read_csv('D:\\Thesis\\exports\\Train_Test_Sets\\Manual_files\\eight_hours_tbl.csv')"
   ]
  },
  {
   "cell_type": "code",
   "execution_count": 5,
   "metadata": {},
   "outputs": [],
   "source": [
    "rslt_df=pd.merge(df_test, eight_hours, left_index=True, right_index=True)"
   ]
  },
  {
   "cell_type": "code",
   "execution_count": 6,
   "metadata": {},
   "outputs": [],
   "source": [
    "# Φέρνω τις τελευταίες στήλες, πρώτες\n",
    "cols = list(rslt_df.columns)\n",
    "cols = [cols[-1]] + cols[:-1]\n",
    "rslt_df = rslt_df[cols]"
   ]
  },
  {
   "cell_type": "code",
   "execution_count": 7,
   "metadata": {},
   "outputs": [],
   "source": [
    "\"\"\"\n",
    "Ορίζω την τιμή του οχταώρου.\n",
    "Αν θέλω να υπολογίσω την πρώτη μέρα βάζω την τιμή να είναι\n",
    "μικρότερη από 4 έτσι ώστε να πιάσω τα τρία πρώτα οχτάωρα,\n",
    "δηλαδή το πρώτο 24ώρο. Αν θέλω την δεύτερη μέρα μικρότερο\n",
    "από 7 και ούτω καθεξής. Αν θέλω στοχευμένα οχτάωρα ορίζω\n",
    "αυτό που θέλω με ισότητα.\n",
    "\n",
    "\"\"\"\n",
    "tempII = rslt_df.loc[rslt_df['eight_hours'] < 4]"
   ]
  },
  {
   "cell_type": "code",
   "execution_count": 8,
   "metadata": {},
   "outputs": [],
   "source": [
    "#grouped_df = tempII.groupby('subject_id')\n",
    "\n",
    "\n",
    "\n",
    "# Ομαδοποίηση στοιχείων ανά οχτάωρο\n",
    "grouped_multiple = (tempII.groupby(['subject_id','hadm_id'])).mean()\n"
   ]
  },
  {
   "cell_type": "code",
   "execution_count": 9,
   "metadata": {},
   "outputs": [],
   "source": [
    "df_death= pd.read_csv('D:\\Thesis\\mimic-iv-1.0\\core\\Admissions.csv.gz', usecols = ['subject_id', 'hadm_id', 'hospital_expire_flag'])\n",
    "\n",
    "df_death = df_death.loc[df_death['hospital_expire_flag'] == 1]"
   ]
  },
  {
   "cell_type": "code",
   "execution_count": 10,
   "metadata": {},
   "outputs": [],
   "source": [
    "# Ενοποιώ τα dataframes του συνολικού πίνακα με της θνησιμότητας.\n",
    "\n",
    "df_rslt=pd.merge(grouped_multiple, df_death, on=['subject_id','hadm_id'],\n",
    "              how=\"left\", suffixes=('', '_delme'))"
   ]
  },
  {
   "cell_type": "code",
   "execution_count": 11,
   "metadata": {},
   "outputs": [],
   "source": [
    "# Εισάγω την τιμή μηδέν στα κενά κελιά της hospital_expire_flag\n",
    "df_rslt[['hospital_expire_flag']] = df_rslt[['hospital_expire_flag']].fillna(0)\n",
    "\n",
    "# Μετατρέπω την στήλη hospital_expire_flag σε ακέραιο.\n",
    "df_rslt['hospital_expire_flag'] = df_rslt['hospital_expire_flag'].apply(int)"
   ]
  },
  {
   "cell_type": "code",
   "execution_count": 12,
   "metadata": {},
   "outputs": [],
   "source": [
    "\"\"\"\n",
    "Αντικατάσταση τιμών από μηδέν σε\n",
    "survival και από ένα σε death\n",
    "στην στήλη hospital_expire_flag\n",
    "\"\"\"\n",
    "\n",
    "#df_rslt = df_rslt[\"hospital_expire_flag\"].replace({0 : \"survival\", 1 :\"death\"}, inplace = True)\n",
    "\n",
    "\n",
    "df_rslt[\"hospital_expire_flag\"] = np.where(df_rslt[\"hospital_expire_flag\"] == 0, \"survival\", \"death\")"
   ]
  },
  {
   "cell_type": "code",
   "execution_count": 13,
   "metadata": {},
   "outputs": [],
   "source": [
    "df_rslt = df_rslt.drop_duplicates(subset=['subject_id'])"
   ]
  },
  {
   "cell_type": "code",
   "execution_count": 14,
   "metadata": {},
   "outputs": [],
   "source": [
    "#Εξαγωγή σε csv\n",
    "df_rslt.to_csv('D:\\Thesis\\exports\\Chart_Lab_by_hours\\First_day.csv', index=False)"
   ]
  }
 ],
 "metadata": {
  "kernelspec": {
   "display_name": "Python 3",
   "language": "python",
   "name": "python3"
  },
  "language_info": {
   "codemirror_mode": {
    "name": "ipython",
    "version": 3
   },
   "file_extension": ".py",
   "mimetype": "text/x-python",
   "name": "python",
   "nbconvert_exporter": "python",
   "pygments_lexer": "ipython3",
   "version": "3.8.5"
  }
 },
 "nbformat": 4,
 "nbformat_minor": 4
}
