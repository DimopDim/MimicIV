{
 "cells": [
  {
   "cell_type": "code",
   "execution_count": null,
   "metadata": {},
   "outputs": [],
   "source": [
    "\"\"\"\n",
    "Κάνουμε καταμέτρηση των αναγνωριστικών κωδικών που εμφανίζονται στο chartevents.\n",
    "\n",
    "707 Αναγνωριστικοί κωδικοί μέτρησης\n",
    "\n",
    "* Πριν διαχωρίσω τον πίνακα οι εγγραφές ήταν 1784 και αρκετά κελιά παρέμεναν NaN λόγο των κειμένων που περιείχαν\n",
    "\"\"\""
   ]
  },
  {
   "cell_type": "code",
   "execution_count": 2,
   "metadata": {},
   "outputs": [],
   "source": [
    "#Εισαγωγή βιβλιοθήκης Panda\n",
    "import pandas as pd"
   ]
  },
  {
   "cell_type": "code",
   "execution_count": 3,
   "metadata": {},
   "outputs": [
    {
     "name": "stderr",
     "output_type": "stream",
     "text": [
      "C:\\Users\\Dimopoulos\\anaconda3\\lib\\site-packages\\IPython\\core\\interactiveshell.py:3146: DtypeWarning: Columns (6,8) have mixed types.Specify dtype option on import or set low_memory=False.\n",
      "  has_raised = await self.run_ast_nodes(code_ast.body, cell_name,\n"
     ]
    }
   ],
   "source": [
    "df_cerebral_infarction_chartevents = pd.read_csv('D:\\MSc Aegean\\Διατριβή\\MIMIC_IV\\mimic-iv-1.0\\exports\\o8_cerebral_infarction_chartevent_item_merged_without_nan.csv')\n",
    "df_data_chartevents = pd.read_csv('D:\\MSc Aegean\\Διατριβή\\MIMIC_IV\\mimic-iv-1.0\\icu\\d_items.csv.gz')"
   ]
  },
  {
   "cell_type": "code",
   "execution_count": 4,
   "metadata": {},
   "outputs": [],
   "source": [
    "# Καταμέτρηση των εξετάσεων που κάνουν οι ασθενείς με εγκεφαλικό και μετατροπή από series σε dataframe.\n",
    "rslt_df = pd.DataFrame(df_cerebral_infarction_chartevents['itemid'].value_counts(dropna=True))\n",
    "\n",
    "# Το παραγώμενο αρχείο έχει σαν index την στήλη που περιέχει τον κωδικό των εξετάσεων, οπότε την κάνουμε reset\n",
    "rslt_df = rslt_df.reset_index()\n",
    "\n",
    "# Και ορίζουμε νέες ονομασίες στις στήλες για να μπορούν να είναι ευανάγνωστες.\n",
    "rslt_df.rename(columns={'index': 'itemid', 'itemid': 'times'}).to_csv('D:\\MSc Aegean\\Διατριβή\\MIMIC_IV\\mimic-iv-1.0\\exports\\o9_cerebral_infarction_chartevents_counts.csv', index=False)"
   ]
  },
  {
   "cell_type": "code",
   "execution_count": 5,
   "metadata": {},
   "outputs": [],
   "source": [
    "df_counts = pd.read_csv('D:\\MSc Aegean\\Διατριβή\\MIMIC_IV\\mimic-iv-1.0\\exports\\o9_cerebral_infarction_chartevents_counts.csv',\n",
    "                        index_col=False)\n",
    "\n",
    "df_count_merge = pd.merge(df_data_chartevents, df_counts, on=['itemid'])"
   ]
  },
  {
   "cell_type": "code",
   "execution_count": 6,
   "metadata": {},
   "outputs": [],
   "source": [
    "#Εξαγωγή σε csv\n",
    "df_count_merge.to_csv('D:\\MSc Aegean\\Διατριβή\\MIMIC_IV\\mimic-iv-1.0\\exports\\o9_cerebral_infarction_chartevents_counts_with_labels.csv', index=False)"
   ]
  },
  {
   "cell_type": "code",
   "execution_count": 7,
   "metadata": {},
   "outputs": [],
   "source": [
    "rslt_df = pd.read_csv('D:\\MSc Aegean\\Διατριβή\\MIMIC_IV\\mimic-iv-1.0\\exports\\o9_cerebral_infarction_chartevents_counts_with_labels.csv',\n",
    "                      usecols = ['itemid'], index_col=False)\n",
    "\n",
    "rslt_df = rslt_df.set_index('itemid')\n",
    "\n",
    "# Μεταφέρω τις γραμμές σε στήλες\n",
    "rslt_df = rslt_df.transpose()"
   ]
  },
  {
   "cell_type": "code",
   "execution_count": 8,
   "metadata": {},
   "outputs": [
    {
     "data": {
      "text/html": [
       "<div>\n",
       "<style scoped>\n",
       "    .dataframe tbody tr th:only-of-type {\n",
       "        vertical-align: middle;\n",
       "    }\n",
       "\n",
       "    .dataframe tbody tr th {\n",
       "        vertical-align: top;\n",
       "    }\n",
       "\n",
       "    .dataframe thead th {\n",
       "        text-align: right;\n",
       "    }\n",
       "</style>\n",
       "<table border=\"1\" class=\"dataframe\">\n",
       "  <thead>\n",
       "    <tr style=\"text-align: right;\">\n",
       "      <th>itemid</th>\n",
       "      <th>220045</th>\n",
       "      <th>220046</th>\n",
       "      <th>220047</th>\n",
       "      <th>220050</th>\n",
       "      <th>220051</th>\n",
       "      <th>220052</th>\n",
       "      <th>220056</th>\n",
       "      <th>220058</th>\n",
       "      <th>220059</th>\n",
       "      <th>220060</th>\n",
       "      <th>...</th>\n",
       "      <th>228396</th>\n",
       "      <th>228869</th>\n",
       "      <th>228870</th>\n",
       "      <th>228872</th>\n",
       "      <th>228873</th>\n",
       "      <th>228874</th>\n",
       "      <th>228875</th>\n",
       "      <th>228876</th>\n",
       "      <th>229319</th>\n",
       "      <th>229355</th>\n",
       "    </tr>\n",
       "  </thead>\n",
       "  <tbody>\n",
       "  </tbody>\n",
       "</table>\n",
       "<p>0 rows × 707 columns</p>\n",
       "</div>"
      ],
      "text/plain": [
       "Empty DataFrame\n",
       "Columns: [220045, 220046, 220047, 220050, 220051, 220052, 220056, 220058, 220059, 220060, 220061, 220063, 220066, 220072, 220073, 220074, 220088, 220128, 220179, 220180, 220181, 220194, 220210, 220224, 220227, 220228, 220235, 220245, 220274, 220277, 220283, 220292, 220293, 220339, 220507, 220545, 220546, 220580, 220581, 220587, 220602, 220603, 220615, 220621, 220624, 220632, 220635, 220644, 220645, 220650, 220734, 220739, 220765, 224359, 223679, 223751, 223752, 223761, 223762, 223763, 223764, 223765, 223766, 223767, 223768, 223769, 223770, 223771, 223772, 223773, 223775, 223791, 223805, 223806, 223810, 223811, 223814, 223817, 223818, 223819, 223820, 223821, 223830, 223834, 223835, 223848, 223849, 223872, 223873, 223874, 223875, 223876, 223900, 223901, 223958, 223960, 223962, 223963, 224054, 224055, ...]\n",
       "Index: []\n",
       "\n",
       "[0 rows x 707 columns]"
      ]
     },
     "execution_count": 8,
     "metadata": {},
     "output_type": "execute_result"
    }
   ],
   "source": [
    "rslt_df"
   ]
  }
 ],
 "metadata": {
  "kernelspec": {
   "display_name": "Python 3",
   "language": "python",
   "name": "python3"
  },
  "language_info": {
   "codemirror_mode": {
    "name": "ipython",
    "version": 3
   },
   "file_extension": ".py",
   "mimetype": "text/x-python",
   "name": "python",
   "nbconvert_exporter": "python",
   "pygments_lexer": "ipython3",
   "version": "3.8.5"
  }
 },
 "nbformat": 4,
 "nbformat_minor": 4
}
