{
 "cells": [
  {
   "cell_type": "code",
   "execution_count": 1,
   "metadata": {},
   "outputs": [
    {
     "data": {
      "text/plain": [
       "'\\nΚαταγράφω τους ασθενείς που πέρασαν από τα\\nεπείγοντα με εγκεφαλικό και κατέληξαν στις ΜΕΘ.\\n\\n\\n2.292 -> Ασθενείς με εγκεφαλικό στα επείγοντα.\\n1.547 -> Συνολικές εισαγωγές στις ΜΕΘ από τα επείγοντα.\\n1.546 -> Μοναδικές εισαγωγές στις ΜΕΘ από τα επείγοντα.\\n1.500 -> Μοναδικών ασθενών στις ΜΕΘ.\\n\\n\\n'"
      ]
     },
     "execution_count": 1,
     "metadata": {},
     "output_type": "execute_result"
    }
   ],
   "source": [
    "\"\"\"\n",
    "Καταγράφω τους ασθενείς που πέρασαν από τα\n",
    "επείγοντα με εγκεφαλικό και κατέληξαν στις ΜΕΘ.\n",
    "\n",
    "\n",
    "2.292 -> Ασθενείς με εγκεφαλικό στα επείγοντα.\n",
    "1.547 -> Συνολικές εισαγωγές στις ΜΕΘ από τα επείγοντα.\n",
    "1.546 -> Μοναδικές εισαγωγές στις ΜΕΘ από τα επείγοντα.\n",
    "1.500 -> Μοναδικών ασθενών στις ΜΕΘ.\n",
    "\n",
    "\n",
    "\"\"\""
   ]
  },
  {
   "cell_type": "code",
   "execution_count": 2,
   "metadata": {},
   "outputs": [],
   "source": [
    "import pandas as pd"
   ]
  },
  {
   "cell_type": "code",
   "execution_count": 3,
   "metadata": {},
   "outputs": [],
   "source": [
    "df_patients = pd.read_csv('D:\\MSc Aegean\\Διατριβή\\MIMIC_IV\\mimic-iv-1.0\\ed\\diagnosis.csv.gz')\n",
    "df_icu_patients = pd.read_csv('D:\\MSc Aegean\\Διατριβή\\MIMIC_IV\\mimic-iv-1.0\\exports\\o5_icu_unique_admissions.csv')\n",
    "df_edstays = pd.read_csv('D:\\MSc Aegean\\Διατριβή\\MIMIC_IV\\mimic-iv-1.0\\ed\\edstays.csv.gz')"
   ]
  },
  {
   "cell_type": "code",
   "execution_count": 4,
   "metadata": {},
   "outputs": [],
   "source": [
    "#Ασθενείς με εγκεφαλικό.\n",
    "ed_cerebral_infarction_diagnoses = df_patients[\n",
    "    (df_patients['icd_code'] ==\"43300\") | (df_patients['icd_code'] ==\"43301\") | (df_patients['icd_code'] ==\"43310\") | (df_patients['icd_code'] ==\"43311\") |\n",
    "    (df_patients['icd_code'] ==\"43320\") | (df_patients['icd_code'] ==\"43321\") | (df_patients['icd_code'] ==\"43330\") | (df_patients['icd_code'] ==\"43331\") |\n",
    "    (df_patients['icd_code'] ==\"43380\") | (df_patients['icd_code'] ==\"43381\") | (df_patients['icd_code'] ==\"43390\") | (df_patients['icd_code'] ==\"43391\") |\n",
    "    (df_patients['icd_code'] ==\"43400\") | (df_patients['icd_code'] ==\"43401\") | (df_patients['icd_code'] ==\"43410\") | (df_patients['icd_code'] ==\"43411\") |\n",
    "    (df_patients['icd_code'] ==\"43491\") | (df_patients['icd_code'] ==\"43490\") | (df_patients['icd_code'] ==\"436\") | (df_patients['icd_code'] ==\"431\") |\n",
    "    (df_patients['icd_code'] ==\"430\") | (df_patients['icd_code'] ==\"4350\") | (df_patients['icd_code'] ==\"4351\") | (df_patients['icd_code'] ==\"4352\") |\n",
    "    (df_patients['icd_code'] ==\"4353\") | (df_patients['icd_code'] ==\"4358\") | (df_patients['icd_code'] ==\"4359\")\n",
    "]"
   ]
  },
  {
   "cell_type": "code",
   "execution_count": 5,
   "metadata": {},
   "outputs": [
    {
     "name": "stdout",
     "output_type": "stream",
     "text": [
      "<class 'pandas.core.frame.DataFrame'>\n",
      "Int64Index: 2292 entries, 136 to 467718\n",
      "Data columns (total 6 columns):\n",
      " #   Column       Non-Null Count  Dtype \n",
      "---  ------       --------------  ----- \n",
      " 0   subject_id   2292 non-null   int64 \n",
      " 1   stay_id      2292 non-null   int64 \n",
      " 2   seq_num      2292 non-null   int64 \n",
      " 3   icd_code     2292 non-null   object\n",
      " 4   icd_version  2292 non-null   int64 \n",
      " 5   icd_title    2292 non-null   object\n",
      "dtypes: int64(4), object(2)\n",
      "memory usage: 125.3+ KB\n"
     ]
    }
   ],
   "source": [
    "# Σύνολο εισαγωγών στα επείγοντα με εγκεφαλικό\n",
    "ed_cerebral_infarction_diagnoses.info()"
   ]
  },
  {
   "cell_type": "code",
   "execution_count": 6,
   "metadata": {},
   "outputs": [],
   "source": [
    "rslt_df=pd.merge(df_icu_patients, df_edstays, on=['subject_id', 'hadm_id'])"
   ]
  },
  {
   "cell_type": "code",
   "execution_count": 7,
   "metadata": {},
   "outputs": [
    {
     "name": "stdout",
     "output_type": "stream",
     "text": [
      "<class 'pandas.core.frame.DataFrame'>\n",
      "Int64Index: 1547 entries, 0 to 1546\n",
      "Data columns (total 5 columns):\n",
      " #   Column      Non-Null Count  Dtype \n",
      "---  ------      --------------  ----- \n",
      " 0   subject_id  1547 non-null   int64 \n",
      " 1   hadm_id     1547 non-null   int64 \n",
      " 2   stay_id     1547 non-null   int64 \n",
      " 3   intime      1547 non-null   object\n",
      " 4   outtime     1547 non-null   object\n",
      "dtypes: int64(3), object(2)\n",
      "memory usage: 72.5+ KB\n"
     ]
    }
   ],
   "source": [
    "# Συνολικές εισαγωγές στις ΜΕΘ από τα επείγοντα\n",
    "rslt_df.info()"
   ]
  },
  {
   "cell_type": "code",
   "execution_count": 8,
   "metadata": {},
   "outputs": [
    {
     "name": "stdout",
     "output_type": "stream",
     "text": [
      "<class 'pandas.core.frame.DataFrame'>\n",
      "Int64Index: 1500 entries, 0 to 1546\n",
      "Data columns (total 5 columns):\n",
      " #   Column      Non-Null Count  Dtype \n",
      "---  ------      --------------  ----- \n",
      " 0   subject_id  1500 non-null   int64 \n",
      " 1   hadm_id     1500 non-null   int64 \n",
      " 2   stay_id     1500 non-null   int64 \n",
      " 3   intime      1500 non-null   object\n",
      " 4   outtime     1500 non-null   object\n",
      "dtypes: int64(3), object(2)\n",
      "memory usage: 70.3+ KB\n"
     ]
    }
   ],
   "source": [
    "#Μοναδικοί ασθενείς στις ΜΕΘ από τα επείγοντα\n",
    "rslt_df.drop_duplicates(subset=['subject_id']).info()"
   ]
  },
  {
   "cell_type": "code",
   "execution_count": 9,
   "metadata": {},
   "outputs": [],
   "source": [
    "#Εξαγωγή σε csv\n",
    "rslt_df.to_csv('D:\\MSc Aegean\\Διατριβή\\MIMIC_IV\\mimic-iv-1.0\\exports\\o16_ed_patients_to_icu.csv', index=False)"
   ]
  }
 ],
 "metadata": {
  "kernelspec": {
   "display_name": "Python 3",
   "language": "python",
   "name": "python3"
  },
  "language_info": {
   "codemirror_mode": {
    "name": "ipython",
    "version": 3
   },
   "file_extension": ".py",
   "mimetype": "text/x-python",
   "name": "python",
   "nbconvert_exporter": "python",
   "pygments_lexer": "ipython3",
   "version": "3.8.5"
  }
 },
 "nbformat": 4,
 "nbformat_minor": 4
}
