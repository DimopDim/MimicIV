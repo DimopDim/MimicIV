{
 "cells": [
  {
   "cell_type": "code",
   "execution_count": 1,
   "metadata": {},
   "outputs": [
    {
     "data": {
      "text/plain": [
       "'\\nΈχοντας τμηματοποιήσει έξω από την python τον πίνακα chartevents σε επτά διαφορετικούς πίνακες τους συγκρίνω και ενσωματώνω τα στοιχεία τους\\nστο \"diagnoses_cerebral_infarction.csv\" όπου εμπεριέχονται οι ασθενείς με εγκεφαλικό που έχουν εισαχθείς στης ΜΕΘ.\\n'"
      ]
     },
     "execution_count": 1,
     "metadata": {},
     "output_type": "execute_result"
    }
   ],
   "source": [
    "\"\"\"\n",
    "Έχοντας τμηματοποιήσει έξω από την python τον πίνακα chartevents σε επτά διαφορετικούς πίνακες τους συγκρίνω και ενσωματώνω τα στοιχεία τους\n",
    "στο \"diagnoses_cerebral_infarction.csv\" όπου εμπεριέχονται οι ασθενείς με εγκεφαλικό που έχουν εισαχθείς στης ΜΕΘ.\n",
    "\"\"\""
   ]
  },
  {
   "cell_type": "code",
   "execution_count": 18,
   "metadata": {},
   "outputs": [],
   "source": [
    "# Εισαγωγή βιβλιοθήκης Panda\n",
    "import pandas as pd"
   ]
  },
  {
   "cell_type": "code",
   "execution_count": 21,
   "metadata": {},
   "outputs": [],
   "source": [
    "df_patients = pd.read_csv('D:\\MSc Aegean\\Διατριβή\\MIMIC_IV\\mimic-iv-1.0\\exports\\o4_icu_unique_admissions.csv')"
   ]
  },
  {
   "cell_type": "code",
   "execution_count": 22,
   "metadata": {},
   "outputs": [
    {
     "data": {
      "text/html": [
       "<div>\n",
       "<style scoped>\n",
       "    .dataframe tbody tr th:only-of-type {\n",
       "        vertical-align: middle;\n",
       "    }\n",
       "\n",
       "    .dataframe tbody tr th {\n",
       "        vertical-align: top;\n",
       "    }\n",
       "\n",
       "    .dataframe thead th {\n",
       "        text-align: right;\n",
       "    }\n",
       "</style>\n",
       "<table border=\"1\" class=\"dataframe\">\n",
       "  <thead>\n",
       "    <tr style=\"text-align: right;\">\n",
       "      <th></th>\n",
       "      <th>subject_id</th>\n",
       "      <th>hadm_id</th>\n",
       "    </tr>\n",
       "  </thead>\n",
       "  <tbody>\n",
       "    <tr>\n",
       "      <th>0</th>\n",
       "      <td>10357189</td>\n",
       "      <td>23179921</td>\n",
       "    </tr>\n",
       "    <tr>\n",
       "      <th>1</th>\n",
       "      <td>18414729</td>\n",
       "      <td>22609366</td>\n",
       "    </tr>\n",
       "    <tr>\n",
       "      <th>2</th>\n",
       "      <td>19951189</td>\n",
       "      <td>21738455</td>\n",
       "    </tr>\n",
       "    <tr>\n",
       "      <th>3</th>\n",
       "      <td>17783315</td>\n",
       "      <td>26812396</td>\n",
       "    </tr>\n",
       "    <tr>\n",
       "      <th>4</th>\n",
       "      <td>14953668</td>\n",
       "      <td>28578811</td>\n",
       "    </tr>\n",
       "    <tr>\n",
       "      <th>...</th>\n",
       "      <td>...</td>\n",
       "      <td>...</td>\n",
       "    </tr>\n",
       "    <tr>\n",
       "      <th>3804</th>\n",
       "      <td>18280019</td>\n",
       "      <td>28719273</td>\n",
       "    </tr>\n",
       "    <tr>\n",
       "      <th>3805</th>\n",
       "      <td>16178321</td>\n",
       "      <td>20904950</td>\n",
       "    </tr>\n",
       "    <tr>\n",
       "      <th>3806</th>\n",
       "      <td>13028893</td>\n",
       "      <td>22789732</td>\n",
       "    </tr>\n",
       "    <tr>\n",
       "      <th>3807</th>\n",
       "      <td>13105583</td>\n",
       "      <td>21899375</td>\n",
       "    </tr>\n",
       "    <tr>\n",
       "      <th>3808</th>\n",
       "      <td>13293337</td>\n",
       "      <td>23590234</td>\n",
       "    </tr>\n",
       "  </tbody>\n",
       "</table>\n",
       "<p>3809 rows × 2 columns</p>\n",
       "</div>"
      ],
      "text/plain": [
       "      subject_id   hadm_id\n",
       "0       10357189  23179921\n",
       "1       18414729  22609366\n",
       "2       19951189  21738455\n",
       "3       17783315  26812396\n",
       "4       14953668  28578811\n",
       "...          ...       ...\n",
       "3804    18280019  28719273\n",
       "3805    16178321  20904950\n",
       "3806    13028893  22789732\n",
       "3807    13105583  21899375\n",
       "3808    13293337  23590234\n",
       "\n",
       "[3809 rows x 2 columns]"
      ]
     },
     "execution_count": 22,
     "metadata": {},
     "output_type": "execute_result"
    }
   ],
   "source": [
    "df_patients"
   ]
  },
  {
   "cell_type": "code",
   "execution_count": 23,
   "metadata": {},
   "outputs": [
    {
     "name": "stderr",
     "output_type": "stream",
     "text": [
      "C:\\Users\\Dimopoulos\\anaconda3\\lib\\site-packages\\IPython\\core\\interactiveshell.py:3146: DtypeWarning: Columns (6,8) have mixed types.Specify dtype option on import or set low_memory=False.\n",
      "  has_raised = await self.run_ast_nodes(code_ast.body, cell_name,\n"
     ]
    }
   ],
   "source": [
    "#Επεξεργασία πρώτου μέρους του αρχείου chartevent\n",
    " \n",
    "df_chartevents = pd.read_csv('D:\\MSc Aegean\\Διατριβή\\MIMIC_IV\\mimic-iv-1.0\\exports\\Splited_Chartevent\\chartevents_0.csv')\n",
    "\n",
    "rslt_df=pd.merge(df_patients, df_chartevents, on=['subject_id','hadm_id'])\n",
    "\n",
    "rslt_df.to_csv('D:\\MSc Aegean\\Διατριβή\\MIMIC_IV\\mimic-iv-1.0\\exports\\Merged_Chartevent\\cerebral_infarction_chartevent_0.csv', index=False)\n",
    "\n",
    "del (df_chartevents, rslt_df) # Διαγραφή των dataframe για απελευθέρωση μνήμης."
   ]
  },
  {
   "cell_type": "code",
   "execution_count": 24,
   "metadata": {},
   "outputs": [],
   "source": [
    "#Επεξεργασία δεύτερου μέρους του αρχείου chartevent\n",
    "\n",
    "df_chartevents = pd.read_csv('D:\\MSc Aegean\\Διατριβή\\MIMIC_IV\\mimic-iv-1.0\\exports\\Splited_Chartevent\\chartevents_1.csv',\n",
    "                             names = ['subject_id','hadm_id','seq_num','icd_code','icd_version','stay_id','charttime','storetime','itemid','value','valuenum','valueuom','warning']\n",
    "                            )\n",
    "\n",
    "rslt_df=pd.merge(df_patients, df_chartevents, on=['subject_id','hadm_id'])\n",
    "\n",
    "rslt_df.to_csv('D:\\MSc Aegean\\Διατριβή\\MIMIC_IV\\mimic-iv-1.0\\exports\\Merged_Chartevent\\cerebral_infarction_chartevent_1.csv', index=False)\n",
    "\n",
    "del (df_chartevents, rslt_df) # Διαγραφή των dataframe για απελευθέρωση μνήμης."
   ]
  },
  {
   "cell_type": "code",
   "execution_count": 25,
   "metadata": {},
   "outputs": [],
   "source": [
    "#Επεξεργασία τρίτου μέρους του αρχείου chartevent\n",
    "\n",
    "df_chartevents = pd.read_csv('D:\\MSc Aegean\\Διατριβή\\MIMIC_IV\\mimic-iv-1.0\\exports\\Splited_Chartevent\\chartevents_2.csv',\n",
    "                             names = ['subject_id','hadm_id','seq_num','icd_code','icd_version','stay_id','charttime','storetime','itemid','value','valuenum','valueuom','warning']\n",
    "                            )\n",
    "\n",
    "rslt_df=pd.merge(df_patients, df_chartevents, on=['subject_id','hadm_id'])\n",
    "\n",
    "rslt_df.to_csv('D:\\MSc Aegean\\Διατριβή\\MIMIC_IV\\mimic-iv-1.0\\exports\\Merged_Chartevent\\cerebral_infarction_chartevent_2.csv', index=False)\n",
    "\n",
    "del (df_chartevents, rslt_df) # Διαγραφή των dataframe για απελευθέρωση μνήμης."
   ]
  },
  {
   "cell_type": "code",
   "execution_count": 26,
   "metadata": {},
   "outputs": [],
   "source": [
    "#Επεξεργασία τέταρτου μέρους του αρχείου chartevent\n",
    "\n",
    "df_chartevents = pd.read_csv('D:\\MSc Aegean\\Διατριβή\\MIMIC_IV\\mimic-iv-1.0\\exports\\Splited_Chartevent\\chartevents_3.csv',\n",
    "                             names = ['subject_id','hadm_id','seq_num','icd_code','icd_version','stay_id','charttime','storetime','itemid','value','valuenum','valueuom','warning']\n",
    "                            )\n",
    "\n",
    "rslt_df=pd.merge(df_patients, df_chartevents, on=['subject_id','hadm_id'])\n",
    "\n",
    "rslt_df.to_csv('D:\\MSc Aegean\\Διατριβή\\MIMIC_IV\\mimic-iv-1.0\\exports\\Merged_Chartevent\\cerebral_infarction_chartevent_3.csv', index=False)\n",
    "\n",
    "del (df_chartevents, rslt_df) # Διαγραφή των dataframe για απελευθέρωση μνήμης."
   ]
  },
  {
   "cell_type": "code",
   "execution_count": 27,
   "metadata": {},
   "outputs": [],
   "source": [
    "#Επεξεργασία πέμπτου μέρους του αρχείου chartevent\n",
    "\n",
    "df_chartevents = pd.read_csv('D:\\MSc Aegean\\Διατριβή\\MIMIC_IV\\mimic-iv-1.0\\exports\\Splited_Chartevent\\chartevents_4.csv',\n",
    "                             names = ['subject_id','hadm_id','seq_num','icd_code','icd_version','stay_id','charttime','storetime','itemid','value','valuenum','valueuom','warning']\n",
    "                            )\n",
    "\n",
    "rslt_df=pd.merge(df_patients, df_chartevents, on=['subject_id','hadm_id'])\n",
    "\n",
    "rslt_df.to_csv('D:\\MSc Aegean\\Διατριβή\\MIMIC_IV\\mimic-iv-1.0\\exports\\Merged_Chartevent\\cerebral_infarction_chartevent_4.csv', index=False)\n",
    "\n",
    "del (df_chartevents, rslt_df) # Διαγραφή των dataframe για απελευθέρωση μνήμης."
   ]
  },
  {
   "cell_type": "code",
   "execution_count": 28,
   "metadata": {},
   "outputs": [],
   "source": [
    "#Επεξεργασία έκτου μέρους του αρχείου chartevent\n",
    "\n",
    "df_chartevents = pd.read_csv('D:\\MSc Aegean\\Διατριβή\\MIMIC_IV\\mimic-iv-1.0\\exports\\Splited_Chartevent\\chartevents_5.csv',\n",
    "                             names = ['subject_id','hadm_id','seq_num','icd_code','icd_version','stay_id','charttime','storetime','itemid','value','valuenum','valueuom','warning']\n",
    "                            )\n",
    "\n",
    "rslt_df=pd.merge(df_patients, df_chartevents, on=['subject_id','hadm_id'])\n",
    "\n",
    "rslt_df.to_csv('D:\\MSc Aegean\\Διατριβή\\MIMIC_IV\\mimic-iv-1.0\\exports\\Merged_Chartevent\\cerebral_infarction_chartevent_5.csv', index=False)\n",
    "\n",
    "del (df_chartevents, rslt_df) # Διαγραφή των dataframe για απελευθέρωση μνήμης."
   ]
  },
  {
   "cell_type": "code",
   "execution_count": 29,
   "metadata": {},
   "outputs": [],
   "source": [
    "#Επεξεργασία έβδομου μέρους του αρχείου chartevent\n",
    "\n",
    "df_chartevents = pd.read_csv('D:\\MSc Aegean\\Διατριβή\\MIMIC_IV\\mimic-iv-1.0\\exports\\Splited_Chartevent\\chartevents_6.csv',\n",
    "                             names = ['subject_id','hadm_id','seq_num','icd_code','icd_version','stay_id','charttime','storetime','itemid','value','valuenum','valueuom','warning']\n",
    "                            )\n",
    "\n",
    "rslt_df=pd.merge(df_patients, df_chartevents, on=['subject_id','hadm_id'])\n",
    "\n",
    "rslt_df.to_csv('D:\\MSc Aegean\\Διατριβή\\MIMIC_IV\\mimic-iv-1.0\\exports\\Merged_Chartevent\\cerebral_infarction_chartevent_6.csv', index=False)\n",
    "\n",
    "del (df_chartevents, rslt_df) # Διαγραφή των dataframe για απελευθέρωση μνήμης."
   ]
  },
  {
   "cell_type": "code",
   "execution_count": 30,
   "metadata": {},
   "outputs": [
    {
     "data": {
      "text/plain": [
       "'\\nΠΡΟΣΟΧΗ ΣΕ ΑΥΤΟ ΤΟ ΣΗΜΕΙΟ ΠΡΕΠΕΙ ΝΑ ΠΑΡΑΜΕΤΡΟΠΟΙΗΣΟΥΜΕ ΤΙΣ ΕΠΙΚΕΦΑΛΙΔΕΣ ΤΩΝ ΠΑΡΑΓΩΜΕΝΩΝ ΑΡΧΕΙΩΝ!!!\\nΑνοίγω το πρώτο csv που έχει δημιουργηθεί με την ονομασία \"cerebral_infarction_chartevent_0.csv\"\\nκαι αντιγράφω την πρώτη γραμμή που περιέχει τους τίτλους των στηλών συνοδευόμενη από την ακολουθεία ,del,del,del\\nΕίναι τυχαία ονόματα που έδωσα στα τρία τελευταία στοιχεία της λίστας μιας και κατά την επεξεργασία αυτών παράχθησαν τρεις επιπλέον στήλες\\nτις οποίες όμως δεν θα χρησιμοποιήσω.\\n\\nΣτη συνέχεια έχω παραθέσει τον τίτλο που πρέπει να φέρουν όλα τα αρχεία με ονομασία cerebral_infarction_chartevent_X.csv\\n\\nsubject_id,hadm_id,stay_id,charttime,storetime,itemid,value,valuenum,valueuom,warning,del,del,del\\n'"
      ]
     },
     "execution_count": 30,
     "metadata": {},
     "output_type": "execute_result"
    }
   ],
   "source": [
    "\"\"\"\n",
    "ΠΡΟΣΟΧΗ ΣΕ ΑΥΤΟ ΤΟ ΣΗΜΕΙΟ ΠΡΕΠΕΙ ΝΑ ΠΑΡΑΜΕΤΡΟΠΟΙΗΣΟΥΜΕ ΤΙΣ ΕΠΙΚΕΦΑΛΙΔΕΣ ΤΩΝ ΠΑΡΑΓΩΜΕΝΩΝ ΑΡΧΕΙΩΝ!!!\n",
    "Ανοίγω το πρώτο csv που έχει δημιουργηθεί με την ονομασία \"cerebral_infarction_chartevent_0.csv\"\n",
    "και αντιγράφω την πρώτη γραμμή που περιέχει τους τίτλους των στηλών συνοδευόμενη από την ακολουθεία ,del,del,del\n",
    "Είναι τυχαία ονόματα που έδωσα στα τρία τελευταία στοιχεία της λίστας μιας και κατά την επεξεργασία αυτών παράχθησαν τρεις επιπλέον στήλες\n",
    "τις οποίες όμως δεν θα χρησιμοποιήσω.\n",
    "\n",
    "Στη συνέχεια έχω παραθέσει τον τίτλο που πρέπει να φέρουν όλα τα αρχεία με ονομασία cerebral_infarction_chartevent_X.csv\n",
    "\n",
    "subject_id,hadm_id,stay_id,charttime,storetime,itemid,value,valuenum,valueuom,warning,del,del,del\n",
    "\"\"\""
   ]
  },
  {
   "cell_type": "code",
   "execution_count": 31,
   "metadata": {},
   "outputs": [
    {
     "name": "stderr",
     "output_type": "stream",
     "text": [
      "C:\\Users\\Dimopoulos\\anaconda3\\lib\\site-packages\\IPython\\core\\interactiveshell.py:3146: DtypeWarning: Columns (8) have mixed types.Specify dtype option on import or set low_memory=False.\n",
      "  has_raised = await self.run_ast_nodes(code_ast.body, cell_name,\n"
     ]
    }
   ],
   "source": [
    "#Φορτώνουμε τα επτά αρχεία\n",
    "\n",
    "df_cerebral_infarction_chartevent_0 = pd.read_csv('D:\\MSc Aegean\\Διατριβή\\MIMIC_IV\\mimic-iv-1.0\\exports\\Merged_Chartevent\\cerebral_infarction_chartevent_0.csv',\n",
    "                              usecols = ['subject_id','hadm_id','stay_id','charttime','storetime','itemid','value','valuenum','valueuom','warning'])\n",
    "\n",
    "df_cerebral_infarction_chartevent_1 = pd.read_csv('D:\\MSc Aegean\\Διατριβή\\MIMIC_IV\\mimic-iv-1.0\\exports\\Merged_Chartevent\\cerebral_infarction_chartevent_1.csv',\n",
    "                              usecols = ['subject_id','hadm_id','stay_id','charttime','storetime','itemid','value','valuenum','valueuom','warning'])\n",
    "\n",
    "df_cerebral_infarction_chartevent_2 = pd.read_csv('D:\\MSc Aegean\\Διατριβή\\MIMIC_IV\\mimic-iv-1.0\\exports\\Merged_Chartevent\\cerebral_infarction_chartevent_2.csv',\n",
    "                              usecols = ['subject_id','hadm_id','stay_id','charttime','storetime','itemid','value','valuenum','valueuom','warning'])\n",
    "\n",
    "df_cerebral_infarction_chartevent_3 = pd.read_csv('D:\\MSc Aegean\\Διατριβή\\MIMIC_IV\\mimic-iv-1.0\\exports\\Merged_Chartevent\\cerebral_infarction_chartevent_3.csv',\n",
    "                              usecols = ['subject_id','hadm_id','stay_id','charttime','storetime','itemid','value','valuenum','valueuom','warning'])\n",
    "\n",
    "df_cerebral_infarction_chartevent_4 = pd.read_csv('D:\\MSc Aegean\\Διατριβή\\MIMIC_IV\\mimic-iv-1.0\\exports\\Merged_Chartevent\\cerebral_infarction_chartevent_4.csv',\n",
    "                              usecols = ['subject_id','hadm_id','stay_id','charttime','storetime','itemid','value','valuenum','valueuom','warning'])\n",
    "\n",
    "df_cerebral_infarction_chartevent_5 = pd.read_csv('D:\\MSc Aegean\\Διατριβή\\MIMIC_IV\\mimic-iv-1.0\\exports\\Merged_Chartevent\\cerebral_infarction_chartevent_5.csv',\n",
    "                              usecols = ['subject_id','hadm_id','stay_id','charttime','storetime','itemid','value','valuenum','valueuom','warning'])\n",
    "\n",
    "df_cerebral_infarction_chartevent_6 = pd.read_csv('D:\\MSc Aegean\\Διατριβή\\MIMIC_IV\\mimic-iv-1.0\\exports\\Merged_Chartevent\\cerebral_infarction_chartevent_6.csv',\n",
    "                              usecols = ['subject_id','hadm_id','stay_id','charttime','storetime','itemid','value','valuenum','valueuom','warning'])"
   ]
  },
  {
   "cell_type": "code",
   "execution_count": 32,
   "metadata": {},
   "outputs": [],
   "source": [
    "#Ενσωματώνουμε τα μέρη του chartevents σε ένα αρχείο.\n",
    "pd.concat(\n",
    "    [df_cerebral_infarction_chartevent_0,\n",
    "     df_cerebral_infarction_chartevent_1,\n",
    "     df_cerebral_infarction_chartevent_2,\n",
    "     df_cerebral_infarction_chartevent_3,\n",
    "     df_cerebral_infarction_chartevent_4,\n",
    "     df_cerebral_infarction_chartevent_5,\n",
    "     df_cerebral_infarction_chartevent_6]).to_csv('D:\\MSc Aegean\\Διατριβή\\MIMIC_IV\\mimic-iv-1.0\\exports\\o6_cerebral_infarction_chartevent.csv', index=False)\n",
    "\n",
    "# Διαγραφή των dataframe για απελευθέρωση μνήμης.\n",
    "del (df_cerebral_infarction_chartevent_0,\n",
    "     df_cerebral_infarction_chartevent_1,\n",
    "     df_cerebral_infarction_chartevent_2,\n",
    "     df_cerebral_infarction_chartevent_3,\n",
    "     df_cerebral_infarction_chartevent_4,\n",
    "     df_cerebral_infarction_chartevent_5,\n",
    "     df_cerebral_infarction_chartevent_6)"
   ]
  },
  {
   "cell_type": "code",
   "execution_count": 34,
   "metadata": {},
   "outputs": [],
   "source": [
    "# Επικαλούμε και ενοποιώ τον πίνακα μου με τα στοιχεία του πίνακα που επεξηγεί σε τι είδους ζωτικής ένδειξης αναφέρεται το itemid.\n",
    "# Παρακάτω κάνω εκ νέου αυτή την ενοποίηση οπότε δεν φαίνεται κάπου για την ώρα η χρηστική της σημασία.\n",
    "df_cerebral_infarction_chartevent = pd.read_csv('D:\\MSc Aegean\\Διατριβή\\MIMIC_IV\\mimic-iv-1.0\\exports\\o6_cerebral_infarction_chartevent.csv')\n",
    "\n",
    "df_d_items = pd.read_csv('D:\\MSc Aegean\\Διατριβή\\MIMIC_IV\\mimic-iv-1.0\\icu\\d_items.csv.gz', usecols = ['itemid', 'label', 'abbreviation', 'category','param_type'])"
   ]
  },
  {
   "cell_type": "code",
   "execution_count": 35,
   "metadata": {},
   "outputs": [],
   "source": [
    "rslt_df=pd.merge(df_cerebral_infarction_chartevent, df_d_items, on=['itemid'])\n",
    "\n",
    "rslt_df.to_csv('D:\\MSc Aegean\\Διατριβή\\MIMIC_IV\\mimic-iv-1.0\\exports\\o7_cerebral_infarction_chartevent_item_merged.csv', index=False)\n",
    "\n",
    "del (rslt_df)"
   ]
  }
 ],
 "metadata": {
  "kernelspec": {
   "display_name": "Python 3",
   "language": "python",
   "name": "python3"
  },
  "language_info": {
   "codemirror_mode": {
    "name": "ipython",
    "version": 3
   },
   "file_extension": ".py",
   "mimetype": "text/x-python",
   "name": "python",
   "nbconvert_exporter": "python",
   "pygments_lexer": "ipython3",
   "version": "3.8.5"
  }
 },
 "nbformat": 4,
 "nbformat_minor": 4
}
