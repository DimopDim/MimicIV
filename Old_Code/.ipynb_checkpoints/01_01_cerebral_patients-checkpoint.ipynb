{
 "cells": [
  {
   "cell_type": "code",
   "execution_count": 1,
   "metadata": {},
   "outputs": [
    {
     "data": {
      "text/plain": [
       "'\\nΣε αυτό το αρχείο χρεισιμοποιούνται οι ICD9 κωδικοί που αναφέρονται στο εγκεφαλικό και παράγεται το αρχείο \"icd9_cerebral_infarction.csv\" όπου τους επεξηγεί.\\nΣτη συνέχεια παράγεται το αρχείο \"diagnoses_cerebral_infarction.csv\" όπου περιλαμβάνονται σε αυτό οι ασθενείς με εγκεφαλικό.\\nΈπειτα δημιουργείται το αρχείο \"death.csv\" όπου εμπεριέχονται σε αυτό οι ασθενείς που απεβίωσαν.\\n\\n523.740 -> Εισαγωγές στις νοσοκομειακές μονάδες.\\n 12.015 -> Εισαγωγές στις νοσοκομειακές μονάδες ασθενών με εγκεφαλικό.\\n  9.926 -> Μοναδικές εισαγωγές στις νοσοκομειακές μονάδες χωρίς περιλαμβάνονται οι ενδονοσοκομειακές μετακινήσεις.\\n  8.320 -> Μοναδικών ασθενών στις νοσοκομειακές μονάδες.\\n  7.431 -> Επιβίωσαν στις νοσοκομειακές μονάδες (89,31%).\\n    889 -> Απεβίωσαν στις νοσοκομειακές μονάδες (10,69%).\\n  \\n  \\n  4.299 -> Εισαγωγές στο σύνολο ασθενών στις ΜΕΘ.\\n  3.809 -> Μοναδικές εισαγωγές ασθενών στις ΜΕΘ\\n  3.646 -> Μοναδικοί ασθενείς στις ΜΕΘ\\n  2.887 -> Επιβίωσαν στις ΜΕΘ (73,71%)\\n    759 -> Απεβίωσαν στις ΜΕΘ (26,29%)\\n'"
      ]
     },
     "execution_count": 1,
     "metadata": {},
     "output_type": "execute_result"
    }
   ],
   "source": [
    "\"\"\"\n",
    "Σε αυτό το αρχείο χρεισιμοποιούνται οι ICD9 κωδικοί που αναφέρονται στο εγκεφαλικό και παράγεται το αρχείο \"icd9_cerebral_infarction.csv\" όπου τους επεξηγεί.\n",
    "Στη συνέχεια παράγεται το αρχείο \"diagnoses_cerebral_infarction.csv\" όπου περιλαμβάνονται σε αυτό οι ασθενείς με εγκεφαλικό.\n",
    "Έπειτα δημιουργείται το αρχείο \"death.csv\" όπου εμπεριέχονται σε αυτό οι ασθενείς που απεβίωσαν.\n",
    "\n",
    "523.740 -> Εισαγωγές στις νοσοκομειακές μονάδες.\n",
    " 12.015 -> Εισαγωγές στις νοσοκομειακές μονάδες ασθενών με εγκεφαλικό.\n",
    "  9.926 -> Μοναδικές εισαγωγές στις νοσοκομειακές μονάδες χωρίς περιλαμβάνονται οι ενδονοσοκομειακές μετακινήσεις.\n",
    "  8.320 -> Μοναδικών ασθενών στις νοσοκομειακές μονάδες.\n",
    "  7.431 -> Επιβίωσαν στις νοσοκομειακές μονάδες (89,31%).\n",
    "    889 -> Απεβίωσαν στις νοσοκομειακές μονάδες (10,69%).\n",
    "  \n",
    "  \n",
    "  4.299 -> Εισαγωγές στο σύνολο ασθενών στις ΜΕΘ.\n",
    "  3.809 -> Μοναδικές εισαγωγές ασθενών στις ΜΕΘ\n",
    "  3.646 -> Μοναδικοί ασθενείς στις ΜΕΘ\n",
    "  2.887 -> Επιβίωσαν στις ΜΕΘ (73,71%)\n",
    "    759 -> Απεβίωσαν στις ΜΕΘ (26,29%)\n",
    "\"\"\""
   ]
  },
  {
   "cell_type": "code",
   "execution_count": 2,
   "metadata": {},
   "outputs": [],
   "source": [
    "# Εισαγωγή βιβλιοθήκης Panda\n",
    "import pandas as pd"
   ]
  },
  {
   "cell_type": "code",
   "execution_count": 3,
   "metadata": {},
   "outputs": [],
   "source": [
    "# Δήλωση των data frame.\n",
    "df_icd = pd.read_csv('D:\\MSc Aegean\\Διατριβή\\MIMIC_IV\\mimic-iv-1.0\\hosp\\d_icd_diagnoses.csv.gz')\n",
    "df_patients = pd.read_csv('D:\\MSc Aegean\\Διατριβή\\MIMIC_IV\\mimic-iv-1.0\\hosp\\diagnoses_icd.csv.gz')\n",
    "df_icu_stay = pd.read_csv('D:\\MSc Aegean\\Διατριβή\\MIMIC_IV\\mimic-iv-1.0\\icu\\icustays.csv.gz', usecols = ['subject_id', 'hadm_id'])"
   ]
  },
  {
   "cell_type": "code",
   "execution_count": 4,
   "metadata": {},
   "outputs": [],
   "source": [
    "#Μέγιστη μέγεθος αλφαριθμητικών στις στήλες.\n",
    "pd.options.display.max_colwidth = 130\n",
    "\n",
    "\n",
    "#Κωδικοί icd-9 εγκεφαλικού επεισοδίου.\n",
    "cerebral_infarction_icd9 = df_icd [\n",
    "    (df_icd['icd_code'] ==\"43300\") | (df_icd['icd_code'] ==\"43301\") | (df_icd['icd_code'] ==\"43310\") | (df_icd['icd_code'] ==\"43311\") | (df_icd['icd_code'] ==\"43320\") |\n",
    "    (df_icd['icd_code'] ==\"43321\") | (df_icd['icd_code'] ==\"43330\") | (df_icd['icd_code'] ==\"43331\") | (df_icd['icd_code'] ==\"43380\") | (df_icd['icd_code'] ==\"43381\") |\n",
    "    (df_icd['icd_code'] ==\"43390\") | (df_icd['icd_code'] ==\"43391\") | (df_icd['icd_code'] ==\"43400\") | (df_icd['icd_code'] ==\"43401\") | (df_icd['icd_code'] ==\"43410\") |\n",
    "    (df_icd['icd_code'] ==\"43411\") | (df_icd['icd_code'] ==\"43491\") | (df_icd['icd_code'] ==\"43490\") | (df_icd['icd_code'] ==\"436\") | (df_icd['icd_code'] ==\"431\") |\n",
    "    (df_icd['icd_code'] ==\"430\") | (df_icd['icd_code'] ==\"4350\") | (df_icd['icd_code'] ==\"4351\") | (df_icd['icd_code'] ==\"4352\") | (df_icd['icd_code'] ==\"4353\") |\n",
    "    (df_icd['icd_code'] ==\"4358\") | (df_icd['icd_code'] ==\"4359\")\n",
    "]\n",
    "\n",
    "#Ασθενείς με εγκεφαλικό.\n",
    "cerebral_infarction_diagnoses = df_patients[\n",
    "    (df_patients['icd_code'] ==\"43300\") | (df_patients['icd_code'] ==\"43301\") | (df_patients['icd_code'] ==\"43310\") | (df_patients['icd_code'] ==\"43311\") |\n",
    "    (df_patients['icd_code'] ==\"43320\") | (df_patients['icd_code'] ==\"43321\") | (df_patients['icd_code'] ==\"43330\") | (df_patients['icd_code'] ==\"43331\") |\n",
    "    (df_patients['icd_code'] ==\"43380\") | (df_patients['icd_code'] ==\"43381\") | (df_patients['icd_code'] ==\"43390\") | (df_patients['icd_code'] ==\"43391\") |\n",
    "    (df_patients['icd_code'] ==\"43400\") | (df_patients['icd_code'] ==\"43401\") | (df_patients['icd_code'] ==\"43410\") | (df_patients['icd_code'] ==\"43411\") |\n",
    "    (df_patients['icd_code'] ==\"43491\") | (df_patients['icd_code'] ==\"43490\") | (df_patients['icd_code'] ==\"436\") | (df_patients['icd_code'] ==\"431\") |\n",
    "    (df_patients['icd_code'] ==\"430\") | (df_patients['icd_code'] ==\"4350\") | (df_patients['icd_code'] ==\"4351\") | (df_patients['icd_code'] ==\"4352\") |\n",
    "    (df_patients['icd_code'] ==\"4353\") | (df_patients['icd_code'] ==\"4358\") | (df_patients['icd_code'] ==\"4359\")\n",
    "]\n",
    "\n",
    "#Δημιουργία CSV με τους κωδικούς icd-9 για το εγκεφαλικ΄ό.\n",
    "cerebral_infarction_icd9.to_csv('D:\\MSc Aegean\\Διατριβή\\MIMIC_IV\\mimic-iv-1.0\\exports\\o1_icd9_brain_cerebral_infarction.csv', index=False)\n",
    "\n",
    "#Δημιουργία CSV ασθενών με εγκεφαλικό απαλαγμένο από διπλές ενδοσοκομειακές εγγραφές λόγω αλλαγής seq_num\n",
    "cerebral_infarction_diagnoses.drop_duplicates(subset=['hadm_id']).to_csv('D:\\MSc Aegean\\Διατριβή\\MIMIC_IV\\mimic-iv-1.0\\exports\\o2_diagnoses_cerebral_infarction.csv', index=False)"
   ]
  },
  {
   "cell_type": "code",
   "execution_count": 5,
   "metadata": {},
   "outputs": [],
   "source": [
    "#Σύνολο εισαγωγών στο νοσοκομείο.\n",
    "df_admissions = pd.read_csv('D:\\MSc Aegean\\Διατριβή\\MIMIC_IV\\mimic-iv-1.0\\core\\Admissions.csv.gz', usecols = ['subject_id', 'hadm_id','hospital_expire_flag'])\n",
    "\n",
    "# Μοναδικές διαγνώσεις εγκεφαλικού.\n",
    "df_cerebral_infarction_diagnoses = cerebral_infarction_diagnoses[[\"subject_id\", \"hadm_id\"]].drop_duplicates(subset=['hadm_id'])\n",
    "\n",
    "# Σύνδεση εισαγωγών ασθενών με εγκεφαλικό με σημαία θνησιμότητας.\n",
    "df_cerebral_infarction_admissions=pd.merge(df_cerebral_infarction_diagnoses, df_admissions, on=['subject_id','hadm_id'])"
   ]
  },
  {
   "cell_type": "code",
   "execution_count": 6,
   "metadata": {},
   "outputs": [],
   "source": [
    "deaths = df_cerebral_infarction_admissions[(df_cerebral_infarction_admissions['hospital_expire_flag'] == 1)]\n",
    "\n",
    "#Δημιουργία dataframe απαλλαγμένο από διπλοεγγραφές λόγω seq_num ασθενών που απεβίωσαν.\n",
    "final_deaths=deaths.drop_duplicates(subset=['subject_id'])\n",
    "\n",
    "#Δημιουργία CSV ασθενών που εισήχθησαν με εγκεφαλικό στα νοσοκομεία και απεβίωσαν.\n",
    "final_deaths.to_csv('D:\\MSc Aegean\\Διατριβή\\MIMIC_IV\\mimic-iv-1.0\\exports\\o3_hospital_deaths.csv', index=False)"
   ]
  },
  {
   "cell_type": "code",
   "execution_count": 7,
   "metadata": {},
   "outputs": [],
   "source": [
    "# Συνολικές εισαγωγές στις ΜΕΘ (4299)\n",
    "rslt_df=pd.merge(df_cerebral_infarction_diagnoses, df_icu_stay, on=['subject_id','hadm_id'])"
   ]
  },
  {
   "cell_type": "code",
   "execution_count": 8,
   "metadata": {},
   "outputs": [],
   "source": [
    "# Σύνδεση εισαγωγών στις ΜΕΘ ασθενών με εγκεφαλικό με σημαία θνησιμότητας.\n",
    "df_icu_cerebral_infarction_admissions=pd.merge(rslt_df, df_admissions, on=['subject_id','hadm_id'])"
   ]
  },
  {
   "cell_type": "code",
   "execution_count": 9,
   "metadata": {},
   "outputs": [],
   "source": [
    "icu_deaths = df_icu_cerebral_infarction_admissions[(df_icu_cerebral_infarction_admissions['hospital_expire_flag'] == 1)]\n",
    "\n",
    "#Δημιουργία dataframe απαλλαγμένο από διπλοεγγραφές λόγω seq_num ασθενών που απεβίωσαν.\n",
    "final_icu_deaths=icu_deaths.drop_duplicates(subset=['subject_id'])\n",
    "\n",
    "#Δημιουργία CSV ασθενών με εγκεφαλικό στις ΜΕΘ που απεβίωσαν\n",
    "final_deaths.to_csv('D:\\MSc Aegean\\Διατριβή\\MIMIC_IV\\mimic-iv-1.0\\exports\\o4_icu_deaths.csv', index=False)"
   ]
  },
  {
   "cell_type": "code",
   "execution_count": 12,
   "metadata": {},
   "outputs": [],
   "source": [
    "# Μοναδικ΄ές εισαγωγές στις ΜΕΘ (3809)\n",
    "rslt_df.drop_duplicates(subset=['hadm_id']).to_csv('D:\\MSc Aegean\\Διατριβή\\MIMIC_IV\\mimic-iv-1.0\\exports\\o5_icu_unique_admissions.csv', index=False)"
   ]
  },
  {
   "cell_type": "code",
   "execution_count": 11,
   "metadata": {},
   "outputs": [],
   "source": [
    "# Μοναδικοί ασθενείς στις ΜΕΘ (3646)\n",
    "rslt_df.drop_duplicates(subset=['subject_id']).to_csv('D:\\MSc Aegean\\Διατριβή\\MIMIC_IV\\mimic-iv-1.0\\exports\\o6_icu_unique_patients.csv', index=False)"
   ]
  }
 ],
 "metadata": {
  "kernelspec": {
   "display_name": "Python 3",
   "language": "python",
   "name": "python3"
  },
  "language_info": {
   "codemirror_mode": {
    "name": "ipython",
    "version": 3
   },
   "file_extension": ".py",
   "mimetype": "text/x-python",
   "name": "python",
   "nbconvert_exporter": "python",
   "pygments_lexer": "ipython3",
   "version": "3.8.5"
  }
 },
 "nbformat": 4,
 "nbformat_minor": 4
}
