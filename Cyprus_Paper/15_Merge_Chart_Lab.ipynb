{
 "cells": [
  {
   "cell_type": "code",
   "execution_count": 1,
   "metadata": {},
   "outputs": [],
   "source": [
    "import pandas as pd"
   ]
  },
  {
   "cell_type": "code",
   "execution_count": 2,
   "metadata": {},
   "outputs": [],
   "source": [
    "df_chart = pd.read_csv('D:\\Papers\\Cyprus_Paper\\Data\\o25_merged_chart_tables.csv')\n",
    "\n",
    "df_lab = pd.read_csv('D:\\Papers\\Cyprus_Paper\\Data\\o44_merged_lab_tables.csv')"
   ]
  },
  {
   "cell_type": "code",
   "execution_count": 3,
   "metadata": {},
   "outputs": [],
   "source": [
    "#Ελέγχω αν μετά την συγχώνευση υπάρχουν διπλές ίδιες στήλες\n",
    "\n",
    "rslt=pd.merge(df_chart, df_lab, on=['subject_id','hadm_id', 'date', 'time'],\n",
    "              how=\"outer\", suffixes=('', '_delme'))\n",
    "\n",
    "# Και αν υπάρχουν τις αφαιρώ\n",
    "rslt = rslt[[c for c in rslt.columns if not c.endswith('_delme')]]"
   ]
  },
  {
   "cell_type": "code",
   "execution_count": 4,
   "metadata": {},
   "outputs": [],
   "source": [
    "rslt = rslt.sort_values(by=['subject_id', 'date', 'time'])"
   ]
  },
  {
   "cell_type": "code",
   "execution_count": 5,
   "metadata": {},
   "outputs": [],
   "source": [
    "#Εξαγωγή σε csv\n",
    "rslt.to_csv('D:\\Papers\\Cyprus_Paper\\Data\\o45_merged_chart_lab.csv', index=False)"
   ]
  }
 ],
 "metadata": {
  "kernelspec": {
   "display_name": "Python 3",
   "language": "python",
   "name": "python3"
  },
  "language_info": {
   "codemirror_mode": {
    "name": "ipython",
    "version": 3
   },
   "file_extension": ".py",
   "mimetype": "text/x-python",
   "name": "python",
   "nbconvert_exporter": "python",
   "pygments_lexer": "ipython3",
   "version": "3.8.5"
  }
 },
 "nbformat": 4,
 "nbformat_minor": 4
}
