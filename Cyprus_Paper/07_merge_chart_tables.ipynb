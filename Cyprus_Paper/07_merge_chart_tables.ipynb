{
 "cells": [
  {
   "cell_type": "code",
   "execution_count": 1,
   "metadata": {},
   "outputs": [],
   "source": [
    "import pandas as pd"
   ]
  },
  {
   "cell_type": "code",
   "execution_count": 2,
   "metadata": {},
   "outputs": [],
   "source": [
    "df_mean = pd.read_csv('D:\\Papers\\Cyprus_Paper\\Data\\o18_fill_mean_chart_label_header_tbl.csv')\n",
    "\n",
    "df_min = pd.read_csv('D:\\Papers\\Cyprus_Paper\\Data\\o20_fill_min_chart_label_header_tbl.csv')\n",
    "\n",
    "df_max = pd.read_csv('D:\\Papers\\Cyprus_Paper\\Data\\o22_fill_max_chart_label_header_tbl.csv')\n",
    "\n",
    "df_std = pd.read_csv('D:\\Papers\\Cyprus_Paper\\Data\\o24_fill_max_chart_label_header_tbl.csv')"
   ]
  },
  {
   "cell_type": "code",
   "execution_count": 3,
   "metadata": {},
   "outputs": [],
   "source": [
    "# Συγχώνευση πρώτων δύο πινάκων\n",
    "\n",
    "#Ελέγχω αν μετά την συγχώνευση υπάρχουν διπλές ίδιες στήλες\n",
    "\n",
    "rslt=pd.merge(df_mean, df_min, on=['subject_id','hadm_id', 'charttime'],\n",
    "              how=\"outer\", suffixes=('', '_delme'))\n",
    "\n",
    "# Και αν υπάρχουν τις αφαιρώ\n",
    "rslt = rslt[[c for c in rslt.columns if not c.endswith('_delme')]]"
   ]
  },
  {
   "cell_type": "code",
   "execution_count": 4,
   "metadata": {},
   "outputs": [],
   "source": [
    "# Συγχώνευση των δύο πρώτων πινάκων με τον τρίτο\n",
    "\n",
    "#Ελέγχω αν μετά την συγχώνευση υπάρχουν διπλές ίδιες στήλες\n",
    "\n",
    "rslt=pd.merge(rslt, df_max, on=['subject_id','hadm_id', 'charttime'],\n",
    "              how=\"outer\", suffixes=('', '_delme'))\n",
    "\n",
    "# Και αν υπάρχουν τις αφαιρώ\n",
    "rslt = rslt[[c for c in rslt.columns if not c.endswith('_delme')]]"
   ]
  },
  {
   "cell_type": "code",
   "execution_count": 5,
   "metadata": {},
   "outputs": [],
   "source": [
    "# Συγχώνευση των τριών πρώτων πινάκων με τον τέταρτο\n",
    "\n",
    "#Ελέγχω αν μετά την συγχώνευση υπάρχουν διπλές ίδιες στήλες\n",
    "\n",
    "rslt=pd.merge(rslt, df_std, on=['subject_id','hadm_id', 'charttime'],\n",
    "              how=\"outer\", suffixes=('', '_delme'))\n",
    "\n",
    "# Και αν υπάρχουν τις αφαιρώ\n",
    "rslt = rslt[[c for c in rslt.columns if not c.endswith('_delme')]]"
   ]
  },
  {
   "cell_type": "code",
   "execution_count": 6,
   "metadata": {},
   "outputs": [],
   "source": [
    "#Εξαγωγή σε csv\n",
    "rslt.to_csv('D:\\Papers\\Cyprus_Paper\\Data\\o25_merged_chart_tables.csv', index=False)"
   ]
  }
 ],
 "metadata": {
  "kernelspec": {
   "display_name": "Python 3",
   "language": "python",
   "name": "python3"
  },
  "language_info": {
   "codemirror_mode": {
    "name": "ipython",
    "version": 3
   },
   "file_extension": ".py",
   "mimetype": "text/x-python",
   "name": "python",
   "nbconvert_exporter": "python",
   "pygments_lexer": "ipython3",
   "version": "3.8.5"
  }
 },
 "nbformat": 4,
 "nbformat_minor": 4
}
