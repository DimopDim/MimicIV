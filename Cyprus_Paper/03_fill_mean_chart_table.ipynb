{
 "cells": [
  {
   "cell_type": "code",
   "execution_count": 1,
   "metadata": {},
   "outputs": [],
   "source": [
    "import pandas as pd"
   ]
  },
  {
   "cell_type": "code",
   "execution_count": 2,
   "metadata": {},
   "outputs": [],
   "source": [
    "df_chart_tbl = pd.read_csv('D:\\Papers\\Cyprus_Paper\\Data\\o13_empty_chart_mean_tbl.csv', index_col=False)\n",
    "df_mean_chart = pd.read_csv('D:\\Papers\\Cyprus_Paper\\Data\\o8_chartevent_24_hour_mean.csv', index_col=False)\n",
    "df_data_chart = pd.read_csv('D:\\MSc Aegean\\Thesis\\mimic-iv-1.0\\icu\\d_items.csv.gz')"
   ]
  },
  {
   "cell_type": "code",
   "execution_count": 3,
   "metadata": {},
   "outputs": [],
   "source": [
    "\"\"\"\n",
    "Δημιουργώ εκ νέου την στήλη concat\n",
    "χωρίς κενά ανάμεσα στα στοιχεία.\n",
    "Θα χρησιμοποιήσω αυτή τη στήλη σαν\n",
    "index γιατί τα κενά μπορεί να\n",
    "δημιουργήσουν πρόβλημα.\n",
    "\"\"\"\n",
    "df_chart_tbl[\"concat\"] = (df_chart_tbl[\"subject_id\"].astype(str)\n",
    "                          + df_chart_tbl[\"hadm_id\"].astype(str)\n",
    "                          + df_chart_tbl[\"date\"].astype(str)\n",
    "                          + df_chart_tbl[\"time\"].astype(str))\n",
    "\n",
    "\"\"\"\n",
    "Αφαιρώ τους χαρακτήρες - και :\n",
    "από της τιμές της concat για να\n",
    "αποφύγω πιθανά προβλήματα\n",
    "\"\"\"\n",
    "df_chart_tbl['concat'] = df_chart_tbl['concat'].str.replace('-','')\n",
    "df_chart_tbl['concat'] = df_chart_tbl['concat'].str.replace(':','')"
   ]
  },
  {
   "cell_type": "code",
   "execution_count": 4,
   "metadata": {},
   "outputs": [],
   "source": [
    "# Ορίζω την στήλη concat ως index των γραμμών\n",
    "df_chart_tbl = df_chart_tbl.set_index('concat')"
   ]
  },
  {
   "cell_type": "code",
   "execution_count": 5,
   "metadata": {},
   "outputs": [],
   "source": [
    "\"\"\"\n",
    "Δημιουργώ την στήλη concat και στον πίνακα\n",
    "που περιλαμβάνει τις μετρήσεις για να είναι\n",
    "το κοινό σημείο ανάμεσα στους δυο πίνακες\n",
    "\"\"\"\n",
    "df_mean_chart[\"concat\"] = (df_mean_chart[\"subject_id\"].astype(str)\n",
    "                           + df_mean_chart[\"hadm_id\"].astype(str)\n",
    "                           + df_mean_chart[\"date\"].astype(str)\n",
    "                           + df_mean_chart[\"time\"].astype(str))\n",
    "\n",
    "\n",
    "\"\"\"\n",
    "Αφαιρώ τους χαρακτήρες - και :\n",
    "από της τιμές της concat για να\n",
    "αποφύγω πιθανά προβλήματα\n",
    "\"\"\"\n",
    "df_mean_chart['concat'] = df_mean_chart['concat'].str.replace('-','')\n",
    "df_mean_chart['concat'] = df_mean_chart['concat'].str.replace(':','')"
   ]
  },
  {
   "cell_type": "code",
   "execution_count": 6,
   "metadata": {},
   "outputs": [],
   "source": [
    "# Γεμίζω τον πίνακα\n",
    "for row in df_mean_chart.itertuples():\n",
    "    con = row.concat\n",
    "    item = row.itemid\n",
    "    value = row.Mean_Chart\n",
    "    df_chart_tbl.at['{}'.format(con), '{}'.format(item)] = value"
   ]
  },
  {
   "cell_type": "code",
   "execution_count": 7,
   "metadata": {},
   "outputs": [],
   "source": [
    "# Αποθήκευση του τελικού αρχείου με επικεφαλίδες τους κωδικούς των παρατηρήσεων\n",
    "df_chart_tbl.to_csv('D:\\Papers\\Cyprus_Paper\\Data\\o17_fill_chart_mean_itemid_header_tbl.csv', index=False)"
   ]
  },
  {
   "cell_type": "code",
   "execution_count": 8,
   "metadata": {},
   "outputs": [],
   "source": [
    "df_data_chart = df_data_chart.set_index('itemid')"
   ]
  },
  {
   "cell_type": "code",
   "execution_count": 9,
   "metadata": {},
   "outputs": [],
   "source": [
    "# Ενοποίηση τιμών σε κελιά\n",
    "df_data_chart[\"header\"] = (\"Mean - \"\n",
    "                           + df_data_chart[\"label\"].astype(str)\n",
    "                           + \" (\"\n",
    "                           + df_data_chart[\"unitname\"].astype(str)\n",
    "                           + \")\")"
   ]
  },
  {
   "cell_type": "code",
   "execution_count": 10,
   "metadata": {},
   "outputs": [],
   "source": [
    "\"\"\"\n",
    "Ελέγχω τις κεφαλίδες και αν δεν ανήκουν στις\n",
    "τέσσερις πρώτες τιμές κάνω τις αντικατάσταση.\n",
    "\"\"\"\n",
    "for col in df_chart_tbl.columns:\n",
    "    if ((col != 'subject_id') and\n",
    "        (col != 'hadm_id') and\n",
    "        (col != 'date') and\n",
    "        (col != 'time')):\n",
    "        temp = (df_data_chart.loc[int(col), 'header'])\n",
    "        df_chart_tbl.rename(columns={'{}'.format(col): '{}'.format(temp)}, inplace=True)"
   ]
  },
  {
   "cell_type": "code",
   "execution_count": 12,
   "metadata": {},
   "outputs": [],
   "source": [
    "# Αποθήκευση του τελικού αρχείου με επικεφαλίδες τις ονομασίες των παρατηρήσεων\n",
    "df_chart_tbl.to_csv('D:\\Papers\\Cyprus_Paper\\Data\\o18_fill_mean_chart_label_header_tbl.csv', index=False)"
   ]
  }
 ],
 "metadata": {
  "kernelspec": {
   "display_name": "Python 3",
   "language": "python",
   "name": "python3"
  },
  "language_info": {
   "codemirror_mode": {
    "name": "ipython",
    "version": 3
   },
   "file_extension": ".py",
   "mimetype": "text/x-python",
   "name": "python",
   "nbconvert_exporter": "python",
   "pygments_lexer": "ipython3",
   "version": "3.8.5"
  }
 },
 "nbformat": 4,
 "nbformat_minor": 4
}
