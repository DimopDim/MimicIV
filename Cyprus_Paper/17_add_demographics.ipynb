{
 "cells": [
  {
   "cell_type": "code",
   "execution_count": 1,
   "metadata": {},
   "outputs": [],
   "source": [
    "import pandas as pd\n",
    "import numpy as np\n",
    "from datetime import date, timedelta"
   ]
  },
  {
   "cell_type": "code",
   "execution_count": 2,
   "metadata": {},
   "outputs": [],
   "source": [
    "# Εισαγωγή διαφόρων csv\n",
    "\n",
    "df_icu = pd.read_csv('D:\\Papers\\Cyprus_Paper\\Data\\o46_chart_lab_with_death_flag.csv')\n",
    "\n",
    "df_temp = pd.read_csv('D:\\Papers\\Cyprus_Paper\\Data\\o46_chart_lab_with_death_flag.csv', usecols = ['subject_id', 'hadm_id', 'date', 'time'])\n",
    "\n",
    "df_temp.to_csv('D:\\Papers\\Cyprus_Paper\\Data\\o47_count_patients.csv', index=False)\n",
    "\n",
    "df_patients = pd.read_csv('D:\\MSc Aegean\\Thesis\\mimic-iv-1.0\\core\\patients.csv.gz')\n",
    "\n",
    "df_admissions = pd.read_csv('D:\\MSc Aegean\\Thesis\\mimic-iv-1.0\\core\\Admissions.csv.gz', usecols = ['subject_id', 'hadm_id', 'ethnicity'])"
   ]
  },
  {
   "cell_type": "code",
   "execution_count": 3,
   "metadata": {},
   "outputs": [],
   "source": [
    "# Αυτό το φτιάχνω στο excel περνώντας την αρίθμηση με συνάρτηση.\n",
    "df_count_24hours = pd.read_csv('D:\\Papers\\Cyprus_Paper\\Data\\o48_count_24_hours.csv', usecols = ['twenty_four_hours'])\n",
    "\n",
    "df_rslt=pd.merge(df_icu, df_count_24hours, left_index=True, right_index=True)"
   ]
  },
  {
   "cell_type": "markdown",
   "metadata": {},
   "source": [
    "# Ενσωμάτωση δημογραφικών"
   ]
  },
  {
   "cell_type": "code",
   "execution_count": 4,
   "metadata": {},
   "outputs": [],
   "source": [
    "df_rslt['date'] = pd.to_datetime(df_rslt['date'])\n",
    "\n",
    "df_rslt['year'] = df_rslt['date'].dt.year\n",
    "\n",
    "df_patients['dod'] = pd.to_datetime(df_patients['dod'])"
   ]
  },
  {
   "cell_type": "code",
   "execution_count": 5,
   "metadata": {},
   "outputs": [],
   "source": [
    "\"\"\"\n",
    "Δημιουργία ξεχωριστά όλων των 24ώρων αρχείων\n",
    "με τις καταγραφές των ασθενών που περιλαμβάνουν\n",
    "ηλικία, φύλλο, εθνικότητα.\n",
    "\"\"\"\n",
    "\n",
    "for i in range (1, (df_rslt.twenty_four_hours.max()+1)):\n",
    "    # Επιλογή 24ώρου\n",
    "    temp = df_rslt.loc[df_rslt['twenty_four_hours'] == i]\n",
    "    # Στο ενδεχόμενο να υπάρχουν διπλές εγγραφές\n",
    "    final = temp.drop_duplicates(subset=['subject_id'])\n",
    "    # ενοποίηση του 24ώρου με φύλλο, χρονιές\n",
    "    rslt_df=pd.merge(final, df_patients, on=['subject_id'], how='left')\n",
    "    # ενοποίηση με εθνικότητα\n",
    "    rslt_df=pd.merge(rslt_df, df_admissions, on=['subject_id', 'hadm_id'], how='left')\n",
    "    # υπολογισμός ηλικίας\n",
    "    rslt_df['temp_age'] = rslt_df['year'] - rslt_df['anchor_year']\n",
    "    # υπολογισμός ηλικίας\n",
    "    rslt_df['Age'] = rslt_df['temp_age'] + rslt_df['anchor_age']\n",
    "    # υπολογισμός επιβίωσης\n",
    "    rslt_df['Survival Days'] = rslt_df['dod'].sub(rslt_df['date'], axis=0)\n",
    "    # αφαίρεση μη χρήσιμων στηλών\n",
    "    rslt_df = rslt_df.drop(['year', 'anchor_age', 'anchor_year', 'anchor_year_group', 'dod', 'temp_age', 'twenty_four_hours' ], axis=1)\n",
    "    # εξαγωγή csv\n",
    "    rslt_df.to_csv('D:\\Papers\\Cyprus_Paper\\Data\\Twenty_four_hours\\o{}.csv'.format(i), index=False)"
   ]
  },
  {
   "cell_type": "code",
   "execution_count": null,
   "metadata": {},
   "outputs": [],
   "source": []
  }
 ],
 "metadata": {
  "kernelspec": {
   "display_name": "Python 3",
   "language": "python",
   "name": "python3"
  },
  "language_info": {
   "codemirror_mode": {
    "name": "ipython",
    "version": 3
   },
   "file_extension": ".py",
   "mimetype": "text/x-python",
   "name": "python",
   "nbconvert_exporter": "python",
   "pygments_lexer": "ipython3",
   "version": "3.8.5"
  }
 },
 "nbformat": 4,
 "nbformat_minor": 4
}
