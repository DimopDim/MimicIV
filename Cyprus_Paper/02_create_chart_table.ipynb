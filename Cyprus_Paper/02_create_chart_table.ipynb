{
 "cells": [
  {
   "cell_type": "code",
   "execution_count": 1,
   "metadata": {},
   "outputs": [],
   "source": [
    "import pandas as pd"
   ]
  },
  {
   "cell_type": "markdown",
   "metadata": {},
   "source": [
    "# Καταμέτρηση των εξετάσεων"
   ]
  },
  {
   "cell_type": "code",
   "execution_count": 2,
   "metadata": {},
   "outputs": [],
   "source": [
    "without_nan = pd.read_csv('D:\\Papers\\Cyprus_Paper\\Data\\o7_patient_chartevent_without_nan.csv')"
   ]
  },
  {
   "cell_type": "code",
   "execution_count": 3,
   "metadata": {},
   "outputs": [],
   "source": [
    "# Καταμέτρηση των εξετάσεων που κάνουν οι ασθενείς με εγκεφαλικό και μετατροπή από series σε dataframe.\n",
    "rslt_df = pd.DataFrame(without_nan['itemid'].value_counts(dropna=True))\n",
    "\n",
    "# Το παραγόμενο αρχείο έχει σαν index την στήλη που περιέχει τον κωδικό των εξετάσεων, οπότε την κάνουμε reset\n",
    "rslt_df = rslt_df.reset_index()\n",
    "\n",
    "# Ορίζουμε νέες ονομασίες στις στήλες για να μπορούν να είναι ευανάγνωστες.\n",
    "rslt_df = rslt_df.rename(columns={'index': 'itemid', 'itemid': 'times'})\n",
    "\n",
    "# Εξαγωγή σε αρχείο\n",
    "rslt_df.to_csv('D:\\Papers\\Cyprus_Paper\\Data\\o12_chartevents_item_id_counts.csv', index=False)"
   ]
  },
  {
   "cell_type": "markdown",
   "metadata": {},
   "source": [
    "# Δημιουργία του κενού πίνακα mean chartevents"
   ]
  },
  {
   "cell_type": "code",
   "execution_count": 4,
   "metadata": {},
   "outputs": [
    {
     "data": {
      "text/plain": [
       "'\\nΔημιουργία του πίνακα chartevet mean\\nμε το είδος των εξετάσων διαχωρισμένες\\nσε 707 στήλες.\\n'"
      ]
     },
     "execution_count": 4,
     "metadata": {},
     "output_type": "execute_result"
    }
   ],
   "source": [
    "\"\"\"\n",
    "Δημιουργία του πίνακα chartevet mean\n",
    "με το είδος των εξετάσων διαχωρισμένες\n",
    "σε 707 στήλες.\n",
    "\"\"\""
   ]
  },
  {
   "cell_type": "code",
   "execution_count": 5,
   "metadata": {},
   "outputs": [],
   "source": [
    "#Δημιουργώ τις στήλες από το αρχείο που περιλαμβάνει τις μοναδικές εξετάσεις\n",
    "df_columns = pd.read_csv('D:\\Papers\\Cyprus_Paper\\Data\\o12_chartevents_item_id_counts.csv',\n",
    "                         usecols = ['itemid'], index_col=False)\n",
    "\n",
    "#Ορίζω το header ως index έτσι ώστε όταν αλλάξω την κατεύθυνση του csv να μπουν τα στοιχεία στην κεφαλίδα.\n",
    "df_columns = df_columns.set_index('itemid')\n",
    "\n",
    "# Μεταφέρω τις γραμμές σε στήλες\n",
    "df_columns = df_columns.transpose()"
   ]
  },
  {
   "cell_type": "code",
   "execution_count": 6,
   "metadata": {},
   "outputs": [],
   "source": [
    "df_rows = pd.read_csv('D:\\Papers\\Cyprus_Paper\\Data\\o8_chartevent_24_hour_mean.csv')"
   ]
  },
  {
   "cell_type": "code",
   "execution_count": 7,
   "metadata": {},
   "outputs": [],
   "source": [
    "\"\"\"\n",
    "Δημιουργώ ένα μοναδικό αναγνωριστικό με την ένωση των\n",
    "στοιχείων από στήλες subject, hadm_id, και charttime.\n",
    "Ανάμεσα στα στοιχεία προβάλω ένα κενό το οποίο θα μου\n",
    "φανεί χρήσιμο αργότερα για τον διαχωρισμό τους ξανά σε\n",
    "διαφορετικές στήλες.\n",
    "\"\"\"\n",
    "df_rows[\"concat\"] = (df_rows[\"subject_id\"].astype(str)\n",
    "                     +\" \"\n",
    "                     +df_rows[\"hadm_id\"].astype(str)\n",
    "                     +\" \"\n",
    "                     +df_rows[\"date\"].astype(str)\n",
    "                     +\" \"\n",
    "                     +df_rows[\"time\"].astype(str))"
   ]
  },
  {
   "cell_type": "code",
   "execution_count": 8,
   "metadata": {},
   "outputs": [
    {
     "data": {
      "text/plain": [
       "False"
      ]
     },
     "execution_count": 8,
     "metadata": {},
     "output_type": "execute_result"
    }
   ],
   "source": [
    "# Ελέγχω αν υπάρχει κενό κελί στην στήλη concat.\n",
    "df_rows['concat'].isnull().values.any()"
   ]
  },
  {
   "cell_type": "code",
   "execution_count": 9,
   "metadata": {},
   "outputs": [],
   "source": [
    "# Αλλάζω την σειρά των στηλών του dataframe\n",
    "df_rows = df_rows[['concat', 'subject_id', 'hadm_id', 'date', 'time', 'itemid', 'Mean_Chart']]\n",
    "\n",
    "# Από το dr_rows κρατάω τις μοναδικές εγγραφές\n",
    "df_copy_rows = pd.DataFrame(df_rows.concat.unique())\n",
    "\n",
    "# Δημιουργώ καινούργιο πίνακα ενσωματώνοντας στον πίνακα df columns τις στήλες με τις κενές για την ώρα εξετάσεις\n",
    "chart_tbl = pd.concat([df_copy_rows, df_columns], axis=1)\n",
    "\n",
    "# Μετονομάζω την στήλη 0 σε concat για να είναι ίδιες στους δυο πίνακες\n",
    "chart_tbl = chart_tbl.rename({0:'concat'}, axis=1)"
   ]
  },
  {
   "cell_type": "code",
   "execution_count": 10,
   "metadata": {},
   "outputs": [],
   "source": [
    "#Διαχωρισμός του concat σε τέσσερις στήλες\n",
    "chart_tbl[['subject_id','hadm_id', 'date', 'time']] = chart_tbl['concat'].str.split(expand=True)\n",
    "\n",
    "\"\"\"\n",
    "Διαγράφω την στήλη concat γιατί θα\n",
    "πρέπει να την ξαναδημιουργήσω χωρίς\n",
    "κενά ανάμεσα στα ενοποιημένα στοιχεία,\n",
    "οπότε θα την έχω διπλή.\n",
    "\"\"\"\n",
    "chart_tbl = chart_tbl.drop('concat', 1)\n",
    "\n",
    "#Φέρνω την τελευταία στήλη, πρώτη\n",
    "for i in range (1, 5):\n",
    "    cols = list(chart_tbl.columns)\n",
    "    cols = [cols[-1]] + cols[:-1]\n",
    "    chart_tbl = chart_tbl[cols]\n",
    "    \n",
    "chart_tbl.to_csv('D:\\Papers\\Cyprus_Paper\\Data\\o13_empty_chart_mean_tbl.csv', index=False)"
   ]
  },
  {
   "cell_type": "markdown",
   "metadata": {},
   "source": [
    "# Δημιουργία του κενού πίνακα min chartevents"
   ]
  },
  {
   "cell_type": "code",
   "execution_count": 11,
   "metadata": {},
   "outputs": [],
   "source": [
    "#Δημιουργώ τις στήλες από το αρχείο που περιλαμβάνει τις μοναδικές εξετάσεις\n",
    "df_columns = pd.read_csv('D:\\Papers\\Cyprus_Paper\\Data\\o12_chartevents_item_id_counts.csv',\n",
    "                         usecols = ['itemid'], index_col=False)\n",
    "\n",
    "#Ορίζω το header ως index έτσι ώστε όταν αλλάξω την κατεύθυνση του csv να μπουν τα στοιχεία στην κεφαλίδα.\n",
    "df_columns = df_columns.set_index('itemid')\n",
    "\n",
    "# Μεταφέρω τις γραμμές σε στήλες\n",
    "df_columns = df_columns.transpose()"
   ]
  },
  {
   "cell_type": "code",
   "execution_count": 12,
   "metadata": {},
   "outputs": [],
   "source": [
    "df_rows = pd.read_csv('D:\\Papers\\Cyprus_Paper\\Data\\o9_chartevent_24_hour_min.csv')"
   ]
  },
  {
   "cell_type": "code",
   "execution_count": 13,
   "metadata": {},
   "outputs": [],
   "source": [
    "\"\"\"\n",
    "Δημιουργώ ένα μοναδικό αναγνωριστικό με την ένωση των\n",
    "στοιχείων από στήλες subject, hadm_id και charttime.\n",
    "Ανάμεσα στα στοιχεία προβάλω ένα κενό το οποίο θα μου\n",
    "φανεί χρήσιμο αργότερα για τον διαχωρισμό τους ξανά σε\n",
    "διαφορετικές στήλες.\n",
    "\"\"\"\n",
    "df_rows[\"concat\"] = (df_rows[\"subject_id\"].astype(str)\n",
    "                     +\" \"\n",
    "                     +df_rows[\"hadm_id\"].astype(str)\n",
    "                     +\" \"\n",
    "                     +df_rows[\"date\"].astype(str)\n",
    "                     +\" \"\n",
    "                     +df_rows[\"time\"].astype(str))"
   ]
  },
  {
   "cell_type": "code",
   "execution_count": 14,
   "metadata": {},
   "outputs": [
    {
     "data": {
      "text/plain": [
       "False"
      ]
     },
     "execution_count": 14,
     "metadata": {},
     "output_type": "execute_result"
    }
   ],
   "source": [
    "# Ελέγχω αν υπάρχει κενό κελί στην στήλη concat.\n",
    "df_rows['concat'].isnull().values.any()"
   ]
  },
  {
   "cell_type": "code",
   "execution_count": 15,
   "metadata": {},
   "outputs": [],
   "source": [
    "# Αλλάζω την σειρά των στηλών του dataframe\n",
    "df_rows = df_rows[['concat', 'subject_id', 'hadm_id', 'date', 'time', 'itemid', 'Min_Chart']]\n",
    "\n",
    "# Από το dr_rows κρατάω τις μοναδικές εγγραφές\n",
    "df_copy_rows = pd.DataFrame(df_rows.concat.unique())\n",
    "\n",
    "# Δημιουργώ καινούργιο πίνακα ενσωματώνοντας στον πίνακα df columns τις στήλες με τις κενές για την ώρα εξετάσεις\n",
    "chart_tbl = pd.concat([df_copy_rows, df_columns], axis=1)\n",
    "\n",
    "# Μετονομάζω την στήλη 0 σε concat για να είναι ίδιες στους δυο πίνακες\n",
    "chart_tbl = chart_tbl.rename({0:'concat'}, axis=1)"
   ]
  },
  {
   "cell_type": "code",
   "execution_count": 16,
   "metadata": {},
   "outputs": [],
   "source": [
    "#Διαχωρισμός του concat σε τέσσερις στήλες\n",
    "chart_tbl[['subject_id','hadm_id', 'date', 'time']] = chart_tbl['concat'].str.split(expand=True)\n",
    "\n",
    "\"\"\"\n",
    "Διαγράφω την στήλη concat γιατί θα\n",
    "πρέπει να την ξαναδημιουργήσω χωρίς\n",
    "κενά ανάμεσα στα ενοποιημένα στοιχεία,\n",
    "οπότε θα την έχω διπλή.\n",
    "\"\"\"\n",
    "chart_tbl = chart_tbl.drop('concat', 1)\n",
    "\n",
    "#Φέρνω την τελευταία στήλη, πρώτη\n",
    "for i in range (1, 5):\n",
    "    cols = list(chart_tbl.columns)\n",
    "    cols = [cols[-1]] + cols[:-1]\n",
    "    chart_tbl = chart_tbl[cols]\n",
    "    \n",
    "chart_tbl.to_csv('D:\\Papers\\Cyprus_Paper\\Data\\o14_empty_chart_min_tbl.csv', index=False)"
   ]
  },
  {
   "cell_type": "markdown",
   "metadata": {},
   "source": [
    "# Δημιουργία του κενού πίνακα max chartevents"
   ]
  },
  {
   "cell_type": "code",
   "execution_count": 17,
   "metadata": {},
   "outputs": [],
   "source": [
    "#Δημιουργώ τις στήλες από το αρχείο που περιλαμβάνει τις μοναδικές εξετάσεις\n",
    "df_columns = pd.read_csv('D:\\Papers\\Cyprus_Paper\\Data\\o12_chartevents_item_id_counts.csv',\n",
    "                         usecols = ['itemid'], index_col=False)\n",
    "\n",
    "#Ορίζω το header ως index έτσι ώστε όταν αλλάξω την κατεύθυνση του csv να μπουν τα στοιχεία στην κεφαλίδα.\n",
    "df_columns = df_columns.set_index('itemid')\n",
    "\n",
    "# Μεταφέρω τις γραμμές σε στήλες\n",
    "df_columns = df_columns.transpose()"
   ]
  },
  {
   "cell_type": "code",
   "execution_count": 18,
   "metadata": {},
   "outputs": [],
   "source": [
    "df_rows = pd.read_csv('D:\\Papers\\Cyprus_Paper\\Data\\o10_chartevent_24_hour_max.csv')"
   ]
  },
  {
   "cell_type": "code",
   "execution_count": 19,
   "metadata": {},
   "outputs": [],
   "source": [
    "\"\"\"\n",
    "Δημιουργώ ένα μοναδικό αναγνωριστικό με την ένωση των\n",
    "στοιχείων από στήλες subject, hadm_id και charttime.\n",
    "Ανάμεσα στα στοιχεία προβάλω ένα κενό το οποίο θα μου\n",
    "φανεί χρήσιμο αργότερα για τον διαχωρισμό τους ξανά σε\n",
    "διαφορετικές στήλες.\n",
    "\"\"\"\n",
    "df_rows[\"concat\"] = (df_rows[\"subject_id\"].astype(str)\n",
    "                     +\" \"\n",
    "                     +df_rows[\"hadm_id\"].astype(str)\n",
    "                     +\" \"\n",
    "                     +df_rows[\"date\"].astype(str)\n",
    "                     +\" \"\n",
    "                     +df_rows[\"time\"].astype(str))"
   ]
  },
  {
   "cell_type": "code",
   "execution_count": 20,
   "metadata": {},
   "outputs": [
    {
     "data": {
      "text/plain": [
       "False"
      ]
     },
     "execution_count": 20,
     "metadata": {},
     "output_type": "execute_result"
    }
   ],
   "source": [
    "# Ελέγχω αν υπάρχει κενό κελί στην στήλη concat.\n",
    "df_rows['concat'].isnull().values.any()"
   ]
  },
  {
   "cell_type": "code",
   "execution_count": 21,
   "metadata": {},
   "outputs": [],
   "source": [
    "# Αλλάζω την σειρά των στηλών του dataframe\n",
    "df_rows = df_rows[['concat', 'subject_id', 'hadm_id', 'date', 'time', 'itemid', 'Max_Chart']]\n",
    "\n",
    "# Από το dr_rows κρατάω τις μοναδικές εγγραφές\n",
    "df_copy_rows = pd.DataFrame(df_rows.concat.unique())\n",
    "\n",
    "# Δημιουργώ καινούργιο πίνακα ενσωματώνοντας στον πίνακα df columns τις στήλες με τις κενές για την ώρα εξετάσεις\n",
    "chart_tbl = pd.concat([df_copy_rows, df_columns], axis=1)\n",
    "\n",
    "# Μετονομάζω την στήλη 0 σε concat για να είναι ίδιες στους δυο πίνακες\n",
    "chart_tbl = chart_tbl.rename({0:'concat'}, axis=1)"
   ]
  },
  {
   "cell_type": "code",
   "execution_count": 22,
   "metadata": {},
   "outputs": [],
   "source": [
    "#Διαχωρισμός του concat σε τέσσερις στήλες\n",
    "chart_tbl[['subject_id','hadm_id', 'date', 'time']] = chart_tbl['concat'].str.split(expand=True)\n",
    "\n",
    "\"\"\"\n",
    "Διαγράφω την στήλη concat γιατί θα\n",
    "πρέπει να την ξαναδημιουργήσω χωρίς\n",
    "κενά ανάμεσα στα ενοποιημένα στοιχεία,\n",
    "οπότε θα την έχω διπλή.\n",
    "\"\"\"\n",
    "chart_tbl = chart_tbl.drop('concat', 1)\n",
    "\n",
    "#Φέρνω την τελευταία στήλη, πρώτη\n",
    "for i in range (1, 5):\n",
    "    cols = list(chart_tbl.columns)\n",
    "    cols = [cols[-1]] + cols[:-1]\n",
    "    chart_tbl = chart_tbl[cols]\n",
    "    \n",
    "chart_tbl.to_csv('D:\\Papers\\Cyprus_Paper\\Data\\o15_empty_chart_max_tbl.csv', index=False)"
   ]
  },
  {
   "cell_type": "markdown",
   "metadata": {},
   "source": [
    "# Δημιουργία του κενού πίνακα Standard Deviation chartevents"
   ]
  },
  {
   "cell_type": "code",
   "execution_count": 23,
   "metadata": {},
   "outputs": [],
   "source": [
    "#Δημιουργώ τις στήλες από το αρχείο που περιλαμβάνει τις μοναδικές εξετάσεις\n",
    "df_columns = pd.read_csv('D:\\Papers\\Cyprus_Paper\\Data\\o12_chartevents_item_id_counts.csv',\n",
    "                         usecols = ['itemid'], index_col=False)\n",
    "\n",
    "#Ορίζω το header ως index έτσι ώστε όταν αλλάξω την κατεύθυνση του csv να μπουν τα στοιχεία στην κεφαλίδα.\n",
    "df_columns = df_columns.set_index('itemid')\n",
    "\n",
    "# Μεταφέρω τις γραμμές σε στήλες\n",
    "df_columns = df_columns.transpose()"
   ]
  },
  {
   "cell_type": "code",
   "execution_count": 24,
   "metadata": {},
   "outputs": [],
   "source": [
    "df_rows = pd.read_csv('D:\\Papers\\Cyprus_Paper\\Data\\o11_chartevent_24_hour_std.csv')"
   ]
  },
  {
   "cell_type": "code",
   "execution_count": 25,
   "metadata": {},
   "outputs": [],
   "source": [
    "\"\"\"\n",
    "Δημιουργώ ένα μοναδικό αναγνωριστικό με την ένωση των\n",
    "στοιχείων από στήλες subject, hadm_id και charttime.\n",
    "Ανάμεσα στα στοιχεία προβάλω ένα κενό το οποίο θα μου\n",
    "φανεί χρήσιμο αργότερα για τον διαχωρισμό τους ξανά σε\n",
    "διαφορετικές στήλες.\n",
    "\"\"\"\n",
    "df_rows[\"concat\"] = (df_rows[\"subject_id\"].astype(str)\n",
    "                     +\" \"\n",
    "                     +df_rows[\"hadm_id\"].astype(str)\n",
    "                     +\" \"\n",
    "                     +df_rows[\"date\"].astype(str)\n",
    "                     +\" \"\n",
    "                     +df_rows[\"time\"].astype(str))"
   ]
  },
  {
   "cell_type": "code",
   "execution_count": 26,
   "metadata": {},
   "outputs": [
    {
     "data": {
      "text/plain": [
       "False"
      ]
     },
     "execution_count": 26,
     "metadata": {},
     "output_type": "execute_result"
    }
   ],
   "source": [
    "# Ελέγχω αν υπάρχει κενό κελί στην στήλη concat.\n",
    "df_rows['concat'].isnull().values.any()"
   ]
  },
  {
   "cell_type": "code",
   "execution_count": 27,
   "metadata": {},
   "outputs": [],
   "source": [
    "# Αλλάζω την σειρά των στηλών του dataframe\n",
    "df_rows = df_rows[['concat', 'subject_id', 'hadm_id', 'date', 'time', 'itemid', 'StdDev_Chart']]\n",
    "\n",
    "# Από το dr_rows κρατάω τις μοναδικές εγγραφές\n",
    "df_copy_rows = pd.DataFrame(df_rows.concat.unique())\n",
    "\n",
    "# Δημιουργώ καινούργιο πίνακα ενσωματώνοντας στον πίνακα df columns τις στήλες με τις κενές για την ώρα εξετάσεις\n",
    "chart_tbl = pd.concat([df_copy_rows, df_columns], axis=1)\n",
    "\n",
    "# Μετονομάζω την στήλη 0 σε concat για να είναι ίδιες στους δυο πίνακες\n",
    "chart_tbl = chart_tbl.rename({0:'concat'}, axis=1)"
   ]
  },
  {
   "cell_type": "code",
   "execution_count": 28,
   "metadata": {},
   "outputs": [],
   "source": [
    "#Διαχωρισμός του concat σε τέσσερις στήλες\n",
    "chart_tbl[['subject_id','hadm_id', 'date', 'time']] = chart_tbl['concat'].str.split(expand=True)\n",
    "\n",
    "\"\"\"\n",
    "Διαγράφω την στήλη concat γιατί θα\n",
    "πρέπει να την ξαναδημιουργήσω χωρίς\n",
    "κενά ανάμεσα στα ενοποιημένα στοιχεία,\n",
    "οπότε θα την έχω διπλή.\n",
    "\"\"\"\n",
    "chart_tbl = chart_tbl.drop('concat', 1)\n",
    "\n",
    "#Φέρνω την τελευταία στήλη, πρώτη\n",
    "for i in range (1, 5):\n",
    "    cols = list(chart_tbl.columns)\n",
    "    cols = [cols[-1]] + cols[:-1]\n",
    "    chart_tbl = chart_tbl[cols]\n",
    "    \n",
    "chart_tbl.to_csv('D:\\Papers\\Cyprus_Paper\\Data\\o16_empty_chart_std_tbl.csv', index=False)"
   ]
  }
 ],
 "metadata": {
  "kernelspec": {
   "display_name": "Python 3",
   "language": "python",
   "name": "python3"
  },
  "language_info": {
   "codemirror_mode": {
    "name": "ipython",
    "version": 3
   },
   "file_extension": ".py",
   "mimetype": "text/x-python",
   "name": "python",
   "nbconvert_exporter": "python",
   "pygments_lexer": "ipython3",
   "version": "3.8.5"
  }
 },
 "nbformat": 4,
 "nbformat_minor": 4
}
