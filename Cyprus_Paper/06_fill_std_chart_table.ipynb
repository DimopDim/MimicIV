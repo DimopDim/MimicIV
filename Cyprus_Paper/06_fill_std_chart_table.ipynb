{
 "cells": [
  {
   "cell_type": "code",
   "execution_count": 1,
   "metadata": {},
   "outputs": [],
   "source": [
    "import pandas as pd"
   ]
  },
  {
   "cell_type": "code",
   "execution_count": 2,
   "metadata": {},
   "outputs": [],
   "source": [
    "df_chart_tbl = pd.read_csv('D:\\Papers\\Cyprus_Paper\\Data\\o16_empty_chart_std_tbl.csv', index_col=False)\n",
    "df_std_chart = pd.read_csv('D:\\Papers\\Cyprus_Paper\\Data\\o11_chartevent_24_hour_std.csv', index_col=False)\n",
    "df_data_chart = pd.read_csv('D:\\MSc Aegean\\Thesis\\mimic-iv-1.0\\icu\\d_items.csv.gz')"
   ]
  },
  {
   "cell_type": "code",
   "execution_count": 3,
   "metadata": {},
   "outputs": [],
   "source": [
    "\"\"\"\n",
    "Δημιουργώ εκ νέου την στήλη concat\n",
    "χωρίς κενά ανάμεσα στα στοιχεία.\n",
    "Θα χρησιμοποιήσω αυτή τη στήλη σαν\n",
    "index γιατί τα κενά μπορεί να\n",
    "δημιουργήσουν πρόβλημα.\n",
    "\"\"\"\n",
    "df_chart_tbl[\"concat\"] = (df_chart_tbl[\"subject_id\"].astype(str)\n",
    "                          + df_chart_tbl[\"hadm_id\"].astype(str)\n",
    "                          + df_chart_tbl[\"charttime\"].astype(str))\n",
    "\n",
    "\"\"\"\n",
    "Αφαιρώ τους χαρακτήρες - και :\n",
    "από της τιμές της concat για να\n",
    "αποφύγω πιθανά προβλήματα\n",
    "\"\"\"\n",
    "df_chart_tbl['concat'] = df_chart_tbl['concat'].str.replace('-','')\n",
    "df_chart_tbl['concat'] = df_chart_tbl['concat'].str.replace(':','')"
   ]
  },
  {
   "cell_type": "code",
   "execution_count": 4,
   "metadata": {},
   "outputs": [],
   "source": [
    "# Ορίζω την στήλη concat ως index των γραμμών\n",
    "df_chart_tbl = df_chart_tbl.set_index('concat')"
   ]
  },
  {
   "cell_type": "code",
   "execution_count": 5,
   "metadata": {},
   "outputs": [],
   "source": [
    "\"\"\"\n",
    "Δημιουργώ την στήλη concat και στον πίνακα\n",
    "που περιλαμβάνει τις μετρήσεις για να είναι\n",
    "το κοινό σημείο ανάμεσα στους δυο πίνακες\n",
    "\"\"\"\n",
    "df_std_chart[\"concat\"] = (df_std_chart[\"subject_id\"].astype(str)\n",
    "                           + df_std_chart[\"hadm_id\"].astype(str)\n",
    "                           + df_std_chart[\"charttime\"].astype(str))\n",
    "\n",
    "\n",
    "\"\"\"\n",
    "Αφαιρώ τους χαρακτήρες - και :\n",
    "από της τιμές της concat για να\n",
    "αποφύγω πιθανά προβλήματα\n",
    "\"\"\"\n",
    "df_std_chart['concat'] = df_std_chart['concat'].str.replace('-','')\n",
    "df_std_chart['concat'] = df_std_chart['concat'].str.replace(':','')"
   ]
  },
  {
   "cell_type": "code",
   "execution_count": 7,
   "metadata": {},
   "outputs": [
    {
     "data": {
      "text/html": [
       "<div>\n",
       "<style scoped>\n",
       "    .dataframe tbody tr th:only-of-type {\n",
       "        vertical-align: middle;\n",
       "    }\n",
       "\n",
       "    .dataframe tbody tr th {\n",
       "        vertical-align: top;\n",
       "    }\n",
       "\n",
       "    .dataframe thead th {\n",
       "        text-align: right;\n",
       "    }\n",
       "</style>\n",
       "<table border=\"1\" class=\"dataframe\">\n",
       "  <thead>\n",
       "    <tr style=\"text-align: right;\">\n",
       "      <th></th>\n",
       "      <th>subject_id</th>\n",
       "      <th>hadm_id</th>\n",
       "      <th>itemid</th>\n",
       "      <th>charttime</th>\n",
       "      <th>StdDev_Chart</th>\n",
       "      <th>concat</th>\n",
       "    </tr>\n",
       "  </thead>\n",
       "  <tbody>\n",
       "    <tr>\n",
       "      <th>0</th>\n",
       "      <td>10004733</td>\n",
       "      <td>27411876</td>\n",
       "      <td>220045</td>\n",
       "      <td>2174-12-04</td>\n",
       "      <td>4.802510</td>\n",
       "      <td>100047332741187621741204</td>\n",
       "    </tr>\n",
       "    <tr>\n",
       "      <th>1</th>\n",
       "      <td>10004733</td>\n",
       "      <td>27411876</td>\n",
       "      <td>220045</td>\n",
       "      <td>2174-12-05</td>\n",
       "      <td>8.995328</td>\n",
       "      <td>100047332741187621741205</td>\n",
       "    </tr>\n",
       "    <tr>\n",
       "      <th>2</th>\n",
       "      <td>10004733</td>\n",
       "      <td>27411876</td>\n",
       "      <td>220045</td>\n",
       "      <td>2174-12-06</td>\n",
       "      <td>11.838282</td>\n",
       "      <td>100047332741187621741206</td>\n",
       "    </tr>\n",
       "    <tr>\n",
       "      <th>3</th>\n",
       "      <td>10004733</td>\n",
       "      <td>27411876</td>\n",
       "      <td>220045</td>\n",
       "      <td>2174-12-07</td>\n",
       "      <td>7.607438</td>\n",
       "      <td>100047332741187621741207</td>\n",
       "    </tr>\n",
       "    <tr>\n",
       "      <th>4</th>\n",
       "      <td>10004733</td>\n",
       "      <td>27411876</td>\n",
       "      <td>220045</td>\n",
       "      <td>2174-12-08</td>\n",
       "      <td>16.292127</td>\n",
       "      <td>100047332741187621741208</td>\n",
       "    </tr>\n",
       "    <tr>\n",
       "      <th>...</th>\n",
       "      <td>...</td>\n",
       "      <td>...</td>\n",
       "      <td>...</td>\n",
       "      <td>...</td>\n",
       "      <td>...</td>\n",
       "      <td>...</td>\n",
       "    </tr>\n",
       "    <tr>\n",
       "      <th>2185164</th>\n",
       "      <td>19999987</td>\n",
       "      <td>23865745</td>\n",
       "      <td>228410</td>\n",
       "      <td>2145-11-04</td>\n",
       "      <td>0.000000</td>\n",
       "      <td>199999872386574521451104</td>\n",
       "    </tr>\n",
       "    <tr>\n",
       "      <th>2185165</th>\n",
       "      <td>19999987</td>\n",
       "      <td>23865745</td>\n",
       "      <td>228411</td>\n",
       "      <td>2145-11-04</td>\n",
       "      <td>0.000000</td>\n",
       "      <td>199999872386574521451104</td>\n",
       "    </tr>\n",
       "    <tr>\n",
       "      <th>2185166</th>\n",
       "      <td>19999987</td>\n",
       "      <td>23865745</td>\n",
       "      <td>228412</td>\n",
       "      <td>2145-11-04</td>\n",
       "      <td>0.000000</td>\n",
       "      <td>199999872386574521451104</td>\n",
       "    </tr>\n",
       "    <tr>\n",
       "      <th>2185167</th>\n",
       "      <td>19999987</td>\n",
       "      <td>23865745</td>\n",
       "      <td>228648</td>\n",
       "      <td>2145-11-03</td>\n",
       "      <td>0.000000</td>\n",
       "      <td>199999872386574521451103</td>\n",
       "    </tr>\n",
       "    <tr>\n",
       "      <th>2185168</th>\n",
       "      <td>19999987</td>\n",
       "      <td>23865745</td>\n",
       "      <td>228649</td>\n",
       "      <td>2145-11-03</td>\n",
       "      <td>0.000000</td>\n",
       "      <td>199999872386574521451103</td>\n",
       "    </tr>\n",
       "  </tbody>\n",
       "</table>\n",
       "<p>2185169 rows × 6 columns</p>\n",
       "</div>"
      ],
      "text/plain": [
       "         subject_id   hadm_id  itemid   charttime  StdDev_Chart  \\\n",
       "0          10004733  27411876  220045  2174-12-04      4.802510   \n",
       "1          10004733  27411876  220045  2174-12-05      8.995328   \n",
       "2          10004733  27411876  220045  2174-12-06     11.838282   \n",
       "3          10004733  27411876  220045  2174-12-07      7.607438   \n",
       "4          10004733  27411876  220045  2174-12-08     16.292127   \n",
       "...             ...       ...     ...         ...           ...   \n",
       "2185164    19999987  23865745  228410  2145-11-04      0.000000   \n",
       "2185165    19999987  23865745  228411  2145-11-04      0.000000   \n",
       "2185166    19999987  23865745  228412  2145-11-04      0.000000   \n",
       "2185167    19999987  23865745  228648  2145-11-03      0.000000   \n",
       "2185168    19999987  23865745  228649  2145-11-03      0.000000   \n",
       "\n",
       "                           concat  \n",
       "0        100047332741187621741204  \n",
       "1        100047332741187621741205  \n",
       "2        100047332741187621741206  \n",
       "3        100047332741187621741207  \n",
       "4        100047332741187621741208  \n",
       "...                           ...  \n",
       "2185164  199999872386574521451104  \n",
       "2185165  199999872386574521451104  \n",
       "2185166  199999872386574521451104  \n",
       "2185167  199999872386574521451103  \n",
       "2185168  199999872386574521451103  \n",
       "\n",
       "[2185169 rows x 6 columns]"
      ]
     },
     "execution_count": 7,
     "metadata": {},
     "output_type": "execute_result"
    }
   ],
   "source": [
    "df_std_chart"
   ]
  },
  {
   "cell_type": "code",
   "execution_count": 6,
   "metadata": {},
   "outputs": [
    {
     "ename": "AttributeError",
     "evalue": "'Pandas' object has no attribute 'Std_Chart'",
     "output_type": "error",
     "traceback": [
      "\u001b[1;31m---------------------------------------------------------------------------\u001b[0m",
      "\u001b[1;31mAttributeError\u001b[0m                            Traceback (most recent call last)",
      "\u001b[1;32m<ipython-input-6-602748b307eb>\u001b[0m in \u001b[0;36m<module>\u001b[1;34m\u001b[0m\n\u001b[0;32m      3\u001b[0m     \u001b[0mcon\u001b[0m \u001b[1;33m=\u001b[0m \u001b[0mrow\u001b[0m\u001b[1;33m.\u001b[0m\u001b[0mconcat\u001b[0m\u001b[1;33m\u001b[0m\u001b[1;33m\u001b[0m\u001b[0m\n\u001b[0;32m      4\u001b[0m     \u001b[0mitem\u001b[0m \u001b[1;33m=\u001b[0m \u001b[0mrow\u001b[0m\u001b[1;33m.\u001b[0m\u001b[0mitemid\u001b[0m\u001b[1;33m\u001b[0m\u001b[1;33m\u001b[0m\u001b[0m\n\u001b[1;32m----> 5\u001b[1;33m     \u001b[0mvalue\u001b[0m \u001b[1;33m=\u001b[0m \u001b[0mrow\u001b[0m\u001b[1;33m.\u001b[0m\u001b[0mStd_Chart\u001b[0m\u001b[1;33m\u001b[0m\u001b[1;33m\u001b[0m\u001b[0m\n\u001b[0m\u001b[0;32m      6\u001b[0m     \u001b[0mdf_chart_tbl\u001b[0m\u001b[1;33m.\u001b[0m\u001b[0mat\u001b[0m\u001b[1;33m[\u001b[0m\u001b[1;34m'{}'\u001b[0m\u001b[1;33m.\u001b[0m\u001b[0mformat\u001b[0m\u001b[1;33m(\u001b[0m\u001b[0mcon\u001b[0m\u001b[1;33m)\u001b[0m\u001b[1;33m,\u001b[0m \u001b[1;34m'{}'\u001b[0m\u001b[1;33m.\u001b[0m\u001b[0mformat\u001b[0m\u001b[1;33m(\u001b[0m\u001b[0mitem\u001b[0m\u001b[1;33m)\u001b[0m\u001b[1;33m]\u001b[0m \u001b[1;33m=\u001b[0m \u001b[0mvalue\u001b[0m\u001b[1;33m\u001b[0m\u001b[1;33m\u001b[0m\u001b[0m\n",
      "\u001b[1;31mAttributeError\u001b[0m: 'Pandas' object has no attribute 'Std_Chart'"
     ]
    }
   ],
   "source": [
    "# Γεμίζω τον πίνακα\n",
    "for row in df_std_chart.itertuples():\n",
    "    con = row.concat\n",
    "    item = row.itemid\n",
    "    value = row.Std_Chart\n",
    "    df_chart_tbl.at['{}'.format(con), '{}'.format(item)] = value"
   ]
  },
  {
   "cell_type": "code",
   "execution_count": null,
   "metadata": {},
   "outputs": [],
   "source": [
    "# Αποθήκευση του τελικού αρχείου με επικεφαλίδες τους κωδικούς των παρατηρήσεων\n",
    "df_chart_tbl.to_csv('D:\\Papers\\Cyprus_Paper\\Data\\o23_fill_chart_std_itemid_header_tbl.csv', index=False)"
   ]
  },
  {
   "cell_type": "code",
   "execution_count": null,
   "metadata": {},
   "outputs": [],
   "source": [
    "df_data_chart = df_data_chart.set_index('itemid')"
   ]
  },
  {
   "cell_type": "code",
   "execution_count": null,
   "metadata": {},
   "outputs": [],
   "source": [
    "# Ενοποίηση τιμών σε κελιά\n",
    "df_data_chart[\"header\"] = (\"Std Dev - \"\n",
    "                           + df_data_chart[\"label\"].astype(str)\n",
    "                           + \" (\"\n",
    "                           + df_data_chart[\"unitname\"].astype(str)\n",
    "                           + \")\")"
   ]
  },
  {
   "cell_type": "code",
   "execution_count": null,
   "metadata": {},
   "outputs": [],
   "source": [
    "\"\"\"\n",
    "Ελέγχω τις κεφαλίδες και αν δεν ανήκουν στις\n",
    "τέσσερις πρώτες τιμές κάνω τις αντικατάσταση.\n",
    "\"\"\"\n",
    "for col in df_chart_tbl.columns:\n",
    "    if ((col != 'subject_id') and\n",
    "        (col != 'hadm_id') and\n",
    "        (col != 'charttime')):\n",
    "        temp = (df_data_chart.loc[int(col), 'header'])\n",
    "        df_chart_tbl.rename(columns={'{}'.format(col): '{}'.format(temp)}, inplace=True)"
   ]
  },
  {
   "cell_type": "code",
   "execution_count": null,
   "metadata": {},
   "outputs": [],
   "source": [
    "df_chart_tbl"
   ]
  },
  {
   "cell_type": "code",
   "execution_count": null,
   "metadata": {},
   "outputs": [],
   "source": [
    "# Αποθήκευση του τελικού αρχείου με επικεφαλίδες τις ονομασίες των παρατηρήσεων\n",
    "df_chart_tbl.to_csv('D:\\Papers\\Cyprus_Paper\\Data\\o24_fill_max_chart_label_header_tbl.csv', index=False)"
   ]
  }
 ],
 "metadata": {
  "kernelspec": {
   "display_name": "Python 3",
   "language": "python",
   "name": "python3"
  },
  "language_info": {
   "codemirror_mode": {
    "name": "ipython",
    "version": 3
   },
   "file_extension": ".py",
   "mimetype": "text/x-python",
   "name": "python",
   "nbconvert_exporter": "python",
   "pygments_lexer": "ipython3",
   "version": "3.8.5"
  }
 },
 "nbformat": 4,
 "nbformat_minor": 4
}
