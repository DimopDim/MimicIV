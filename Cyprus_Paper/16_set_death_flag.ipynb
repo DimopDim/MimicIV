{
 "cells": [
  {
   "cell_type": "code",
   "execution_count": 1,
   "metadata": {},
   "outputs": [],
   "source": [
    "import pandas as pd\n",
    "import numpy as np"
   ]
  },
  {
   "cell_type": "markdown",
   "metadata": {},
   "source": [
    "# Εισαγωγή Expire flag"
   ]
  },
  {
   "cell_type": "code",
   "execution_count": null,
   "metadata": {},
   "outputs": [],
   "source": [
    "# Εισαγωγή csv\n",
    "df_icu = pd.read_csv('D:\\Papers\\Cyprus_Paper\\Data\\o45_merged_chart_lab.csv')\n",
    "\n",
    "df_patients = pd.read_csv('D:\\MSc Aegean\\Thesis\\mimic-iv-1.0\\core\\patients.csv.gz')\n",
    "\n",
    "df_admissions = pd.read_csv('D:\\MSc Aegean\\Thesis\\mimic-iv-1.0\\core\\Admissions.csv.gz', usecols = ['subject_id', 'hadm_id', 'ethnicity', 'hospital_expire_flag'])"
   ]
  },
  {
   "cell_type": "code",
   "execution_count": null,
   "metadata": {},
   "outputs": [],
   "source": [
    "df_death = df_admissions.loc[df_admissions['hospital_expire_flag'] == 1]"
   ]
  },
  {
   "cell_type": "code",
   "execution_count": null,
   "metadata": {},
   "outputs": [],
   "source": [
    "df_rslt=pd.merge(df_icu, df_death, on=['subject_id','hadm_id'],\n",
    "              how=\"left\", suffixes=('', '_delme'))"
   ]
  },
  {
   "cell_type": "code",
   "execution_count": null,
   "metadata": {},
   "outputs": [],
   "source": [
    "# Εισάγω την τιμή μηδέν στα κενά κελιά της hospital_expire_flag\n",
    "df_rslt[['hospital_expire_flag']] = df_rslt[['hospital_expire_flag']].fillna(0)\n",
    "\n",
    "# Μετατρέπω την στήλη hospital_expire_flag σε ακέραιο.\n",
    "df_rslt['hospital_expire_flag'] = df_rslt['hospital_expire_flag'].apply(int)"
   ]
  },
  {
   "cell_type": "code",
   "execution_count": null,
   "metadata": {},
   "outputs": [],
   "source": [
    "\"\"\"\n",
    "Αντικατάσταση τιμών από μηδέν σε\n",
    "survival και από ένα σε death\n",
    "στην στήλη hospital_expire_flag\n",
    "\"\"\"\n",
    "\n",
    "#df_rslt = df_rslt[\"hospital_expire_flag\"].replace({0 : \"survival\", 1 :\"death\"}, inplace = True)\n",
    "\n",
    "\n",
    "df_rslt[\"hospital_expire_flag\"] = np.where(df_rslt[\"hospital_expire_flag\"] == 0, \"survival\", \"death\")"
   ]
  },
  {
   "cell_type": "code",
   "execution_count": null,
   "metadata": {},
   "outputs": [],
   "source": [
    "#Εξαγωγή σε csv\n",
    "df_rslt.to_csv('D:\\Papers\\Cyprus_Paper\\Data\\o46_chart_lab_with_death_flag.csv', index=False)"
   ]
  }
 ],
 "metadata": {
  "kernelspec": {
   "display_name": "Python 3",
   "language": "python",
   "name": "python3"
  },
  "language_info": {
   "codemirror_mode": {
    "name": "ipython",
    "version": 3
   },
   "file_extension": ".py",
   "mimetype": "text/x-python",
   "name": "python",
   "nbconvert_exporter": "python",
   "pygments_lexer": "ipython3",
   "version": "3.8.5"
  }
 },
 "nbformat": 4,
 "nbformat_minor": 4
}
