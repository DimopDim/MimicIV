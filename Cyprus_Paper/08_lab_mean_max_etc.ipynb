{
 "cells": [
  {
   "cell_type": "code",
   "execution_count": 1,
   "metadata": {},
   "outputs": [],
   "source": [
    "\"\"\"\n",
    "Δημιουργώ τέσσερις ξεχωριστούς πίνακες με τα στοιχεία\n",
    "mean, min, max, std.\n",
    "Χρησιμοποιώ το αρχείο o7_patient_chartevent_without_nan\n",
    "όπου εμπεριέχει τις ωριαίες καταγραφές των ασθενών που έχουν\n",
    "εισαχθεί στις μονάδες εντατικής θεραπείας\n",
    "\"\"\""
   ]
  },
  {
   "cell_type": "code",
   "execution_count": 2,
   "metadata": {},
   "outputs": [],
   "source": [
    "import pandas as pd"
   ]
  },
  {
   "cell_type": "code",
   "execution_count": 3,
   "metadata": {},
   "outputs": [],
   "source": [
    "# CSV με τα chartevent των ασθενών\n",
    "df_labevents= pd.read_csv('D:\\Papers\\Cyprus_Paper\\Data\\o6_labevents.csv')"
   ]
  },
  {
   "cell_type": "code",
   "execution_count": 4,
   "metadata": {},
   "outputs": [],
   "source": [
    "# Μετατροπή της στήλης charttime από object σε datetime\n",
    "\n",
    "df_labevents['charttime']= pd.to_datetime(df_labevents['charttime'])"
   ]
  },
  {
   "cell_type": "code",
   "execution_count": 5,
   "metadata": {},
   "outputs": [],
   "source": [
    "#Απομονώνω τις γραμμές που δεν περιλαμβάνουν τιμές στην valuenum\n",
    "df_labevents = df_labevents[df_labevents['valuenum'].notna()]"
   ]
  },
  {
   "cell_type": "code",
   "execution_count": 6,
   "metadata": {},
   "outputs": [],
   "source": [
    "# Μέση τιμή (mean) ανά 24ώρο \n",
    "grouped_multiple = (df_labevents.groupby(['subject_id',\n",
    "                                          'hadm_id',\n",
    "                                          'itemid',\n",
    "                                          pd.Grouper(key='charttime',\n",
    "                                                     freq='24H')]).agg({'valuenum': ['mean']}))\n",
    "grouped_multiple.columns = ['Mean_Chart']\n",
    "grouped_multiple = grouped_multiple.reset_index()\n",
    "\n",
    "grouped_multiple.to_csv('D:\\Papers\\Cyprus_Paper\\Data\\o26_labevents_24hours_mean.csv', index=False)\n",
    "\n",
    "\n",
    "\n",
    "# Μικρότερη τιμή (min) ανά 24ώρο \n",
    "grouped_multiple = (df_labevents.groupby(['subject_id',\n",
    "                                          'hadm_id',\n",
    "                                          'itemid',\n",
    "                                          pd.Grouper(key='charttime',\n",
    "                                                     freq='24H')]).agg({'valuenum': ['min']}))\n",
    "grouped_multiple.columns = ['Min_Chart']\n",
    "grouped_multiple = grouped_multiple.reset_index()\n",
    "\n",
    "grouped_multiple.to_csv('D:\\Papers\\Cyprus_Paper\\Data\\o27_labevents_24_hour_min.csv', index=False)\n",
    "\n",
    "\n",
    "# Μέγιστη τιμή (max) ανά 24ώρο \n",
    "grouped_multiple = (df_labevents.groupby(['subject_id',\n",
    "                                          'hadm_id',\n",
    "                                          'itemid',\n",
    "                                          pd.Grouper(key='charttime',\n",
    "                                                     freq='24H')]).agg({'valuenum': ['max']}))\n",
    "grouped_multiple.columns = ['Max_Chart']\n",
    "grouped_multiple = grouped_multiple.reset_index()\n",
    "\n",
    "grouped_multiple.to_csv('D:\\Papers\\Cyprus_Paper\\Data\\o28_labevents_24_hour_max.csv', index=False)\n",
    "\n",
    "\n",
    "# Τυπική απόκλιση (std) ανά 24ώρο \n",
    "grouped_multiple = (df_labevents.groupby(['subject_id',\n",
    "                                          'hadm_id',\n",
    "                                          'itemid',\n",
    "                                          pd.Grouper(key='charttime',\n",
    "                                                     freq='24H')]).agg({'valuenum': ['std']}))\n",
    "grouped_multiple.columns = ['StdDev_Chart']\n",
    "grouped_multiple = grouped_multiple.reset_index()\n",
    "\n",
    "grouped_multiple.to_csv('D:\\Papers\\Cyprus_Paper\\Data\\o29_labevent_24_hour_std.csv', index=False)"
   ]
  }
 ],
 "metadata": {
  "kernelspec": {
   "display_name": "Python 3",
   "language": "python",
   "name": "python3"
  },
  "language_info": {
   "codemirror_mode": {
    "name": "ipython",
    "version": 3
   },
   "file_extension": ".py",
   "mimetype": "text/x-python",
   "name": "python",
   "nbconvert_exporter": "python",
   "pygments_lexer": "ipython3",
   "version": "3.8.5"
  }
 },
 "nbformat": 4,
 "nbformat_minor": 4
}
