{
 "cells": [
  {
   "cell_type": "code",
   "execution_count": null,
   "metadata": {},
   "outputs": [],
   "source": [
    "\"\"\"\n",
    "Δημιουργώ τέσσερις ξεχωριστούς πίνακες με τα στοιχεία\n",
    "mean, min, max, std.\n",
    "Χρησιμοποιώ το αρχείο o7_patient_chartevent_without_nan\n",
    "όπου εμπεριέχει τις ωριαίες καταγραφές των ασθενών που έχουν\n",
    "εισαχθεί στις μονάδες εντατικής θεραπείας\n",
    "\"\"\""
   ]
  },
  {
   "cell_type": "code",
   "execution_count": 2,
   "metadata": {},
   "outputs": [],
   "source": [
    "import pandas as pd\n",
    "time = '72H'"
   ]
  },
  {
   "cell_type": "code",
   "execution_count": 3,
   "metadata": {},
   "outputs": [],
   "source": [
    "# CSV με τα chartevent των ασθενών\n",
    "df_patients_chart = pd.read_csv('D:\\Papers\\Cyprus_Paper\\Data\\o7_patient_chartevent_without_nan.csv')\n",
    "\n",
    "\n",
    "# Μετατροπή της στήλης charttime από object σε datetime\n",
    "df_patients_chart['charttime']= pd.to_datetime(df_patients_chart['charttime'])\n",
    "\n",
    "# Στοίχιση στοιχείων\n",
    "df_patients_chart = df_patients_chart.sort_values(by=['hadm_id', 'subject_id', 'charttime'])"
   ]
  },
  {
   "cell_type": "code",
   "execution_count": 4,
   "metadata": {},
   "outputs": [],
   "source": [
    "# Μέση τιμή (mean) ανά 48ώρο \n",
    "grouped_multiple = (df_patients_chart.groupby(['subject_id',\n",
    "                                               'hadm_id',\n",
    "                                               'itemid',\n",
    "                                               pd.Grouper(key='charttime',\n",
    "                                                          freq=time)]).agg({'valuenum': ['mean']}))\n",
    "grouped_multiple.columns = ['Mean_Chart']\n",
    "grouped_multiple = grouped_multiple.reset_index()\n",
    "\n",
    "grouped_multiple.to_csv('D:\\Papers\\Cyprus_Paper\\Data\\o8_chartevent_24_hour_mean.csv', index=False)\n",
    "\n",
    "\n",
    "# Μικρότερη τιμή (min) ανά 48ώρο \n",
    "grouped_multiple = (df_patients_chart.groupby(['subject_id',\n",
    "                                               'hadm_id',\n",
    "                                               'itemid',\n",
    "                                               pd.Grouper(key='charttime',\n",
    "                                                          freq=time)]).agg({'valuenum': ['min']}))\n",
    "grouped_multiple.columns = ['Min_Chart']\n",
    "grouped_multiple = grouped_multiple.reset_index()\n",
    "\n",
    "grouped_multiple.to_csv('D:\\Papers\\Cyprus_Paper\\Data\\o9_chartevent_24_hour_min.csv', index=False)\n",
    "\n",
    "\n",
    "# Μέγιστη τιμή (max) ανά 48ώρο \n",
    "grouped_multiple = (df_patients_chart.groupby(['subject_id',\n",
    "                                               'hadm_id',\n",
    "                                               'itemid',\n",
    "                                               pd.Grouper(key='charttime',\n",
    "                                                          freq=time)]).agg({'valuenum': ['max']}))\n",
    "grouped_multiple.columns = ['Max_Chart']\n",
    "grouped_multiple = grouped_multiple.reset_index()\n",
    "\n",
    "grouped_multiple.to_csv('D:\\Papers\\Cyprus_Paper\\Data\\o10_chartevent_24_hour_max.csv', index=False)\n",
    "\n",
    "\n",
    "# Τυπική απόκλιση (std) ανά 48ώρο \n",
    "grouped_multiple = (df_patients_chart.groupby(['subject_id',\n",
    "                                               'hadm_id',\n",
    "                                               'itemid',\n",
    "                                               pd.Grouper(key='charttime',\n",
    "                                                          freq=time)]).agg({'valuenum': ['std']}))\n",
    "grouped_multiple.columns = ['StdDev_Chart']\n",
    "grouped_multiple = grouped_multiple.reset_index()\n",
    "\n",
    "grouped_multiple.to_csv('D:\\Papers\\Cyprus_Paper\\Data\\o11_chartevent_24_hour_std.csv', index=False)"
   ]
  },
  {
   "cell_type": "code",
   "execution_count": 5,
   "metadata": {},
   "outputs": [],
   "source": [
    "df_patients_mean = pd.read_csv('D:\\Papers\\Cyprus_Paper\\Data\\o8_chartevent_24_hour_mean.csv')\n",
    "df_patients_min = pd.read_csv('D:\\Papers\\Cyprus_Paper\\Data\\o9_chartevent_24_hour_min.csv')\n",
    "df_patients_max = pd.read_csv('D:\\Papers\\Cyprus_Paper\\Data\\o10_chartevent_24_hour_max.csv')\n",
    "df_patients_std = pd.read_csv('D:\\Papers\\Cyprus_Paper\\Data\\o11_chartevent_24_hour_std.csv')"
   ]
  }
 ],
 "metadata": {
  "kernelspec": {
   "display_name": "Python 3",
   "language": "python",
   "name": "python3"
  },
  "language_info": {
   "codemirror_mode": {
    "name": "ipython",
    "version": 3
   },
   "file_extension": ".py",
   "mimetype": "text/x-python",
   "name": "python",
   "nbconvert_exporter": "python",
   "pygments_lexer": "ipython3",
   "version": "3.8.5"
  }
 },
 "nbformat": 4,
 "nbformat_minor": 4
}
