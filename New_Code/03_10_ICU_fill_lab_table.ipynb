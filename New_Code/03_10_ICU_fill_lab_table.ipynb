{
 "cells": [
  {
   "cell_type": "code",
   "execution_count": null,
   "metadata": {},
   "outputs": [],
   "source": [
    "\"\"\"\n",
    "Γεμίζω τον πίνακα με τις μετρήσεις\n",
    "του labevent 8ώρου.\n",
    "\n",
    "Ο πίνακας μου απαρτίζεται από 388 στήλες και 68.191 γραμμές,\n",
    "οπότε μου δημιουργούν 26.458.108 κελιά.\n",
    "\n",
    "Οι τιμές μου ανέρχονται στα 1.276.856 οπότε με μια αφαίρεση\n",
    "προκείπτουν 25.181.252 NaN κελιά, πράγμα που επιβεβαιώνει\n",
    "και η εντολή df_lab_tbl.isna().sum().sum()\n",
    "\n",
    "\"\"\""
   ]
  },
  {
   "cell_type": "code",
   "execution_count": 2,
   "metadata": {},
   "outputs": [],
   "source": [
    "import pandas as pd"
   ]
  },
  {
   "cell_type": "code",
   "execution_count": 3,
   "metadata": {},
   "outputs": [],
   "source": [
    "df_lab_tbl = pd.read_csv('D:\\Thesis\\exports\\o17_empty_lab_tbl.csv', index_col = False)\n",
    "df_data_labevents = pd.read_csv('D:\\Thesis\\mimic-iv-1.0\\hosp\\d_labitems.csv.gz')\n",
    "df_mean_lab = pd.read_csv('D:\\Thesis\\exports\\o16_labevents_grouped_8hours_date_time.csv')"
   ]
  },
  {
   "cell_type": "code",
   "execution_count": 4,
   "metadata": {},
   "outputs": [],
   "source": [
    "# Φέρνω τις τελευταίες στήλες, πρώτες\n",
    "for i in range (1, 5):\n",
    "    cols = list(df_lab_tbl.columns)\n",
    "    cols = [cols[-1]] + cols[:-1]\n",
    "    df_lab_tbl = df_lab_tbl[cols]"
   ]
  },
  {
   "cell_type": "code",
   "execution_count": 5,
   "metadata": {},
   "outputs": [
    {
     "data": {
      "text/plain": [
       "0"
      ]
     },
     "execution_count": 5,
     "metadata": {},
     "output_type": "execute_result"
    }
   ],
   "source": [
    "# Ελέγχω αν υπάρχει NaN στην στήλη με τις μέσες τιμές, το αποτέλεσμα ισούται με μηδέν.\n",
    "df_mean_lab['Mean_Lab'].isna().sum()"
   ]
  },
  {
   "cell_type": "code",
   "execution_count": 6,
   "metadata": {},
   "outputs": [],
   "source": [
    "\"\"\"\n",
    "Δημιουργώ εκ νέου την στήλη concat χωρίς\n",
    "κενά ανάμεσα στα στοιχεία. Θα χρησιμοποιήσω\n",
    "αυτή τη στήλη σαν index και τα κενά μπορεί\n",
    "να δημιουργήσουν πρόβλημα.\n",
    "\"\"\"\n",
    "df_lab_tbl[\"concat\"] = (df_lab_tbl[\"subject_id\"].astype(str)\n",
    "                          + df_lab_tbl[\"hadm_id\"].astype(str)\n",
    "                          + df_lab_tbl[\"date\"].astype(str)\n",
    "                          + df_lab_tbl[\"time\"].astype(str))\n",
    "\n",
    "# Αφαιρώ τους χαρακτήρες - και : από της τιμές της concat\n",
    "df_lab_tbl['concat'] = df_lab_tbl['concat'].str.replace('-','')\n",
    "df_lab_tbl['concat'] = df_lab_tbl['concat'].str.replace(':','')\n",
    "\n",
    "# Ορίζω την στήλη concat ως index των γραμμών\n",
    "df_lab_tbl = df_lab_tbl.set_index('concat')"
   ]
  },
  {
   "cell_type": "code",
   "execution_count": 7,
   "metadata": {},
   "outputs": [],
   "source": [
    "\"\"\"\n",
    "Δημιουργώ την στήλη concat και στον πίνακα\n",
    "που περιλαμβάνει τις μετρήσεις για να είναι\n",
    "το κοινό σημείο ανάμεσα στους δυο πίνακες.\n",
    "\"\"\"\n",
    "df_mean_lab[\"concat\"] = (df_mean_lab[\"subject_id\"].astype(str)\n",
    "                         + df_mean_lab[\"hadm_id\"].astype(str)\n",
    "                         + df_mean_lab[\"date\"].astype(str)\n",
    "                         + df_mean_lab[\"time\"].astype(str))\n",
    "\n",
    "# Αφαιρώ τους χαρακτήρες - και : από της τιμές της concat\n",
    "df_mean_lab['concat'] = df_mean_lab['concat'].str.replace('-','')\n",
    "df_mean_lab['concat'] = df_mean_lab['concat'].str.replace(':','')"
   ]
  },
  {
   "cell_type": "code",
   "execution_count": 8,
   "metadata": {},
   "outputs": [],
   "source": [
    "for row in df_mean_lab.itertuples():\n",
    "    con = row.concat\n",
    "    item = row.itemid\n",
    "    value = row.Mean_Lab\n",
    "    df_lab_tbl.at['{}'.format(con), '{}'.format(item)] = value"
   ]
  },
  {
   "cell_type": "code",
   "execution_count": 9,
   "metadata": {},
   "outputs": [
    {
     "data": {
      "text/plain": [
       "25181252"
      ]
     },
     "execution_count": 9,
     "metadata": {},
     "output_type": "execute_result"
    }
   ],
   "source": [
    "# Έλεγχος NaN περιοχών σε όλο το dataframe\n",
    "df_lab_tbl.isna().sum().sum()"
   ]
  },
  {
   "cell_type": "code",
   "execution_count": 10,
   "metadata": {},
   "outputs": [],
   "source": [
    "# Αποθήκευση του τελικού αρχείου με επικεφαλίδες τους κωδικούς των παρατηρήσεων\n",
    "df_lab_tbl.to_csv('D:\\Thesis\\exports\\o18_fill_lab_itemid_header_tbl.csv', index=False)"
   ]
  },
  {
   "cell_type": "markdown",
   "metadata": {},
   "source": [
    "## Αντικατάσταση των κεφαλίδων"
   ]
  },
  {
   "cell_type": "code",
   "execution_count": 11,
   "metadata": {},
   "outputs": [],
   "source": [
    "df_data_labevents = df_data_labevents.set_index('itemid')"
   ]
  },
  {
   "cell_type": "code",
   "execution_count": 12,
   "metadata": {},
   "outputs": [],
   "source": [
    "# Ενοποίηση τιμών σε κελιά\n",
    "df_data_labevents[\"header\"] = (df_data_labevents[\"label\"].astype(str)\n",
    "                                                + \" (\"\n",
    "                                                + df_data_labevents[\"fluid\"].astype(str)\n",
    "                                                + \")\")"
   ]
  },
  {
   "cell_type": "code",
   "execution_count": 13,
   "metadata": {},
   "outputs": [],
   "source": [
    "\"\"\"\n",
    "Ελέγχω τις κεφαλίδες και αν δεν ανήκουν στις\n",
    "τέσσερις πρώτες τιμές κάνω τις αντικαταστάσεις.\n",
    "\"\"\"\n",
    "for col in df_lab_tbl.columns:\n",
    "    if ((col != 'subject_id')\n",
    "        and (col != 'hadm_id')\n",
    "        and (col != 'date')\n",
    "        and (col != 'time')):\n",
    "        temp = (df_data_labevents.loc[int(col), 'header'])\n",
    "        df_lab_tbl.rename(columns={'{}'.format(col): '{}'.format(temp)}, inplace=True)"
   ]
  },
  {
   "cell_type": "code",
   "execution_count": 14,
   "metadata": {},
   "outputs": [],
   "source": [
    "# Αποθήκευση του τελικού αρχείου με επικεφαλίδες τα label των παρατηρήσεων\n",
    "df_lab_tbl.to_csv('D:\\Thesis\\exports\\o19_fill_lab_label_header_tbl.csv', index=False)"
   ]
  }
 ],
 "metadata": {
  "kernelspec": {
   "display_name": "Python 3",
   "language": "python",
   "name": "python3"
  },
  "language_info": {
   "codemirror_mode": {
    "name": "ipython",
    "version": 3
   },
   "file_extension": ".py",
   "mimetype": "text/x-python",
   "name": "python",
   "nbconvert_exporter": "python",
   "pygments_lexer": "ipython3",
   "version": "3.8.5"
  }
 },
 "nbformat": 4,
 "nbformat_minor": 4
}
