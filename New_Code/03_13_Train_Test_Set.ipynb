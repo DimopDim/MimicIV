{
 "cells": [
  {
   "cell_type": "markdown",
   "metadata": {},
   "source": [
    "## Δημιουργία Train - Test Set (4 αρχεία)"
   ]
  },
  {
   "cell_type": "code",
   "execution_count": 1,
   "metadata": {},
   "outputs": [],
   "source": [
    "import pandas as pd\n",
    "import numpy as np\n",
    "from sklearn.model_selection import train_test_split"
   ]
  },
  {
   "cell_type": "code",
   "execution_count": 2,
   "metadata": {},
   "outputs": [],
   "source": [
    "df_icu = pd.read_csv('D:\\Thesis\\exports\\o31_ICU_final.csv')"
   ]
  },
  {
   "cell_type": "code",
   "execution_count": 3,
   "metadata": {},
   "outputs": [],
   "source": [
    "y = df_icu.hospital_expire_flag"
   ]
  },
  {
   "cell_type": "code",
   "execution_count": 4,
   "metadata": {},
   "outputs": [],
   "source": [
    "x = df_icu.drop('hospital_expire_flag',axis=1)"
   ]
  },
  {
   "cell_type": "code",
   "execution_count": 5,
   "metadata": {},
   "outputs": [],
   "source": [
    "x_train,x_test,y_train,y_test=train_test_split(x,y,test_size=0.3)"
   ]
  },
  {
   "cell_type": "code",
   "execution_count": 7,
   "metadata": {},
   "outputs": [
    {
     "name": "stdout",
     "output_type": "stream",
     "text": [
      "shape of original dataset : (90817, 1101)\n",
      "shape of input - training set (63571, 1100)\n",
      "shape of output - training set (63571,)\n",
      "shape of input - testing set (27246, 1100)\n",
      "shape of output - testing set (27246,)\n"
     ]
    }
   ],
   "source": [
    "print(\"shape of original dataset :\", df_icu.shape)\n",
    "print(\"shape of input - training set\", x_train.shape)\n",
    "print(\"shape of output - training set\", y_train.shape)\n",
    "print(\"shape of input - testing set\", x_test.shape)\n",
    "print(\"shape of output - testing set\", y_test.shape)"
   ]
  },
  {
   "cell_type": "code",
   "execution_count": 8,
   "metadata": {},
   "outputs": [],
   "source": [
    "#Εξαγωγή σε csv\n",
    "x_train.to_csv('D:\\Thesis\\exports\\Train_Test_Sets\\Four_files\\o1_xTrain.csv', index=False)\n",
    "x_test.to_csv('D:\\Thesis\\exports\\Train_Test_Sets\\Four_files\\o2_xTest.csv', index=False)\n",
    "y_train.to_csv('D:\\Thesis\\exports\\Train_Test_Sets\\Four_files\\o3_yTrain.csv', index=False)\n",
    "y_test.to_csv('D:\\Thesis\\exports\\Train_Test_Sets\\Four_files\\o1_yTest.csv', index=False)"
   ]
  },
  {
   "cell_type": "markdown",
   "metadata": {},
   "source": [
    "## Δημιουργία Training - Test Set (2 αρχεία)"
   ]
  },
  {
   "cell_type": "code",
   "execution_count": 9,
   "metadata": {},
   "outputs": [],
   "source": [
    "df_icu = pd.read_csv('D:\\Thesis\\exports\\o31_ICU_final.csv')"
   ]
  },
  {
   "cell_type": "code",
   "execution_count": 10,
   "metadata": {},
   "outputs": [],
   "source": [
    "x_train,x_test=train_test_split(df_icu,test_size=0.3)"
   ]
  },
  {
   "cell_type": "code",
   "execution_count": 11,
   "metadata": {},
   "outputs": [
    {
     "name": "stdout",
     "output_type": "stream",
     "text": [
      "shape of original dataset : (90817, 1101)\n",
      "shape of input - training set (63571, 1101)\n"
     ]
    }
   ],
   "source": [
    "print(\"shape of original dataset :\", df_icu.shape)\n",
    "print(\"shape of input - training set\", x_train.shape)"
   ]
  },
  {
   "cell_type": "code",
   "execution_count": 12,
   "metadata": {},
   "outputs": [],
   "source": [
    "#Εξαγωγή σε csv\n",
    "x_train.to_csv('D:\\Thesis\\exports\\Train_Test_Sets\\Two_files\\o1_xTrain.csv', index=False)\n",
    "x_test.to_csv('D:\\Thesis\\exports\\Train_Test_Sets\\Two_files\\o2_xTest.csv', index=False)"
   ]
  }
 ],
 "metadata": {
  "kernelspec": {
   "display_name": "Python 3",
   "language": "python",
   "name": "python3"
  },
  "language_info": {
   "codemirror_mode": {
    "name": "ipython",
    "version": 3
   },
   "file_extension": ".py",
   "mimetype": "text/x-python",
   "name": "python",
   "nbconvert_exporter": "python",
   "pygments_lexer": "ipython3",
   "version": "3.8.5"
  }
 },
 "nbformat": 4,
 "nbformat_minor": 4
}
