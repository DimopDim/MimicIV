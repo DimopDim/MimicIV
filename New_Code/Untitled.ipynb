{
 "cells": [
  {
   "cell_type": "code",
   "execution_count": 11,
   "metadata": {},
   "outputs": [],
   "source": [
    "def getCSVFromArff(fileName):\n",
    "\twith open(fileName + '.arff', 'r') as fin:\n",
    "\t\tdata = fin.read().splitlines(True)\n",
    "\ti = 0\n",
    "\tcols = []\n",
    "\tfor line in data:\n",
    "\t\tline = line.lower()\n",
    "\t\tif ('@data' in line):\n",
    "\t\t\ti+= 1\n",
    "\t\t\tbreak\n",
    "\t\telse:\n",
    "\t\t\t#print line\n",
    "\t\t\ti+= 1\n",
    "\t\t\tif (line.startswith('@attribute')):\n",
    "\t\t\t\tif('{' in line):\n",
    "\t\t\t\t\tcols.append(line[11:line.index('{')-1])\n",
    "\t\t\t\telse:\n",
    "\t\t\t\t\tcols.append(line[11:line.index(' ', 11)])\n",
    "\theaders = \",\".join(cols)\n",
    "\twith open(fileName + '.csv', 'w') as fout:\n",
    "\t\tfout.write(headers)\n",
    "\t\tfout.write('\\n')\n",
    "\t\tfout.writelines(data[i:])\n",
    "\n",
    "getCSVFromArff(\"D:\\Thesis\\Weka\\Train_Test_Sets\\Sorted Set\\Test30_without_subject\")\t"
   ]
  },
  {
   "cell_type": "code",
   "execution_count": null,
   "metadata": {},
   "outputs": [],
   "source": []
  }
 ],
 "metadata": {
  "kernelspec": {
   "display_name": "Python 3",
   "language": "python",
   "name": "python3"
  },
  "language_info": {
   "codemirror_mode": {
    "name": "ipython",
    "version": 3
   },
   "file_extension": ".py",
   "mimetype": "text/x-python",
   "name": "python",
   "nbconvert_exporter": "python",
   "pygments_lexer": "ipython3",
   "version": "3.8.5"
  }
 },
 "nbformat": 4,
 "nbformat_minor": 4
}
