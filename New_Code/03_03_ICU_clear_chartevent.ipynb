{
 "cells": [
  {
   "cell_type": "code",
   "execution_count": 1,
   "metadata": {},
   "outputs": [
    {
     "data": {
      "text/plain": [
       "'\\nΠρέπει να απομονώσω τις γραμμές με NaN από την\\nστήλη valuenum μιας και χρειάζομαι μόνο τις\\nαριθμητικές καταγραφές και όχι τα κείμενα.\\n\\n26.600.037 -> Συνολικά οι εγγραφές ασθενών με\\n              εγκεφαλικό στις ΜΕΘ.\\n\\n 9.874.474 -> Οι εγγραφές που περιέχουν τιμές.\\n\\n       707 -> Αναγνωριστικοί κωδικοί μέτρησης.\\n'"
      ]
     },
     "execution_count": 1,
     "metadata": {},
     "output_type": "execute_result"
    }
   ],
   "source": [
    "\"\"\"\n",
    "Πρέπει να απομονώσω τις γραμμές με NaN από την\n",
    "στήλη valuenum μιας και χρειάζομαι μόνο τις\n",
    "αριθμητικές καταγραφές και όχι τα κείμενα.\n",
    "\n",
    "26.600.037 -> Συνολικά οι εγγραφές ασθενών με\n",
    "              εγκεφαλικό στις ΜΕΘ.\n",
    "\n",
    " 9.874.474 -> Οι εγγραφές που περιέχουν τιμές.\n",
    "\n",
    "       707 -> Αναγνωριστικοί κωδικοί μέτρησης.\n",
    "\"\"\""
   ]
  },
  {
   "cell_type": "code",
   "execution_count": 2,
   "metadata": {},
   "outputs": [],
   "source": [
    "import pandas as pd"
   ]
  },
  {
   "cell_type": "code",
   "execution_count": 3,
   "metadata": {},
   "outputs": [
    {
     "name": "stderr",
     "output_type": "stream",
     "text": [
      "C:\\Users\\Dimopoulos\\anaconda3\\lib\\site-packages\\IPython\\core\\interactiveshell.py:3146: DtypeWarning: Columns (8) have mixed types.Specify dtype option on import or set low_memory=False.\n",
      "  has_raised = await self.run_ast_nodes(code_ast.body, cell_name,\n"
     ]
    }
   ],
   "source": [
    "# Εισαγωγή dataframe\n",
    "df_patient_chart = pd.read_csv('D:\\Thesis\\exports\\o6_patient_chartevent.csv')"
   ]
  },
  {
   "cell_type": "code",
   "execution_count": 4,
   "metadata": {},
   "outputs": [],
   "source": [
    "# Κρατώ μόνο τις γραμμές που περιέχουν τιμές στην valuenum\n",
    "without_nan = df_patient_chart[df_patient_chart['valuenum'].notna()]"
   ]
  },
  {
   "cell_type": "code",
   "execution_count": 5,
   "metadata": {},
   "outputs": [],
   "source": [
    "without_nan.to_csv('D:\\Thesis\\exports\\o7_patient_chartevent_without_nan.csv', index=False)"
   ]
  },
  {
   "cell_type": "code",
   "execution_count": 6,
   "metadata": {},
   "outputs": [],
   "source": [
    "# Καταμέτρηση των εξετάσεων που κάνουν οι ασθενείς με εγκεφαλικό και μετατροπή από series σε dataframe.\n",
    "rslt_df = pd.DataFrame(without_nan['itemid'].value_counts(dropna=True))\n",
    "\n",
    "# Το παραγόμενο αρχείο έχει σαν index την στήλη που περιέχει τον κωδικό των εξετάσεων, οπότε την κάνουμε reset\n",
    "rslt_df = rslt_df.reset_index()\n",
    "\n",
    "# Ορίζουμε νέες ονομασίες στις στήλες για να μπορούν να είναι ευανάγνωστες.\n",
    "rslt_df = rslt_df.rename(columns={'index': 'itemid', 'itemid': 'times'})\n",
    "\n",
    "# Εξαγωγή σε αρχείο\n",
    "rslt_df.to_csv('D:\\Thesis\\exports\\o8_chartevents_counts.csv', index=False)"
   ]
  }
 ],
 "metadata": {
  "kernelspec": {
   "display_name": "Python 3",
   "language": "python",
   "name": "python3"
  },
  "language_info": {
   "codemirror_mode": {
    "name": "ipython",
    "version": 3
   },
   "file_extension": ".py",
   "mimetype": "text/x-python",
   "name": "python",
   "nbconvert_exporter": "python",
   "pygments_lexer": "ipython3",
   "version": "3.8.5"
  }
 },
 "nbformat": 4,
 "nbformat_minor": 4
}
