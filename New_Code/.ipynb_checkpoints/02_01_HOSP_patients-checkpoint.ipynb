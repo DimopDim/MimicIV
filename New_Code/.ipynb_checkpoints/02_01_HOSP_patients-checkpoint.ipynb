{
 "cells": [
  {
   "cell_type": "code",
   "execution_count": 1,
   "metadata": {},
   "outputs": [
    {
     "data": {
      "text/plain": [
       "'\\nΚαταγράφω τους ασθενείς που εισήχθησαν στο νοσοκομείο.\\n\\n5.280.351 -> Συνολικές εγγραφές στις νοσοκομειακές διαγνώσεις.\\n   12.015 -> Εγγραφές διαγνώσεων που αναφέρονται σε ασθενείς\\n             με εγκεφαλικό.\\n\\n'"
      ]
     },
     "execution_count": 1,
     "metadata": {},
     "output_type": "execute_result"
    }
   ],
   "source": [
    "\"\"\"\n",
    "Καταγράφω τους ασθενείς που εισήχθησαν στο νοσοκομείο.\n",
    "\n",
    "5.280.351 -> Συνολικές εγγραφές στις νοσοκομειακές διαγνώσεις.\n",
    "   12.015 -> Εγγραφές διαγνώσεων που αναφέρονται σε ασθενείς\n",
    "             με εγκεφαλικό.\n",
    "\n",
    "\"\"\""
   ]
  },
  {
   "cell_type": "code",
   "execution_count": 2,
   "metadata": {},
   "outputs": [],
   "source": [
    "import pandas as pd"
   ]
  },
  {
   "cell_type": "code",
   "execution_count": 3,
   "metadata": {},
   "outputs": [],
   "source": [
    "df_patients = pd.read_csv('D:\\Thesis\\mimic-iv-1.0\\hosp\\diagnoses_icd.csv.gz', usecols = ['subject_id', 'hadm_id', 'icd_code'])"
   ]
  },
  {
   "cell_type": "code",
   "execution_count": 4,
   "metadata": {},
   "outputs": [],
   "source": [
    "#Ασθενείς με εγκεφαλικό.\n",
    "hosp_patients = df_patients[\n",
    "    (df_patients['icd_code'] ==\"43300\") | (df_patients['icd_code'] ==\"43301\") |\n",
    "    (df_patients['icd_code'] ==\"43310\") | (df_patients['icd_code'] ==\"43311\") |\n",
    "    (df_patients['icd_code'] ==\"43320\") | (df_patients['icd_code'] ==\"43321\") |\n",
    "    (df_patients['icd_code'] ==\"43330\") | (df_patients['icd_code'] ==\"43331\") |\n",
    "    (df_patients['icd_code'] ==\"43380\") | (df_patients['icd_code'] ==\"43381\") |\n",
    "    (df_patients['icd_code'] ==\"43390\") | (df_patients['icd_code'] ==\"43391\") |\n",
    "    (df_patients['icd_code'] ==\"43400\") | (df_patients['icd_code'] ==\"43401\") |\n",
    "    (df_patients['icd_code'] ==\"43410\") | (df_patients['icd_code'] ==\"43411\") |\n",
    "    (df_patients['icd_code'] ==\"43491\") | (df_patients['icd_code'] ==\"43490\") |\n",
    "    (df_patients['icd_code'] ==\"436\") | (df_patients['icd_code'] ==\"431\") |\n",
    "    (df_patients['icd_code'] ==\"430\") | (df_patients['icd_code'] ==\"4350\") |\n",
    "    (df_patients['icd_code'] ==\"4351\") | (df_patients['icd_code'] ==\"4352\") |\n",
    "    (df_patients['icd_code'] ==\"4353\") | (df_patients['icd_code'] ==\"4358\") |\n",
    "    (df_patients['icd_code'] ==\"4359\")\n",
    "]"
   ]
  },
  {
   "cell_type": "code",
   "execution_count": 5,
   "metadata": {},
   "outputs": [],
   "source": [
    "hosp_patients = hosp_patients.reset_index(drop=True)"
   ]
  },
  {
   "cell_type": "code",
   "execution_count": 6,
   "metadata": {},
   "outputs": [
    {
     "name": "stdout",
     "output_type": "stream",
     "text": [
      "<class 'pandas.core.frame.DataFrame'>\n",
      "RangeIndex: 12015 entries, 0 to 12014\n",
      "Data columns (total 3 columns):\n",
      " #   Column      Non-Null Count  Dtype \n",
      "---  ------      --------------  ----- \n",
      " 0   subject_id  12015 non-null  int64 \n",
      " 1   hadm_id     12015 non-null  int64 \n",
      " 2   icd_code    12015 non-null  object\n",
      "dtypes: int64(2), object(1)\n",
      "memory usage: 281.7+ KB\n"
     ]
    }
   ],
   "source": [
    "hosp_patients.info()"
   ]
  },
  {
   "cell_type": "code",
   "execution_count": 7,
   "metadata": {},
   "outputs": [],
   "source": [
    "#Εξαγωγή σε csv\n",
    "hosp_patients.to_csv('D:\\Thesis\\exports\\o3_hosp_patients.csv', index=False)"
   ]
  }
 ],
 "metadata": {
  "kernelspec": {
   "display_name": "Python 3",
   "language": "python",
   "name": "python3"
  },
  "language_info": {
   "codemirror_mode": {
    "name": "ipython",
    "version": 3
   },
   "file_extension": ".py",
   "mimetype": "text/x-python",
   "name": "python",
   "nbconvert_exporter": "python",
   "pygments_lexer": "ipython3",
   "version": "3.8.5"
  }
 },
 "nbformat": 4,
 "nbformat_minor": 4
}
