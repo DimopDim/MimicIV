{
 "cells": [
  {
   "cell_type": "code",
   "execution_count": null,
   "metadata": {},
   "outputs": [],
   "source": [
    "\"\"\"\n",
    "Δημιουργία του πίνακα chartevet\n",
    "με το είδος των εξετάσων διαχωρισμένες\n",
    "σε 707 στήλες.\n",
    "\"\"\""
   ]
  },
  {
   "cell_type": "code",
   "execution_count": 2,
   "metadata": {},
   "outputs": [],
   "source": [
    "import pandas as pd"
   ]
  },
  {
   "cell_type": "code",
   "execution_count": 3,
   "metadata": {},
   "outputs": [],
   "source": [
    "df_rows = pd.read_csv('D:\\Thesis\\exports\\o9_chartevent_8_hour_mean.csv')"
   ]
  },
  {
   "cell_type": "code",
   "execution_count": 4,
   "metadata": {},
   "outputs": [],
   "source": [
    "# Μετατροπή της στήλης charttime από object σε datetime για να μπορέσει να γίνει ο παρακάτω διαχωρισμός σε δυο στήλες\n",
    "df_rows['charttime']= pd.to_datetime(df_rows['charttime'])"
   ]
  },
  {
   "cell_type": "code",
   "execution_count": 5,
   "metadata": {},
   "outputs": [],
   "source": [
    "#Διαχωρισμός σε δυο καινούργιες στήλες της ημερομηνίας και ώρας\n",
    "df_rows['date'] = pd.to_datetime(df_rows['charttime']).dt.date\n",
    "df_rows['time'] = pd.to_datetime(df_rows['charttime']).dt.time"
   ]
  },
  {
   "cell_type": "code",
   "execution_count": 6,
   "metadata": {},
   "outputs": [
    {
     "data": {
      "text/plain": [
       "[datetime.time(0, 0), datetime.time(8, 0), datetime.time(16, 0)]"
      ]
     },
     "execution_count": 6,
     "metadata": {},
     "output_type": "execute_result"
    }
   ],
   "source": [
    "# Εδώ παίρνουμε τις τιμές της στήλης time και βλέπουμε πως γκρουπάρονται οι ώρες.\n",
    "# Οπ΄ότε έχουμε τρία οχτάωρα 00:00, 08:00 και 16:00\n",
    "list(set(df_rows['time']))"
   ]
  },
  {
   "cell_type": "code",
   "execution_count": 7,
   "metadata": {},
   "outputs": [],
   "source": [
    "#Δημιουργώ τις στήλες από το αρχείο που περιλαμβάνει τις μοναδικές εξετάσεις\n",
    "df_columns = pd.read_csv('D:\\Thesis\\exports\\o8_chartevents_counts.csv',\n",
    "                         usecols = ['itemid'], index_col=False)\n",
    "\n",
    "#Ορίζω το header ως index έτσι ώστε όταν αλλάξω την κατεύθυνση του csv να μπουν τα στοιχεία στην κεφαλίδα.\n",
    "df_columns = df_columns.set_index('itemid')\n",
    "\n",
    "# Μεταφέρω τις γραμμές σε στήλες\n",
    "df_columns = df_columns.transpose()"
   ]
  },
  {
   "cell_type": "code",
   "execution_count": 8,
   "metadata": {},
   "outputs": [],
   "source": [
    "\"\"\"\n",
    "Δημιουργώ ένα μοναδικό αναγνωριστικό με την ένωση των\n",
    "στοιχείων από στήλες subject, hadm_id, date και time.\n",
    "Ανάμεσα στα στοιχεία προβάλω ένα κενό το οποίο θα μου\n",
    "φανεί χρήσιμο αργότερα για τον διαχωρισμό τους ξανά σε\n",
    "διαφορετικές στήλες.\n",
    "\"\"\"\n",
    "df_rows[\"concat\"] = (df_rows[\"subject_id\"].astype(str)\n",
    "                     +\" \"\n",
    "                     +df_rows[\"hadm_id\"].astype(str)\n",
    "                     +\" \"\n",
    "                     +df_rows[\"date\"].astype(str)\n",
    "                     +\" \"+\n",
    "                     df_rows[\"time\"].astype(str))"
   ]
  },
  {
   "cell_type": "code",
   "execution_count": 9,
   "metadata": {},
   "outputs": [
    {
     "data": {
      "text/plain": [
       "False"
      ]
     },
     "execution_count": 9,
     "metadata": {},
     "output_type": "execute_result"
    }
   ],
   "source": [
    "# Ελέγχω αν υπάρχει κενό κελί στην στήλη concat.\n",
    "df_rows['concat'].isnull().values.any()"
   ]
  },
  {
   "cell_type": "code",
   "execution_count": 10,
   "metadata": {},
   "outputs": [],
   "source": [
    "# Αλλάζω την σειρά των στηλών του dataframe\n",
    "df_rows = df_rows[['concat', 'subject_id', 'hadm_id', 'charttime', 'date', 'time', 'itemid', 'Mean_Chart']]"
   ]
  },
  {
   "cell_type": "code",
   "execution_count": 11,
   "metadata": {},
   "outputs": [],
   "source": [
    "# Από το dr_rows κρατάω τις μοναδικές εγγραφές\n",
    "df_copy_rows = pd.DataFrame(df_rows.concat.unique())\n",
    "\n",
    "# Δημιουργώ καινούργιο πίνακα ενσωματώνοντας στον πίνακα df columns τις στήλες με τις κενές για την ώρα εξετάσεις\n",
    "chart_tbl = pd.concat([df_copy_rows, df_columns], axis=1)\n",
    "\n",
    "# Μετονομάζω την στήλη 0 σε concat για να είναι ίδιες στους δυο πίνακες\n",
    "chart_tbl = chart_tbl.rename({0:'concat'}, axis=1)"
   ]
  },
  {
   "cell_type": "code",
   "execution_count": 12,
   "metadata": {},
   "outputs": [],
   "source": [
    "#Διαχωρισμός του concat σε τέσσερις στήλες\n",
    "chart_tbl[['subject_id','hadm_id', 'date', 'time']] = chart_tbl['concat'].str.split(expand=True)"
   ]
  },
  {
   "cell_type": "code",
   "execution_count": 13,
   "metadata": {},
   "outputs": [],
   "source": [
    "\"\"\"\n",
    "Διαγράφω την στήλη concat γιατί θα\n",
    "πρέπει να την ξαναδημιουργήσω χωρίς\n",
    "κενά ανάμεσα στα ενοποιημένα στοιχεία,\n",
    "οπότε θα την έχω διπλή.\n",
    "\"\"\"\n",
    "chart_tbl = chart_tbl.drop('concat', 1)"
   ]
  },
  {
   "cell_type": "code",
   "execution_count": 14,
   "metadata": {},
   "outputs": [],
   "source": [
    "# Εξαγωγή του άδειου πίνακα\n",
    "chart_tbl.to_csv('D:\\Thesis\\exports\\o10_empty_chart_tbl.csv', index=False)"
   ]
  }
 ],
 "metadata": {
  "kernelspec": {
   "display_name": "Python 3",
   "language": "python",
   "name": "python3"
  },
  "language_info": {
   "codemirror_mode": {
    "name": "ipython",
    "version": 3
   },
   "file_extension": ".py",
   "mimetype": "text/x-python",
   "name": "python",
   "nbconvert_exporter": "python",
   "pygments_lexer": "ipython3",
   "version": "3.8.5"
  }
 },
 "nbformat": 4,
 "nbformat_minor": 4
}
