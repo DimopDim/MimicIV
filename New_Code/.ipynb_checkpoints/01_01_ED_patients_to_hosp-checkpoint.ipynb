{
 "cells": [
  {
   "cell_type": "code",
   "execution_count": null,
   "metadata": {},
   "outputs": [],
   "source": [
    "\"\"\"\n",
    "Καταγράφω τους ασθενείς που πέρασαν από τα\n",
    "επείγοντα με εγκεφαλικό και κατέληξαν στο νοσοκομείο.\n",
    "\n",
    "949.172 -> Συνολικές εγγραφές στον πίνακα των διαγνώσεων.\n",
    "448.972 -> Εγγραφές που μας δείχνουν τους ασθενείς που νοσηλεύτηκαν.\n",
    "  2.292 -> Είναι οι διαγνώσεις εγκεφαλικού.\n",
    "  2.233 -> Εισαγωγές με εγκεφαλικό νοσηλεύτηκαν\n",
    "  2.145 -> Μοναδικοί ασθενείς που διαγνώστηκαν με εγκεφαλικό\n",
    "  2.094 -> Μοναδικοί ασθενείς με εγκεφαλικό που νοσηλεύτηκαν.\n",
    "     59 -> Εισαγωγές με εγκεφαλικό που δεν νοσηλεύτηκαν.\n",
    "     59 -> Μοναδικοί ασθενείς με εγκεφαλικό που δεν νοσηλεύτηκαν.\n",
    "\"\"\""
   ]
  },
  {
   "cell_type": "code",
   "execution_count": 2,
   "metadata": {},
   "outputs": [],
   "source": [
    "import pandas as pd"
   ]
  },
  {
   "cell_type": "code",
   "execution_count": 3,
   "metadata": {},
   "outputs": [],
   "source": [
    "df_patients = pd.read_csv('D:\\MSc Aegean\\Διατριβή\\MIMIC_IV\\mimic-iv-1.0\\ed\\diagnosis.csv.gz')\n",
    "df_edstays = pd.read_csv('D:\\MSc Aegean\\Διατριβή\\MIMIC_IV\\mimic-iv-1.0\\ed\\edstays.csv.gz')"
   ]
  },
  {
   "cell_type": "code",
   "execution_count": 4,
   "metadata": {},
   "outputs": [],
   "source": [
    "#Ασθενείς με εγκεφαλικό.\n",
    "ed_cerebral_infarction_diagnoses = df_patients[\n",
    "    (df_patients['icd_code'] ==\"43300\") | (df_patients['icd_code'] ==\"43301\") |\n",
    "    (df_patients['icd_code'] ==\"43310\") | (df_patients['icd_code'] ==\"43311\") |\n",
    "    (df_patients['icd_code'] ==\"43320\") | (df_patients['icd_code'] ==\"43321\") |\n",
    "    (df_patients['icd_code'] ==\"43330\") | (df_patients['icd_code'] ==\"43331\") |\n",
    "    (df_patients['icd_code'] ==\"43380\") | (df_patients['icd_code'] ==\"43381\") |\n",
    "    (df_patients['icd_code'] ==\"43390\") | (df_patients['icd_code'] ==\"43391\") |\n",
    "    (df_patients['icd_code'] ==\"43400\") | (df_patients['icd_code'] ==\"43401\") |\n",
    "    (df_patients['icd_code'] ==\"43410\") | (df_patients['icd_code'] ==\"43411\") |\n",
    "    (df_patients['icd_code'] ==\"43491\") | (df_patients['icd_code'] ==\"43490\") |\n",
    "    (df_patients['icd_code'] ==\"436\") | (df_patients['icd_code'] ==\"431\") |\n",
    "    (df_patients['icd_code'] ==\"430\") | (df_patients['icd_code'] ==\"4350\") |\n",
    "    (df_patients['icd_code'] ==\"4351\") | (df_patients['icd_code'] ==\"4352\") |\n",
    "    (df_patients['icd_code'] ==\"4353\") | (df_patients['icd_code'] ==\"4358\") |\n",
    "    (df_patients['icd_code'] ==\"4359\")\n",
    "]"
   ]
  },
  {
   "cell_type": "code",
   "execution_count": 5,
   "metadata": {},
   "outputs": [
    {
     "name": "stdout",
     "output_type": "stream",
     "text": [
      "<class 'pandas.core.frame.DataFrame'>\n",
      "Int64Index: 2292 entries, 136 to 467718\n",
      "Data columns (total 6 columns):\n",
      " #   Column       Non-Null Count  Dtype \n",
      "---  ------       --------------  ----- \n",
      " 0   subject_id   2292 non-null   int64 \n",
      " 1   stay_id      2292 non-null   int64 \n",
      " 2   seq_num      2292 non-null   int64 \n",
      " 3   icd_code     2292 non-null   object\n",
      " 4   icd_version  2292 non-null   int64 \n",
      " 5   icd_title    2292 non-null   object\n",
      "dtypes: int64(4), object(2)\n",
      "memory usage: 125.3+ KB\n"
     ]
    }
   ],
   "source": [
    "# Διαγνώσεις εγκεφαλικού (2292).\n",
    "ed_cerebral_infarction_diagnoses.info()"
   ]
  },
  {
   "cell_type": "code",
   "execution_count": 6,
   "metadata": {},
   "outputs": [],
   "source": [
    "\"\"\"\n",
    "Ενοποίηση των στοιχείων έτσι ώστε να κρατήσουμε τους\n",
    "ασθενείς που έχουν hadm_id πράγμα που σημαίνει ότι\n",
    "νοσηλεύτηκαν στο νοσοκομείο. Από εκεί θα δούμε αν\n",
    "κατέληξαν στις ΜΕΘ. Με βάση την βιβλιογραφία της MimicIV\n",
    "το hadm_id δεν δείχνει την άμεση μετάβαση στις ΜΕΘ.\n",
    "Βέβαια το ίδιο hadm_id ακολουθεί τον ασθενή καθόλη την \n",
    "διάρκεια της εισαγωγής αλλά θα κρατήσω της βιβλιογραφίας.\n",
    "\"\"\"\n",
    "rslt_df = pd.merge(df_edstays, ed_cerebral_infarction_diagnoses, on=['subject_id', 'stay_id'] )"
   ]
  },
  {
   "cell_type": "code",
   "execution_count": 7,
   "metadata": {},
   "outputs": [
    {
     "name": "stdout",
     "output_type": "stream",
     "text": [
      "<class 'pandas.core.frame.DataFrame'>\n",
      "Int64Index: 2292 entries, 0 to 2291\n",
      "Data columns (total 9 columns):\n",
      " #   Column       Non-Null Count  Dtype  \n",
      "---  ------       --------------  -----  \n",
      " 0   subject_id   2292 non-null   int64  \n",
      " 1   hadm_id      2233 non-null   float64\n",
      " 2   stay_id      2292 non-null   int64  \n",
      " 3   intime       2292 non-null   object \n",
      " 4   outtime      2292 non-null   object \n",
      " 5   seq_num      2292 non-null   int64  \n",
      " 6   icd_code     2292 non-null   object \n",
      " 7   icd_version  2292 non-null   int64  \n",
      " 8   icd_title    2292 non-null   object \n",
      "dtypes: float64(1), int64(4), object(4)\n",
      "memory usage: 179.1+ KB\n"
     ]
    }
   ],
   "source": [
    "rslt_df.info()"
   ]
  },
  {
   "cell_type": "code",
   "execution_count": 8,
   "metadata": {},
   "outputs": [
    {
     "data": {
      "text/plain": [
       "subject_id      0\n",
       "hadm_id        59\n",
       "stay_id         0\n",
       "intime          0\n",
       "outtime         0\n",
       "seq_num         0\n",
       "icd_code        0\n",
       "icd_version     0\n",
       "icd_title       0\n",
       "dtype: int64"
      ]
     },
     "execution_count": 8,
     "metadata": {},
     "output_type": "execute_result"
    }
   ],
   "source": [
    "\"\"\"\n",
    "Έλεγχω αν υπάρχουν nan κελιά, έτσι μπορώ\n",
    "να δω αν κάποιος ασθενής πέρασε από τα \n",
    "επείγοντα στο νοσοκομείο ή όχι. Οι κενές\n",
    "περιοχές δηλώνουν ότι δεν έφυγε χωρίς εισαγωγή.\n",
    "\"\"\"\n",
    "rslt_df.isna().sum()"
   ]
  },
  {
   "cell_type": "code",
   "execution_count": 9,
   "metadata": {},
   "outputs": [],
   "source": [
    "# Κρατώ μόνο τις γραμμές που έχουν τιμές στο hadm_id\n",
    "rslt_df = rslt_df[rslt_df['hadm_id'].notna()]"
   ]
  },
  {
   "cell_type": "code",
   "execution_count": 10,
   "metadata": {},
   "outputs": [],
   "source": [
    "rslt_df.to_csv('D:\\Thesis\\exports\\o1_ed_patients_to_hosp.csv', index=False)"
   ]
  },
  {
   "cell_type": "code",
   "execution_count": 11,
   "metadata": {},
   "outputs": [
    {
     "name": "stdout",
     "output_type": "stream",
     "text": [
      "<class 'pandas.core.frame.DataFrame'>\n",
      "Int64Index: 2145 entries, 136 to 467718\n",
      "Data columns (total 6 columns):\n",
      " #   Column       Non-Null Count  Dtype \n",
      "---  ------       --------------  ----- \n",
      " 0   subject_id   2145 non-null   int64 \n",
      " 1   stay_id      2145 non-null   int64 \n",
      " 2   seq_num      2145 non-null   int64 \n",
      " 3   icd_code     2145 non-null   object\n",
      " 4   icd_version  2145 non-null   int64 \n",
      " 5   icd_title    2145 non-null   object\n",
      "dtypes: int64(4), object(2)\n",
      "memory usage: 117.3+ KB\n"
     ]
    }
   ],
   "source": [
    "# Μοναδικοί ασθενείς που διαγνώστηκαν με εγκεφαλικό (2145)\n",
    "ed_cerebral_infarction_diagnoses.drop_duplicates(subset=['subject_id']).info()"
   ]
  },
  {
   "cell_type": "code",
   "execution_count": 12,
   "metadata": {},
   "outputs": [
    {
     "name": "stdout",
     "output_type": "stream",
     "text": [
      "<class 'pandas.core.frame.DataFrame'>\n",
      "Int64Index: 0 entries\n",
      "Data columns (total 9 columns):\n",
      " #   Column       Non-Null Count  Dtype  \n",
      "---  ------       --------------  -----  \n",
      " 0   subject_id   0 non-null      int64  \n",
      " 1   hadm_id      0 non-null      float64\n",
      " 2   stay_id      0 non-null      int64  \n",
      " 3   intime       0 non-null      object \n",
      " 4   outtime      0 non-null      object \n",
      " 5   seq_num      0 non-null      int64  \n",
      " 6   icd_code     0 non-null      object \n",
      " 7   icd_version  0 non-null      int64  \n",
      " 8   icd_title    0 non-null      object \n",
      "dtypes: float64(1), int64(4), object(4)\n",
      "memory usage: 0.0+ bytes\n"
     ]
    }
   ],
   "source": [
    "# Ελέγχω εκ νέου για κενές τιμές στο hadm\n",
    "rslt_df[rslt_df['hadm_id'].isna()].drop_duplicates(subset=['subject_id']).info()"
   ]
  },
  {
   "cell_type": "code",
   "execution_count": 13,
   "metadata": {},
   "outputs": [
    {
     "name": "stdout",
     "output_type": "stream",
     "text": [
      "<class 'pandas.core.frame.DataFrame'>\n",
      "Int64Index: 2233 entries, 0 to 2291\n",
      "Data columns (total 9 columns):\n",
      " #   Column       Non-Null Count  Dtype  \n",
      "---  ------       --------------  -----  \n",
      " 0   subject_id   2233 non-null   int64  \n",
      " 1   hadm_id      2233 non-null   float64\n",
      " 2   stay_id      2233 non-null   int64  \n",
      " 3   intime       2233 non-null   object \n",
      " 4   outtime      2233 non-null   object \n",
      " 5   seq_num      2233 non-null   int64  \n",
      " 6   icd_code     2233 non-null   object \n",
      " 7   icd_version  2233 non-null   int64  \n",
      " 8   icd_title    2233 non-null   object \n",
      "dtypes: float64(1), int64(4), object(4)\n",
      "memory usage: 174.5+ KB\n"
     ]
    }
   ],
   "source": [
    "# Εισαγωγές με εγκεφαλικό νοσηλεύτηκαν (2233)\n",
    "rslt_df.info()"
   ]
  },
  {
   "cell_type": "code",
   "execution_count": 14,
   "metadata": {},
   "outputs": [
    {
     "name": "stdout",
     "output_type": "stream",
     "text": [
      "<class 'pandas.core.frame.DataFrame'>\n",
      "Int64Index: 2094 entries, 0 to 2290\n",
      "Data columns (total 9 columns):\n",
      " #   Column       Non-Null Count  Dtype  \n",
      "---  ------       --------------  -----  \n",
      " 0   subject_id   2094 non-null   int64  \n",
      " 1   hadm_id      2094 non-null   float64\n",
      " 2   stay_id      2094 non-null   int64  \n",
      " 3   intime       2094 non-null   object \n",
      " 4   outtime      2094 non-null   object \n",
      " 5   seq_num      2094 non-null   int64  \n",
      " 6   icd_code     2094 non-null   object \n",
      " 7   icd_version  2094 non-null   int64  \n",
      " 8   icd_title    2094 non-null   object \n",
      "dtypes: float64(1), int64(4), object(4)\n",
      "memory usage: 163.6+ KB\n"
     ]
    }
   ],
   "source": [
    "rslt_df.drop_duplicates(subset=['subject_id']).info()"
   ]
  }
 ],
 "metadata": {
  "kernelspec": {
   "display_name": "Python 3",
   "language": "python",
   "name": "python3"
  },
  "language_info": {
   "codemirror_mode": {
    "name": "ipython",
    "version": 3
   },
   "file_extension": ".py",
   "mimetype": "text/x-python",
   "name": "python",
   "nbconvert_exporter": "python",
   "pygments_lexer": "ipython3",
   "version": "3.8.5"
  }
 },
 "nbformat": 4,
 "nbformat_minor": 4
}
