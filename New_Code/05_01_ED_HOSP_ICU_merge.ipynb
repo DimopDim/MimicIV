{
 "cells": [
  {
   "cell_type": "code",
   "execution_count": 1,
   "metadata": {},
   "outputs": [
    {
     "data": {
      "text/plain": [
       "'\\nΕνοποιώ τα τρία παραγώμενα dataframes\\nκαι προσθέτω την στήλη Death_Flag όπου\\nορίζω μέσα της την θνησιμότητα. Με την\\nτιμή μηδέν ορίζεται η επιβίωση και με\\nτην τιμή ένα η θνησιμότητα.\\n\\nΣτοιχεία συνολικού πίνακα\\n127.803 γραμμές 1.110 στήλες.\\n'"
      ]
     },
     "execution_count": 1,
     "metadata": {},
     "output_type": "execute_result"
    }
   ],
   "source": [
    "\"\"\"\n",
    "Ενοποιώ τα τρία παραγώμενα dataframes\n",
    "και προσθέτω την στήλη Death_Flag όπου\n",
    "ορίζω μέσα της την θνησιμότητα. Με την\n",
    "τιμή μηδέν ορίζεται η επιβίωση και με\n",
    "την τιμή ένα η θνησιμότητα.\n",
    "\n",
    "Στοιχεία συνολικού πίνακα\n",
    "127.803 γραμμές 1.110 στήλες.\n",
    "\"\"\""
   ]
  },
  {
   "cell_type": "code",
   "execution_count": 2,
   "metadata": {},
   "outputs": [],
   "source": [
    "import pandas as pd"
   ]
  },
  {
   "cell_type": "code",
   "execution_count": 3,
   "metadata": {},
   "outputs": [],
   "source": [
    "# Εισαγωγή dataframe\n",
    "df_tables = pd.read_csv('D:\\Thesis\\exports\\o29_HOSP_ICU_merged.csv')\n",
    "df_ed_patients = pd.read_csv('D:\\Thesis\\exports\\o2_ed_mean_vitals.csv')\n",
    "\n",
    "\n",
    "df_death= pd.read_csv('D:\\Thesis\\mimic-iv-1.0\\core\\Admissions.csv.gz', usecols = ['subject_id', 'hadm_id','dischtime', 'hospital_expire_flag'])\n",
    "# Κρατώ μόνο τις εγγραφές που έχει καταγραφεί θάνατος\n",
    "df_death = df_death.loc[df_death['hospital_expire_flag'] == 1]"
   ]
  },
  {
   "cell_type": "code",
   "execution_count": 4,
   "metadata": {},
   "outputs": [],
   "source": [
    "# Μετατροπή της στήλης charttime από object σε datetime\n",
    "\n",
    "df_ed_patients['charttime']= pd.to_datetime(df_ed_patients['charttime'])\n",
    "\n",
    "#Διαχωρισμός σε δυο καινούργιες στήλες της ημερομηνίας και ώρας\n",
    "df_ed_patients['date'] = pd.to_datetime(df_ed_patients['charttime']).dt.date\n",
    "df_ed_patients['time'] = pd.to_datetime(df_ed_patients['charttime']).dt.time"
   ]
  },
  {
   "cell_type": "code",
   "execution_count": 5,
   "metadata": {},
   "outputs": [],
   "source": [
    "\"\"\"\n",
    "Διαγράφω τις στήλες stay_id και charttime.\n",
    "Θα παράξουν στήλες που δεν χρειάζομαι.\n",
    "\"\"\"\n",
    "df_ed_patients = df_ed_patients.drop(['stay_id', 'charttime'], axis=1)"
   ]
  },
  {
   "cell_type": "code",
   "execution_count": 6,
   "metadata": {},
   "outputs": [],
   "source": [
    "#Συγχωνεύω και ελέγχω αν μετά υπάρχουν διπλές ίδιες στήλες.\n",
    "\n",
    "df_rslt=pd.merge(df_tables, df_ed_patients, on=['subject_id','hadm_id', 'date', 'time'],\n",
    "              how=\"outer\", suffixes=('', '_delme'))\n",
    "\n",
    "# Και αν υπάρχουν τις αφαιρώ.\n",
    "df_rslt = df_rslt[[c for c in df_rslt.columns if not c.endswith('_delme')]]"
   ]
  },
  {
   "cell_type": "code",
   "execution_count": 7,
   "metadata": {},
   "outputs": [],
   "source": [
    "# Εισάγω την τιμή ED στα κενά κελιά του Department\n",
    "df_rslt[['Department']] = df_rslt[['Department']].fillna('ED')"
   ]
  },
  {
   "cell_type": "markdown",
   "metadata": {},
   "source": [
    "## Δήλωση σημαίας θνησιμότητας"
   ]
  },
  {
   "cell_type": "code",
   "execution_count": 8,
   "metadata": {},
   "outputs": [],
   "source": [
    "# Ενοποιώ τα dataframes του συνολικού πίνακα με της θνησιμότητας.\n",
    "\n",
    "df_rslt=pd.merge(df_rslt, df_death, on=['subject_id','hadm_id'],\n",
    "              how=\"left\", suffixes=('', '_delme'))"
   ]
  },
  {
   "cell_type": "code",
   "execution_count": 9,
   "metadata": {},
   "outputs": [],
   "source": [
    "#Φέρνω την στήλη θνησιμότητας πρώτη.\n",
    "cols = list(df_rslt.columns)\n",
    "cols = [cols[-1]] + cols[:-1]\n",
    "df_rslt = df_rslt[cols]\n",
    "\n",
    "# Μετονομασία στήλης θνησιμότητας\n",
    "df_rslt = df_rslt.rename(columns={\"hospital_expire_flag\": \"Death_Flag\"})"
   ]
  },
  {
   "cell_type": "code",
   "execution_count": 10,
   "metadata": {},
   "outputs": [],
   "source": [
    "# Εισάγω την τιμή μηδές στα κενά κελιά του Death_Flag\n",
    "df_rslt[['Death_Flag']] = df_rslt[['Death_Flag']].fillna(0)\n",
    "\n",
    "# Μετατρέπω την στήλη Death_Flag σε ακέραιο.\n",
    "df_rslt['Death_Flag'] = df_rslt['Death_Flag'].apply(int)"
   ]
  },
  {
   "cell_type": "code",
   "execution_count": 11,
   "metadata": {},
   "outputs": [],
   "source": [
    "#Εξαγωγή σε csv\n",
    "df_rslt.to_csv('D:\\Thesis\\exports\\o30_ED_HOSP_ICU_merged.csv', index=False)"
   ]
  }
 ],
 "metadata": {
  "kernelspec": {
   "display_name": "Python 3",
   "language": "python",
   "name": "python3"
  },
  "language_info": {
   "codemirror_mode": {
    "name": "ipython",
    "version": 3
   },
   "file_extension": ".py",
   "mimetype": "text/x-python",
   "name": "python",
   "nbconvert_exporter": "python",
   "pygments_lexer": "ipython3",
   "version": "3.8.5"
  }
 },
 "nbformat": 4,
 "nbformat_minor": 4
}
