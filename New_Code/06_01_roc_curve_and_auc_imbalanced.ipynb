{
 "cells": [
  {
   "cell_type": "code",
   "execution_count": 1,
   "metadata": {},
   "outputs": [],
   "source": [
    "# roc curve and auc on an imbalanced dataset\n",
    "from sklearn.datasets import make_classification\n",
    "from sklearn.linear_model import LogisticRegression\n",
    "from sklearn.model_selection import train_test_split\n",
    "from sklearn.metrics import roc_curve\n",
    "from sklearn.metrics import roc_auc_score\n",
    "from matplotlib import pyplot"
   ]
  },
  {
   "cell_type": "code",
   "execution_count": 8,
   "metadata": {},
   "outputs": [
    {
     "name": "stdout",
     "output_type": "stream",
     "text": [
      "0.68\n",
      "[1.95 0.95 0.94 0.87 0.86 0.25 0.13]\n",
      "[0.  0.  0.  0.2 0.4 1.  1. ]\n",
      "[0.  0.2 0.4 0.4 0.8 0.8 1. ]\n"
     ]
    },
    {
     "data": {
      "image/png": "[encoded data removed]",
      "text/plain": [
       "<Figure size 432x288 with 1 Axes>"
      ]
     },
     "metadata": {
      "needs_background": "light"
     },
     "output_type": "display_data"
    }
   ],
   "source": [
    "#y1=[1,0,1,1,0,1,0,1,0,0]\n",
    "#probs1=[0.53,0.86,0.25,0.95,0.87,0.86,0.76,0.94,0.44,0.86] \n",
    "\n",
    "# 1\n",
    "\n",
    "y1=[1,1,0,1,0,1,0,1,0,0]\n",
    "probs1=[0.13,0.86,0.25,0.95,0.87,0.86,0.76,0.94,0.41,0.86]\n",
    "\n",
    "\n",
    "print(roc_auc_score(y1, probs1))\n",
    "fpr1, tpr1, thresholds1 = roc_curve(y1, probs1)\n",
    "pyplot.plot(fpr1, tpr1, linestyle='--', label='2')\n",
    "\n",
    "\n",
    "\n",
    "# fpr2, tpr2, thresholds2 = roc_curve(y2, probs2)\n",
    "# pyplot.plot(fpr2, tpr2, linestyle='-', label='2')\n",
    "\n",
    "pyplot.xlabel('False Positive Rate')\n",
    "pyplot.ylabel('True Positive Rate')\n",
    "pyplot.legend()\n",
    "pyplot.grid(True)\n",
    "print(thresholds1)\n",
    "print(fpr1)\n",
    "print(tpr1)\n",
    "pyplot.show()"
   ]
  }
 ],
 "metadata": {
  "kernelspec": {
   "display_name": "Python 3",
   "language": "python",
   "name": "python3"
  },
  "language_info": {
   "codemirror_mode": {
    "name": "ipython",
    "version": 3
   },
   "file_extension": ".py",
   "mimetype": "text/x-python",
   "name": "python",
   "nbconvert_exporter": "python",
   "pygments_lexer": "ipython3",
   "version": "3.8.5"
  }
 },
 "nbformat": 4,
 "nbformat_minor": 4
}
