{
 "cells": [
  {
   "cell_type": "code",
   "execution_count": 1,
   "metadata": {},
   "outputs": [
    {
     "data": {
      "text/plain": [
       "'\\nΤο chartevent αποτελείται από 9.874.474\\nεγγραφές που αφορούν τους ασθενείς με εγκεφαλικό\\n\\nΟι καταγραφές αυτές ομαδοποιήθηκαν και υπολογίσαμε\\nτον μέσο όρο για την κάθε μια από αυτές μέσα στο 8ώρο\\nόπου και ανήλθαν στα 4.177.458 εγγραφές \\n'"
      ]
     },
     "execution_count": 1,
     "metadata": {},
     "output_type": "execute_result"
    }
   ],
   "source": [
    "\"\"\"\n",
    "Το chartevent αποτελείται από 9.874.474\n",
    "εγγραφές που αφορούν τους ασθενείς με εγκεφαλικό\n",
    "\n",
    "Οι καταγραφές αυτές ομαδοποιήθηκαν και υπολογίσαμε\n",
    "τον μέσο όρο για την κάθε μια από αυτές μέσα στο 8ώρο\n",
    "όπου και ανήλθαν στα 4.177.458 εγγραφές \n",
    "\"\"\""
   ]
  },
  {
   "cell_type": "code",
   "execution_count": 2,
   "metadata": {},
   "outputs": [],
   "source": [
    "import pandas as pd"
   ]
  },
  {
   "cell_type": "code",
   "execution_count": 3,
   "metadata": {},
   "outputs": [],
   "source": [
    "df_patients_chart = pd.read_csv('D:\\Thesis\\exports\\o7_patient_chartevent_without_nan.csv')"
   ]
  },
  {
   "cell_type": "code",
   "execution_count": 4,
   "metadata": {},
   "outputs": [],
   "source": [
    "# Μετατροπή της στήλης charttime από object σε datetime\n",
    "\n",
    "df_patients_chart['charttime']= pd.to_datetime(df_patients_chart['charttime'])"
   ]
  },
  {
   "cell_type": "code",
   "execution_count": 5,
   "metadata": {},
   "outputs": [],
   "source": [
    "# Ομαδοποίηση στοιχείων ανά οχτάωρο\n",
    "grouped_multiple = (df_patients_chart.groupby(['subject_id',\n",
    "                                               'hadm_id',\n",
    "                                               'itemid',\n",
    "                                               pd.Grouper(key='charttime',\n",
    "                                                          freq='8H')]).agg({'valuenum': ['mean']}))\n",
    "grouped_multiple.columns = ['Mean_Chart']\n",
    "grouped_multiple = grouped_multiple.reset_index()"
   ]
  },
  {
   "cell_type": "code",
   "execution_count": 6,
   "metadata": {},
   "outputs": [],
   "source": [
    "#Διαχωρισμός σε δυο καινούργιες στήλες της ημερομηνίας και ώρας\n",
    "grouped_multiple['date'] = pd.to_datetime(grouped_multiple['charttime']).dt.date\n",
    "grouped_multiple['time'] = pd.to_datetime(grouped_multiple['charttime']).dt.time"
   ]
  },
  {
   "cell_type": "code",
   "execution_count": 7,
   "metadata": {},
   "outputs": [],
   "source": [
    "grouped_multiple.to_csv('D:\\Thesis\\exports\\o9_chartevent_8_hour_mean.csv', index=False)"
   ]
  }
 ],
 "metadata": {
  "kernelspec": {
   "display_name": "Python 3",
   "language": "python",
   "name": "python3"
  },
  "language_info": {
   "codemirror_mode": {
    "name": "ipython",
    "version": 3
   },
   "file_extension": ".py",
   "mimetype": "text/x-python",
   "name": "python",
   "nbconvert_exporter": "python",
   "pygments_lexer": "ipython3",
   "version": "3.8.5"
  }
 },
 "nbformat": 4,
 "nbformat_minor": 4
}
