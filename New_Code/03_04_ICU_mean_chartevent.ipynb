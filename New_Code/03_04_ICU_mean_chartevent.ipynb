{
 "cells": [
  {
   "cell_type": "code",
   "execution_count": 1,
   "metadata": {},
   "outputs": [
    {
     "data": {
      "text/plain": [
       "'\\nΤο chartevent αποτελείται από 9.874.474\\nεγγραφές που αφορούν τους ασθενείς με εγκεφαλικό\\n\\nΟι καταγραφές αυτές ομαδοποιήθηκαν και υπολογίσαμε\\nτον μέσο όρο για την κάθε μια από αυτές μέσα στο 8ώρο\\nόπου και ανήλθαν στα 4.177.458 εγγραφές \\n'"
      ]
     },
     "execution_count": 1,
     "metadata": {},
     "output_type": "execute_result"
    }
   ],
   "source": [
    "\"\"\"\n",
    "Το chartevent αποτελείται από 9.874.474\n",
    "εγγραφές που αφορούν τους ασθενείς με εγκεφαλικό\n",
    "\n",
    "Οι καταγραφές αυτές ομαδοποιήθηκαν και υπολογίσαμε\n",
    "τον μέσο όρο για την κάθε μια από αυτές μέσα στο 8ώρο\n",
    "όπου και ανήλθαν στα 4.177.458 εγγραφές \n",
    "\"\"\""
   ]
  },
  {
   "cell_type": "code",
   "execution_count": 1,
   "metadata": {},
   "outputs": [],
   "source": [
    "import pandas as pd"
   ]
  },
  {
   "cell_type": "code",
   "execution_count": 2,
   "metadata": {},
   "outputs": [],
   "source": [
    "df_patients_chart = pd.read_csv('D:\\Thesis\\exports\\o7_patient_chartevent_without_nan.csv')"
   ]
  },
  {
   "cell_type": "code",
   "execution_count": 9,
   "metadata": {},
   "outputs": [
    {
     "data": {
      "text/html": [
       "<div>\n",
       "<style scoped>\n",
       "    .dataframe tbody tr th:only-of-type {\n",
       "        vertical-align: middle;\n",
       "    }\n",
       "\n",
       "    .dataframe tbody tr th {\n",
       "        vertical-align: top;\n",
       "    }\n",
       "\n",
       "    .dataframe thead th {\n",
       "        text-align: right;\n",
       "    }\n",
       "</style>\n",
       "<table border=\"1\" class=\"dataframe\">\n",
       "  <thead>\n",
       "    <tr style=\"text-align: right;\">\n",
       "      <th></th>\n",
       "      <th>subject_id</th>\n",
       "      <th>hadm_id</th>\n",
       "      <th>itemid</th>\n",
       "      <th>charttime</th>\n",
       "      <th>Mean_Chart</th>\n",
       "    </tr>\n",
       "  </thead>\n",
       "  <tbody>\n",
       "    <tr>\n",
       "      <th>0</th>\n",
       "      <td>10004733</td>\n",
       "      <td>27411876</td>\n",
       "      <td>220045</td>\n",
       "      <td>2174-12-04 08:00:00</td>\n",
       "      <td>93.200000</td>\n",
       "    </tr>\n",
       "    <tr>\n",
       "      <th>1</th>\n",
       "      <td>10004733</td>\n",
       "      <td>27411876</td>\n",
       "      <td>220045</td>\n",
       "      <td>2174-12-04 16:00:00</td>\n",
       "      <td>97.250000</td>\n",
       "    </tr>\n",
       "    <tr>\n",
       "      <th>2</th>\n",
       "      <td>10004733</td>\n",
       "      <td>27411876</td>\n",
       "      <td>220045</td>\n",
       "      <td>2174-12-05 00:00:00</td>\n",
       "      <td>100.333333</td>\n",
       "    </tr>\n",
       "    <tr>\n",
       "      <th>3</th>\n",
       "      <td>10004733</td>\n",
       "      <td>27411876</td>\n",
       "      <td>220045</td>\n",
       "      <td>2174-12-05 08:00:00</td>\n",
       "      <td>90.687500</td>\n",
       "    </tr>\n",
       "    <tr>\n",
       "      <th>4</th>\n",
       "      <td>10004733</td>\n",
       "      <td>27411876</td>\n",
       "      <td>220045</td>\n",
       "      <td>2174-12-05 16:00:00</td>\n",
       "      <td>92.111111</td>\n",
       "    </tr>\n",
       "    <tr>\n",
       "      <th>...</th>\n",
       "      <td>...</td>\n",
       "      <td>...</td>\n",
       "      <td>...</td>\n",
       "      <td>...</td>\n",
       "      <td>...</td>\n",
       "    </tr>\n",
       "    <tr>\n",
       "      <th>4177453</th>\n",
       "      <td>19999987</td>\n",
       "      <td>23865745</td>\n",
       "      <td>228412</td>\n",
       "      <td>2145-11-04 00:00:00</td>\n",
       "      <td>5.000000</td>\n",
       "    </tr>\n",
       "    <tr>\n",
       "      <th>4177454</th>\n",
       "      <td>19999987</td>\n",
       "      <td>23865745</td>\n",
       "      <td>228412</td>\n",
       "      <td>2145-11-04 08:00:00</td>\n",
       "      <td>5.000000</td>\n",
       "    </tr>\n",
       "    <tr>\n",
       "      <th>4177455</th>\n",
       "      <td>19999987</td>\n",
       "      <td>23865745</td>\n",
       "      <td>228412</td>\n",
       "      <td>2145-11-04 16:00:00</td>\n",
       "      <td>5.000000</td>\n",
       "    </tr>\n",
       "    <tr>\n",
       "      <th>4177456</th>\n",
       "      <td>19999987</td>\n",
       "      <td>23865745</td>\n",
       "      <td>228648</td>\n",
       "      <td>2145-11-03 00:00:00</td>\n",
       "      <td>0.000000</td>\n",
       "    </tr>\n",
       "    <tr>\n",
       "      <th>4177457</th>\n",
       "      <td>19999987</td>\n",
       "      <td>23865745</td>\n",
       "      <td>228649</td>\n",
       "      <td>2145-11-03 00:00:00</td>\n",
       "      <td>0.000000</td>\n",
       "    </tr>\n",
       "  </tbody>\n",
       "</table>\n",
       "<p>4177458 rows × 5 columns</p>\n",
       "</div>"
      ],
      "text/plain": [
       "         subject_id   hadm_id  itemid           charttime  Mean_Chart\n",
       "0          10004733  27411876  220045 2174-12-04 08:00:00   93.200000\n",
       "1          10004733  27411876  220045 2174-12-04 16:00:00   97.250000\n",
       "2          10004733  27411876  220045 2174-12-05 00:00:00  100.333333\n",
       "3          10004733  27411876  220045 2174-12-05 08:00:00   90.687500\n",
       "4          10004733  27411876  220045 2174-12-05 16:00:00   92.111111\n",
       "...             ...       ...     ...                 ...         ...\n",
       "4177453    19999987  23865745  228412 2145-11-04 00:00:00    5.000000\n",
       "4177454    19999987  23865745  228412 2145-11-04 08:00:00    5.000000\n",
       "4177455    19999987  23865745  228412 2145-11-04 16:00:00    5.000000\n",
       "4177456    19999987  23865745  228648 2145-11-03 00:00:00    0.000000\n",
       "4177457    19999987  23865745  228649 2145-11-03 00:00:00    0.000000\n",
       "\n",
       "[4177458 rows x 5 columns]"
      ]
     },
     "execution_count": 9,
     "metadata": {},
     "output_type": "execute_result"
    }
   ],
   "source": [
    "grouped_multiple"
   ]
  },
  {
   "cell_type": "code",
   "execution_count": 5,
   "metadata": {},
   "outputs": [],
   "source": [
    "# Μετατροπή της στήλης charttime από object σε datetime\n",
    "\n",
    "df_patients_chart['charttime']= pd.to_datetime(df_patients_chart['charttime'])"
   ]
  },
  {
   "cell_type": "code",
   "execution_count": 7,
   "metadata": {},
   "outputs": [],
   "source": [
    "# Ομαδοποίηση στοιχείων ανά οχτάωρο\n",
    "grouped_multiple = (df_patients_chart.groupby(['subject_id',\n",
    "                                               'hadm_id',\n",
    "                                               'itemid',\n",
    "                                               pd.Grouper(key='charttime',\n",
    "                                                          freq='8H')]).agg({'valuenum': ['mean']}))\n",
    "grouped_multiple.columns = ['Mean_Chart']\n",
    "grouped_multiple = grouped_multiple.reset_index()"
   ]
  },
  {
   "cell_type": "code",
   "execution_count": 6,
   "metadata": {},
   "outputs": [],
   "source": [
    "#Διαχωρισμός σε δυο καινούργιες στήλες της ημερομηνίας και ώρας\n",
    "grouped_multiple['date'] = pd.to_datetime(grouped_multiple['charttime']).dt.date\n",
    "grouped_multiple['time'] = pd.to_datetime(grouped_multiple['charttime']).dt.time"
   ]
  },
  {
   "cell_type": "code",
   "execution_count": 7,
   "metadata": {},
   "outputs": [],
   "source": [
    "grouped_multiple.to_csv('D:\\Thesis\\exports\\o9_chartevent_8_hour_mean.csv', index=False)"
   ]
  }
 ],
 "metadata": {
  "kernelspec": {
   "display_name": "Python 3",
   "language": "python",
   "name": "python3"
  },
  "language_info": {
   "codemirror_mode": {
    "name": "ipython",
    "version": 3
   },
   "file_extension": ".py",
   "mimetype": "text/x-python",
   "name": "python",
   "nbconvert_exporter": "python",
   "pygments_lexer": "ipython3",
   "version": "3.8.5"
  }
 },
 "nbformat": 4,
 "nbformat_minor": 4
}
