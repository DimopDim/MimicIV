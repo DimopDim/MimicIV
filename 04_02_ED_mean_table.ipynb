{
 "cells": [
  {
   "cell_type": "code",
   "execution_count": 1,
   "metadata": {},
   "outputs": [
    {
     "data": {
      "text/plain": [
       "'\\n1.651.119 -> Στο σύνολο γραμμές καταχωρημένων ενδείξεων.\\n752.146 -> Ομαδοποιημένες εγγραφές στο 8ώρο.\\n1.547 -> Eισαγωγές στις ΜΕΘ\\n1.662 -> Ομαδοποιημένες εγγραφές στο 8ώρο που αφορούν ασθενείς από τα επείγοντα στις ΜΕΘ\\n'"
      ]
     },
     "execution_count": 1,
     "metadata": {},
     "output_type": "execute_result"
    }
   ],
   "source": [
    "\"\"\"\n",
    "1.651.119 -> Στο σύνολο γραμμές καταχωρημένων ενδείξεων.\n",
    "752.146 -> Ομαδοποιημένες εγγραφές στο 8ώρο.\n",
    "1.547 -> Eισαγωγές στις ΜΕΘ\n",
    "1.662 -> Ομαδοποιημένες εγγραφές στο 8ώρο που αφορούν ασθενείς από τα επείγοντα στις ΜΕΘ\n",
    "\"\"\""
   ]
  },
  {
   "cell_type": "code",
   "execution_count": 2,
   "metadata": {},
   "outputs": [],
   "source": [
    "import pandas as pd"
   ]
  },
  {
   "cell_type": "code",
   "execution_count": 3,
   "metadata": {},
   "outputs": [],
   "source": [
    "df_vitalsign = pd.read_csv('D:\\MSc Aegean\\Διατριβή\\MIMIC_IV\\mimic-iv-1.0\\ed\\Vitalsign.csv.gz')\n",
    "df_ed_to_icu = pd.read_csv('D:\\MSc Aegean\\Διατριβή\\MIMIC_IV\\mimic-iv-1.0\\exports\\o16_ed_patients_to_icu.csv', usecols = ['subject_id', 'hadm_id','stay_id'])"
   ]
  },
  {
   "cell_type": "code",
   "execution_count": 4,
   "metadata": {},
   "outputs": [],
   "source": [
    "# Μετατροπή της στήλης charttime από object σε datetime\n",
    "df_vitalsign['charttime']= pd.to_datetime(df_vitalsign['charttime'])"
   ]
  },
  {
   "cell_type": "code",
   "execution_count": 5,
   "metadata": {},
   "outputs": [],
   "source": [
    "# Ομαδοποίηση καταγραφών ανά στήλη στο 8ώρο.\n",
    "\n",
    "grouped_multiple = (df_vitalsign.groupby(['subject_id', 'stay_id',\n",
    "                                          pd.Grouper(key='charttime',\n",
    "                                                     freq='8H')]).agg({'temperature': ['mean'],\n",
    "                                                                       'heartrate': ['mean'],\n",
    "                                                                       'resprate': ['mean'],\n",
    "                                                                       'o2sat': ['mean'],\n",
    "                                                                       'sbp': ['mean'],\n",
    "                                                                       'dbp': ['mean']}))\n",
    "grouped_multiple.columns = (['Mean_temperature',\n",
    "                             'Mean_heartrate',\n",
    "                             'Mean_resprate',\n",
    "                             'Mean_o2sat',\n",
    "                             'Mean_sbp',\n",
    "                             'Mean_dbp'])\n",
    "grouped_multiple = grouped_multiple.reset_index()"
   ]
  },
  {
   "cell_type": "code",
   "execution_count": 6,
   "metadata": {},
   "outputs": [
    {
     "data": {
      "text/plain": [
       "subject_id              0\n",
       "stay_id                 0\n",
       "charttime               0\n",
       "Mean_temperature    60071\n",
       "Mean_heartrate       6126\n",
       "Mean_resprate        7643\n",
       "Mean_o2sat          28566\n",
       "Mean_sbp             7394\n",
       "Mean_dbp             7394\n",
       "dtype: int64"
      ]
     },
     "execution_count": 6,
     "metadata": {},
     "output_type": "execute_result"
    }
   ],
   "source": [
    "# Κενές τιμές στον πίνακα\n",
    "grouped_multiple.isna().sum()"
   ]
  },
  {
   "cell_type": "code",
   "execution_count": 7,
   "metadata": {},
   "outputs": [
    {
     "name": "stdout",
     "output_type": "stream",
     "text": [
      "<class 'pandas.core.frame.DataFrame'>\n",
      "RangeIndex: 1547 entries, 0 to 1546\n",
      "Data columns (total 3 columns):\n",
      " #   Column      Non-Null Count  Dtype\n",
      "---  ------      --------------  -----\n",
      " 0   subject_id  1547 non-null   int64\n",
      " 1   hadm_id     1547 non-null   int64\n",
      " 2   stay_id     1547 non-null   int64\n",
      "dtypes: int64(3)\n",
      "memory usage: 36.4 KB\n"
     ]
    }
   ],
   "source": [
    "df_ed_to_icu.info()"
   ]
  },
  {
   "cell_type": "code",
   "execution_count": 8,
   "metadata": {},
   "outputs": [],
   "source": [
    "rslt_df=pd.merge(df_ed_to_icu, grouped_multiple, on=['stay_id'])"
   ]
  },
  {
   "cell_type": "code",
   "execution_count": 9,
   "metadata": {},
   "outputs": [],
   "source": [
    "rslt_df = rslt_df.drop(['subject_id_y'], axis=1)"
   ]
  },
  {
   "cell_type": "code",
   "execution_count": 10,
   "metadata": {},
   "outputs": [],
   "source": [
    "rslt_df = rslt_df.rename(columns={\"subject_id_x\": \"subject_id\"})"
   ]
  },
  {
   "cell_type": "code",
   "execution_count": 11,
   "metadata": {},
   "outputs": [],
   "source": [
    "rslt_df.insert(0, 'Department', 'ed')"
   ]
  },
  {
   "cell_type": "code",
   "execution_count": 12,
   "metadata": {},
   "outputs": [
    {
     "data": {
      "text/html": [
       "<div>\n",
       "<style scoped>\n",
       "    .dataframe tbody tr th:only-of-type {\n",
       "        vertical-align: middle;\n",
       "    }\n",
       "\n",
       "    .dataframe tbody tr th {\n",
       "        vertical-align: top;\n",
       "    }\n",
       "\n",
       "    .dataframe thead th {\n",
       "        text-align: right;\n",
       "    }\n",
       "</style>\n",
       "<table border=\"1\" class=\"dataframe\">\n",
       "  <thead>\n",
       "    <tr style=\"text-align: right;\">\n",
       "      <th></th>\n",
       "      <th>Department</th>\n",
       "      <th>subject_id</th>\n",
       "      <th>hadm_id</th>\n",
       "      <th>stay_id</th>\n",
       "      <th>charttime</th>\n",
       "      <th>Mean_temperature</th>\n",
       "      <th>Mean_heartrate</th>\n",
       "      <th>Mean_resprate</th>\n",
       "      <th>Mean_o2sat</th>\n",
       "      <th>Mean_sbp</th>\n",
       "      <th>Mean_dbp</th>\n",
       "    </tr>\n",
       "  </thead>\n",
       "  <tbody>\n",
       "    <tr>\n",
       "      <th>0</th>\n",
       "      <td>ed</td>\n",
       "      <td>13397589</td>\n",
       "      <td>22849351</td>\n",
       "      <td>33940471</td>\n",
       "      <td>2186-10-03 16:00:00</td>\n",
       "      <td>98.90</td>\n",
       "      <td>71.750000</td>\n",
       "      <td>15.250000</td>\n",
       "      <td>98.333333</td>\n",
       "      <td>164.500000</td>\n",
       "      <td>89.000000</td>\n",
       "    </tr>\n",
       "    <tr>\n",
       "      <th>1</th>\n",
       "      <td>ed</td>\n",
       "      <td>15902493</td>\n",
       "      <td>21900706</td>\n",
       "      <td>32961247</td>\n",
       "      <td>2174-07-24 08:00:00</td>\n",
       "      <td>NaN</td>\n",
       "      <td>72.000000</td>\n",
       "      <td>18.000000</td>\n",
       "      <td>99.000000</td>\n",
       "      <td>152.000000</td>\n",
       "      <td>73.000000</td>\n",
       "    </tr>\n",
       "    <tr>\n",
       "      <th>2</th>\n",
       "      <td>ed</td>\n",
       "      <td>15902493</td>\n",
       "      <td>21900706</td>\n",
       "      <td>32961247</td>\n",
       "      <td>2174-07-24 16:00:00</td>\n",
       "      <td>98.00</td>\n",
       "      <td>73.500000</td>\n",
       "      <td>17.000000</td>\n",
       "      <td>100.000000</td>\n",
       "      <td>118.000000</td>\n",
       "      <td>59.500000</td>\n",
       "    </tr>\n",
       "    <tr>\n",
       "      <th>3</th>\n",
       "      <td>ed</td>\n",
       "      <td>18716059</td>\n",
       "      <td>27648116</td>\n",
       "      <td>37693028</td>\n",
       "      <td>2169-05-08 08:00:00</td>\n",
       "      <td>NaN</td>\n",
       "      <td>66.000000</td>\n",
       "      <td>16.500000</td>\n",
       "      <td>100.000000</td>\n",
       "      <td>171.500000</td>\n",
       "      <td>68.000000</td>\n",
       "    </tr>\n",
       "    <tr>\n",
       "      <th>4</th>\n",
       "      <td>ed</td>\n",
       "      <td>18716059</td>\n",
       "      <td>27648116</td>\n",
       "      <td>37693028</td>\n",
       "      <td>2169-05-08 16:00:00</td>\n",
       "      <td>97.90</td>\n",
       "      <td>64.800000</td>\n",
       "      <td>17.600000</td>\n",
       "      <td>100.000000</td>\n",
       "      <td>147.800000</td>\n",
       "      <td>61.200000</td>\n",
       "    </tr>\n",
       "    <tr>\n",
       "      <th>...</th>\n",
       "      <td>...</td>\n",
       "      <td>...</td>\n",
       "      <td>...</td>\n",
       "      <td>...</td>\n",
       "      <td>...</td>\n",
       "      <td>...</td>\n",
       "      <td>...</td>\n",
       "      <td>...</td>\n",
       "      <td>...</td>\n",
       "      <td>...</td>\n",
       "      <td>...</td>\n",
       "    </tr>\n",
       "    <tr>\n",
       "      <th>1657</th>\n",
       "      <td>ed</td>\n",
       "      <td>16178321</td>\n",
       "      <td>20904950</td>\n",
       "      <td>34164113</td>\n",
       "      <td>2161-04-07 16:00:00</td>\n",
       "      <td>97.60</td>\n",
       "      <td>83.214286</td>\n",
       "      <td>16.714286</td>\n",
       "      <td>95.923077</td>\n",
       "      <td>146.642857</td>\n",
       "      <td>73.071429</td>\n",
       "    </tr>\n",
       "    <tr>\n",
       "      <th>1658</th>\n",
       "      <td>ed</td>\n",
       "      <td>16178321</td>\n",
       "      <td>20904950</td>\n",
       "      <td>34164113</td>\n",
       "      <td>2161-04-08 00:00:00</td>\n",
       "      <td>NaN</td>\n",
       "      <td>78.500000</td>\n",
       "      <td>17.500000</td>\n",
       "      <td>97.000000</td>\n",
       "      <td>110.000000</td>\n",
       "      <td>55.500000</td>\n",
       "    </tr>\n",
       "    <tr>\n",
       "      <th>1659</th>\n",
       "      <td>ed</td>\n",
       "      <td>13105583</td>\n",
       "      <td>21899375</td>\n",
       "      <td>35230349</td>\n",
       "      <td>2178-10-01 00:00:00</td>\n",
       "      <td>98.00</td>\n",
       "      <td>76.000000</td>\n",
       "      <td>13.666667</td>\n",
       "      <td>99.000000</td>\n",
       "      <td>124.333333</td>\n",
       "      <td>81.666667</td>\n",
       "    </tr>\n",
       "    <tr>\n",
       "      <th>1660</th>\n",
       "      <td>ed</td>\n",
       "      <td>13293337</td>\n",
       "      <td>23590234</td>\n",
       "      <td>36006719</td>\n",
       "      <td>2144-04-13 08:00:00</td>\n",
       "      <td>98.45</td>\n",
       "      <td>81.800000</td>\n",
       "      <td>18.600000</td>\n",
       "      <td>98.200000</td>\n",
       "      <td>130.000000</td>\n",
       "      <td>78.500000</td>\n",
       "    </tr>\n",
       "    <tr>\n",
       "      <th>1661</th>\n",
       "      <td>ed</td>\n",
       "      <td>13293337</td>\n",
       "      <td>23590234</td>\n",
       "      <td>36006719</td>\n",
       "      <td>2144-04-13 16:00:00</td>\n",
       "      <td>98.90</td>\n",
       "      <td>72.600000</td>\n",
       "      <td>15.750000</td>\n",
       "      <td>97.600000</td>\n",
       "      <td>115.800000</td>\n",
       "      <td>67.200000</td>\n",
       "    </tr>\n",
       "  </tbody>\n",
       "</table>\n",
       "<p>1662 rows × 11 columns</p>\n",
       "</div>"
      ],
      "text/plain": [
       "     Department  subject_id   hadm_id   stay_id           charttime  \\\n",
       "0            ed    13397589  22849351  33940471 2186-10-03 16:00:00   \n",
       "1            ed    15902493  21900706  32961247 2174-07-24 08:00:00   \n",
       "2            ed    15902493  21900706  32961247 2174-07-24 16:00:00   \n",
       "3            ed    18716059  27648116  37693028 2169-05-08 08:00:00   \n",
       "4            ed    18716059  27648116  37693028 2169-05-08 16:00:00   \n",
       "...         ...         ...       ...       ...                 ...   \n",
       "1657         ed    16178321  20904950  34164113 2161-04-07 16:00:00   \n",
       "1658         ed    16178321  20904950  34164113 2161-04-08 00:00:00   \n",
       "1659         ed    13105583  21899375  35230349 2178-10-01 00:00:00   \n",
       "1660         ed    13293337  23590234  36006719 2144-04-13 08:00:00   \n",
       "1661         ed    13293337  23590234  36006719 2144-04-13 16:00:00   \n",
       "\n",
       "      Mean_temperature  Mean_heartrate  Mean_resprate  Mean_o2sat    Mean_sbp  \\\n",
       "0                98.90       71.750000      15.250000   98.333333  164.500000   \n",
       "1                  NaN       72.000000      18.000000   99.000000  152.000000   \n",
       "2                98.00       73.500000      17.000000  100.000000  118.000000   \n",
       "3                  NaN       66.000000      16.500000  100.000000  171.500000   \n",
       "4                97.90       64.800000      17.600000  100.000000  147.800000   \n",
       "...                ...             ...            ...         ...         ...   \n",
       "1657             97.60       83.214286      16.714286   95.923077  146.642857   \n",
       "1658               NaN       78.500000      17.500000   97.000000  110.000000   \n",
       "1659             98.00       76.000000      13.666667   99.000000  124.333333   \n",
       "1660             98.45       81.800000      18.600000   98.200000  130.000000   \n",
       "1661             98.90       72.600000      15.750000   97.600000  115.800000   \n",
       "\n",
       "       Mean_dbp  \n",
       "0     89.000000  \n",
       "1     73.000000  \n",
       "2     59.500000  \n",
       "3     68.000000  \n",
       "4     61.200000  \n",
       "...         ...  \n",
       "1657  73.071429  \n",
       "1658  55.500000  \n",
       "1659  81.666667  \n",
       "1660  78.500000  \n",
       "1661  67.200000  \n",
       "\n",
       "[1662 rows x 11 columns]"
      ]
     },
     "execution_count": 12,
     "metadata": {},
     "output_type": "execute_result"
    }
   ],
   "source": [
    "rslt_df"
   ]
  },
  {
   "cell_type": "code",
   "execution_count": 13,
   "metadata": {},
   "outputs": [],
   "source": [
    "#Εξαγωγή σε csv\n",
    "rslt_df.to_csv('D:\\MSc Aegean\\Διατριβή\\MIMIC_IV\\mimic-iv-1.0\\exports\\o17_ed_to_icu_vitalsigns.csv', index=False)"
   ]
  }
 ],
 "metadata": {
  "kernelspec": {
   "display_name": "Python 3",
   "language": "python",
   "name": "python3"
  },
  "language_info": {
   "codemirror_mode": {
    "name": "ipython",
    "version": 3
   },
   "file_extension": ".py",
   "mimetype": "text/x-python",
   "name": "python",
   "nbconvert_exporter": "python",
   "pygments_lexer": "ipython3",
   "version": "3.8.5"
  }
 },
 "nbformat": 4,
 "nbformat_minor": 4
}
