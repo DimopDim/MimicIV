{
 "cells": [
  {
   "cell_type": "code",
   "execution_count": 1,
   "metadata": {},
   "outputs": [
    {
     "data": {
      "text/plain": [
       "'\\n1.651.119 -> Στο σύνολο γραμμές καταχωρημένων ενδείξεων.\\n752.146 -> Ομαδοποιημένες εγγραφές στο 8ώρο.\\n1.547 -> Eισαγωγές στις ΜΕΘ\\n1.662 -> Ομαδοποιημένες εγγραφές στο 8ώρο που αφορούν ασθενείς από τα επείγοντα στις ΜΕΘ\\n'"
      ]
     },
     "execution_count": 1,
     "metadata": {},
     "output_type": "execute_result"
    }
   ],
   "source": [
    "\"\"\"\n",
    "1.651.119 -> Στο σύνολο γραμμές καταχωρημένων ενδείξεων.\n",
    "752.146 -> Ομαδοποιημένες εγγραφές στο 8ώρο.\n",
    "1.547 -> Eισαγωγές στις ΜΕΘ\n",
    "1.662 -> Ομαδοποιημένες εγγραφές στο 8ώρο που αφορούν ασθενείς από τα επείγοντα στις ΜΕΘ\n",
    "\"\"\""
   ]
  },
  {
   "cell_type": "code",
   "execution_count": 2,
   "metadata": {},
   "outputs": [],
   "source": [
    "import pandas as pd"
   ]
  },
  {
   "cell_type": "code",
   "execution_count": 3,
   "metadata": {},
   "outputs": [],
   "source": [
    "df_vitalsign = pd.read_csv('D:\\MSc Aegean\\Διατριβή\\MIMIC_IV\\mimic-iv-1.0\\ed\\Vitalsign.csv.gz')\n",
    "df_ed_to_icu = pd.read_csv('D:\\MSc Aegean\\Διατριβή\\MIMIC_IV\\mimic-iv-1.0\\exports\\o16_ed_patients_to_icu.csv', usecols = ['subject_id', 'hadm_id','stay_id'])"
   ]
  },
  {
   "cell_type": "code",
   "execution_count": 4,
   "metadata": {},
   "outputs": [],
   "source": [
    "# Μετατροπή της στήλης charttime από object σε datetime\n",
    "df_vitalsign['charttime']= pd.to_datetime(df_vitalsign['charttime'])"
   ]
  },
  {
   "cell_type": "code",
   "execution_count": 5,
   "metadata": {},
   "outputs": [],
   "source": [
    "# Ομαδοποίηση καταγραφών ανά στήλη στο 8ώρο.\n",
    "\n",
    "grouped_multiple = (df_vitalsign.groupby(['subject_id', 'stay_id',\n",
    "                                          pd.Grouper(key='charttime',\n",
    "                                                     freq='8H')]).agg({'temperature': ['mean'],\n",
    "                                                                       'heartrate': ['mean'],\n",
    "                                                                       'resprate': ['mean'],\n",
    "                                                                       'o2sat': ['mean'],\n",
    "                                                                       'sbp': ['mean'],\n",
    "                                                                       'dbp': ['mean']}))\n",
    "grouped_multiple.columns = (['Mean_temperature',\n",
    "                             'Mean_heartrate',\n",
    "                             'Mean_resprate',\n",
    "                             'Mean_o2sat',\n",
    "                             'Mean_sbp',\n",
    "                             'Mean_dbp'])\n",
    "grouped_multiple = grouped_multiple.reset_index()"
   ]
  },
  {
   "cell_type": "code",
   "execution_count": 6,
   "metadata": {},
   "outputs": [
    {
     "data": {
      "text/plain": [
       "subject_id              0\n",
       "stay_id                 0\n",
       "charttime               0\n",
       "Mean_temperature    60071\n",
       "Mean_heartrate       6126\n",
       "Mean_resprate        7643\n",
       "Mean_o2sat          28566\n",
       "Mean_sbp             7394\n",
       "Mean_dbp             7394\n",
       "dtype: int64"
      ]
     },
     "execution_count": 6,
     "metadata": {},
     "output_type": "execute_result"
    }
   ],
   "source": [
    "# Κενές τιμές στον πίνακα\n",
    "grouped_multiple.isna().sum()"
   ]
  },
  {
   "cell_type": "code",
   "execution_count": 7,
   "metadata": {},
   "outputs": [
    {
     "name": "stdout",
     "output_type": "stream",
     "text": [
      "<class 'pandas.core.frame.DataFrame'>\n",
      "RangeIndex: 1547 entries, 0 to 1546\n",
      "Data columns (total 3 columns):\n",
      " #   Column      Non-Null Count  Dtype\n",
      "---  ------      --------------  -----\n",
      " 0   subject_id  1547 non-null   int64\n",
      " 1   hadm_id     1547 non-null   int64\n",
      " 2   stay_id     1547 non-null   int64\n",
      "dtypes: int64(3)\n",
      "memory usage: 36.4 KB\n"
     ]
    }
   ],
   "source": [
    "df_ed_to_icu.info()"
   ]
  },
  {
   "cell_type": "code",
   "execution_count": 8,
   "metadata": {},
   "outputs": [],
   "source": [
    "rslt_df=pd.merge(df_ed_to_icu, grouped_multiple, on=['stay_id'])"
   ]
  },
  {
   "cell_type": "code",
   "execution_count": 9,
   "metadata": {},
   "outputs": [],
   "source": [
    "rslt_df = rslt_df.drop(['subject_id_y'], axis=1)"
   ]
  },
  {
   "cell_type": "code",
   "execution_count": 10,
   "metadata": {},
   "outputs": [],
   "source": [
    "rslt_df = rslt_df.rename(columns={\"subject_id_x\": \"subject_id\"})"
   ]
  },
  {
   "cell_type": "code",
   "execution_count": 11,
   "metadata": {},
   "outputs": [],
   "source": [
    "rslt_df.insert(0, 'Department', 'ed')"
   ]
  },
  {
   "cell_type": "code",
   "execution_count": 13,
   "metadata": {},
   "outputs": [],
   "source": [
    "#Εξαγωγή σε csv\n",
    "rslt_df.to_csv('D:\\MSc Aegean\\Διατριβή\\MIMIC_IV\\mimic-iv-1.0\\exports\\o17_ed_to_icu_vitalsigns.csv', index=False)"
   ]
  }
 ],
 "metadata": {
  "kernelspec": {
   "display_name": "Python 3",
   "language": "python",
   "name": "python3"
  },
  "language_info": {
   "codemirror_mode": {
    "name": "ipython",
    "version": 3
   },
   "file_extension": ".py",
   "mimetype": "text/x-python",
   "name": "python",
   "nbconvert_exporter": "python",
   "pygments_lexer": "ipython3",
   "version": "3.8.5"
  }
 },
 "nbformat": 4,
 "nbformat_minor": 4
}
