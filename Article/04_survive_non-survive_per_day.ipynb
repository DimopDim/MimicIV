{
 "cells": [
  {
   "cell_type": "code",
   "execution_count": 1,
   "metadata": {},
   "outputs": [],
   "source": [
    "import pandas as pd"
   ]
  },
  {
   "cell_type": "code",
   "execution_count": 2,
   "metadata": {},
   "outputs": [],
   "source": [
    "df_icu = pd.read_csv('D:\\Thesis\\exports\\o31_ICU_final.csv')\n",
    "test_set = pd.read_csv('D:\\Thesis\\exports\\Train_Test_Sets\\Manual_files\\Test30.csv')\n",
    "eight_hours = pd.read_csv('D:\\Thesis\\exports\\Train_Test_Sets\\Manual_files\\eight_hours_tbl.csv')"
   ]
  },
  {
   "cell_type": "code",
   "execution_count": 3,
   "metadata": {},
   "outputs": [],
   "source": [
    "rslt_df=pd.merge(test_set, eight_hours, left_index=True, right_index=True)"
   ]
  },
  {
   "cell_type": "code",
   "execution_count": 4,
   "metadata": {},
   "outputs": [],
   "source": [
    "# Φέρνω την τελευταία στήλη πρώτη\n",
    "cols = list(rslt_df.columns)\n",
    "cols = [cols[-1]] + cols[:-1]\n",
    "rslt_df = rslt_df[cols]"
   ]
  },
  {
   "cell_type": "code",
   "execution_count": 5,
   "metadata": {},
   "outputs": [],
   "source": [
    "day1 = rslt_df.loc[rslt_df['eight_hours'] == 3].drop_duplicates(subset=['subject_id'])\n",
    "day2 = rslt_df.loc[rslt_df['eight_hours'] == 6].drop_duplicates(subset=['subject_id'])\n",
    "day3 = rslt_df.loc[rslt_df['eight_hours'] == 9].drop_duplicates(subset=['subject_id'])\n",
    "day4 = rslt_df.loc[rslt_df['eight_hours'] == 12].drop_duplicates(subset=['subject_id'])"
   ]
  },
  {
   "cell_type": "code",
   "execution_count": 7,
   "metadata": {},
   "outputs": [
    {
     "data": {
      "text/plain": [
       "survival    866\n",
       "death       196\n",
       "Name: hospital_expire_flag, dtype: int64"
      ]
     },
     "execution_count": 7,
     "metadata": {},
     "output_type": "execute_result"
    }
   ],
   "source": [
    "day1['hospital_expire_flag'].value_counts()"
   ]
  },
  {
   "cell_type": "code",
   "execution_count": 8,
   "metadata": {},
   "outputs": [
    {
     "data": {
      "text/plain": [
       "survival    824\n",
       "death       155\n",
       "Name: hospital_expire_flag, dtype: int64"
      ]
     },
     "execution_count": 8,
     "metadata": {},
     "output_type": "execute_result"
    }
   ],
   "source": [
    "day2['hospital_expire_flag'].value_counts()"
   ]
  },
  {
   "cell_type": "code",
   "execution_count": 9,
   "metadata": {},
   "outputs": [
    {
     "data": {
      "text/plain": [
       "survival    719\n",
       "death       121\n",
       "Name: hospital_expire_flag, dtype: int64"
      ]
     },
     "execution_count": 9,
     "metadata": {},
     "output_type": "execute_result"
    }
   ],
   "source": [
    "day3['hospital_expire_flag'].value_counts()"
   ]
  },
  {
   "cell_type": "code",
   "execution_count": 10,
   "metadata": {},
   "outputs": [
    {
     "data": {
      "text/plain": [
       "survival    593\n",
       "death       104\n",
       "Name: hospital_expire_flag, dtype: int64"
      ]
     },
     "execution_count": 10,
     "metadata": {},
     "output_type": "execute_result"
    }
   ],
   "source": [
    "day4['hospital_expire_flag'].value_counts()"
   ]
  }
 ],
 "metadata": {
  "kernelspec": {
   "display_name": "Python 3",
   "language": "python",
   "name": "python3"
  },
  "language_info": {
   "codemirror_mode": {
    "name": "ipython",
    "version": 3
   },
   "file_extension": ".py",
   "mimetype": "text/x-python",
   "name": "python",
   "nbconvert_exporter": "python",
   "pygments_lexer": "ipython3",
   "version": "3.8.5"
  }
 },
 "nbformat": 4,
 "nbformat_minor": 4
}
