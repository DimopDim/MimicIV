{
 "cells": [
  {
   "cell_type": "code",
   "execution_count": 1,
   "metadata": {},
   "outputs": [
    {
     "data": {
      "text/plain": [
       "'\\nΤο chartevent αποτελείται από 9.874.474 εγγραφές που αφορούν τους ασθενείς με εγκεφαλικό\\n\\nΟι καταγραφές αυτές ομαδοποιήθηκαν και υπολογίσαμε τον μέσο όρο για την κάθε μια από αυτές μέσα στο 8ώρο όπου και ανήλθαν στα 4.177.458 εγγραφές \\n'"
      ]
     },
     "execution_count": 1,
     "metadata": {},
     "output_type": "execute_result"
    }
   ],
   "source": [
    "\"\"\"\n",
    "Το chartevent αποτελείται από 9.874.474 εγγραφές που αφορούν τους ασθενείς με εγκεφαλικό\n",
    "\n",
    "Οι καταγραφές αυτές ομαδοποιήθηκαν και υπολογίσαμε τον μέσο όρο για την κάθε μια από αυτές μέσα στο 8ώρο όπου και ανήλθαν στα 4.177.458 εγγραφές \n",
    "\"\"\""
   ]
  },
  {
   "cell_type": "code",
   "execution_count": 2,
   "metadata": {},
   "outputs": [],
   "source": [
    "import pandas as pd"
   ]
  },
  {
   "cell_type": "code",
   "execution_count": 3,
   "metadata": {},
   "outputs": [
    {
     "name": "stderr",
     "output_type": "stream",
     "text": [
      "C:\\Users\\Dimopoulos\\anaconda3\\lib\\site-packages\\IPython\\core\\interactiveshell.py:3146: DtypeWarning: Columns (6,8) have mixed types.Specify dtype option on import or set low_memory=False.\n",
      "  has_raised = await self.run_ast_nodes(code_ast.body, cell_name,\n"
     ]
    }
   ],
   "source": [
    "rslt_df = pd.read_csv('D:\\MSc Aegean\\Διατριβή\\MIMIC_IV\\mimic-iv-1.0\\exports\\o8_cerebral_infarction_chartevent_item_merged_without_nan.csv')\n",
    "\n",
    "df_d_items = pd.read_csv('D:\\MSc Aegean\\Διατριβή\\MIMIC_IV\\mimic-iv-1.0\\icu\\d_items.csv.gz')"
   ]
  },
  {
   "cell_type": "code",
   "execution_count": 4,
   "metadata": {},
   "outputs": [],
   "source": [
    "\"\"\"\n",
    "Μετατροπή της στήλης charttime από object σε datetime\n",
    "Αυτή η γραμμή κώδικα έγινε σε αντικατάσταση της dates =  pd.to_datetime(df.charttime, format='%Y-%m-%d %H:%M:%S').\n",
    "Η εντολή .info() στο dataframe και στο δικό μου είναι rslt_df.info() γυρίζει αποτελέσματα αναφορικά με τα στοιχεία του πίνακα\n",
    "και ένα από αυτά είναι το είδος της κάθε στήλης. Η στήλη του charttime φαίνεται σαν object και αυτό είχε σαν συνέπεια να μην μπορούν\n",
    "να γίνουν οι υπολογισμοί. Μετά την εκτέλεση της παρακάτω εντολής αν τρέξουμε εκ νέου την .info() πλέον το αποτέλεσμα στην charttime είναι\n",
    "datetime64[ns], οπότε μετά μπορεί να ακουθήσει η groupby και οι υπολογισμοί μέσα σε αυτή όπως το freq και οι υπόλοιπες. Χωρίς αυτή δεν γίνεται.\n",
    "\"\"\"\n",
    "rslt_df['charttime']= pd.to_datetime(rslt_df['charttime'])"
   ]
  },
  {
   "cell_type": "code",
   "execution_count": 5,
   "metadata": {},
   "outputs": [],
   "source": [
    "# Ομαδοποίηση στοιχείων ανά οχτάωρο\n",
    "grouped_multiple = rslt_df.groupby(['subject_id', 'hadm_id', 'itemid', pd.Grouper(key='charttime', freq='8H')]).agg({'valuenum': ['mean']})\n",
    "grouped_multiple.columns = ['Mean_Chart']\n",
    "grouped_multiple = grouped_multiple.reset_index()"
   ]
  },
  {
   "cell_type": "code",
   "execution_count": 6,
   "metadata": {},
   "outputs": [],
   "source": [
    "# Ενοποίηση του πίνακα με την επεξήγηση του κάθε itemid\n",
    "rslt_df=pd.merge(grouped_multiple, df_d_items, on=['itemid'])"
   ]
  },
  {
   "cell_type": "code",
   "execution_count": 8,
   "metadata": {},
   "outputs": [],
   "source": [
    "rslt_df.to_csv('D:\\MSc Aegean\\Διατριβή\\MIMIC_IV\\mimic-iv-1.0\\exports\\o9_charttime_8_hour_mean_item_merged.csv', index=False)"
   ]
  }
 ],
 "metadata": {
  "kernelspec": {
   "display_name": "Python 3",
   "language": "python",
   "name": "python3"
  },
  "language_info": {
   "codemirror_mode": {
    "name": "ipython",
    "version": 3
   },
   "file_extension": ".py",
   "mimetype": "text/x-python",
   "name": "python",
   "nbconvert_exporter": "python",
   "pygments_lexer": "ipython3",
   "version": "3.8.5"
  }
 },
 "nbformat": 4,
 "nbformat_minor": 4
}
