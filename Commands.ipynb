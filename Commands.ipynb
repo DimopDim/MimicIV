{
 "cells": [
  {
   "cell_type": "code",
   "execution_count": null,
   "metadata": {},
   "outputs": [],
   "source": [
    "#Εισαγωγή σε csv\n",
    "df.to_csv('D:\\MSc Aegean\\Διατριβή\\MIMIC_IV\\mimic-iv-1.0\\exports\\o9_fill_chart_tbl.csv', index=False)"
   ]
  },
  {
   "cell_type": "code",
   "execution_count": null,
   "metadata": {},
   "outputs": [],
   "source": [
    "#Μοναδικές τιμές σε μια στήλη\n",
    "\n",
    "list(set(df_chart_tbl['Department']))"
   ]
  },
  {
   "cell_type": "code",
   "execution_count": null,
   "metadata": {},
   "outputs": [],
   "source": [
    "# Ελέγχω αν υπάρχει NaN στην στήλη\n",
    "df_chart_tbl['col'].isna().sum()"
   ]
  },
  {
   "cell_type": "code",
   "execution_count": null,
   "metadata": {},
   "outputs": [],
   "source": [
    "# Ελέγχω αν υπάρχει NaN σε ολόκληρο το dataframe\n",
    "df.isna().sum().sum()"
   ]
  }
 ],
 "metadata": {
  "kernelspec": {
   "display_name": "Python 3",
   "language": "python",
   "name": "python3"
  },
  "language_info": {
   "codemirror_mode": {
    "name": "ipython",
    "version": 3
   },
   "file_extension": ".py",
   "mimetype": "text/x-python",
   "name": "python",
   "nbconvert_exporter": "python",
   "pygments_lexer": "ipython3",
   "version": "3.8.5"
  }
 },
 "nbformat": 4,
 "nbformat_minor": 4
}
