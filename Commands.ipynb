{
 "cells": [
  {
   "cell_type": "code",
   "execution_count": null,
   "metadata": {},
   "outputs": [],
   "source": [
    "\"\"\"\n",
    "Εντολές που χρησιμοποιώ στον κώδικα μου\n",
    "\"\"\""
   ]
  },
  {
   "cell_type": "code",
   "execution_count": null,
   "metadata": {},
   "outputs": [],
   "source": [
    "#Εξαγωγή σε csv\n",
    "df.to_csv('D:\\MSc Aegean\\Διατριβή\\MIMIC_IV\\mimic-iv-1.0\\exports\\o9_fill_chart_tbl.csv', index=False)"
   ]
  },
  {
   "cell_type": "code",
   "execution_count": null,
   "metadata": {},
   "outputs": [],
   "source": [
    "#Διάβασμα από csv\n",
    "df_admissions = pd.read_csv('D:\\MSc Aegean\\Διατριβή\\MIMIC_IV\\mimic-iv-1.0\\core\\Admissions.csv.gz', usecols = ['subject_id', 'hadm_id','hospital_expire_flag'])"
   ]
  },
  {
   "cell_type": "code",
   "execution_count": null,
   "metadata": {},
   "outputs": [],
   "source": [
    "#Αναζήτηση στοιχείου σε στήλη\n",
    "rslt_df.loc[rslt_df['itemid'] == 220210]"
   ]
  },
  {
   "cell_type": "code",
   "execution_count": null,
   "metadata": {},
   "outputs": [],
   "source": [
    "# Ενοποίηση τιμών σε κελιά\n",
    "df_cerebral_infarction_chartevents[\"concat\"] = (df_cerebral_infarction_chartevents[\"label\"].astype(str)\n",
    "                                                + \"_(\"\n",
    "                                                + df_cerebral_infarction_chartevents[\"valueuom\"].astype(str)\n",
    "                                                + \")\")"
   ]
  },
  {
   "cell_type": "code",
   "execution_count": null,
   "metadata": {},
   "outputs": [],
   "source": [
    "#Φέρνω την τελευταία στήλη, πρώτη\n",
    "cols = list(chart_tbl.columns)\n",
    "cols = [cols[-1]] + cols[:-1]\n",
    "chart_tbl = chart_tbl[cols]"
   ]
  },
  {
   "cell_type": "code",
   "execution_count": null,
   "metadata": {},
   "outputs": [],
   "source": [
    "# Αντικατάσταση χαρακτήρων στα κελιά\n",
    "df_chart_tbl['concat'] = df_chart_tbl['concat'].str.replace('-','')\n",
    "df_chart_tbl['concat'] = df_chart_tbl['concat'].str.replace(':','')"
   ]
  },
  {
   "cell_type": "code",
   "execution_count": null,
   "metadata": {},
   "outputs": [],
   "source": [
    "# Σύνδεση dataframe\n",
    "df_cerebral_infarction_admissions=pd.merge(df_cerebral_infarction_diagnoses, df_admissions, on=['subject_id','hadm_id'])"
   ]
  },
  {
   "cell_type": "code",
   "execution_count": null,
   "metadata": {},
   "outputs": [],
   "source": [
    "#Μοναδικές τιμές σε μια στήλη\n",
    "\n",
    "list(set(df_chart_tbl['Department']))"
   ]
  },
  {
   "cell_type": "code",
   "execution_count": null,
   "metadata": {},
   "outputs": [],
   "source": [
    "# Ελέγχω αν υπάρχει NaN στην στήλη\n",
    "df_chart_tbl['col'].isna().sum()"
   ]
  },
  {
   "cell_type": "code",
   "execution_count": null,
   "metadata": {},
   "outputs": [],
   "source": [
    "# Ελέγχω αν υπάρχει NaN σε ολόκληρο το dataframe\n",
    "df.isna().sum().sum()"
   ]
  },
  {
   "cell_type": "code",
   "execution_count": null,
   "metadata": {},
   "outputs": [],
   "source": [
    "# Άδειασμα στηλών ή γραμμών με το αντίστοιχο Index\n",
    "df_columns = df_columns.drop(['times'])"
   ]
  }
 ],
 "metadata": {
  "kernelspec": {
   "display_name": "Python 3",
   "language": "python",
   "name": "python3"
  },
  "language_info": {
   "codemirror_mode": {
    "name": "ipython",
    "version": 3
   },
   "file_extension": ".py",
   "mimetype": "text/x-python",
   "name": "python",
   "nbconvert_exporter": "python",
   "pygments_lexer": "ipython3",
   "version": "3.8.5"
  }
 },
 "nbformat": 4,
 "nbformat_minor": 4
}
