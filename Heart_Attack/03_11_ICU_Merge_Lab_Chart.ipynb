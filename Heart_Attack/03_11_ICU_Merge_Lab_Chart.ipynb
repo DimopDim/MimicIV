{
 "cells": [
  {
   "cell_type": "code",
   "execution_count": 1,
   "metadata": {},
   "outputs": [
    {
     "data": {
      "text/plain": [
       "'\\nΕνοποίηση και των δύο πινάκων που αφορούν την\\nICU σε ένα ενιαίο.\\n\\nChartEvent -> 65.189 γραμμές / 707 στήλες\\nLabEvent -> 68.191 γραμμές / 388 στήλες\\n\\n\\n\\nfinal_table -> 90.817 γραμμές / 1095 στήλες\\n\\n99.444.615 -> Θέσεις στο πίνακα.\\n93.990.301 -> Κενές θέσεις στον πίνακα.\\n 5.454.314 -> Συνολικές εγγραφές.\\n\\n'"
      ]
     },
     "execution_count": 1,
     "metadata": {},
     "output_type": "execute_result"
    }
   ],
   "source": [
    "\"\"\"\n",
    "Ενοποίηση και των δύο πινάκων που αφορούν την\n",
    "ICU σε ένα ενιαίο.\n",
    "\n",
    "ChartEvent -> 65.189 γραμμές / 707 στήλες\n",
    "LabEvent -> 68.191 γραμμές / 388 στήλες\n",
    "\n",
    "\n",
    "\n",
    "final_table -> 90.817 γραμμές / 1095 στήλες\n",
    "\n",
    "99.444.615 -> Θέσεις στο πίνακα.\n",
    "93.990.301 -> Κενές θέσεις στον πίνακα.\n",
    " 5.454.314 -> Συνολικές εγγραφές.\n",
    "\n",
    "\"\"\""
   ]
  },
  {
   "cell_type": "code",
   "execution_count": 2,
   "metadata": {},
   "outputs": [],
   "source": [
    "import pandas as pd"
   ]
  },
  {
   "cell_type": "code",
   "execution_count": 3,
   "metadata": {},
   "outputs": [],
   "source": [
    "df_icu_chart = pd.read_csv('D:\\Thesis\\exports\\o12_fill_chart_label_header_tbl.csv')\n",
    "\n",
    "df_lab_chart = pd.read_csv('D:\\Thesis\\exports\\o19_fill_lab_label_header_tbl.csv')"
   ]
  },
  {
   "cell_type": "code",
   "execution_count": 4,
   "metadata": {},
   "outputs": [],
   "source": [
    "#Ελέγχω αν μετά την συγχώνευση υπάρχουν διπλές ίδιες στήλες\n",
    "\n",
    "rslt=pd.merge(df_icu_chart, df_lab_chart, on=['subject_id','hadm_id', 'date', 'time'],\n",
    "              how=\"outer\", suffixes=('', '_delme'))\n",
    "\n",
    "# Και αν υπάρχουν τις αφαιρώ\n",
    "rslt = rslt[[c for c in rslt.columns if not c.endswith('_delme')]]"
   ]
  },
  {
   "cell_type": "code",
   "execution_count": 5,
   "metadata": {},
   "outputs": [],
   "source": [
    "#Εισάγω στήλη με την τιμές την ονομασία του τμήματος\n",
    "rslt.insert(0, \"Department\", \"ICU\")"
   ]
  },
  {
   "cell_type": "code",
   "execution_count": 6,
   "metadata": {},
   "outputs": [
    {
     "data": {
      "text/plain": [
       "198306566"
      ]
     },
     "execution_count": 6,
     "metadata": {},
     "output_type": "execute_result"
    }
   ],
   "source": [
    "# Ελέγχω αν υπάρχει NaN σε ολόκληρο το dataframe\n",
    "rslt.isna().sum().sum()"
   ]
  },
  {
   "cell_type": "code",
   "execution_count": 7,
   "metadata": {},
   "outputs": [],
   "source": [
    "#Εξαγωγή σε csv\n",
    "rslt.to_csv('D:\\Thesis\\exports\\o20_ICU_merged_chart_lab.csv', index=False)"
   ]
  }
 ],
 "metadata": {
  "kernelspec": {
   "display_name": "Python 3 (ipykernel)",
   "language": "python",
   "name": "python3"
  },
  "language_info": {
   "codemirror_mode": {
    "name": "ipython",
    "version": 3
   },
   "file_extension": ".py",
   "mimetype": "text/x-python",
   "name": "python",
   "nbconvert_exporter": "python",
   "pygments_lexer": "ipython3",
   "version": "3.9.13"
  }
 },
 "nbformat": 4,
 "nbformat_minor": 4
}
