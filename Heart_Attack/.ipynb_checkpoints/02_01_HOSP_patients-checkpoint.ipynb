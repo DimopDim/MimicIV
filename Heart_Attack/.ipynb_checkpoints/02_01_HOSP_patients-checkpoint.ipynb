{
 "cells": [
  {
   "cell_type": "code",
   "execution_count": 1,
   "metadata": {},
   "outputs": [
    {
     "data": {
      "text/plain": [
       "'\\nΚαταγράφω τους ασθενείς που εισήχθησαν στο νοσοκομείο.\\n\\n5.280.351 -> Συνολικές εγγραφές στις νοσοκομειακές διαγνώσεις.\\n   12.015 -> Εγγραφές διαγνώσεων που αναφέρονται σε ασθενείς\\n             με εγκεφαλικό.\\n\\n'"
      ]
     },
     "execution_count": 1,
     "metadata": {},
     "output_type": "execute_result"
    }
   ],
   "source": [
    "\"\"\"\n",
    "Καταγράφω τους ασθενείς που εισήχθησαν στο νοσοκομείο.\n",
    "\n",
    "5.280.351 -> Συνολικές εγγραφές στις νοσοκομειακές διαγνώσεις.\n",
    "   12.015 -> Εγγραφές διαγνώσεων που αναφέρονται σε ασθενείς\n",
    "             με εγκεφαλικό.\n",
    "\n",
    "\"\"\""
   ]
  },
  {
   "cell_type": "code",
   "execution_count": 2,
   "metadata": {},
   "outputs": [],
   "source": [
    "import pandas as pd"
   ]
  },
  {
   "cell_type": "code",
   "execution_count": 3,
   "metadata": {},
   "outputs": [],
   "source": [
    "df_patients = pd.read_csv('D:\\Thesis\\mimic-iv-1.0\\hosp\\diagnoses_icd.csv.gz', usecols = ['subject_id', 'hadm_id', 'icd_code'])"
   ]
  },
  {
   "cell_type": "code",
   "execution_count": 4,
   "metadata": {},
   "outputs": [],
   "source": [
    "#Ασθενείς με εγκεφαλικό.\n",
    "hosp_patients = df_patients[\n",
    "    (df_patients['icd_code'] ==\"41000\") | (df_patients['icd_code'] ==\"41001\") |\n",
    "    (df_patients['icd_code'] ==\"41002\") | (df_patients['icd_code'] ==\"41010\") |\n",
    "    (df_patients['icd_code'] ==\"41011\") | (df_patients['icd_code'] ==\"41012\") |\n",
    "    (df_patients['icd_code'] ==\"41020\") | (df_patients['icd_code'] ==\"41021\") |\n",
    "    (df_patients['icd_code'] ==\"41022\") | (df_patients['icd_code'] ==\"41030\") |\n",
    "    (df_patients['icd_code'] ==\"41031\") | (df_patients['icd_code'] ==\"41032\") |\n",
    "    (df_patients['icd_code'] ==\"41040\") | (df_patients['icd_code'] ==\"41041\") |\n",
    "    (df_patients['icd_code'] ==\"41042\") | (df_patients['icd_code'] ==\"41050\") |\n",
    "    (df_patients['icd_code'] ==\"41051\") | (df_patients['icd_code'] ==\"41052\") |\n",
    "    (df_patients['icd_code'] ==\"41060\") | (df_patients['icd_code'] ==\"41061\") |\n",
    "    (df_patients['icd_code'] ==\"41062\") | (df_patients['icd_code'] ==\"41070\") |\n",
    "    (df_patients['icd_code'] ==\"41071\") | (df_patients['icd_code'] ==\"41072\") |\n",
    "    (df_patients['icd_code'] ==\"41080\") | (df_patients['icd_code'] ==\"41081\") |\n",
    "    (df_patients['icd_code'] ==\"41082\") | (df_patients['icd_code'] ==\"41090\") |\n",
    "    (df_patients['icd_code'] ==\"41091\") | (df_patients['icd_code'] ==\"41092\") |\n",
    "    (df_patients['icd_code'] ==\"I2109\") | (df_patients['icd_code'] ==\"I2119\") |\n",
    "    (df_patients['icd_code'] ==\"I2111\") | (df_patients['icd_code'] ==\"I2129\") |\n",
    "    (df_patients['icd_code'] ==\"I213\") | (df_patients['icd_code'] ==\"I214\") |\n",
    "    (df_patients['icd_code'] ==\"I219\") | (df_patients['icd_code'] ==\"I21A1\") |\n",
    "    (df_patients['icd_code'] ==\"I21A9\") | (df_patients['icd_code'] ==\"I21\") |\n",
    "    (df_patients['icd_code'] ==\"I210\") | (df_patients['icd_code'] ==\"I2101\") |\n",
    "    (df_patients['icd_code'] ==\"I2102\") | (df_patients['icd_code'] ==\"I211\") |\n",
    "    (df_patients['icd_code'] ==\"I212\") | (df_patients['icd_code'] ==\"I2121\") |\n",
    "    (df_patients['icd_code'] ==\"I21A\") | (df_patients['icd_code'] ==\"I22\") |\n",
    "    (df_patients['icd_code'] ==\"I220\") | (df_patients['icd_code'] ==\"I221\") |\n",
    "    (df_patients['icd_code'] ==\"I222\") | (df_patients['icd_code'] ==\"I228\") |\n",
    "    (df_patients['icd_code'] ==\"I229\") | (df_patients['icd_code'] ==\"I23\") |\n",
    "    (df_patients['icd_code'] ==\"I230\") | (df_patients['icd_code'] ==\"I231\") |\n",
    "    (df_patients['icd_code'] ==\"I232\") | (df_patients['icd_code'] ==\"I233\") |\n",
    "    (df_patients['icd_code'] ==\"I234\") | (df_patients['icd_code'] ==\"I235\") |\n",
    "    (df_patients['icd_code'] ==\"I236\") | (df_patients['icd_code'] ==\"I238\") |\n",
    "    (df_patients['icd_code'] ==\"42979\")\n",
    "]"
   ]
  },
  {
   "cell_type": "code",
   "execution_count": 5,
   "metadata": {},
   "outputs": [],
   "source": [
    "hosp_patients = hosp_patients.reset_index(drop=True)"
   ]
  },
  {
   "cell_type": "code",
   "execution_count": 6,
   "metadata": {},
   "outputs": [
    {
     "name": "stdout",
     "output_type": "stream",
     "text": [
      "<class 'pandas.core.frame.DataFrame'>\n",
      "RangeIndex: 13174 entries, 0 to 13173\n",
      "Data columns (total 3 columns):\n",
      " #   Column      Non-Null Count  Dtype \n",
      "---  ------      --------------  ----- \n",
      " 0   subject_id  13174 non-null  int64 \n",
      " 1   hadm_id     13174 non-null  int64 \n",
      " 2   icd_code    13174 non-null  object\n",
      "dtypes: int64(2), object(1)\n",
      "memory usage: 308.9+ KB\n"
     ]
    }
   ],
   "source": [
    "hosp_patients.info()"
   ]
  },
  {
   "cell_type": "code",
   "execution_count": 7,
   "metadata": {},
   "outputs": [],
   "source": [
    "#Εξαγωγή σε csv\n",
    "hosp_patients.to_csv('D:\\Thesis\\exports\\o3_hosp_patients.csv', index=False)"
   ]
  }
 ],
 "metadata": {
  "kernelspec": {
   "display_name": "Python 3 (ipykernel)",
   "language": "python",
   "name": "python3"
  },
  "language_info": {
   "codemirror_mode": {
    "name": "ipython",
    "version": 3
   },
   "file_extension": ".py",
   "mimetype": "text/x-python",
   "name": "python",
   "nbconvert_exporter": "python",
   "pygments_lexer": "ipython3",
   "version": "3.9.13"
  }
 },
 "nbformat": 4,
 "nbformat_minor": 4
}
