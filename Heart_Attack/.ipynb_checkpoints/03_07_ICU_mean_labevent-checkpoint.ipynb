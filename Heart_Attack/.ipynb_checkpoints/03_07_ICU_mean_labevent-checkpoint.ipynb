{
 "cells": [
  {
   "cell_type": "code",
   "execution_count": 1,
   "metadata": {},
   "outputs": [
    {
     "data": {
      "text/plain": [
       "'\\nΑπομονώνω από το αρχείο labevents.csv όπου περιλαμβάνει\\nτα εργαστηριακά αποτελέσματα τους ασθενείς με εγκεφαλικό\\n\\nΈχοντας τμηματοποιήσει έξω από την python τον πίνακα labevents\\nσε τρεις διαφορετικούς πίνακες τους συγκρίνω και ενσωματώνω τα\\nστοιχεία τους στο \"_______________________\" όπου εμπεριέχονται\\nοι ασθενείς με εγκεφαλικό.\\n\\n\\n\\n\\nΣτο σύνολο τους οι εγγραφές της labevent είναι 122.289.828\\nΑπό αυτές το 1.568.922 αναφέρονται στους ασθενείς με εγκεφαλικό που\\nέχουν εισαχθεί στις ΜΕΘ.\\nΟι 1.410.362 είναι εγγραφές που περιλαμβάνουν τιμές και όχι κείμενα.\\nΟι 1.276.856 είναι ομαδοποιημένες οι ίδιες εξετάσεις ανά οχτάωρο.\\n'"
      ]
     },
     "execution_count": 1,
     "metadata": {},
     "output_type": "execute_result"
    }
   ],
   "source": [
    "\"\"\"\n",
    "Απομονώνω από το αρχείο labevents.csv όπου περιλαμβάνει\n",
    "τα εργαστηριακά αποτελέσματα τους ασθενείς με εγκεφαλικό\n",
    "\n",
    "Έχοντας τμηματοποιήσει έξω από την python τον πίνακα labevents\n",
    "σε τρεις διαφορετικούς πίνακες τους συγκρίνω και ενσωματώνω τα\n",
    "στοιχεία τους στο \"_______________________\" όπου εμπεριέχονται\n",
    "οι ασθενείς με εγκεφαλικό.\n",
    "\n",
    "\n",
    "\n",
    "\n",
    "Στο σύνολο τους οι εγγραφές της labevent είναι 122.289.828\n",
    "Από αυτές το 1.568.922 αναφέρονται στους ασθενείς με εγκεφαλικό που\n",
    "έχουν εισαχθεί στις ΜΕΘ.\n",
    "Οι 1.410.362 είναι εγγραφές που περιλαμβάνουν τιμές και όχι κείμενα.\n",
    "Οι 1.276.856 είναι ομαδοποιημένες οι ίδιες εξετάσεις ανά οχτάωρο.\n",
    "\"\"\""
   ]
  },
  {
   "cell_type": "code",
   "execution_count": 2,
   "metadata": {},
   "outputs": [],
   "source": [
    "import pandas as pd"
   ]
  },
  {
   "cell_type": "code",
   "execution_count": 3,
   "metadata": {},
   "outputs": [],
   "source": [
    "df_patients = pd.read_csv('D:\\Thesis\\exports\\o5_icu_unique_admissions.csv')"
   ]
  },
  {
   "cell_type": "code",
   "execution_count": 4,
   "metadata": {},
   "outputs": [
    {
     "name": "stderr",
     "output_type": "stream",
     "text": [
      "C:\\Users\\Dimopoulos\\AppData\\Local\\Temp\\ipykernel_11008\\727439730.py:3: DtypeWarning: Columns (7) have mixed types. Specify dtype option on import or set low_memory=False.\n",
      "  df_labevents = pd.read_csv('D:\\MSc Aegean\\Thesis\\Split_Merge_tables\\Splited_Labevents\\labevents_0.csv')\n"
     ]
    }
   ],
   "source": [
    "#Επεξεργασία πρώτου μέρους του αρχείου labevents\n",
    " \n",
    "df_labevents = pd.read_csv('D:\\MSc Aegean\\Thesis\\Split_Merge_tables\\Splited_Labevents\\labevents_0.csv')\n",
    "df_labevents.columns = [\"labevent_id\", \"subject_id\", \"hadm_id\", \"specimen_id\", \"itemid\",\n",
    "                        \"charttime\", \"storetime\", \"value\", \"valuenum\", \"valueuom\",\n",
    "                        \"ref_range_lower\", \"ref_range_upper\", \"flag\", \"priority\", \"comments\"]\n",
    "\n",
    "rslt_df=pd.merge(df_patients, df_labevents, on=['subject_id','hadm_id'])\n",
    "\n",
    "rslt_df.to_csv('D:\\Thesis\\Split_Merge_tables\\Merged_Labevents\\cerebral_infarction_labevents_0.csv', index=False)\n",
    "\n",
    "del (df_labevents, rslt_df) # Διαγραφή των dataframe για απελευθέρωση μνήμης."
   ]
  },
  {
   "cell_type": "code",
   "execution_count": 5,
   "metadata": {},
   "outputs": [
    {
     "name": "stderr",
     "output_type": "stream",
     "text": [
      "C:\\Users\\Dimopoulos\\AppData\\Local\\Temp\\ipykernel_11008\\372392439.py:3: DtypeWarning: Columns (7) have mixed types. Specify dtype option on import or set low_memory=False.\n",
      "  df_labevents = pd.read_csv('D:\\MSc Aegean\\Thesis\\Split_Merge_tables\\Splited_Labevents\\labevents_1.csv')\n"
     ]
    }
   ],
   "source": [
    "#Επεξεργασία δεύτερου μέρους του αρχείου labevents\n",
    "\n",
    "df_labevents = pd.read_csv('D:\\MSc Aegean\\Thesis\\Split_Merge_tables\\Splited_Labevents\\labevents_1.csv')\n",
    "df_labevents.columns = [\"labevent_id\", \"subject_id\", \"hadm_id\", \"specimen_id\", \"itemid\",\n",
    "                        \"charttime\", \"storetime\", \"value\", \"valuenum\", \"valueuom\",\n",
    "                        \"ref_range_lower\", \"ref_range_upper\", \"flag\", \"priority\", \"comments\"]\n",
    "\n",
    "rslt_df=pd.merge(df_patients, df_labevents, on=['subject_id','hadm_id'])\n",
    "\n",
    "rslt_df.to_csv('D:\\Thesis\\Split_Merge_tables\\Merged_Labevents\\cerebral_infarction_labevents_1.csv', index=False)\n",
    "\n",
    "del (df_labevents, rslt_df) # Διαγραφή των dataframe για απελευθέρωση μνήμης."
   ]
  },
  {
   "cell_type": "code",
   "execution_count": 6,
   "metadata": {},
   "outputs": [
    {
     "name": "stderr",
     "output_type": "stream",
     "text": [
      "C:\\Users\\Dimopoulos\\AppData\\Local\\Temp\\ipykernel_11008\\2118666401.py:3: DtypeWarning: Columns (7,9,12) have mixed types. Specify dtype option on import or set low_memory=False.\n",
      "  df_labevents = pd.read_csv('D:\\MSc Aegean\\Thesis\\Split_Merge_tables\\Splited_Labevents\\labevents_2.csv')\n"
     ]
    }
   ],
   "source": [
    "#Επεξεργασία τρίτου μέρους του αρχείου labevents\n",
    "\n",
    "df_labevents = pd.read_csv('D:\\MSc Aegean\\Thesis\\Split_Merge_tables\\Splited_Labevents\\labevents_2.csv')\n",
    "df_labevents.columns = [\"labevent_id\", \"subject_id\", \"hadm_id\", \"specimen_id\", \"itemid\",\n",
    "                        \"charttime\", \"storetime\", \"value\", \"valuenum\", \"valueuom\",\n",
    "                        \"ref_range_lower\", \"ref_range_upper\", \"flag\", \"priority\", \"comments\"]\n",
    "\n",
    "rslt_df=pd.merge(df_patients, df_labevents, on=['subject_id','hadm_id'])\n",
    "\n",
    "rslt_df.to_csv('D:\\Thesis\\Split_Merge_tables\\Merged_Labevents\\cerebral_infarction_labevents_2.csv', index=False)\n",
    "\n",
    "del (df_labevents, rslt_df) # Διαγραφή των dataframe για απελευθέρωση μνήμης."
   ]
  },
  {
   "cell_type": "code",
   "execution_count": 7,
   "metadata": {},
   "outputs": [
    {
     "name": "stderr",
     "output_type": "stream",
     "text": [
      "C:\\Users\\Dimopoulos\\AppData\\Local\\Temp\\ipykernel_11008\\2799449485.py:1: DtypeWarning: Columns (8) have mixed types. Specify dtype option on import or set low_memory=False.\n",
      "  df_labevents_0 = pd.read_csv('D:\\Thesis\\Split_Merge_tables\\Merged_Labevents\\cerebral_infarction_labevents_0.csv',\n",
      "C:\\Users\\Dimopoulos\\AppData\\Local\\Temp\\ipykernel_11008\\2799449485.py:6: DtypeWarning: Columns (8) have mixed types. Specify dtype option on import or set low_memory=False.\n",
      "  df_labevents_1 = pd.read_csv('D:\\Thesis\\Split_Merge_tables\\Merged_Labevents\\cerebral_infarction_labevents_1.csv',\n"
     ]
    }
   ],
   "source": [
    "df_labevents_0 = pd.read_csv('D:\\Thesis\\Split_Merge_tables\\Merged_Labevents\\cerebral_infarction_labevents_0.csv',\n",
    "                             usecols = [\"labevent_id\", \"subject_id\", \"hadm_id\", \"specimen_id\", \"itemid\",\n",
    "                                        \"charttime\", \"storetime\", \"value\", \"valuenum\", \"valueuom\",\n",
    "                                        \"ref_range_lower\", \"ref_range_upper\", \"flag\", \"priority\", \"comments\"])\n",
    "\n",
    "df_labevents_1 = pd.read_csv('D:\\Thesis\\Split_Merge_tables\\Merged_Labevents\\cerebral_infarction_labevents_1.csv',\n",
    "                             usecols = [\"labevent_id\", \"subject_id\", \"hadm_id\", \"specimen_id\", \"itemid\",\n",
    "                                        \"charttime\", \"storetime\", \"value\", \"valuenum\", \"valueuom\",\n",
    "                                        \"ref_range_lower\", \"ref_range_upper\", \"flag\", \"priority\", \"comments\"])\n",
    "\n",
    "df_labevents_2 = pd.read_csv('D:\\Thesis\\Split_Merge_tables\\Merged_Labevents\\cerebral_infarction_labevents_2.csv',\n",
    "                             usecols = [\"labevent_id\", \"subject_id\", \"hadm_id\", \"specimen_id\", \"itemid\",\n",
    "                                        \"charttime\", \"storetime\", \"value\", \"valuenum\", \"valueuom\",\n",
    "                                        \"ref_range_lower\", \"ref_range_upper\", \"flag\", \"priority\", \"comments\"])"
   ]
  },
  {
   "cell_type": "code",
   "execution_count": 8,
   "metadata": {},
   "outputs": [],
   "source": [
    "#Ενσωματώνουμε τα μέρη του labevent σε ένα αρχείο.\n",
    "pd.concat(\n",
    "    [df_labevents_0,\n",
    "     df_labevents_1,\n",
    "     df_labevents_2]).to_csv('D:\\Thesis\\exports\\o13_icu_labevents.csv', index=False)\n",
    "\n",
    "# Διαγραφή των dataframe για απελευθέρωση μνήμης.\n",
    "del (df_labevents_0,\n",
    "     df_labevents_1,\n",
    "     df_labevents_2)"
   ]
  },
  {
   "cell_type": "code",
   "execution_count": 9,
   "metadata": {},
   "outputs": [
    {
     "name": "stderr",
     "output_type": "stream",
     "text": [
      "C:\\Users\\Dimopoulos\\AppData\\Local\\Temp\\ipykernel_11008\\2084326963.py:1: DtypeWarning: Columns (7) have mixed types. Specify dtype option on import or set low_memory=False.\n",
      "  df_labevents = pd.read_csv('D:\\Thesis\\exports\\o13_icu_labevents.csv')\n"
     ]
    }
   ],
   "source": [
    "df_labevents = pd.read_csv('D:\\Thesis\\exports\\o13_icu_labevents.csv')"
   ]
  },
  {
   "cell_type": "code",
   "execution_count": 10,
   "metadata": {},
   "outputs": [],
   "source": [
    "# Μετατροπή της στήλης charttime από object σε datetime\n",
    "\n",
    "df_labevents['charttime']= pd.to_datetime(df_labevents['charttime'])"
   ]
  },
  {
   "cell_type": "code",
   "execution_count": 11,
   "metadata": {},
   "outputs": [],
   "source": [
    "#Απομονώνω τις γραμμές που δεν περιλαμβάνουν τιμές στην valuenum\n",
    "df_labevents = df_labevents[df_labevents['valuenum'].notna()]"
   ]
  },
  {
   "cell_type": "code",
   "execution_count": 12,
   "metadata": {},
   "outputs": [
    {
     "data": {
      "text/html": [
       "<div>\n",
       "<style scoped>\n",
       "    .dataframe tbody tr th:only-of-type {\n",
       "        vertical-align: middle;\n",
       "    }\n",
       "\n",
       "    .dataframe tbody tr th {\n",
       "        vertical-align: top;\n",
       "    }\n",
       "\n",
       "    .dataframe thead th {\n",
       "        text-align: right;\n",
       "    }\n",
       "</style>\n",
       "<table border=\"1\" class=\"dataframe\">\n",
       "  <thead>\n",
       "    <tr style=\"text-align: right;\">\n",
       "      <th></th>\n",
       "      <th>subject_id</th>\n",
       "      <th>hadm_id</th>\n",
       "      <th>itemid</th>\n",
       "      <th>charttime</th>\n",
       "      <th>Mean_Lab</th>\n",
       "    </tr>\n",
       "  </thead>\n",
       "  <tbody>\n",
       "    <tr>\n",
       "      <th>0</th>\n",
       "      <td>10000980</td>\n",
       "      <td>26913865</td>\n",
       "      <td>50852</td>\n",
       "      <td>2189-06-28 08:00:00</td>\n",
       "      <td>6.8</td>\n",
       "    </tr>\n",
       "    <tr>\n",
       "      <th>1</th>\n",
       "      <td>10000980</td>\n",
       "      <td>26913865</td>\n",
       "      <td>50861</td>\n",
       "      <td>2189-06-28 08:00:00</td>\n",
       "      <td>12.0</td>\n",
       "    </tr>\n",
       "    <tr>\n",
       "      <th>2</th>\n",
       "      <td>10000980</td>\n",
       "      <td>26913865</td>\n",
       "      <td>50862</td>\n",
       "      <td>2189-06-28 08:00:00</td>\n",
       "      <td>4.1</td>\n",
       "    </tr>\n",
       "    <tr>\n",
       "      <th>3</th>\n",
       "      <td>10000980</td>\n",
       "      <td>26913865</td>\n",
       "      <td>50863</td>\n",
       "      <td>2189-06-28 08:00:00</td>\n",
       "      <td>61.0</td>\n",
       "    </tr>\n",
       "    <tr>\n",
       "      <th>4</th>\n",
       "      <td>10000980</td>\n",
       "      <td>26913865</td>\n",
       "      <td>50867</td>\n",
       "      <td>2189-06-28 08:00:00</td>\n",
       "      <td>120.0</td>\n",
       "    </tr>\n",
       "    <tr>\n",
       "      <th>...</th>\n",
       "      <td>...</td>\n",
       "      <td>...</td>\n",
       "      <td>...</td>\n",
       "      <td>...</td>\n",
       "      <td>...</td>\n",
       "    </tr>\n",
       "    <tr>\n",
       "      <th>2839928</th>\n",
       "      <td>19997473</td>\n",
       "      <td>27787494</td>\n",
       "      <td>52172</td>\n",
       "      <td>2173-09-28 00:00:00</td>\n",
       "      <td>55.0</td>\n",
       "    </tr>\n",
       "    <tr>\n",
       "      <th>2839929</th>\n",
       "      <td>19997473</td>\n",
       "      <td>27787494</td>\n",
       "      <td>52172</td>\n",
       "      <td>2173-09-29 00:00:00</td>\n",
       "      <td>53.1</td>\n",
       "    </tr>\n",
       "    <tr>\n",
       "      <th>2839930</th>\n",
       "      <td>19997473</td>\n",
       "      <td>27787494</td>\n",
       "      <td>52172</td>\n",
       "      <td>2173-09-30 00:00:00</td>\n",
       "      <td>51.7</td>\n",
       "    </tr>\n",
       "    <tr>\n",
       "      <th>2839931</th>\n",
       "      <td>19997473</td>\n",
       "      <td>27787494</td>\n",
       "      <td>52172</td>\n",
       "      <td>2173-10-01 00:00:00</td>\n",
       "      <td>53.0</td>\n",
       "    </tr>\n",
       "    <tr>\n",
       "      <th>2839932</th>\n",
       "      <td>19997473</td>\n",
       "      <td>27787494</td>\n",
       "      <td>52172</td>\n",
       "      <td>2173-10-02 00:00:00</td>\n",
       "      <td>52.3</td>\n",
       "    </tr>\n",
       "  </tbody>\n",
       "</table>\n",
       "<p>2839933 rows × 5 columns</p>\n",
       "</div>"
      ],
      "text/plain": [
       "         subject_id   hadm_id  itemid           charttime  Mean_Lab\n",
       "0          10000980  26913865   50852 2189-06-28 08:00:00       6.8\n",
       "1          10000980  26913865   50861 2189-06-28 08:00:00      12.0\n",
       "2          10000980  26913865   50862 2189-06-28 08:00:00       4.1\n",
       "3          10000980  26913865   50863 2189-06-28 08:00:00      61.0\n",
       "4          10000980  26913865   50867 2189-06-28 08:00:00     120.0\n",
       "...             ...       ...     ...                 ...       ...\n",
       "2839928    19997473  27787494   52172 2173-09-28 00:00:00      55.0\n",
       "2839929    19997473  27787494   52172 2173-09-29 00:00:00      53.1\n",
       "2839930    19997473  27787494   52172 2173-09-30 00:00:00      51.7\n",
       "2839931    19997473  27787494   52172 2173-10-01 00:00:00      53.0\n",
       "2839932    19997473  27787494   52172 2173-10-02 00:00:00      52.3\n",
       "\n",
       "[2839933 rows x 5 columns]"
      ]
     },
     "execution_count": 12,
     "metadata": {},
     "output_type": "execute_result"
    }
   ],
   "source": [
    "grouped_multiple = df_labevents.groupby(['subject_id', 'hadm_id', 'itemid',\n",
    "                                         pd.Grouper(key='charttime',\n",
    "                                                    freq='8H')]).agg({'valuenum': ['mean']})\n",
    "grouped_multiple.columns = ['Mean_Lab']\n",
    "grouped_multiple = grouped_multiple.reset_index()\n",
    "grouped_multiple"
   ]
  },
  {
   "cell_type": "code",
   "execution_count": 13,
   "metadata": {},
   "outputs": [],
   "source": [
    "grouped_multiple.to_csv('D:\\Thesis\\exports\\o14_labevents_grouped_8hours.csv', index=False)"
   ]
  }
 ],
 "metadata": {
  "kernelspec": {
   "display_name": "Python 3 (ipykernel)",
   "language": "python",
   "name": "python3"
  },
  "language_info": {
   "codemirror_mode": {
    "name": "ipython",
    "version": 3
   },
   "file_extension": ".py",
   "mimetype": "text/x-python",
   "name": "python",
   "nbconvert_exporter": "python",
   "pygments_lexer": "ipython3",
   "version": "3.9.13"
  }
 },
 "nbformat": 4,
 "nbformat_minor": 4
}
