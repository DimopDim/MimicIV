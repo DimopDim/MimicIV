{
 "cells": [
  {
   "cell_type": "code",
   "execution_count": 1,
   "metadata": {},
   "outputs": [
    {
     "data": {
      "text/plain": [
       "'\\nΤο chartevent αποτελείται από 9.874.474\\nεγγραφές που αφορούν τους ασθενείς με εγκεφαλικό\\n\\nΟι καταγραφές αυτές ομαδοποιήθηκαν και υπολογίσαμε\\nτον μέσο όρο για την κάθε μια από αυτές μέσα στο 8ώρο\\nόπου και ανήλθαν στα 4.177.458 εγγραφές \\n'"
      ]
     },
     "execution_count": 1,
     "metadata": {},
     "output_type": "execute_result"
    }
   ],
   "source": [
    "\"\"\"\n",
    "Το chartevent αποτελείται από 9.874.474\n",
    "εγγραφές που αφορούν τους ασθενείς με εγκεφαλικό\n",
    "\n",
    "Οι καταγραφές αυτές ομαδοποιήθηκαν και υπολογίσαμε\n",
    "τον μέσο όρο για την κάθε μια από αυτές μέσα στο 8ώρο\n",
    "όπου και ανήλθαν στα 4.177.458 εγγραφές \n",
    "\"\"\""
   ]
  },
  {
   "cell_type": "code",
   "execution_count": 2,
   "metadata": {},
   "outputs": [],
   "source": [
    "import pandas as pd"
   ]
  },
  {
   "cell_type": "code",
   "execution_count": 3,
   "metadata": {},
   "outputs": [
    {
     "name": "stderr",
     "output_type": "stream",
     "text": [
      "C:\\Users\\Dimopoulos\\AppData\\Local\\Temp\\ipykernel_3320\\94107349.py:1: DtypeWarning: Columns (6) have mixed types. Specify dtype option on import or set low_memory=False.\n",
      "  df_patients_chart = pd.read_csv('D:\\Thesis\\exports\\o7_patient_chartevent_without_nan.csv')\n"
     ]
    }
   ],
   "source": [
    "df_patients_chart = pd.read_csv('D:\\Thesis\\exports\\o7_patient_chartevent_without_nan.csv')"
   ]
  },
  {
   "cell_type": "code",
   "execution_count": 4,
   "metadata": {},
   "outputs": [],
   "source": [
    "# Μετατροπή της στήλης charttime από object σε datetime\n",
    "\n",
    "df_patients_chart['charttime']= pd.to_datetime(df_patients_chart['charttime'])"
   ]
  },
  {
   "cell_type": "code",
   "execution_count": 5,
   "metadata": {},
   "outputs": [],
   "source": [
    "# Ομαδοποίηση στοιχείων ανά οχτάωρο\n",
    "grouped_multiple = (df_patients_chart.groupby(['subject_id',\n",
    "                                               'hadm_id',\n",
    "                                               'itemid',\n",
    "                                               pd.Grouper(key='charttime',\n",
    "                                                          freq='8H')]).agg({'valuenum': ['mean']}))\n",
    "grouped_multiple.columns = ['Mean_Chart']\n",
    "grouped_multiple = grouped_multiple.reset_index()"
   ]
  },
  {
   "cell_type": "code",
   "execution_count": 6,
   "metadata": {},
   "outputs": [],
   "source": [
    "#Διαχωρισμός σε δυο καινούργιες στήλες της ημερομηνίας και ώρας\n",
    "grouped_multiple['date'] = pd.to_datetime(grouped_multiple['charttime']).dt.date\n",
    "grouped_multiple['time'] = pd.to_datetime(grouped_multiple['charttime']).dt.time"
   ]
  },
  {
   "cell_type": "code",
   "execution_count": 8,
   "metadata": {},
   "outputs": [
    {
     "data": {
      "text/html": [
       "<div>\n",
       "<style scoped>\n",
       "    .dataframe tbody tr th:only-of-type {\n",
       "        vertical-align: middle;\n",
       "    }\n",
       "\n",
       "    .dataframe tbody tr th {\n",
       "        vertical-align: top;\n",
       "    }\n",
       "\n",
       "    .dataframe thead th {\n",
       "        text-align: right;\n",
       "    }\n",
       "</style>\n",
       "<table border=\"1\" class=\"dataframe\">\n",
       "  <thead>\n",
       "    <tr style=\"text-align: right;\">\n",
       "      <th></th>\n",
       "      <th>subject_id</th>\n",
       "      <th>hadm_id</th>\n",
       "      <th>itemid</th>\n",
       "      <th>charttime</th>\n",
       "      <th>Mean_Chart</th>\n",
       "      <th>date</th>\n",
       "      <th>time</th>\n",
       "    </tr>\n",
       "  </thead>\n",
       "  <tbody>\n",
       "    <tr>\n",
       "      <th>0</th>\n",
       "      <td>10000980</td>\n",
       "      <td>26913865</td>\n",
       "      <td>220045</td>\n",
       "      <td>2189-06-27 08:00:00</td>\n",
       "      <td>73.125000</td>\n",
       "      <td>2189-06-27</td>\n",
       "      <td>08:00:00</td>\n",
       "    </tr>\n",
       "    <tr>\n",
       "      <th>1</th>\n",
       "      <td>10000980</td>\n",
       "      <td>26913865</td>\n",
       "      <td>220045</td>\n",
       "      <td>2189-06-27 16:00:00</td>\n",
       "      <td>75.000000</td>\n",
       "      <td>2189-06-27</td>\n",
       "      <td>16:00:00</td>\n",
       "    </tr>\n",
       "    <tr>\n",
       "      <th>2</th>\n",
       "      <td>10000980</td>\n",
       "      <td>26913865</td>\n",
       "      <td>220179</td>\n",
       "      <td>2189-06-27 08:00:00</td>\n",
       "      <td>146.625000</td>\n",
       "      <td>2189-06-27</td>\n",
       "      <td>08:00:00</td>\n",
       "    </tr>\n",
       "    <tr>\n",
       "      <th>3</th>\n",
       "      <td>10000980</td>\n",
       "      <td>26913865</td>\n",
       "      <td>220179</td>\n",
       "      <td>2189-06-27 16:00:00</td>\n",
       "      <td>131.333333</td>\n",
       "      <td>2189-06-27</td>\n",
       "      <td>16:00:00</td>\n",
       "    </tr>\n",
       "    <tr>\n",
       "      <th>4</th>\n",
       "      <td>10000980</td>\n",
       "      <td>26913865</td>\n",
       "      <td>220180</td>\n",
       "      <td>2189-06-27 08:00:00</td>\n",
       "      <td>86.500000</td>\n",
       "      <td>2189-06-27</td>\n",
       "      <td>08:00:00</td>\n",
       "    </tr>\n",
       "    <tr>\n",
       "      <th>...</th>\n",
       "      <td>...</td>\n",
       "      <td>...</td>\n",
       "      <td>...</td>\n",
       "      <td>...</td>\n",
       "      <td>...</td>\n",
       "      <td>...</td>\n",
       "      <td>...</td>\n",
       "    </tr>\n",
       "    <tr>\n",
       "      <th>6746005</th>\n",
       "      <td>19997473</td>\n",
       "      <td>27787494</td>\n",
       "      <td>229326</td>\n",
       "      <td>2173-09-19 16:00:00</td>\n",
       "      <td>0.000000</td>\n",
       "      <td>2173-09-19</td>\n",
       "      <td>16:00:00</td>\n",
       "    </tr>\n",
       "    <tr>\n",
       "      <th>6746006</th>\n",
       "      <td>19997473</td>\n",
       "      <td>27787494</td>\n",
       "      <td>229326</td>\n",
       "      <td>2173-09-20 08:00:00</td>\n",
       "      <td>0.000000</td>\n",
       "      <td>2173-09-20</td>\n",
       "      <td>08:00:00</td>\n",
       "    </tr>\n",
       "    <tr>\n",
       "      <th>6746007</th>\n",
       "      <td>19997473</td>\n",
       "      <td>27787494</td>\n",
       "      <td>229326</td>\n",
       "      <td>2173-09-20 16:00:00</td>\n",
       "      <td>0.000000</td>\n",
       "      <td>2173-09-20</td>\n",
       "      <td>16:00:00</td>\n",
       "    </tr>\n",
       "    <tr>\n",
       "      <th>6746008</th>\n",
       "      <td>19997473</td>\n",
       "      <td>27787494</td>\n",
       "      <td>229326</td>\n",
       "      <td>2173-09-21 08:00:00</td>\n",
       "      <td>0.000000</td>\n",
       "      <td>2173-09-21</td>\n",
       "      <td>08:00:00</td>\n",
       "    </tr>\n",
       "    <tr>\n",
       "      <th>6746009</th>\n",
       "      <td>19997473</td>\n",
       "      <td>27787494</td>\n",
       "      <td>229326</td>\n",
       "      <td>2173-09-21 16:00:00</td>\n",
       "      <td>0.000000</td>\n",
       "      <td>2173-09-21</td>\n",
       "      <td>16:00:00</td>\n",
       "    </tr>\n",
       "  </tbody>\n",
       "</table>\n",
       "<p>6746010 rows × 7 columns</p>\n",
       "</div>"
      ],
      "text/plain": [
       "         subject_id   hadm_id  itemid           charttime  Mean_Chart  \\\n",
       "0          10000980  26913865  220045 2189-06-27 08:00:00   73.125000   \n",
       "1          10000980  26913865  220045 2189-06-27 16:00:00   75.000000   \n",
       "2          10000980  26913865  220179 2189-06-27 08:00:00  146.625000   \n",
       "3          10000980  26913865  220179 2189-06-27 16:00:00  131.333333   \n",
       "4          10000980  26913865  220180 2189-06-27 08:00:00   86.500000   \n",
       "...             ...       ...     ...                 ...         ...   \n",
       "6746005    19997473  27787494  229326 2173-09-19 16:00:00    0.000000   \n",
       "6746006    19997473  27787494  229326 2173-09-20 08:00:00    0.000000   \n",
       "6746007    19997473  27787494  229326 2173-09-20 16:00:00    0.000000   \n",
       "6746008    19997473  27787494  229326 2173-09-21 08:00:00    0.000000   \n",
       "6746009    19997473  27787494  229326 2173-09-21 16:00:00    0.000000   \n",
       "\n",
       "               date      time  \n",
       "0        2189-06-27  08:00:00  \n",
       "1        2189-06-27  16:00:00  \n",
       "2        2189-06-27  08:00:00  \n",
       "3        2189-06-27  16:00:00  \n",
       "4        2189-06-27  08:00:00  \n",
       "...             ...       ...  \n",
       "6746005  2173-09-19  16:00:00  \n",
       "6746006  2173-09-20  08:00:00  \n",
       "6746007  2173-09-20  16:00:00  \n",
       "6746008  2173-09-21  08:00:00  \n",
       "6746009  2173-09-21  16:00:00  \n",
       "\n",
       "[6746010 rows x 7 columns]"
      ]
     },
     "execution_count": 8,
     "metadata": {},
     "output_type": "execute_result"
    }
   ],
   "source": [
    "grouped_multiple"
   ]
  },
  {
   "cell_type": "code",
   "execution_count": 7,
   "metadata": {},
   "outputs": [],
   "source": [
    "grouped_multiple.to_csv('D:\\Thesis\\exports\\o9_chartevent_8_hour_mean.csv', index=False)"
   ]
  }
 ],
 "metadata": {
  "kernelspec": {
   "display_name": "Python 3 (ipykernel)",
   "language": "python",
   "name": "python3"
  },
  "language_info": {
   "codemirror_mode": {
    "name": "ipython",
    "version": 3
   },
   "file_extension": ".py",
   "mimetype": "text/x-python",
   "name": "python",
   "nbconvert_exporter": "python",
   "pygments_lexer": "ipython3",
   "version": "3.9.13"
  }
 },
 "nbformat": 4,
 "nbformat_minor": 4
}
