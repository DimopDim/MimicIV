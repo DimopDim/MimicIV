{
 "cells": [
  {
   "cell_type": "code",
   "execution_count": 1,
   "metadata": {},
   "outputs": [
    {
     "data": {
      "text/plain": [
       "'\\nΕνσωματώνω τα στοιχεία των ζωτικών ενδείξεων\\nομαδοποιημένα ανά 8ώρο στους ασθενείς με\\nεγκεφαλικό που πέρασαν από τα επείγοντα στο\\nνοσοκομείο.\\n\\n1.651.119 -> Συνολικές εγγραφές στο vitalsigns.\\n  752.146 -> Συνολικές κατά την 8ώρη ομαδοποίηση.\\n    2.645 -> Εγγραφές 8ώρου για τους ασθενείς που\\n             νοσηλεύτηκαν με εγκεφαλικό από τα\\n             επείγοντα.\\n  \\n'"
      ]
     },
     "execution_count": 1,
     "metadata": {},
     "output_type": "execute_result"
    }
   ],
   "source": [
    "\"\"\"\n",
    "Ενσωματώνω τα στοιχεία των ζωτικών ενδείξεων\n",
    "ομαδοποιημένα ανά 8ώρο στους ασθενείς με\n",
    "εγκεφαλικό που πέρασαν από τα επείγοντα στο\n",
    "νοσοκομείο.\n",
    "\n",
    "1.651.119 -> Συνολικές εγγραφές στο vitalsigns.\n",
    "  752.146 -> Συνολικές κατά την 8ώρη ομαδοποίηση.\n",
    "    2.645 -> Εγγραφές 8ώρου για τους ασθενείς που\n",
    "             νοσηλεύτηκαν με εγκεφαλικό από τα\n",
    "             επείγοντα.\n",
    "  \n",
    "\"\"\""
   ]
  },
  {
   "cell_type": "code",
   "execution_count": 2,
   "metadata": {},
   "outputs": [],
   "source": [
    "import pandas as pd"
   ]
  },
  {
   "cell_type": "code",
   "execution_count": 3,
   "metadata": {},
   "outputs": [],
   "source": [
    "#Εισαγωγή dataframes\n",
    "df_vitalsign = pd.read_csv('D:\\Thesis\\mimic-iv-1.0\\ed\\Vitalsign.csv.gz')\n",
    "df_ed_patients = pd.read_csv('D:\\Thesis\\exports\\o1_ed_patients_to_hosp.csv',\n",
    "                             usecols = ['subject_id', 'hadm_id', 'stay_id'])"
   ]
  },
  {
   "cell_type": "code",
   "execution_count": 4,
   "metadata": {},
   "outputs": [],
   "source": [
    "# Μετατροπή της στήλης charttime από object σε datetime\n",
    "df_vitalsign['charttime']= pd.to_datetime(df_vitalsign['charttime'])"
   ]
  },
  {
   "cell_type": "code",
   "execution_count": 5,
   "metadata": {},
   "outputs": [],
   "source": [
    "# Ομαδοποίηση καταγραφών ανά στήλη στο 8ώρο.\n",
    "\n",
    "grouped_multiple = (df_vitalsign.groupby(['subject_id', 'stay_id',\n",
    "                                          pd.Grouper(key='charttime',\n",
    "                                                     freq='8H')]).agg({'temperature': ['mean'],\n",
    "                                                                       'heartrate': ['mean'],\n",
    "                                                                       'resprate': ['mean'],\n",
    "                                                                       'o2sat': ['mean'],\n",
    "                                                                       'sbp': ['mean'],\n",
    "                                                                       'dbp': ['mean']}))\n",
    "grouped_multiple.columns = (['Mean_temperature',\n",
    "                             'Mean_heartrate',\n",
    "                             'Mean_resprate',\n",
    "                             'Mean_o2sat',\n",
    "                             'Mean_sbp',\n",
    "                             'Mean_dbp'])\n",
    "grouped_multiple = grouped_multiple.reset_index()"
   ]
  },
  {
   "cell_type": "code",
   "execution_count": 6,
   "metadata": {},
   "outputs": [
    {
     "data": {
      "text/html": [
       "<div>\n",
       "<style scoped>\n",
       "    .dataframe tbody tr th:only-of-type {\n",
       "        vertical-align: middle;\n",
       "    }\n",
       "\n",
       "    .dataframe tbody tr th {\n",
       "        vertical-align: top;\n",
       "    }\n",
       "\n",
       "    .dataframe thead th {\n",
       "        text-align: right;\n",
       "    }\n",
       "</style>\n",
       "<table border=\"1\" class=\"dataframe\">\n",
       "  <thead>\n",
       "    <tr style=\"text-align: right;\">\n",
       "      <th></th>\n",
       "      <th>subject_id</th>\n",
       "      <th>stay_id</th>\n",
       "      <th>charttime</th>\n",
       "      <th>Mean_temperature</th>\n",
       "      <th>Mean_heartrate</th>\n",
       "      <th>Mean_resprate</th>\n",
       "      <th>Mean_o2sat</th>\n",
       "      <th>Mean_sbp</th>\n",
       "      <th>Mean_dbp</th>\n",
       "    </tr>\n",
       "  </thead>\n",
       "  <tbody>\n",
       "    <tr>\n",
       "      <th>0</th>\n",
       "      <td>10000032</td>\n",
       "      <td>32952584</td>\n",
       "      <td>2180-07-22 16:00:00</td>\n",
       "      <td>98.3</td>\n",
       "      <td>84.571429</td>\n",
       "      <td>20.285714</td>\n",
       "      <td>98.0</td>\n",
       "      <td>79.428571</td>\n",
       "      <td>42.857143</td>\n",
       "    </tr>\n",
       "    <tr>\n",
       "      <th>1</th>\n",
       "      <td>10000032</td>\n",
       "      <td>33258284</td>\n",
       "      <td>2180-05-06 16:00:00</td>\n",
       "      <td>97.7</td>\n",
       "      <td>79.000000</td>\n",
       "      <td>16.000000</td>\n",
       "      <td>98.0</td>\n",
       "      <td>107.000000</td>\n",
       "      <td>60.000000</td>\n",
       "    </tr>\n",
       "    <tr>\n",
       "      <th>2</th>\n",
       "      <td>10000032</td>\n",
       "      <td>35968195</td>\n",
       "      <td>2180-08-05 16:00:00</td>\n",
       "      <td>98.5</td>\n",
       "      <td>96.000000</td>\n",
       "      <td>17.000000</td>\n",
       "      <td>100.0</td>\n",
       "      <td>102.000000</td>\n",
       "      <td>58.000000</td>\n",
       "    </tr>\n",
       "    <tr>\n",
       "      <th>3</th>\n",
       "      <td>10000032</td>\n",
       "      <td>35968195</td>\n",
       "      <td>2180-08-06 00:00:00</td>\n",
       "      <td>98.1</td>\n",
       "      <td>91.000000</td>\n",
       "      <td>18.000000</td>\n",
       "      <td>99.0</td>\n",
       "      <td>98.000000</td>\n",
       "      <td>60.000000</td>\n",
       "    </tr>\n",
       "    <tr>\n",
       "      <th>4</th>\n",
       "      <td>10000032</td>\n",
       "      <td>38112554</td>\n",
       "      <td>2180-06-26 16:00:00</td>\n",
       "      <td>97.9</td>\n",
       "      <td>81.000000</td>\n",
       "      <td>17.500000</td>\n",
       "      <td>94.0</td>\n",
       "      <td>95.500000</td>\n",
       "      <td>60.500000</td>\n",
       "    </tr>\n",
       "    <tr>\n",
       "      <th>...</th>\n",
       "      <td>...</td>\n",
       "      <td>...</td>\n",
       "      <td>...</td>\n",
       "      <td>...</td>\n",
       "      <td>...</td>\n",
       "      <td>...</td>\n",
       "      <td>...</td>\n",
       "      <td>...</td>\n",
       "      <td>...</td>\n",
       "    </tr>\n",
       "    <tr>\n",
       "      <th>752141</th>\n",
       "      <td>19999828</td>\n",
       "      <td>30712109</td>\n",
       "      <td>2147-07-18 16:00:00</td>\n",
       "      <td>99.6</td>\n",
       "      <td>78.000000</td>\n",
       "      <td>17.000000</td>\n",
       "      <td>99.0</td>\n",
       "      <td>108.000000</td>\n",
       "      <td>87.000000</td>\n",
       "    </tr>\n",
       "    <tr>\n",
       "      <th>752142</th>\n",
       "      <td>19999828</td>\n",
       "      <td>32917002</td>\n",
       "      <td>2149-01-08 08:00:00</td>\n",
       "      <td>97.5</td>\n",
       "      <td>104.400000</td>\n",
       "      <td>16.000000</td>\n",
       "      <td>97.4</td>\n",
       "      <td>120.800000</td>\n",
       "      <td>80.800000</td>\n",
       "    </tr>\n",
       "    <tr>\n",
       "      <th>752143</th>\n",
       "      <td>19999828</td>\n",
       "      <td>32917002</td>\n",
       "      <td>2149-01-08 16:00:00</td>\n",
       "      <td>98.1</td>\n",
       "      <td>105.500000</td>\n",
       "      <td>16.000000</td>\n",
       "      <td>96.0</td>\n",
       "      <td>116.000000</td>\n",
       "      <td>74.500000</td>\n",
       "    </tr>\n",
       "    <tr>\n",
       "      <th>752144</th>\n",
       "      <td>19999914</td>\n",
       "      <td>32002659</td>\n",
       "      <td>2158-12-24 08:00:00</td>\n",
       "      <td>99.5</td>\n",
       "      <td>81.000000</td>\n",
       "      <td>10.000000</td>\n",
       "      <td>100.0</td>\n",
       "      <td>93.000000</td>\n",
       "      <td>55.000000</td>\n",
       "    </tr>\n",
       "    <tr>\n",
       "      <th>752145</th>\n",
       "      <td>19999987</td>\n",
       "      <td>34731548</td>\n",
       "      <td>2145-11-02 16:00:00</td>\n",
       "      <td>99.3</td>\n",
       "      <td>108.666667</td>\n",
       "      <td>18.666667</td>\n",
       "      <td>NaN</td>\n",
       "      <td>118.000000</td>\n",
       "      <td>81.333333</td>\n",
       "    </tr>\n",
       "  </tbody>\n",
       "</table>\n",
       "<p>752146 rows × 9 columns</p>\n",
       "</div>"
      ],
      "text/plain": [
       "        subject_id   stay_id           charttime  Mean_temperature  \\\n",
       "0         10000032  32952584 2180-07-22 16:00:00              98.3   \n",
       "1         10000032  33258284 2180-05-06 16:00:00              97.7   \n",
       "2         10000032  35968195 2180-08-05 16:00:00              98.5   \n",
       "3         10000032  35968195 2180-08-06 00:00:00              98.1   \n",
       "4         10000032  38112554 2180-06-26 16:00:00              97.9   \n",
       "...            ...       ...                 ...               ...   \n",
       "752141    19999828  30712109 2147-07-18 16:00:00              99.6   \n",
       "752142    19999828  32917002 2149-01-08 08:00:00              97.5   \n",
       "752143    19999828  32917002 2149-01-08 16:00:00              98.1   \n",
       "752144    19999914  32002659 2158-12-24 08:00:00              99.5   \n",
       "752145    19999987  34731548 2145-11-02 16:00:00              99.3   \n",
       "\n",
       "        Mean_heartrate  Mean_resprate  Mean_o2sat    Mean_sbp   Mean_dbp  \n",
       "0            84.571429      20.285714        98.0   79.428571  42.857143  \n",
       "1            79.000000      16.000000        98.0  107.000000  60.000000  \n",
       "2            96.000000      17.000000       100.0  102.000000  58.000000  \n",
       "3            91.000000      18.000000        99.0   98.000000  60.000000  \n",
       "4            81.000000      17.500000        94.0   95.500000  60.500000  \n",
       "...                ...            ...         ...         ...        ...  \n",
       "752141       78.000000      17.000000        99.0  108.000000  87.000000  \n",
       "752142      104.400000      16.000000        97.4  120.800000  80.800000  \n",
       "752143      105.500000      16.000000        96.0  116.000000  74.500000  \n",
       "752144       81.000000      10.000000       100.0   93.000000  55.000000  \n",
       "752145      108.666667      18.666667         NaN  118.000000  81.333333  \n",
       "\n",
       "[752146 rows x 9 columns]"
      ]
     },
     "execution_count": 6,
     "metadata": {},
     "output_type": "execute_result"
    }
   ],
   "source": [
    "grouped_multiple"
   ]
  },
  {
   "cell_type": "code",
   "execution_count": 7,
   "metadata": {},
   "outputs": [
    {
     "data": {
      "text/plain": [
       "subject_id              0\n",
       "stay_id                 0\n",
       "charttime               0\n",
       "Mean_temperature    60071\n",
       "Mean_heartrate       6126\n",
       "Mean_resprate        7643\n",
       "Mean_o2sat          28566\n",
       "Mean_sbp             7394\n",
       "Mean_dbp             7394\n",
       "dtype: int64"
      ]
     },
     "execution_count": 7,
     "metadata": {},
     "output_type": "execute_result"
    }
   ],
   "source": [
    "# Κενές τιμές στον πίνακα\n",
    "grouped_multiple.isna().sum()"
   ]
  },
  {
   "cell_type": "code",
   "execution_count": 8,
   "metadata": {},
   "outputs": [],
   "source": [
    "rslt_df=pd.merge(df_ed_patients, grouped_multiple, on=['stay_id'])"
   ]
  },
  {
   "cell_type": "code",
   "execution_count": 9,
   "metadata": {},
   "outputs": [],
   "source": [
    "# Διαγραφή της στήλης subject_id_y\n",
    "rslt_df = rslt_df.drop(['subject_id_y'], axis=1)\n",
    "\n",
    "# Μετονομασία της στήλης subject_id_x\n",
    "rslt_df = rslt_df.rename(columns={'subject_id_x': 'subject_id'})"
   ]
  },
  {
   "cell_type": "code",
   "execution_count": 10,
   "metadata": {},
   "outputs": [],
   "source": [
    "#Εξαγωγή σε csv\n",
    "rslt_df.to_csv('D:\\Thesis\\exports\\o2_ed_mean_vitals.csv', index=False)"
   ]
  }
 ],
 "metadata": {
  "kernelspec": {
   "display_name": "Python 3 (ipykernel)",
   "language": "python",
   "name": "python3"
  },
  "language_info": {
   "codemirror_mode": {
    "name": "ipython",
    "version": 3
   },
   "file_extension": ".py",
   "mimetype": "text/x-python",
   "name": "python",
   "nbconvert_exporter": "python",
   "pygments_lexer": "ipython3",
   "version": "3.9.13"
  }
 },
 "nbformat": 4,
 "nbformat_minor": 4
}
