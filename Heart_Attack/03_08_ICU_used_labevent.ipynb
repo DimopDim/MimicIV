{
 "cells": [
  {
   "cell_type": "code",
   "execution_count": 1,
   "metadata": {},
   "outputs": [
    {
     "data": {
      "text/plain": [
       "'\\nΚάνουμε καταμέτρηση των πιο\\nσυχνά εμφανιζόμενων εξετάσεων.\\n\\nΣτο σύνολο τους 388 εγγραφές\\n'"
      ]
     },
     "execution_count": 1,
     "metadata": {},
     "output_type": "execute_result"
    }
   ],
   "source": [
    "\"\"\"\n",
    "Κάνουμε καταμέτρηση των πιο\n",
    "συχνά εμφανιζόμενων εξετάσεων.\n",
    "\n",
    "Στο σύνολο τους 388 εγγραφές\n",
    "\"\"\""
   ]
  },
  {
   "cell_type": "code",
   "execution_count": 1,
   "metadata": {},
   "outputs": [],
   "source": [
    "import pandas as pd"
   ]
  },
  {
   "cell_type": "code",
   "execution_count": 2,
   "metadata": {},
   "outputs": [],
   "source": [
    "# Δήλωση των dataframes\n",
    "\n",
    "df_labevents = pd.read_csv('D:\\Thesis\\exports\\o14_labevents_grouped_8hours.csv')"
   ]
  },
  {
   "cell_type": "code",
   "execution_count": 3,
   "metadata": {},
   "outputs": [],
   "source": [
    "# Καταμέτρηση των εξετάσεων που κάνουν οι ασθενείς και μετατροπή από series σε dataframe.\n",
    "rslt_df = pd.DataFrame(df_labevents['itemid'].value_counts(dropna=True))\n",
    "\n",
    "# Το παραγώμενο αρχείο έχει σαν index την στήλη που περιέχει τον κωδικό των εξετάσεων, οπότε την κάνουμε reset\n",
    "rslt_df = rslt_df.reset_index()\n",
    "\n",
    "# Και ορίζουμε νέες ονομασίες στις στήλες για να μπορούν να είναι ευανάγνωστες.\n",
    "rslt_df.rename(columns={'index': 'itemid', 'itemid': 'times'}).to_csv('D:\\Thesis\\exports\\o15_labevents_counts.csv',\n",
    "                                                                      index=False)"
   ]
  },
  {
   "cell_type": "code",
   "execution_count": null,
   "metadata": {},
   "outputs": [],
   "source": []
  }
 ],
 "metadata": {
  "kernelspec": {
   "display_name": "Python 3 (ipykernel)",
   "language": "python",
   "name": "python3"
  },
  "language_info": {
   "codemirror_mode": {
    "name": "ipython",
    "version": 3
   },
   "file_extension": ".py",
   "mimetype": "text/x-python",
   "name": "python",
   "nbconvert_exporter": "python",
   "pygments_lexer": "ipython3",
   "version": "3.9.13"
  }
 },
 "nbformat": 4,
 "nbformat_minor": 4
}
