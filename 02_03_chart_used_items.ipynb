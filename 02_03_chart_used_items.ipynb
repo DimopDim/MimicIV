{
 "cells": [
  {
   "cell_type": "code",
   "execution_count": 1,
   "metadata": {},
   "outputs": [
    {
     "data": {
      "text/plain": [
       "'\\nΚάνουμε καταμέτρηση των αναγνωριστικών κωδικών που εμφανίζονται στο chartevents.\\n'"
      ]
     },
     "execution_count": 1,
     "metadata": {},
     "output_type": "execute_result"
    }
   ],
   "source": [
    "\"\"\"\n",
    "Κάνουμε καταμέτρηση των αναγνωριστικών κωδικών που εμφανίζονται στο chartevents.+\n",
    "\n",
    "707 Αναγνωριστικοί κωδικοί μέτρησης\n",
    "\n",
    "* Πριν διαχωρίσω τον πίνακα οι εγγραφές ήταν 1784 και αρκετά κελιά παρέμεναν NaN λόγο των κειμένων που περιείχαν\n",
    "\"\"\""
   ]
  },
  {
   "cell_type": "code",
   "execution_count": 2,
   "metadata": {},
   "outputs": [],
   "source": [
    "#Εισαγωγή βιβλιοθήκης Panda\n",
    "import pandas as pd"
   ]
  },
  {
   "cell_type": "code",
   "execution_count": 3,
   "metadata": {},
   "outputs": [
    {
     "name": "stderr",
     "output_type": "stream",
     "text": [
      "C:\\Users\\Dimopoulos\\anaconda3\\lib\\site-packages\\IPython\\core\\interactiveshell.py:3146: DtypeWarning: Columns (6,8) have mixed types.Specify dtype option on import or set low_memory=False.\n",
      "  has_raised = await self.run_ast_nodes(code_ast.body, cell_name,\n"
     ]
    }
   ],
   "source": [
    "df_cerebral_infarction_chartevents = pd.read_csv('D:\\MSc Aegean\\Διατριβή\\MIMIC_IV\\mimic-iv-1.0\\exports\\o8_cerebral_infarction_chartevent_item_merged_without_nan.csv')\n",
    "df_data_chartevents = pd.read_csv('D:\\MSc Aegean\\Διατριβή\\MIMIC_IV\\mimic-iv-1.0\\icu\\d_items.csv.gz')\n",
    "df_patients = pd.read_csv('D:\\MSc Aegean\\Διατριβή\\MIMIC_IV\\mimic-iv-1.0\\exports\\o5_icu_unique_admissions.csv', usecols = ['subject_id'])"
   ]
  },
  {
   "cell_type": "code",
   "execution_count": 4,
   "metadata": {},
   "outputs": [],
   "source": [
    "# Καταμέτρηση των εξετάσεων που κάνουν οι ασθενείς με εγκεφαλικό και μετατροπή από series σε dataframe.\n",
    "rslt_df = pd.DataFrame(df_cerebral_infarction_chartevents['itemid'].value_counts(dropna=True))\n",
    "\n",
    "# Το παραγώμενο αρχείο έχει σαν index την στήλη που περιέχει τον κωδικό των εξετάσεων, οπότε την κάνουμε reset\n",
    "rslt_df = rslt_df.reset_index()\n",
    "\n",
    "# Και ορίζουμε νέες ονομασίες στις στήλες για να μπορούν να είναι ευανάγνωστες.\n",
    "rslt_df.rename(columns={'index': 'itemid', 'itemid': 'times'}).to_csv('D:\\MSc Aegean\\Διατριβή\\MIMIC_IV\\mimic-iv-1.0\\exports\\o9_cerebral_infarction_chartevents_counts.csv', index=False)"
   ]
  },
  {
   "cell_type": "code",
   "execution_count": 5,
   "metadata": {},
   "outputs": [],
   "source": [
    "rslt_df = pd.read_csv('D:\\MSc Aegean\\Διατριβή\\MIMIC_IV\\mimic-iv-1.0\\exports\\o9_cerebral_infarction_chartevents_counts.csv', index_col=False)\n",
    "\n",
    "rslt_df = rslt_df.set_index('itemid')\n",
    "\n",
    "# Μεταφέρω τις γραμμές σε στήλες\n",
    "rslt_df = rslt_df.transpose()"
   ]
  },
  {
   "cell_type": "code",
   "execution_count": 6,
   "metadata": {},
   "outputs": [],
   "source": [
    "# Αδειάζω την μία και μοναδική γραμμή του πίνακα\n",
    "rslt_df = rslt_df.drop(['times'])"
   ]
  },
  {
   "cell_type": "code",
   "execution_count": 7,
   "metadata": {},
   "outputs": [
    {
     "data": {
      "text/html": [
       "<div>\n",
       "<style scoped>\n",
       "    .dataframe tbody tr th:only-of-type {\n",
       "        vertical-align: middle;\n",
       "    }\n",
       "\n",
       "    .dataframe tbody tr th {\n",
       "        vertical-align: top;\n",
       "    }\n",
       "\n",
       "    .dataframe thead th {\n",
       "        text-align: right;\n",
       "    }\n",
       "</style>\n",
       "<table border=\"1\" class=\"dataframe\">\n",
       "  <thead>\n",
       "    <tr style=\"text-align: right;\">\n",
       "      <th>itemid</th>\n",
       "      <th>220045</th>\n",
       "      <th>220210</th>\n",
       "      <th>220277</th>\n",
       "      <th>220179</th>\n",
       "      <th>220180</th>\n",
       "      <th>220181</th>\n",
       "      <th>220052</th>\n",
       "      <th>220050</th>\n",
       "      <th>220051</th>\n",
       "      <th>220739</th>\n",
       "      <th>...</th>\n",
       "      <th>220283</th>\n",
       "      <th>228145</th>\n",
       "      <th>228146</th>\n",
       "      <th>228181</th>\n",
       "      <th>224855</th>\n",
       "      <th>225731</th>\n",
       "      <th>225736</th>\n",
       "      <th>228119</th>\n",
       "      <th>227647</th>\n",
       "      <th>224727</th>\n",
       "    </tr>\n",
       "  </thead>\n",
       "  <tbody>\n",
       "  </tbody>\n",
       "</table>\n",
       "<p>0 rows × 707 columns</p>\n",
       "</div>"
      ],
      "text/plain": [
       "Empty DataFrame\n",
       "Columns: [220045, 220210, 220277, 220179, 220180, 220181, 220052, 220050, 220051, 220739, 223900, 223901, 223761, 224641, 224168, 228096, 220765, 223835, 228412, 228409, 228411, 228410, 224054, 224055, 224057, 224056, 224058, 224059, 228305, 220074, 220339, 225664, 224687, 223849, 224697, 227066, 228299, 220292, 220293, 224685, 223876, 223873, 224689, 228394, 224695, 228395, 223874, 228396, 223848, 223875, 227341, 227342, 227343, 227345, 227344, 227346, 227292, 224690, 226107, 220047, 220046, 223770, 223769, 224161, 224162, 226253, 227368, 223791, 226138, 226169, 223753, 223834, 223872, 228100, 220645, 224701, 224686, 227442, 220602, 227293, 227367, 226137, 226113, 225185, 225187, 223751, 223752, 220621, 220615, 225624, 227443, 227073, 220635, 220545, 224688, 220228, 224684, 225677, 225184, 225625, ...]\n",
       "Index: []\n",
       "\n",
       "[0 rows x 707 columns]"
      ]
     },
     "execution_count": 7,
     "metadata": {},
     "output_type": "execute_result"
    }
   ],
   "source": [
    "rslt_df"
   ]
  }
 ],
 "metadata": {
  "kernelspec": {
   "display_name": "Python 3",
   "language": "python",
   "name": "python3"
  },
  "language_info": {
   "codemirror_mode": {
    "name": "ipython",
    "version": 3
   },
   "file_extension": ".py",
   "mimetype": "text/x-python",
   "name": "python",
   "nbconvert_exporter": "python",
   "pygments_lexer": "ipython3",
   "version": "3.8.5"
  }
 },
 "nbformat": 4,
 "nbformat_minor": 4
}
