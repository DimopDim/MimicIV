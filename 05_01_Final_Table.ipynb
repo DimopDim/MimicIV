{
 "cells": [
  {
   "cell_type": "code",
   "execution_count": 1,
   "metadata": {},
   "outputs": [
    {
     "data": {
      "text/plain": [
       "'\\nΕνοποίηση και των τριών πινάκων που έχω δημιουργήσει σε ένα ενιαίο\\n\\nChartEvent -> 65.189 γραμμές / 712 στήλες\\nLabEvent -> 68.191 γραμμές / 393 στήλες\\nED vitals -> 1.662 γραμμές / 11 στήλες\\n\\nfinal_table -> 135.042 γραμμές / 1106 στήλες\\n'"
      ]
     },
     "execution_count": 1,
     "metadata": {},
     "output_type": "execute_result"
    }
   ],
   "source": [
    "\"\"\"\n",
    "Ενοποίηση και των τριών πινάκων που έχω δημιουργήσει σε ένα ενιαίο\n",
    "\n",
    "ChartEvent -> 65.189 γραμμές / 712 στήλες\n",
    "LabEvent -> 68.191 γραμμές / 393 στήλες\n",
    "ED vitals -> 1.662 γραμμές / 11 στήλες\n",
    "\n",
    "final_table -> 135.042 γραμμές / 1106 στήλες\n",
    "\"\"\""
   ]
  },
  {
   "cell_type": "code",
   "execution_count": 2,
   "metadata": {},
   "outputs": [],
   "source": [
    "import pandas as pd"
   ]
  },
  {
   "cell_type": "code",
   "execution_count": 3,
   "metadata": {},
   "outputs": [],
   "source": [
    "df_chartevent = pd.read_csv('D:\\MSc Aegean\\Διατριβή\\MIMIC_IV\\mimic-iv-1.0\\exports\\o9_fill_chart_label_header_tbl.csv')\n",
    "\n",
    "df_labevents = pd.read_csv('D:\\MSc Aegean\\Διατριβή\\MIMIC_IV\\mimic-iv-1.0\\exports\\o15_fill_lab_label_header_tbl.csv')\n",
    "\n",
    "df_vital = pd.read_csv('D:\\MSc Aegean\\Διατριβή\\MIMIC_IV\\mimic-iv-1.0\\exports\\o17_ed_to_icu_vitalsigns.csv')"
   ]
  },
  {
   "cell_type": "code",
   "execution_count": 7,
   "metadata": {},
   "outputs": [],
   "source": [
    "final_table = df_chartevent.append([df_labevents, df_vital])"
   ]
  },
  {
   "cell_type": "code",
   "execution_count": 9,
   "metadata": {},
   "outputs": [],
   "source": [
    "#Εξαγωγή σε csv\n",
    "final_table.to_csv('D:\\MSc Aegean\\Διατριβή\\MIMIC_IV\\mimic-iv-1.0\\exports\\o18_final_table.csv', index=False)"
   ]
  }
 ],
 "metadata": {
  "kernelspec": {
   "display_name": "Python 3",
   "language": "python",
   "name": "python3"
  },
  "language_info": {
   "codemirror_mode": {
    "name": "ipython",
    "version": 3
   },
   "file_extension": ".py",
   "mimetype": "text/x-python",
   "name": "python",
   "nbconvert_exporter": "python",
   "pygments_lexer": "ipython3",
   "version": "3.8.5"
  }
 },
 "nbformat": 4,
 "nbformat_minor": 4
}
