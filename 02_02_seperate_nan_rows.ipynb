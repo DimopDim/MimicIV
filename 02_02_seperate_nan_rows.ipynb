{
 "cells": [
  {
   "cell_type": "code",
   "execution_count": 1,
   "metadata": {},
   "outputs": [
    {
     "data": {
      "text/plain": [
       "'\\nΠρέπει να απομονώσω τις γραμμές με NaN από την στήλη valuenum μιας και χρειάζομαι μόνο τις αριθμητικές καταγραφές και όχι τα κείμενα.\\n\\n26.600.037 συνολικά οι εγγραφές για ασθενών στις ΜΕΘ\\n\\n9.874.474 οι εγγραφές που περιέχουν τιμές\\n'"
      ]
     },
     "execution_count": 1,
     "metadata": {},
     "output_type": "execute_result"
    }
   ],
   "source": [
    "\"\"\"\n",
    "Πρέπει να απομονώσω τις γραμμές με NaN από την στήλη valuenum μιας και χρειάζομαι μόνο τις αριθμητικές καταγραφές και όχι τα κείμενα.\n",
    "\n",
    "26.600.037 συνολικά οι εγγραφές για ασθενών στις ΜΕΘ\n",
    "\n",
    "9.874.474 οι εγγραφές που περιέχουν τιμές\n",
    "\"\"\""
   ]
  },
  {
   "cell_type": "code",
   "execution_count": 2,
   "metadata": {},
   "outputs": [],
   "source": [
    "# Εισαγωγή βιβλιοθήκης Panda\n",
    "import pandas as pd"
   ]
  },
  {
   "cell_type": "code",
   "execution_count": 3,
   "metadata": {},
   "outputs": [
    {
     "name": "stderr",
     "output_type": "stream",
     "text": [
      "C:\\Users\\Dimopoulos\\anaconda3\\lib\\site-packages\\IPython\\core\\interactiveshell.py:3146: DtypeWarning: Columns (6,8) have mixed types.Specify dtype option on import or set low_memory=False.\n",
      "  has_raised = await self.run_ast_nodes(code_ast.body, cell_name,\n"
     ]
    }
   ],
   "source": [
    "df_cerebral_infarction_chartevent = pd.read_csv('D:\\MSc Aegean\\Διατριβή\\MIMIC_IV\\mimic-iv-1.0\\exports\\o8_cerebral_infarction_chartevent_item_merged.csv')"
   ]
  },
  {
   "cell_type": "code",
   "execution_count": 4,
   "metadata": {},
   "outputs": [
    {
     "name": "stdout",
     "output_type": "stream",
     "text": [
      "<class 'pandas.core.frame.DataFrame'>\n",
      "RangeIndex: 26600037 entries, 0 to 26600036\n",
      "Data columns (total 14 columns):\n",
      " #   Column        Dtype  \n",
      "---  ------        -----  \n",
      " 0   subject_id    int64  \n",
      " 1   hadm_id       int64  \n",
      " 2   stay_id       int64  \n",
      " 3   charttime     object \n",
      " 4   storetime     object \n",
      " 5   itemid        int64  \n",
      " 6   value         object \n",
      " 7   valuenum      float64\n",
      " 8   valueuom      object \n",
      " 9   warning       int64  \n",
      " 10  label         object \n",
      " 11  abbreviation  object \n",
      " 12  category      object \n",
      " 13  param_type    object \n",
      "dtypes: float64(1), int64(5), object(8)\n",
      "memory usage: 2.8+ GB\n"
     ]
    }
   ],
   "source": [
    "df_cerebral_infarction_chartevent.info()"
   ]
  },
  {
   "cell_type": "code",
   "execution_count": 5,
   "metadata": {},
   "outputs": [],
   "source": [
    "rslt_df = df_cerebral_infarction_chartevent[df_cerebral_infarction_chartevent['valuenum'].notna()]"
   ]
  },
  {
   "cell_type": "code",
   "execution_count": 6,
   "metadata": {},
   "outputs": [],
   "source": [
    "rslt_df.to_csv('D:\\MSc Aegean\\Διατριβή\\MIMIC_IV\\mimic-iv-1.0\\exports\\o8_cerebral_infarction_chartevent_item_merged_without_nan.csv', index=False)"
   ]
  }
 ],
 "metadata": {
  "kernelspec": {
   "display_name": "Python 3",
   "language": "python",
   "name": "python3"
  },
  "language_info": {
   "codemirror_mode": {
    "name": "ipython",
    "version": 3
   },
   "file_extension": ".py",
   "mimetype": "text/x-python",
   "name": "python",
   "nbconvert_exporter": "python",
   "pygments_lexer": "ipython3",
   "version": "3.8.5"
  }
 },
 "nbformat": 4,
 "nbformat_minor": 4
}
