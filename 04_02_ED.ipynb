{
 "cells": [
  {
   "cell_type": "code",
   "execution_count": null,
   "metadata": {},
   "outputs": [],
   "source": [
    "\"\"\"\n",
    "1.651.119 -> Στο σύνολο γραμμές καταχωρημένων ενδείξεων.\n",
    "752.146 -> Ομαδοποιημένες εγγραφές στο 8ώρο.\n",
    "\n",
    "\n",
    "\n",
    "\n",
    "6.788 -> γραμμές ενδείξεων που αφορούν άτομα από τα επείγοντα στις ΜΕΘ\n",
    "\n",
    "1.547 -> εισαγωγές στις ΜΕΘ\n",
    "\"\"\""
   ]
  },
  {
   "cell_type": "code",
   "execution_count": 2,
   "metadata": {},
   "outputs": [],
   "source": [
    "import pandas as pd"
   ]
  },
  {
   "cell_type": "code",
   "execution_count": 3,
   "metadata": {},
   "outputs": [],
   "source": [
    "df_vitalsign = pd.read_csv('D:\\MSc Aegean\\Διατριβή\\MIMIC_IV\\mimic-iv-1.0\\ed\\Vitalsign.csv.gz')"
   ]
  },
  {
   "cell_type": "code",
   "execution_count": 4,
   "metadata": {},
   "outputs": [],
   "source": [
    "df_vitalsign['charttime']= pd.to_datetime(df_vitalsign['charttime'])"
   ]
  },
  {
   "cell_type": "code",
   "execution_count": 5,
   "metadata": {},
   "outputs": [],
   "source": [
    "# Μετατροπή της στήλης charttime από object σε datetime\n",
    "df_vitalsign['charttime']= pd.to_datetime(df_vitalsign['charttime'])"
   ]
  },
  {
   "cell_type": "code",
   "execution_count": 6,
   "metadata": {},
   "outputs": [],
   "source": [
    "# Ομαδοποίηση καταγραφών ανά στήλη στο 8ώρο.\n",
    "\n",
    "grouped_multiple = (df_vitalsign.groupby(['subject_id', 'stay_id',\n",
    "                                          pd.Grouper(key='charttime',\n",
    "                                                     freq='8H')]).agg({'temperature': ['mean'],\n",
    "                                                                       'heartrate': ['mean'],\n",
    "                                                                       'resprate': ['mean'],\n",
    "                                                                       'o2sat': ['mean'],\n",
    "                                                                       'sbp': ['mean'],\n",
    "                                                                       'dbp': ['mean']}))\n",
    "grouped_multiple.columns = (['Mean_temperature',\n",
    "                             'Mean_heartrate',\n",
    "                             'Mean_resprate',\n",
    "                             'Mean_o2sat',\n",
    "                             'Mean_sbp',\n",
    "                             'Mean_dbp'])\n",
    "grouped_multiple = grouped_multiple.reset_index()"
   ]
  },
  {
   "cell_type": "code",
   "execution_count": 7,
   "metadata": {},
   "outputs": [
    {
     "data": {
      "text/plain": [
       "subject_id              0\n",
       "stay_id                 0\n",
       "charttime               0\n",
       "Mean_temperature    60071\n",
       "Mean_heartrate       6126\n",
       "Mean_resprate        7643\n",
       "Mean_o2sat          28566\n",
       "Mean_sbp             7394\n",
       "Mean_dbp             7394\n",
       "dtype: int64"
      ]
     },
     "execution_count": 7,
     "metadata": {},
     "output_type": "execute_result"
    }
   ],
   "source": [
    "# Κενές τιμές στον πίνακα\n",
    "grouped_multiple.isna().sum()"
   ]
  },
  {
   "cell_type": "code",
   "execution_count": 8,
   "metadata": {},
   "outputs": [
    {
     "name": "stdout",
     "output_type": "stream",
     "text": [
      "<class 'pandas.core.frame.DataFrame'>\n",
      "RangeIndex: 752146 entries, 0 to 752145\n",
      "Data columns (total 9 columns):\n",
      " #   Column            Non-Null Count   Dtype         \n",
      "---  ------            --------------   -----         \n",
      " 0   subject_id        752146 non-null  int64         \n",
      " 1   stay_id           752146 non-null  int64         \n",
      " 2   charttime         752146 non-null  datetime64[ns]\n",
      " 3   Mean_temperature  692075 non-null  float64       \n",
      " 4   Mean_heartrate    746020 non-null  float64       \n",
      " 5   Mean_resprate     744503 non-null  float64       \n",
      " 6   Mean_o2sat        723580 non-null  float64       \n",
      " 7   Mean_sbp          744752 non-null  float64       \n",
      " 8   Mean_dbp          744752 non-null  float64       \n",
      "dtypes: datetime64[ns](1), float64(6), int64(2)\n",
      "memory usage: 51.6 MB\n"
     ]
    }
   ],
   "source": [
    "grouped_multiple.info()"
   ]
  }
 ],
 "metadata": {
  "kernelspec": {
   "display_name": "Python 3",
   "language": "python",
   "name": "python3"
  },
  "language_info": {
   "codemirror_mode": {
    "name": "ipython",
    "version": 3
   },
   "file_extension": ".py",
   "mimetype": "text/x-python",
   "name": "python",
   "nbconvert_exporter": "python",
   "pygments_lexer": "ipython3",
   "version": "3.8.5"
  }
 },
 "nbformat": 4,
 "nbformat_minor": 4
}
