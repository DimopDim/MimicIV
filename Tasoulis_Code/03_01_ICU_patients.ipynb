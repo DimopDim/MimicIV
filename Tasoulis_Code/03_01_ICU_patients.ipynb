{
 "cells": [
  {
   "cell_type": "code",
   "execution_count": 1,
   "metadata": {},
   "outputs": [
    {
     "data": {
      "text/plain": [
       "'\\nΣε αυτό το αρχείο χρεισιμοποιούνται οι ICD9 κωδικοί που\\nαναφέρονται στο εγκεφαλικό και παράγεται το αρχείο\\n\"icd9_cerebral_infarction.csv\" όπου τους επεξηγεί.\\nΣτη συνέχεια παράγεται το αρχείο \"diagnoses_cerebral_infarction.csv\"\\nόπου περιλαμβάνονται σε αυτό οι ασθενείς με εγκεφαλικό.\\nΈπειτα δημιουργείται το αρχείο \"death.csv\" όπου\\nεμπεριέχονται σε αυτό οι ασθενείς που απεβίωσαν.\\n\\n523.740 -> Εισαγωγές στις νοσοκομειακές μονάδες.\\n 12.015 -> Εισαγωγές στις νοσοκομειακές μονάδες ασθενών με εγκεφαλικό.\\n  9.926 -> Μοναδικές εισαγωγές στις νοσοκομειακές μονάδες χωρίς περιλαμβάνονται οι ενδονοσοκομειακές μετακινήσεις.\\n  8.320 -> Μοναδικών ασθενών στις νοσοκομειακές μονάδες.\\n  7.431 -> Επιβίωσαν στις νοσοκομειακές μονάδες (89,31%).\\n    889 -> Απεβίωσαν στις νοσοκομειακές μονάδες (10,69%).\\n  \\n  \\n  5.436 -> Εισαγωγές στο σύνολο ασθενών στις ΜΕΘ.\\n  3.809 -> Μοναδικές εισαγωγές ασθενών στις ΜΕΘ\\n  3.646 -> Μοναδικοί ασθενείς στις ΜΕΘ\\n  2.887 -> Επιβίωσαν στις ΜΕΘ (73,71%)\\n    759 -> Απεβίωσαν στις ΜΕΘ (26,29%)\\n'"
      ]
     },
     "execution_count": 1,
     "metadata": {},
     "output_type": "execute_result"
    }
   ],
   "source": [
    "\"\"\"\n",
    "Σε αυτό το αρχείο χρεισιμοποιούνται οι ICD9 κωδικοί που\n",
    "αναφέρονται στο εγκεφαλικό και παράγεται το αρχείο\n",
    "\"icd9_cerebral_infarction.csv\" όπου τους επεξηγεί.\n",
    "Στη συνέχεια παράγεται το αρχείο \"diagnoses_cerebral_infarction.csv\"\n",
    "όπου περιλαμβάνονται σε αυτό οι ασθενείς με εγκεφαλικό.\n",
    "Έπειτα δημιουργείται το αρχείο \"death.csv\" όπου\n",
    "εμπεριέχονται σε αυτό οι ασθενείς που απεβίωσαν.\n",
    "\n",
    "523.740 -> Εισαγωγές στις νοσοκομειακές μονάδες.\n",
    " 12.015 -> Εισαγωγές στις νοσοκομειακές μονάδες ασθενών με εγκεφαλικό.\n",
    "  9.926 -> Μοναδικές εισαγωγές στις νοσοκομειακές μονάδες χωρίς περιλαμβάνονται οι ενδονοσοκομειακές μετακινήσεις.\n",
    "  8.320 -> Μοναδικών ασθενών στις νοσοκομειακές μονάδες.\n",
    "  7.431 -> Επιβίωσαν στις νοσοκομειακές μονάδες (89,31%).\n",
    "    889 -> Απεβίωσαν στις νοσοκομειακές μονάδες (10,69%).\n",
    "  \n",
    "  \n",
    "  5.436 -> Εισαγωγές στο σύνολο ασθενών στις ΜΕΘ.\n",
    "  3.809 -> Μοναδικές εισαγωγές ασθενών στις ΜΕΘ\n",
    "  3.646 -> Μοναδικοί ασθενείς στις ΜΕΘ\n",
    "  2.887 -> Επιβίωσαν στις ΜΕΘ (73,71%)\n",
    "    759 -> Απεβίωσαν στις ΜΕΘ (26,29%)\n",
    "\"\"\""
   ]
  },
  {
   "cell_type": "code",
   "execution_count": 2,
   "metadata": {},
   "outputs": [],
   "source": [
    "import pandas as pd"
   ]
  },
  {
   "cell_type": "code",
   "execution_count": 3,
   "metadata": {},
   "outputs": [],
   "source": [
    "# Δήλωση των data frame.\n",
    "df_hosp_patients = pd.read_csv('D:\\Thesis\\exports\\o3_hosp_patients.csv')\n",
    "df_icd = pd.read_csv('D:\\Thesis\\mimic-iv-1.0\\hosp\\d_icd_diagnoses.csv.gz')\n",
    "df_icu_stay = pd.read_csv('D:\\Thesis\\mimic-iv-1.0\\icu\\icustays.csv.gz',\n",
    "                          usecols = ['subject_id', 'hadm_id'])"
   ]
  },
  {
   "cell_type": "code",
   "execution_count": 4,
   "metadata": {},
   "outputs": [
    {
     "name": "stdout",
     "output_type": "stream",
     "text": [
      "<class 'pandas.core.frame.DataFrame'>\n",
      "RangeIndex: 13174 entries, 0 to 13173\n",
      "Data columns (total 3 columns):\n",
      " #   Column      Non-Null Count  Dtype \n",
      "---  ------      --------------  ----- \n",
      " 0   subject_id  13174 non-null  int64 \n",
      " 1   hadm_id     13174 non-null  int64 \n",
      " 2   icd_code    13174 non-null  object\n",
      "dtypes: int64(2), object(1)\n",
      "memory usage: 308.9+ KB\n"
     ]
    }
   ],
   "source": [
    "# 12.015 -> Εισαγωγές στις νοσοκομειακές μονάδες ασθενών με εγκεφαλικό.\n",
    "df_hosp_patients.info()"
   ]
  },
  {
   "cell_type": "code",
   "execution_count": 5,
   "metadata": {},
   "outputs": [
    {
     "name": "stdout",
     "output_type": "stream",
     "text": [
      "<class 'pandas.core.frame.DataFrame'>\n",
      "Int64Index: 12905 entries, 0 to 13173\n",
      "Data columns (total 3 columns):\n",
      " #   Column      Non-Null Count  Dtype \n",
      "---  ------      --------------  ----- \n",
      " 0   subject_id  12905 non-null  int64 \n",
      " 1   hadm_id     12905 non-null  int64 \n",
      " 2   icd_code    12905 non-null  object\n",
      "dtypes: int64(2), object(1)\n",
      "memory usage: 403.3+ KB\n"
     ]
    }
   ],
   "source": [
    "# 9.926 -> Μοναδικές εισαγωγές στις νοσοκομειακές μονάδες χωρίς περιλαμβάνονται οι ενδονοσοκομειακές μετακινήσεις.\n",
    "df_hosp_patients.drop_duplicates(subset=['hadm_id']).info()"
   ]
  },
  {
   "cell_type": "code",
   "execution_count": 6,
   "metadata": {},
   "outputs": [],
   "source": [
    "# Συνολικές εισαγωγές στις ΜΕΘ (5.436)\n",
    "rslt_df=pd.merge(df_hosp_patients, df_icu_stay, on=['subject_id','hadm_id'])\n",
    "rslt_df.to_csv('D:\\Thesis\\exports\\o4_icu_total_admissions.csv', index = False)"
   ]
  },
  {
   "cell_type": "code",
   "execution_count": 7,
   "metadata": {},
   "outputs": [
    {
     "name": "stdout",
     "output_type": "stream",
     "text": [
      "<class 'pandas.core.frame.DataFrame'>\n",
      "Int64Index: 7692 entries, 0 to 7691\n",
      "Data columns (total 3 columns):\n",
      " #   Column      Non-Null Count  Dtype \n",
      "---  ------      --------------  ----- \n",
      " 0   subject_id  7692 non-null   int64 \n",
      " 1   hadm_id     7692 non-null   int64 \n",
      " 2   icd_code    7692 non-null   object\n",
      "dtypes: int64(2), object(1)\n",
      "memory usage: 240.4+ KB\n"
     ]
    }
   ],
   "source": [
    "rslt_df.info()"
   ]
  },
  {
   "cell_type": "code",
   "execution_count": 8,
   "metadata": {},
   "outputs": [],
   "source": [
    "# Μοναδικ΄ές εισαγωγές στις ΜΕΘ (3809)\n",
    "rslt_df.drop_duplicates(subset=['hadm_id']).to_csv('D:\\Thesis\\exports\\o5_icu_unique_admissions.csv', index = False)"
   ]
  },
  {
   "cell_type": "code",
   "execution_count": 9,
   "metadata": {},
   "outputs": [
    {
     "name": "stdout",
     "output_type": "stream",
     "text": [
      "<class 'pandas.core.frame.DataFrame'>\n",
      "Int64Index: 5976 entries, 0 to 7691\n",
      "Data columns (total 3 columns):\n",
      " #   Column      Non-Null Count  Dtype \n",
      "---  ------      --------------  ----- \n",
      " 0   subject_id  5976 non-null   int64 \n",
      " 1   hadm_id     5976 non-null   int64 \n",
      " 2   icd_code    5976 non-null   object\n",
      "dtypes: int64(2), object(1)\n",
      "memory usage: 186.8+ KB\n"
     ]
    }
   ],
   "source": [
    "# Μοναδικοί ασθενείς στις ΜΕΘ (3646)\n",
    "rslt_df.drop_duplicates(subset=['subject_id']).info()"
   ]
  }
 ],
 "metadata": {
  "kernelspec": {
   "display_name": "Python 3",
   "language": "python",
   "name": "python3"
  },
  "language_info": {
   "codemirror_mode": {
    "name": "ipython",
    "version": 3
   },
   "file_extension": ".py",
   "mimetype": "text/x-python",
   "name": "python",
   "nbconvert_exporter": "python",
   "pygments_lexer": "ipython3",
   "version": "3.8.5"
  }
 },
 "nbformat": 4,
 "nbformat_minor": 4
}
