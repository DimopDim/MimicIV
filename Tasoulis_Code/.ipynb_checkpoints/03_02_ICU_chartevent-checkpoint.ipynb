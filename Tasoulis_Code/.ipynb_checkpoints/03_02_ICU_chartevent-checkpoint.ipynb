{
 "cells": [
  {
   "cell_type": "code",
   "execution_count": 1,
   "metadata": {},
   "outputs": [
    {
     "data": {
      "text/plain": [
       "'\\nΈχοντας τμηματοποιήσει έξω από την python τον πίνακα\\nchartevents σε επτά διαφορετικούς πίνακες τους συγκρίνω\\nκαι ενσωματώνω τα στοιχεία τους στο αρχείο \"_____________________\"\\nόπου εμπεριέχονται οι ασθενείς με εγκεφαλικό που έχουν εισαχθείς στης ΜΕΘ.\\n'"
      ]
     },
     "execution_count": 1,
     "metadata": {},
     "output_type": "execute_result"
    }
   ],
   "source": [
    "\"\"\"\n",
    "Έχοντας τμηματοποιήσει έξω από την python τον πίνακα\n",
    "chartevents σε επτά διαφορετικούς πίνακες τους συγκρίνω\n",
    "και ενσωματώνω τα στοιχεία τους στο αρχείο \"_____________________\"\n",
    "όπου εμπεριέχονται οι ασθενείς με εγκεφαλικό που έχουν εισαχθείς στης ΜΕΘ.\n",
    "\"\"\""
   ]
  },
  {
   "cell_type": "code",
   "execution_count": 2,
   "metadata": {},
   "outputs": [],
   "source": [
    "import pandas as pd"
   ]
  },
  {
   "cell_type": "code",
   "execution_count": 3,
   "metadata": {},
   "outputs": [],
   "source": [
    "df_patients = pd.read_csv('D:\\Thesis\\exports\\o5_icu_unique_admissions.csv', usecols=['subject_id', 'hadm_id'])"
   ]
  },
  {
   "cell_type": "code",
   "execution_count": 4,
   "metadata": {},
   "outputs": [
    {
     "data": {
      "text/html": [
       "<div>\n",
       "<style scoped>\n",
       "    .dataframe tbody tr th:only-of-type {\n",
       "        vertical-align: middle;\n",
       "    }\n",
       "\n",
       "    .dataframe tbody tr th {\n",
       "        vertical-align: top;\n",
       "    }\n",
       "\n",
       "    .dataframe thead th {\n",
       "        text-align: right;\n",
       "    }\n",
       "</style>\n",
       "<table border=\"1\" class=\"dataframe\">\n",
       "  <thead>\n",
       "    <tr style=\"text-align: right;\">\n",
       "      <th></th>\n",
       "      <th>subject_id</th>\n",
       "      <th>hadm_id</th>\n",
       "    </tr>\n",
       "  </thead>\n",
       "  <tbody>\n",
       "    <tr>\n",
       "      <th>0</th>\n",
       "      <td>13171113</td>\n",
       "      <td>26656764</td>\n",
       "    </tr>\n",
       "    <tr>\n",
       "      <th>1</th>\n",
       "      <td>11005929</td>\n",
       "      <td>26051211</td>\n",
       "    </tr>\n",
       "    <tr>\n",
       "      <th>2</th>\n",
       "      <td>14261784</td>\n",
       "      <td>25571330</td>\n",
       "    </tr>\n",
       "    <tr>\n",
       "      <th>3</th>\n",
       "      <td>18541554</td>\n",
       "      <td>24582627</td>\n",
       "    </tr>\n",
       "    <tr>\n",
       "      <th>4</th>\n",
       "      <td>19466961</td>\n",
       "      <td>22172321</td>\n",
       "    </tr>\n",
       "    <tr>\n",
       "      <th>...</th>\n",
       "      <td>...</td>\n",
       "      <td>...</td>\n",
       "    </tr>\n",
       "    <tr>\n",
       "      <th>6482</th>\n",
       "      <td>19159386</td>\n",
       "      <td>28184913</td>\n",
       "    </tr>\n",
       "    <tr>\n",
       "      <th>6483</th>\n",
       "      <td>17905654</td>\n",
       "      <td>25783910</td>\n",
       "    </tr>\n",
       "    <tr>\n",
       "      <th>6484</th>\n",
       "      <td>19883311</td>\n",
       "      <td>23262610</td>\n",
       "    </tr>\n",
       "    <tr>\n",
       "      <th>6485</th>\n",
       "      <td>18890224</td>\n",
       "      <td>21353088</td>\n",
       "    </tr>\n",
       "    <tr>\n",
       "      <th>6486</th>\n",
       "      <td>16393972</td>\n",
       "      <td>23399256</td>\n",
       "    </tr>\n",
       "  </tbody>\n",
       "</table>\n",
       "<p>6487 rows × 2 columns</p>\n",
       "</div>"
      ],
      "text/plain": [
       "      subject_id   hadm_id\n",
       "0       13171113  26656764\n",
       "1       11005929  26051211\n",
       "2       14261784  25571330\n",
       "3       18541554  24582627\n",
       "4       19466961  22172321\n",
       "...          ...       ...\n",
       "6482    19159386  28184913\n",
       "6483    17905654  25783910\n",
       "6484    19883311  23262610\n",
       "6485    18890224  21353088\n",
       "6486    16393972  23399256\n",
       "\n",
       "[6487 rows x 2 columns]"
      ]
     },
     "execution_count": 4,
     "metadata": {},
     "output_type": "execute_result"
    }
   ],
   "source": [
    "df_patients"
   ]
  },
  {
   "cell_type": "code",
   "execution_count": 5,
   "metadata": {},
   "outputs": [
    {
     "name": "stderr",
     "output_type": "stream",
     "text": [
      "C:\\Users\\Dimopoulos\\anaconda3\\lib\\site-packages\\IPython\\core\\interactiveshell.py:3146: DtypeWarning: Columns (6,8) have mixed types.Specify dtype option on import or set low_memory=False.\n",
      "  has_raised = await self.run_ast_nodes(code_ast.body, cell_name,\n"
     ]
    }
   ],
   "source": [
    "#Επεξεργασία πρώτου μέρους του αρχείου chartevent\n",
    " \n",
    "df_chartevents = pd.read_csv('D:\\Thesis\\Split_Merge_tables\\Splited_Chartevent\\chartevents_0.csv')\n",
    "\n",
    "rslt_df=pd.merge(df_patients, df_chartevents, on=['subject_id','hadm_id'])\n",
    "\n",
    "rslt_df.to_csv('D:\\Thesis\\Split_Merge_tables\\Merged_Chartevent\\cerebral_infarction_chartevent_0.csv', index=False)\n",
    "\n",
    "del (df_chartevents, rslt_df) # Διαγραφή των dataframe για απελευθέρωση μνήμης."
   ]
  },
  {
   "cell_type": "code",
   "execution_count": 6,
   "metadata": {},
   "outputs": [],
   "source": [
    "#Επεξεργασία δεύτερου μέρους του αρχείου chartevent\n",
    "\n",
    "df_chartevents = pd.read_csv('D:\\Thesis\\Split_Merge_tables\\Splited_Chartevent\\chartevents_1.csv',\n",
    "                             names = ['subject_id','hadm_id','seq_num','icd_code',\n",
    "                                      'icd_version','stay_id','charttime','storetime',\n",
    "                                      'itemid','value','valuenum','valueuom','warning']\n",
    "                            )\n",
    "\n",
    "rslt_df=pd.merge(df_patients, df_chartevents, on=['subject_id','hadm_id'])\n",
    "\n",
    "rslt_df.to_csv('D:\\Thesis\\Split_Merge_tables\\Merged_Chartevent\\cerebral_infarction_chartevent_1.csv', index=False)\n",
    "\n",
    "del (df_chartevents, rslt_df) # Διαγραφή των dataframe για απελευθέρωση μνήμης."
   ]
  },
  {
   "cell_type": "code",
   "execution_count": 7,
   "metadata": {},
   "outputs": [],
   "source": [
    "#Επεξεργασία τρίτου μέρους του αρχείου chartevent\n",
    "\n",
    "df_chartevents = pd.read_csv('D:\\Thesis\\Split_Merge_tables\\Splited_Chartevent\\chartevents_2.csv',\n",
    "                             names = ['subject_id','hadm_id','seq_num','icd_code',\n",
    "                                      'icd_version','stay_id','charttime','storetime',\n",
    "                                      'itemid','value','valuenum','valueuom','warning']\n",
    "                            )\n",
    "\n",
    "rslt_df=pd.merge(df_patients, df_chartevents, on=['subject_id','hadm_id'])\n",
    "\n",
    "rslt_df.to_csv('D:\\Thesis\\Split_Merge_tables\\Merged_Chartevent\\cerebral_infarction_chartevent_2.csv', index=False)\n",
    "\n",
    "del (df_chartevents, rslt_df) # Διαγραφή των dataframe για απελευθέρωση μνήμης."
   ]
  },
  {
   "cell_type": "code",
   "execution_count": 8,
   "metadata": {},
   "outputs": [],
   "source": [
    "#Επεξεργασία τέταρτου μέρους του αρχείου chartevent\n",
    "\n",
    "df_chartevents = pd.read_csv('D:\\Thesis\\Split_Merge_tables\\Splited_Chartevent\\chartevents_3.csv',\n",
    "                             names = ['subject_id','hadm_id','seq_num','icd_code',\n",
    "                                      'icd_version','stay_id','charttime','storetime',\n",
    "                                      'itemid','value','valuenum','valueuom','warning']\n",
    "                            )\n",
    "\n",
    "rslt_df=pd.merge(df_patients, df_chartevents, on=['subject_id','hadm_id'])\n",
    "\n",
    "rslt_df.to_csv('D:\\Thesis\\Split_Merge_tables\\Merged_Chartevent\\cerebral_infarction_chartevent_3.csv', index=False)\n",
    "\n",
    "del (df_chartevents, rslt_df) # Διαγραφή των dataframe για απελευθέρωση μνήμης."
   ]
  },
  {
   "cell_type": "code",
   "execution_count": 9,
   "metadata": {},
   "outputs": [],
   "source": [
    "#Επεξεργασία πέμπτου μέρους του αρχείου chartevent\n",
    "\n",
    "df_chartevents = pd.read_csv('D:\\Thesis\\Split_Merge_tables\\Splited_Chartevent\\chartevents_4.csv',\n",
    "                             names = ['subject_id','hadm_id','seq_num','icd_code',\n",
    "                                      'icd_version','stay_id','charttime','storetime',\n",
    "                                      'itemid','value','valuenum','valueuom','warning']\n",
    "                            )\n",
    "\n",
    "rslt_df=pd.merge(df_patients, df_chartevents, on=['subject_id','hadm_id'])\n",
    "\n",
    "rslt_df.to_csv('D:\\Thesis\\Split_Merge_tables\\Merged_Chartevent\\cerebral_infarction_chartevent_4.csv', index=False)\n",
    "\n",
    "del (df_chartevents, rslt_df) # Διαγραφή των dataframe για απελευθέρωση μνήμης."
   ]
  },
  {
   "cell_type": "code",
   "execution_count": 10,
   "metadata": {},
   "outputs": [],
   "source": [
    "#Επεξεργασία έκτου μέρους του αρχείου chartevent\n",
    "\n",
    "df_chartevents = pd.read_csv('D:\\Thesis\\Split_Merge_tables\\Splited_Chartevent\\chartevents_5.csv',\n",
    "                             names = ['subject_id','hadm_id','seq_num','icd_code',\n",
    "                                      'icd_version','stay_id','charttime','storetime',\n",
    "                                      'itemid','value','valuenum','valueuom','warning']\n",
    "                            )\n",
    "\n",
    "rslt_df=pd.merge(df_patients, df_chartevents, on=['subject_id','hadm_id'])\n",
    "\n",
    "rslt_df.to_csv('D:\\Thesis\\Split_Merge_tables\\Merged_Chartevent\\cerebral_infarction_chartevent_5.csv', index=False)\n",
    "\n",
    "del (df_chartevents, rslt_df) # Διαγραφή των dataframe για απελευθέρωση μνήμης."
   ]
  },
  {
   "cell_type": "code",
   "execution_count": 11,
   "metadata": {},
   "outputs": [],
   "source": [
    "#Επεξεργασία έβδομου μέρους του αρχείου chartevent\n",
    "\n",
    "df_chartevents = pd.read_csv('D:\\Thesis\\Split_Merge_tables\\Splited_Chartevent\\chartevents_6.csv',\n",
    "                             names = ['subject_id','hadm_id','seq_num','icd_code',\n",
    "                                      'icd_version','stay_id','charttime','storetime',\n",
    "                                      'itemid','value','valuenum','valueuom','warning']\n",
    "                            )\n",
    "\n",
    "rslt_df=pd.merge(df_patients, df_chartevents, on=['subject_id','hadm_id'])\n",
    "\n",
    "rslt_df.to_csv('D:\\Thesis\\Split_Merge_tables\\Merged_Chartevent\\cerebral_infarction_chartevent_6.csv', index=False)\n",
    "\n",
    "del (df_chartevents, rslt_df) # Διαγραφή των dataframe για απελευθέρωση μνήμης."
   ]
  },
  {
   "cell_type": "code",
   "execution_count": null,
   "metadata": {},
   "outputs": [],
   "source": [
    "\"\"\"\n",
    "ΠΡΟΣΟΧΗ ΣΕ ΑΥΤΟ ΤΟ ΣΗΜΕΙΟ ΠΡΕΠΕΙ ΝΑ ΠΑΡΑΜΕΤΡΟΠΟΙΗΣΟΥΜΕ\n",
    "ΤΙΣ ΕΠΙΚΕΦΑΛΙΔΕΣ ΤΩΝ ΠΑΡΑΓΩΜΕΝΩΝ ΑΡΧΕΙΩΝ!!!\n",
    "Ανοίγω το πρώτο csv που έχει δημιουργηθεί με την\n",
    "ονομασία \"cerebral_infarction_chartevent_0.csv\"\n",
    "και αντιγράφω την πρώτη γραμμή που περιέχει τους\n",
    "τίτλους των στηλών συνοδευόμενη από την ακολουθεία\n",
    ",del,del,del\n",
    "Είναι τυχαία ονόματα που έδωσα στα τρία τελευταία\n",
    "στοιχεία της λίστας μιας και κατά την επεξεργασία\n",
    "αυτών παράχθησαν τρεις επιπλέον στήλες\n",
    "τις οποίες όμως δεν θα χρησιμοποιήσω.\n",
    "\n",
    "Στη συνέχεια έχω παραθέσει τον τίτλο που πρέπει να\n",
    "φέρουν όλα τα αρχεία με ονομασία cerebral_infarction_chartevent_X.csv\n",
    "\n",
    "subject_id,hadm_id,stay_id,charttime,storetime,itemid,value,valuenum,valueuom,warning,del,del,del\n",
    "\"\"\""
   ]
  },
  {
   "cell_type": "code",
   "execution_count": 12,
   "metadata": {},
   "outputs": [],
   "source": [
    "#Φορτώνουμε τα επτά αρχεία\n",
    "\n",
    "df_patient_chartevent_0 = pd.read_csv('D:\\Thesis\\Split_Merge_tables\\Merged_Chartevent\\cerebral_infarction_chartevent_0.csv',\n",
    "                              usecols = ['subject_id','hadm_id','stay_id','charttime','storetime',\n",
    "                                         'itemid','value','valuenum','valueuom','warning'])\n",
    "\n",
    "df_patient_chartevent_1 = pd.read_csv('D:\\Thesis\\Split_Merge_tables\\Merged_Chartevent\\cerebral_infarction_chartevent_1.csv',\n",
    "                              usecols = ['subject_id','hadm_id','stay_id','charttime','storetime',\n",
    "                                         'itemid','value','valuenum','valueuom','warning'])\n",
    "\n",
    "df_patient_chartevent_2 = pd.read_csv('D:\\Thesis\\Split_Merge_tables\\Merged_Chartevent\\cerebral_infarction_chartevent_2.csv',\n",
    "                              usecols = ['subject_id','hadm_id','stay_id','charttime','storetime',\n",
    "                                         'itemid','value','valuenum','valueuom','warning'])\n",
    "\n",
    "df_patient_chartevent_3 = pd.read_csv('D:\\Thesis\\Split_Merge_tables\\Merged_Chartevent\\cerebral_infarction_chartevent_3.csv',\n",
    "                              usecols = ['subject_id','hadm_id','stay_id','charttime','storetime',\n",
    "                                         'itemid','value','valuenum','valueuom','warning'])\n",
    "\n",
    "df_patient_chartevent_4 = pd.read_csv('D:\\Thesis\\Split_Merge_tables\\Merged_Chartevent\\cerebral_infarction_chartevent_4.csv',\n",
    "                              usecols = ['subject_id','hadm_id','stay_id','charttime','storetime',\n",
    "                                         'itemid','value','valuenum','valueuom','warning'])\n",
    "\n",
    "df_patient_chartevent_5 = pd.read_csv('D:\\Thesis\\Split_Merge_tables\\Merged_Chartevent\\cerebral_infarction_chartevent_5.csv',\n",
    "                              usecols = ['subject_id','hadm_id','stay_id','charttime','storetime',\n",
    "                                         'itemid','value','valuenum','valueuom','warning'])\n",
    "\n",
    "df_patient_chartevent_6 = pd.read_csv('D:\\Thesis\\Split_Merge_tables\\Merged_Chartevent\\cerebral_infarction_chartevent_6.csv',\n",
    "                              usecols = ['subject_id','hadm_id','stay_id','charttime','storetime',\n",
    "                                         'itemid','value','valuenum','valueuom','warning'])"
   ]
  },
  {
   "cell_type": "code",
   "execution_count": 13,
   "metadata": {},
   "outputs": [],
   "source": [
    "#Ενσωματώνουμε τα μέρη του chartevents σε ένα αρχείο.\n",
    "pd.concat(\n",
    "    [df_patient_chartevent_0,\n",
    "     df_patient_chartevent_1,\n",
    "     df_patient_chartevent_2,\n",
    "     df_patient_chartevent_3,\n",
    "     df_patient_chartevent_4,\n",
    "     df_patient_chartevent_5,\n",
    "     df_patient_chartevent_6]).to_csv('D:\\Thesis\\exports\\o6_patient_chartevent.csv', index=False)\n",
    "\n",
    "# Διαγραφή των dataframe για απελευθέρωση μνήμης.\n",
    "del (df_patient_chartevent_0,\n",
    "     df_patient_chartevent_1,\n",
    "     df_patient_chartevent_2,\n",
    "     df_patient_chartevent_3,\n",
    "     df_patient_chartevent_4,\n",
    "     df_patient_chartevent_5,\n",
    "     df_patient_chartevent_6)"
   ]
  }
 ],
 "metadata": {
  "kernelspec": {
   "display_name": "Python 3",
   "language": "python",
   "name": "python3"
  },
  "language_info": {
   "codemirror_mode": {
    "name": "ipython",
    "version": 3
   },
   "file_extension": ".py",
   "mimetype": "text/x-python",
   "name": "python",
   "nbconvert_exporter": "python",
   "pygments_lexer": "ipython3",
   "version": "3.8.5"
  }
 },
 "nbformat": 4,
 "nbformat_minor": 4
}
