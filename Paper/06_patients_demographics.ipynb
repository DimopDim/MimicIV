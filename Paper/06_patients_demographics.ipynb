{
 "cells": [
  {
   "cell_type": "code",
   "execution_count": 1,
   "metadata": {},
   "outputs": [],
   "source": [
    "import pandas as pd\n",
    "import numpy as np"
   ]
  },
  {
   "cell_type": "code",
   "execution_count": 3,
   "metadata": {},
   "outputs": [],
   "source": [
    "# Csv reading\n",
    "df_training = pd.read_csv('D:\\MSc Aegean\\Thesis\\Weka\\Train_Test_Sets\\Sorted Set\\Train_70.csv', usecols = ['subject_id', 'hadm_id', 'date', 'hospital_expire_flag'])\n",
    "\n",
    "df_test = pd.read_csv('D:\\MSc Aegean\\Thesis\\Weka\\Train_Test_Sets\\Sorted Set\\Test_30.csv', usecols = ['subject_id', 'hadm_id', 'date', 'hospital_expire_flag'])\n",
    "\n",
    "df_patients = pd.read_csv('D:\\MSc Aegean\\Thesis\\mimic-iv-1.0\\core\\patients.csv.gz')\n",
    "\n",
    "df_admissions = pd.read_csv('D:\\MSc Aegean\\Thesis\\mimic-iv-1.0\\core\\Admissions.csv.gz', usecols = ['subject_id', 'ethnicity'])"
   ]
  },
  {
   "cell_type": "code",
   "execution_count": 4,
   "metadata": {},
   "outputs": [],
   "source": [
    "# Μετατροπή του date από Object σε datetime\n",
    "df_training['date']= pd.to_datetime(df_training['date'])\n",
    "df_test['date']= pd.to_datetime(df_test['date'])"
   ]
  },
  {
   "cell_type": "code",
   "execution_count": 5,
   "metadata": {},
   "outputs": [],
   "source": [
    "#Απομόνωση της χρονιάς από το date\n",
    "\n",
    "df_training['training_set_year'] = df_training['date'].dt.year\n",
    "\n",
    "df_test['training_set_year'] = df_test['date'].dt.year"
   ]
  },
  {
   "cell_type": "code",
   "execution_count": 6,
   "metadata": {},
   "outputs": [],
   "source": [
    "# Κρατάμε τις μοναδικές εγγραφές\n",
    "tempI = df_training.drop_duplicates(subset=['subject_id'])\n",
    "\n",
    "tempII = df_test.drop_duplicates(subset=['subject_id'])\n",
    "\n",
    "df_admissions = df_admissions.drop_duplicates(subset=['subject_id'])"
   ]
  },
  {
   "cell_type": "code",
   "execution_count": 7,
   "metadata": {},
   "outputs": [],
   "source": [
    "#Ενοποίηση πινάκων patients με τα training & test set\n",
    "rslt_df_training=pd.merge(tempI, df_patients, on=['subject_id'], how='left')\n",
    "\n",
    "rslt_df_test=pd.merge(tempII, df_patients, on=['subject_id'], how='left')\n",
    "\n",
    "# Προσθήκη και του admissions\n",
    "\n",
    "rslt_df_training=pd.merge(rslt_df_training, df_admissions, on=['subject_id'], how='left')\n",
    "\n",
    "rslt_df_test=pd.merge(rslt_df_test, df_admissions, on=['subject_id'], how='left')"
   ]
  },
  {
   "cell_type": "code",
   "execution_count": 8,
   "metadata": {},
   "outputs": [],
   "source": [
    "\"\"\"\n",
    "Υπολογισμός διαφοράς του έτους που έχει δηλωθεί\n",
    "στον ασθενή σε σχέση με το έτος εισαγωγής.\n",
    "\"\"\"\n",
    "\n",
    "rslt_df_training['temp_age'] = rslt_df_training['training_set_year'] - rslt_df_training['anchor_year']\n",
    "\n",
    "rslt_df_test['temp_age'] = rslt_df_test['training_set_year'] - rslt_df_test['anchor_year']"
   ]
  },
  {
   "cell_type": "code",
   "execution_count": 9,
   "metadata": {},
   "outputs": [],
   "source": [
    "# Πρόσθεση τις διαφοράς έτους με την ηλικία που είχε αρχικά δηλωθεί.\n",
    "rslt_df_training['Final_Age'] = rslt_df_training['temp_age'] + rslt_df_training['anchor_age']\n",
    "rslt_df_test['Final_Age'] = rslt_df_test['temp_age'] + rslt_df_test['anchor_age']"
   ]
  },
  {
   "cell_type": "code",
   "execution_count": 9,
   "metadata": {},
   "outputs": [
    {
     "data": {
      "text/plain": [
       "'\\nΑντικατάσταση των τιμών ηλικίας με την τιμή 89\\nσε όλους τους ασθενείς που η ηλικία τους είχε\\nδηλωθεί 91\\n'"
      ]
     },
     "execution_count": 9,
     "metadata": {},
     "output_type": "execute_result"
    }
   ],
   "source": [
    "\"\"\"\n",
    "Αντικατάσταση των τιμών ηλικίας με την τιμή 89\n",
    "σε όλους τους ασθενείς που η ηλικία τους είχε\n",
    "δηλωθεί 91\n",
    "\"\"\"\n",
    "\n",
    "#rslt_df_training.loc[rslt_df_training.anchor_age == 91, \"Final_Age\"] = 89\n",
    "#rslt_df_test.loc[rslt_df_test.anchor_age == 91, \"Final_Age\"] = 89"
   ]
  },
  {
   "cell_type": "code",
   "execution_count": 13,
   "metadata": {},
   "outputs": [],
   "source": [
    "rslt_df_test.to_csv('D:\\Paper\\Chart_Lab_by_hours\\Training_set.csv', index=False)"
   ]
  },
  {
   "cell_type": "code",
   "execution_count": 10,
   "metadata": {},
   "outputs": [
    {
     "data": {
      "text/plain": [
       "67.99260412611912"
      ]
     },
     "execution_count": 10,
     "metadata": {},
     "output_type": "execute_result"
    }
   ],
   "source": [
    "#Μέσος όρος ηλικίας training set\n",
    "rslt_df_training['Final_Age'].mean()"
   ]
  },
  {
   "cell_type": "code",
   "execution_count": 11,
   "metadata": {},
   "outputs": [
    {
     "data": {
      "text/plain": [
       "68.52460538532962"
      ]
     },
     "execution_count": 11,
     "metadata": {},
     "output_type": "execute_result"
    }
   ],
   "source": [
    "#Μέσος όρος ηλικίας test set\n",
    "rslt_df_test['Final_Age'].mean()"
   ]
  },
  {
   "cell_type": "code",
   "execution_count": 12,
   "metadata": {},
   "outputs": [
    {
     "data": {
      "text/plain": [
       "68.14975315414152"
      ]
     },
     "execution_count": 12,
     "metadata": {},
     "output_type": "execute_result"
    }
   ],
   "source": [
    "# Μέσος όρος ηλικίας από το σύνολο training & test set\n",
    "(rslt_df_training['Final_Age'].sum() + rslt_df_test['Final_Age'].sum()) / (rslt_df_training.shape[0] + rslt_df_test.shape[0])"
   ]
  },
  {
   "cell_type": "code",
   "execution_count": 13,
   "metadata": {},
   "outputs": [
    {
     "data": {
      "text/plain": [
       "M    1362\n",
       "F    1207\n",
       "Name: gender, dtype: int64"
      ]
     },
     "execution_count": 13,
     "metadata": {},
     "output_type": "execute_result"
    }
   ],
   "source": [
    "# Φύλλο στο training set\n",
    "rslt_df_training['gender'].value_counts()"
   ]
  },
  {
   "cell_type": "code",
   "execution_count": 14,
   "metadata": {},
   "outputs": [
    {
     "data": {
      "text/plain": [
       "M    560\n",
       "F    517\n",
       "Name: gender, dtype: int64"
      ]
     },
     "execution_count": 14,
     "metadata": {},
     "output_type": "execute_result"
    }
   ],
   "source": [
    "# Φύλλο στο test set\n",
    "rslt_df_test['gender'].value_counts()"
   ]
  },
  {
   "cell_type": "code",
   "execution_count": 15,
   "metadata": {},
   "outputs": [
    {
     "data": {
      "text/plain": [
       "M    1922\n",
       "F    1724\n",
       "Name: gender, dtype: int64"
      ]
     },
     "execution_count": 15,
     "metadata": {},
     "output_type": "execute_result"
    }
   ],
   "source": [
    "# Φύλλο στο σύνολο training set & test set\n",
    "rslt_df_training['gender'].value_counts() + rslt_df_test['gender'].value_counts()"
   ]
  },
  {
   "cell_type": "code",
   "execution_count": 16,
   "metadata": {},
   "outputs": [
    {
     "data": {
      "text/plain": [
       "WHITE                            1785\n",
       "UNKNOWN                           222\n",
       "BLACK/AFRICAN AMERICAN            201\n",
       "OTHER                             135\n",
       "HISPANIC/LATINO                    95\n",
       "ASIAN                              70\n",
       "UNABLE TO OBTAIN                   52\n",
       "AMERICAN INDIAN/ALASKA NATIVE       9\n",
       "Name: ethnicity, dtype: int64"
      ]
     },
     "execution_count": 16,
     "metadata": {},
     "output_type": "execute_result"
    }
   ],
   "source": [
    "# Εθνικότητα στο training set\n",
    "rslt_df_training['ethnicity'].value_counts()"
   ]
  },
  {
   "cell_type": "code",
   "execution_count": 17,
   "metadata": {},
   "outputs": [
    {
     "data": {
      "text/plain": [
       "WHITE                            751\n",
       "UNKNOWN                          113\n",
       "BLACK/AFRICAN AMERICAN            86\n",
       "OTHER                             53\n",
       "HISPANIC/LATINO                   30\n",
       "ASIAN                             24\n",
       "UNABLE TO OBTAIN                  17\n",
       "AMERICAN INDIAN/ALASKA NATIVE      3\n",
       "Name: ethnicity, dtype: int64"
      ]
     },
     "execution_count": 17,
     "metadata": {},
     "output_type": "execute_result"
    }
   ],
   "source": [
    "#Εθνινκότητα στο test set\n",
    "rslt_df_test['ethnicity'].value_counts()"
   ]
  },
  {
   "cell_type": "code",
   "execution_count": 18,
   "metadata": {},
   "outputs": [
    {
     "data": {
      "text/plain": [
       "WHITE                            2536\n",
       "UNKNOWN                           335\n",
       "BLACK/AFRICAN AMERICAN            287\n",
       "OTHER                             188\n",
       "HISPANIC/LATINO                   125\n",
       "ASIAN                              94\n",
       "UNABLE TO OBTAIN                   69\n",
       "AMERICAN INDIAN/ALASKA NATIVE      12\n",
       "Name: ethnicity, dtype: int64"
      ]
     },
     "execution_count": 18,
     "metadata": {},
     "output_type": "execute_result"
    }
   ],
   "source": [
    "# Εθνικότητα στο σύνολο training & test set\n",
    "rslt_df_training['ethnicity'].value_counts() + rslt_df_test['ethnicity'].value_counts()"
   ]
  },
  {
   "cell_type": "code",
   "execution_count": 19,
   "metadata": {},
   "outputs": [
    {
     "data": {
      "text/plain": [
       "40"
      ]
     },
     "execution_count": 19,
     "metadata": {},
     "output_type": "execute_result"
    }
   ],
   "source": [
    "\n",
    "rslt_df_test['anchor_age'].where(rslt_df_training['anchor_age'] == 91).count()"
   ]
  }
 ],
 "metadata": {
  "kernelspec": {
   "display_name": "Python 3",
   "language": "python",
   "name": "python3"
  },
  "language_info": {
   "codemirror_mode": {
    "name": "ipython",
    "version": 3
   },
   "file_extension": ".py",
   "mimetype": "text/x-python",
   "name": "python",
   "nbconvert_exporter": "python",
   "pygments_lexer": "ipython3",
   "version": "3.8.5"
  }
 },
 "nbformat": 4,
 "nbformat_minor": 4
}
