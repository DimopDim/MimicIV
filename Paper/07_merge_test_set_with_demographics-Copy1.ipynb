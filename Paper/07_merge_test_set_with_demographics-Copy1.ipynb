{
 "cells": [
  {
   "cell_type": "code",
   "execution_count": 1,
   "metadata": {},
   "outputs": [],
   "source": [
    "import pandas as pd\n",
    "import numpy as np"
   ]
  },
  {
   "cell_type": "code",
   "execution_count": 2,
   "metadata": {},
   "outputs": [],
   "source": [
    "df_icu = pd.read_csv('D:\\MSc Aegean\\Thesis\\exports\\o31_ICU_final.csv')"
   ]
  },
  {
   "cell_type": "code",
   "execution_count": 4,
   "metadata": {},
   "outputs": [],
   "source": [
    "temp = pd.read_csv('D:\\MSc Aegean\\Thesis\\exports\\Train_Test_Sets\\Manual_files\\Test30.csv')\n",
    "eight_hours = pd.read_csv('D:\\MSc Aegean\\Thesis\\exports\\Train_Test_Sets\\Manual_files\\eight_hours_tbl.csv')\n",
    "df_training_set = pd.read_csv('D:\\Paper\\Chart_Lab_by_hours\\Demographics.csv', usecols = ['subject_id', 'ethnicity', 'Final_Age'])"
   ]
  },
  {
   "cell_type": "code",
   "execution_count": 5,
   "metadata": {},
   "outputs": [],
   "source": [
    "rslt_df=pd.merge(temp, eight_hours, left_index=True, right_index=True)"
   ]
  },
  {
   "cell_type": "code",
   "execution_count": 6,
   "metadata": {},
   "outputs": [],
   "source": [
    "# Φέρνω τις τελευταίες στήλες, πρώτες\n",
    "cols = list(rslt_df.columns)\n",
    "cols = [cols[-1]] + cols[:-1]\n",
    "rslt_df = rslt_df[cols]"
   ]
  },
  {
   "cell_type": "code",
   "execution_count": 131,
   "metadata": {},
   "outputs": [],
   "source": [
    "# Επιλέγω το οχτάωρο\n",
    "tempII = rslt_df.loc[rslt_df['eight_hours'] == 12]"
   ]
  },
  {
   "cell_type": "code",
   "execution_count": 132,
   "metadata": {},
   "outputs": [],
   "source": [
    "Final = tempII.drop_duplicates(subset=['subject_id'])"
   ]
  },
  {
   "cell_type": "code",
   "execution_count": 135,
   "metadata": {},
   "outputs": [],
   "source": [
    "df_rslt=pd.merge(Final, df_training_set, on=['subject_id'], how='left')"
   ]
  },
  {
   "cell_type": "code",
   "execution_count": 136,
   "metadata": {},
   "outputs": [],
   "source": [
    "#Φέρνω την τελευταία στήλη, πρώτη\n",
    "for i in range (1, 3):\n",
    "    cols = list(df_rslt.columns)\n",
    "    cols = [cols[-1]] + cols[:-1]\n",
    "    df_rslt = df_rslt[cols]"
   ]
  },
  {
   "cell_type": "code",
   "execution_count": 138,
   "metadata": {},
   "outputs": [],
   "source": [
    "df_rslt = df_rslt.drop(['eight_hours'], axis=1)"
   ]
  },
  {
   "cell_type": "code",
   "execution_count": 139,
   "metadata": {},
   "outputs": [],
   "source": [
    "df_rslt.to_csv('D:\\Paper\\Chart_Lab_by_hours\\o12_first_ninety_six_hours.csv', index=False)"
   ]
  },
  {
   "cell_type": "code",
   "execution_count": 140,
   "metadata": {},
   "outputs": [],
   "source": [
    "df_test = pd.read_csv('D:\\Paper\\Chart_Lab_by_hours\\o12_first_ninety_six_hours.csv')"
   ]
  }
 ],
 "metadata": {
  "kernelspec": {
   "display_name": "Python 3",
   "language": "python",
   "name": "python3"
  },
  "language_info": {
   "codemirror_mode": {
    "name": "ipython",
    "version": 3
   },
   "file_extension": ".py",
   "mimetype": "text/x-python",
   "name": "python",
   "nbconvert_exporter": "python",
   "pygments_lexer": "ipython3",
   "version": "3.8.5"
  }
 },
 "nbformat": 4,
 "nbformat_minor": 4
}
