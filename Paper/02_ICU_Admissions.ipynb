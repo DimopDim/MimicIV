{
 "cells": [
  {
   "cell_type": "markdown",
   "metadata": {},
   "source": [
    "# Μοναδικές εισαγωγές στην ICU"
   ]
  },
  {
   "cell_type": "code",
   "execution_count": 1,
   "metadata": {},
   "outputs": [
    {
     "data": {
      "text/plain": [
       "'\\nΜοναδικές εισαγωγές στην ICU\\n69.211\\n'"
      ]
     },
     "execution_count": 1,
     "metadata": {},
     "output_type": "execute_result"
    }
   ],
   "source": [
    "\"\"\"\n",
    "ICU\n",
    "\n",
    "Συνολικές εισαγωγές 76.540\n",
    "Μοναδικές εισαγωγές 69.211\n",
    "Μοναδικοί ασθενείς 53.150\n",
    "\"\"\""
   ]
  },
  {
   "cell_type": "code",
   "execution_count": 2,
   "metadata": {},
   "outputs": [],
   "source": [
    "import pandas as pd"
   ]
  },
  {
   "cell_type": "code",
   "execution_count": 3,
   "metadata": {},
   "outputs": [],
   "source": [
    "df_icu_patients = pd.read_csv('D:\\Thesis\\mimic-iv-1.0\\icu\\icustays.csv.gz')"
   ]
  },
  {
   "cell_type": "code",
   "execution_count": 4,
   "metadata": {},
   "outputs": [
    {
     "name": "stdout",
     "output_type": "stream",
     "text": [
      "<class 'pandas.core.frame.DataFrame'>\n",
      "RangeIndex: 76540 entries, 0 to 76539\n",
      "Data columns (total 8 columns):\n",
      " #   Column          Non-Null Count  Dtype  \n",
      "---  ------          --------------  -----  \n",
      " 0   subject_id      76540 non-null  int64  \n",
      " 1   hadm_id         76540 non-null  int64  \n",
      " 2   stay_id         76540 non-null  int64  \n",
      " 3   first_careunit  76540 non-null  object \n",
      " 4   last_careunit   76540 non-null  object \n",
      " 5   intime          76540 non-null  object \n",
      " 6   outtime         76540 non-null  object \n",
      " 7   los             76540 non-null  float64\n",
      "dtypes: float64(1), int64(3), object(4)\n",
      "memory usage: 4.7+ MB\n"
     ]
    }
   ],
   "source": [
    "# Συνολικές εισαγωγές στην ICU\n",
    "df_icu_patients.info()"
   ]
  },
  {
   "cell_type": "code",
   "execution_count": 5,
   "metadata": {},
   "outputs": [
    {
     "name": "stdout",
     "output_type": "stream",
     "text": [
      "<class 'pandas.core.frame.DataFrame'>\n",
      "Int64Index: 69211 entries, 0 to 76539\n",
      "Data columns (total 8 columns):\n",
      " #   Column          Non-Null Count  Dtype  \n",
      "---  ------          --------------  -----  \n",
      " 0   subject_id      69211 non-null  int64  \n",
      " 1   hadm_id         69211 non-null  int64  \n",
      " 2   stay_id         69211 non-null  int64  \n",
      " 3   first_careunit  69211 non-null  object \n",
      " 4   last_careunit   69211 non-null  object \n",
      " 5   intime          69211 non-null  object \n",
      " 6   outtime         69211 non-null  object \n",
      " 7   los             69211 non-null  float64\n",
      "dtypes: float64(1), int64(3), object(4)\n",
      "memory usage: 4.8+ MB\n"
     ]
    }
   ],
   "source": [
    "# Μοναδικές εισαγωγές\n",
    "df_icu_patients.drop_duplicates(subset=['hadm_id']).info()"
   ]
  },
  {
   "cell_type": "code",
   "execution_count": 6,
   "metadata": {},
   "outputs": [
    {
     "name": "stdout",
     "output_type": "stream",
     "text": [
      "<class 'pandas.core.frame.DataFrame'>\n",
      "Int64Index: 53150 entries, 0 to 76539\n",
      "Data columns (total 8 columns):\n",
      " #   Column          Non-Null Count  Dtype  \n",
      "---  ------          --------------  -----  \n",
      " 0   subject_id      53150 non-null  int64  \n",
      " 1   hadm_id         53150 non-null  int64  \n",
      " 2   stay_id         53150 non-null  int64  \n",
      " 3   first_careunit  53150 non-null  object \n",
      " 4   last_careunit   53150 non-null  object \n",
      " 5   intime          53150 non-null  object \n",
      " 6   outtime         53150 non-null  object \n",
      " 7   los             53150 non-null  float64\n",
      "dtypes: float64(1), int64(3), object(4)\n",
      "memory usage: 3.6+ MB\n"
     ]
    }
   ],
   "source": [
    "# Μοναδικοί ασθενείς\n",
    "df_icu_patients.drop_duplicates(subset=['subject_id']).info()"
   ]
  }
 ],
 "metadata": {
  "kernelspec": {
   "display_name": "Python 3",
   "language": "python",
   "name": "python3"
  },
  "language_info": {
   "codemirror_mode": {
    "name": "ipython",
    "version": 3
   },
   "file_extension": ".py",
   "mimetype": "text/x-python",
   "name": "python",
   "nbconvert_exporter": "python",
   "pygments_lexer": "ipython3",
   "version": "3.8.5"
  }
 },
 "nbformat": 4,
 "nbformat_minor": 4
}
