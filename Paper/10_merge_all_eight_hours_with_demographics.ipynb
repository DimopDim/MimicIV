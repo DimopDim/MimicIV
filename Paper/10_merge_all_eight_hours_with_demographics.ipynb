{
 "cells": [
  {
   "cell_type": "code",
   "execution_count": 1,
   "metadata": {},
   "outputs": [],
   "source": [
    "import pandas as pd\n",
    "import numpy as np"
   ]
  },
  {
   "cell_type": "code",
   "execution_count": 2,
   "metadata": {},
   "outputs": [],
   "source": [
    "df_icu = pd.read_csv('D:\\Paper\\Chart_Lab_by_hours\\Total_file\\All_icu_patients.csv')\n",
    "\n",
    "df_admissions = pd.read_csv('D:\\MSc Aegean\\Thesis\\mimic-iv-1.0\\core\\Admissions.csv.gz', usecols = ['subject_id', 'hadm_id', 'ethnicity'])\n",
    "\n",
    "df_patients = pd.read_csv('D:\\MSc Aegean\\Thesis\\mimic-iv-1.0\\core\\patients.csv.gz')"
   ]
  },
  {
   "cell_type": "code",
   "execution_count": 3,
   "metadata": {},
   "outputs": [],
   "source": [
    "df_icu['date']= pd.to_datetime(df_icu['date'])\n",
    "\n",
    "df_icu['year'] = df_icu['date'].dt.year"
   ]
  },
  {
   "cell_type": "code",
   "execution_count": 4,
   "metadata": {},
   "outputs": [],
   "source": [
    "\"\"\"\n",
    "Δημιουργία ξεχωριστά όλων των οχτάωρων αρχείων\n",
    "με τις καταγραφές των ασθενών που περιλαμβάνουν\n",
    "ηλικία, φύλλο, εθνικότητα.\n",
    "\"\"\"\n",
    "\n",
    "for i in range (1, (df_icu.eight_hour.max()+1)):\n",
    "    # Επιλογή οχταώρου\n",
    "    temp = df_icu.loc[df_icu['eight_hour'] == i]\n",
    "    # Στο ενδεχόμενο να υπάρχουν διπλές εγγραφές\n",
    "    final = temp.drop_duplicates(subset=['subject_id'])\n",
    "    # ενοποίηση του οχταώρου με φύλλο, χρονιές\n",
    "    rslt_df=pd.merge(final, df_patients, on=['subject_id'], how='left')\n",
    "    # ενοποίηση με εθνικότητα\n",
    "    rslt_df=pd.merge(rslt_df, df_admissions, on=['subject_id', 'hadm_id'], how='left')\n",
    "    # υπολογισμός ηλικίας\n",
    "    rslt_df['temp_age'] = rslt_df['year'] - rslt_df['anchor_year']\n",
    "    # υπολογισμός ηλικίας\n",
    "    rslt_df['Age'] = rslt_df['temp_age'] + rslt_df['anchor_age']\n",
    "    # αφαίρεση μη χρήσιμων στηλών\n",
    "    rslt_df = rslt_df.drop(['year', 'anchor_age', 'anchor_year', 'anchor_year_group', 'dod', 'temp_age' ], axis=1)\n",
    "    # εξαγωγή csv\n",
    "    rslt_df.to_csv('D:\\Paper\\Chart_Lab_by_hours\\Test\\o{}.csv'.format(i), index=False) "
   ]
  },
  {
   "cell_type": "code",
   "execution_count": 5,
   "metadata": {},
   "outputs": [],
   "source": [
    "\"\"\"\n",
    "Ενοποίηση των οχτάωρων αρχείων με τις καταγραφές\n",
    "των ασθενών που περιλαμβάνουν ηλικία, φύλλο, εθνικότητα.\n",
    "\"\"\"\n",
    "\n",
    "temp = pd.read_csv('D:\\Paper\\Chart_Lab_by_hours\\Test\\o1.csv')\n",
    "for i in range (1, (df_icu.eight_hour.max())):\n",
    "    tempII = (temp, pd.read_csv('D:\\Paper\\Chart_Lab_by_hours\\Test\\o{}.csv'.format(i+1)))             \n",
    "    temp = pd.concat(tempII) "
   ]
  },
  {
   "cell_type": "code",
   "execution_count": 6,
   "metadata": {},
   "outputs": [],
   "source": [
    "for i in range (1, 4):\n",
    "    cols = list(temp.columns)\n",
    "    cols = [cols[-1]] + cols[:-1]\n",
    "    temp = temp[cols]\n",
    "\n",
    "# Στοίχιση πίνακα\n",
    "temp.sort_values(['subject_id', 'hadm_id', 'date', 'time']).to_csv('D:\\Paper\\Chart_Lab_by_hours\\Test\\Merge_file.csv', index=False)"
   ]
  }
 ],
 "metadata": {
  "kernelspec": {
   "display_name": "Python 3",
   "language": "python",
   "name": "python3"
  },
  "language_info": {
   "codemirror_mode": {
    "name": "ipython",
    "version": 3
   },
   "file_extension": ".py",
   "mimetype": "text/x-python",
   "name": "python",
   "nbconvert_exporter": "python",
   "pygments_lexer": "ipython3",
   "version": "3.8.5"
  }
 },
 "nbformat": 4,
 "nbformat_minor": 4
}
