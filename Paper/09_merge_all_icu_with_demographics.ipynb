{
 "cells": [
  {
   "cell_type": "code",
   "execution_count": 1,
   "metadata": {},
   "outputs": [],
   "source": [
    "import pandas as pd\n",
    "import numpy as np"
   ]
  },
  {
   "cell_type": "code",
   "execution_count": 2,
   "metadata": {},
   "outputs": [],
   "source": [
    "df_icu = pd.read_csv('D:\\Paper\\Chart_Lab_by_hours\\Total_file\\All_icu_patients.csv')\n",
    "\n",
    "df_admissions = pd.read_csv('D:\\MSc Aegean\\Thesis\\mimic-iv-1.0\\core\\Admissions.csv.gz', usecols = ['subject_id', 'hadm_id', 'ethnicity'])\n",
    "\n",
    "df_patients = pd.read_csv('D:\\MSc Aegean\\Thesis\\mimic-iv-1.0\\core\\patients.csv.gz')"
   ]
  },
  {
   "cell_type": "code",
   "execution_count": 3,
   "metadata": {},
   "outputs": [],
   "source": [
    "df_icu['date']= pd.to_datetime(df_icu['date'])\n",
    "\n",
    "df_icu['year'] = df_icu['date'].dt.year"
   ]
  },
  {
   "cell_type": "code",
   "execution_count": 138,
   "metadata": {},
   "outputs": [],
   "source": [
    "# Επιλέγω το οχτάωρο\n",
    "\n",
    "temp = df_icu.loc[df_icu['eight_hour'] == 12]\n",
    "final = temp.drop_duplicates(subset=['subject_id'])"
   ]
  },
  {
   "cell_type": "code",
   "execution_count": 140,
   "metadata": {},
   "outputs": [],
   "source": [
    "rslt_df=pd.merge(final, df_patients, on=['subject_id'], how='left')\n",
    "\n",
    "rslt_df=pd.merge(rslt_df, df_admissions, on=['subject_id', 'hadm_id'], how='left')"
   ]
  },
  {
   "cell_type": "code",
   "execution_count": 142,
   "metadata": {},
   "outputs": [],
   "source": [
    "#rslt_df = rslt_df.drop_duplicates(subset=['subject_id'])"
   ]
  },
  {
   "cell_type": "code",
   "execution_count": 143,
   "metadata": {},
   "outputs": [],
   "source": [
    "rslt_df['temp_age'] = rslt_df['year'] - rslt_df['anchor_year']"
   ]
  },
  {
   "cell_type": "code",
   "execution_count": 144,
   "metadata": {},
   "outputs": [],
   "source": [
    "rslt_df['Age'] = rslt_df['temp_age'] + rslt_df['anchor_age']"
   ]
  },
  {
   "cell_type": "code",
   "execution_count": 145,
   "metadata": {},
   "outputs": [],
   "source": [
    "rslt_df = rslt_df.drop(['year', 'anchor_age', 'anchor_year', 'anchor_year_group', 'dod', 'temp_age', 'eight_hour' ], axis=1)"
   ]
  },
  {
   "cell_type": "code",
   "execution_count": 146,
   "metadata": {},
   "outputs": [],
   "source": [
    "#Φέρνω την τελευταία στήλη, πρώτη\n",
    "for i in range (1, 4):\n",
    "    cols = list(rslt_df.columns)\n",
    "    cols = [cols[-1]] + cols[:-1]\n",
    "    rslt_df = rslt_df[cols]"
   ]
  },
  {
   "cell_type": "code",
   "execution_count": 147,
   "metadata": {},
   "outputs": [],
   "source": [
    "rslt_df.to_csv('D:\\Paper\\Chart_Lab_by_hours\\Total_file\\o12_first_ninety_six_hours.csv', index=False)"
   ]
  }
 ],
 "metadata": {
  "kernelspec": {
   "display_name": "Python 3",
   "language": "python",
   "name": "python3"
  },
  "language_info": {
   "codemirror_mode": {
    "name": "ipython",
    "version": 3
   },
   "file_extension": ".py",
   "mimetype": "text/x-python",
   "name": "python",
   "nbconvert_exporter": "python",
   "pygments_lexer": "ipython3",
   "version": "3.8.5"
  }
 },
 "nbformat": 4,
 "nbformat_minor": 4
}
