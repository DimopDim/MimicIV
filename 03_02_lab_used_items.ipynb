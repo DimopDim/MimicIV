{
 "cells": [
  {
   "cell_type": "code",
   "execution_count": 1,
   "metadata": {},
   "outputs": [
    {
     "data": {
      "text/plain": [
       "'\\nΚάνουμε καταμέτρηση των πιο συχνά εμφανιζόμενων εξετάσεων.\\n'"
      ]
     },
     "execution_count": 1,
     "metadata": {},
     "output_type": "execute_result"
    }
   ],
   "source": [
    "\"\"\"\n",
    "Κάνουμε καταμέτρηση των πιο συχνά εμφανιζόμενων εξετάσεων.\n",
    "\"\"\""
   ]
  },
  {
   "cell_type": "code",
   "execution_count": 2,
   "metadata": {},
   "outputs": [],
   "source": [
    "#Εισαγωγή βιβλιοθήκης Panda.\n",
    "import pandas as pd"
   ]
  },
  {
   "cell_type": "code",
   "execution_count": 3,
   "metadata": {},
   "outputs": [],
   "source": [
    "# Δήλωση των dataframes\n",
    "\n",
    "df_cerebral_infarction_labevents = pd.read_csv('D:\\MSc Aegean\\Διατριβή\\MIMIC_IV\\mimic-iv-1.0\\exports\\o11_cerebral_infarction_labevents_grouped_8hours.csv')\n",
    "df_data_lab_events = pd.read_csv('D:\\MSc Aegean\\Διατριβή\\MIMIC_IV\\mimic-iv-1.0\\hosp\\d_labitems.csv.gz')\n",
    "df_patients = pd.read_csv('D:\\MSc Aegean\\Διατριβή\\MIMIC_IV\\mimic-iv-1.0\\exports\\o5_icu_unique_admissions.csv', usecols = ['subject_id'])"
   ]
  },
  {
   "cell_type": "code",
   "execution_count": 4,
   "metadata": {},
   "outputs": [],
   "source": [
    "# Καταμέτρηση των εξετάσεων που κάνουν οι ασθενείς με εγκεφαλικό και μετατροπή από series σε dataframe.\n",
    "rslt_df = pd.DataFrame(df_cerebral_infarction_labevents['itemid'].value_counts(dropna=True))\n",
    "\n",
    "# Το παραγώμενο αρχείο έχει σαν index την στήλη που περιέχει τον κωδικό των εξετάσεων, οπότε την κάνουμε reset\n",
    "rslt_df = rslt_df.reset_index()\n",
    "\n",
    "# Και ορίζουμε νέες ονομασίες στις στήλες για να μπορούν να είναι ευανάγνωστες.\n",
    "rslt_df.rename(columns={'index': 'itemid', 'itemid': 'times'}).to_csv('D:\\MSc Aegean\\Διατριβή\\MIMIC_IV\\mimic-iv-1.0\\exports\\o12_cerebral_infarction_labevents_counts.csv', index=False)"
   ]
  },
  {
   "cell_type": "code",
   "execution_count": 5,
   "metadata": {},
   "outputs": [],
   "source": [
    "rslt_df = pd.read_csv('D:\\MSc Aegean\\Διατριβή\\MIMIC_IV\\mimic-iv-1.0\\exports\\o12_cerebral_infarction_labevents_counts.csv', index_col=False)"
   ]
  },
  {
   "cell_type": "code",
   "execution_count": 6,
   "metadata": {},
   "outputs": [],
   "source": [
    "rslt_df = rslt_df.set_index('itemid')"
   ]
  },
  {
   "cell_type": "code",
   "execution_count": 7,
   "metadata": {},
   "outputs": [],
   "source": [
    "# Μεταφέρω τις γραμμές σε στήλες\n",
    "rslt_df = rslt_df.transpose()"
   ]
  },
  {
   "cell_type": "code",
   "execution_count": 8,
   "metadata": {},
   "outputs": [],
   "source": [
    "# Αδειάζω την μία και μοναδική γραμμή του πίνακα\n",
    "rslt_df = rslt_df.drop(['times'])"
   ]
  },
  {
   "cell_type": "code",
   "execution_count": 9,
   "metadata": {},
   "outputs": [
    {
     "data": {
      "text/html": [
       "<div>\n",
       "<style scoped>\n",
       "    .dataframe tbody tr th:only-of-type {\n",
       "        vertical-align: middle;\n",
       "    }\n",
       "\n",
       "    .dataframe tbody tr th {\n",
       "        vertical-align: top;\n",
       "    }\n",
       "\n",
       "    .dataframe thead th {\n",
       "        text-align: right;\n",
       "    }\n",
       "</style>\n",
       "<table border=\"1\" class=\"dataframe\">\n",
       "  <thead>\n",
       "    <tr style=\"text-align: right;\">\n",
       "      <th>itemid</th>\n",
       "      <th>50983</th>\n",
       "      <th>50971</th>\n",
       "      <th>50902</th>\n",
       "      <th>50912</th>\n",
       "      <th>51006</th>\n",
       "      <th>50882</th>\n",
       "      <th>50868</th>\n",
       "      <th>50931</th>\n",
       "      <th>51221</th>\n",
       "      <th>50960</th>\n",
       "      <th>...</th>\n",
       "      <th>52274</th>\n",
       "      <th>51456</th>\n",
       "      <th>51488</th>\n",
       "      <th>51494</th>\n",
       "      <th>51678</th>\n",
       "      <th>51302</th>\n",
       "      <th>51380</th>\n",
       "      <th>50934</th>\n",
       "      <th>50916</th>\n",
       "      <th>50840</th>\n",
       "    </tr>\n",
       "  </thead>\n",
       "  <tbody>\n",
       "  </tbody>\n",
       "</table>\n",
       "<p>0 rows × 388 columns</p>\n",
       "</div>"
      ],
      "text/plain": [
       "Empty DataFrame\n",
       "Columns: [50983, 50971, 50902, 50912, 51006, 50882, 50868, 50931, 51221, 50960, 51265, 51222, 51301, 51249, 51248, 51250, 51279, 51277, 50970, 50893, 51275, 51274, 51237, 50820, 50802, 50821, 50804, 50818, 50808, 50813, 50861, 50878, 50885, 50863, 51491, 51498, 50809, 50862, 50822, 50910, 51244, 51256, 51254, 51146, 51200, 50817, 50964, 50954, 50911, 50825, 51009, 51003, 51516, 51493, 51476, 50816, 51492, 50967, 50819, 50824, 51144, 51214, 51251, 51255, 51143, 50811, 50810, 50806, 50826, 52172, 51000, 51100, 50956, 51093, 51082, 50852, 51097, 51078, 50907, 50904, 50903, 50867, 50905, 51613, 51514, 51482, 50993, 50908, 51484, 51007, 52264, 52281, 52272, 52286, 51104, 52285, 51802, 51478, 51790, 51257, ...]\n",
       "Index: []\n",
       "\n",
       "[0 rows x 388 columns]"
      ]
     },
     "execution_count": 9,
     "metadata": {},
     "output_type": "execute_result"
    }
   ],
   "source": [
    "rslt_df"
   ]
  }
 ],
 "metadata": {
  "kernelspec": {
   "display_name": "Python 3",
   "language": "python",
   "name": "python3"
  },
  "language_info": {
   "codemirror_mode": {
    "name": "ipython",
    "version": 3
   },
   "file_extension": ".py",
   "mimetype": "text/x-python",
   "name": "python",
   "nbconvert_exporter": "python",
   "pygments_lexer": "ipython3",
   "version": "3.8.5"
  }
 },
 "nbformat": 4,
 "nbformat_minor": 4
}
