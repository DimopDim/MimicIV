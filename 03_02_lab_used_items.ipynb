{
 "cells": [
  {
   "cell_type": "code",
   "execution_count": 1,
   "metadata": {},
   "outputs": [
    {
     "data": {
      "text/plain": [
       "'\\nΚάνουμε καταμέτρηση των πιο συχνά εμφανιζόμενων εξετάσεων.\\n'"
      ]
     },
     "execution_count": 1,
     "metadata": {},
     "output_type": "execute_result"
    }
   ],
   "source": [
    "\"\"\"\n",
    "Κάνουμε καταμέτρηση των πιο συχνά εμφανιζόμενων εξετάσεων.\n",
    "\"\"\""
   ]
  },
  {
   "cell_type": "code",
   "execution_count": 12,
   "metadata": {},
   "outputs": [],
   "source": [
    "#Εισαγωγή βιβλιοθήκης Panda.\n",
    "import pandas as pd"
   ]
  },
  {
   "cell_type": "code",
   "execution_count": 13,
   "metadata": {},
   "outputs": [],
   "source": [
    "# Δήλωση των dataframes\n",
    "\n",
    "df_cerebral_infarction_labevents = pd.read_csv('D:\\MSc Aegean\\Διατριβή\\MIMIC_IV\\mimic-iv-1.0\\exports\\o10_cerebral_infarction_labevents.csv')\n",
    "df_data_lab_events = pd.read_csv('D:\\MSc Aegean\\Διατριβή\\MIMIC_IV\\mimic-iv-1.0\\hosp\\d_labitems.csv.gz')\n",
    "df_patients = pd.read_csv('D:\\MSc Aegean\\Διατριβή\\MIMIC_IV\\mimic-iv-1.0\\exports\\o5_icu_unique_admissions.csv', usecols = ['subject_id'])"
   ]
  },
  {
   "cell_type": "code",
   "execution_count": 14,
   "metadata": {},
   "outputs": [],
   "source": [
    "# Καταμέτρηση των εξετάσεων που κάνουν οι ασθενείς με εγκεφαλικό και μετατροπή από series σε dataframe.\n",
    "rslt_df = pd.DataFrame(df_cerebral_infarction_labevents['itemid'].value_counts(dropna=True))\n",
    "\n",
    "# Το παραγώμενο αρχείο έχει σαν index την στήλη που περιέχει τον κωδικό των εξετάσεων, οπότε την κάνουμε reset\n",
    "rslt_df = rslt_df.reset_index()\n",
    "\n",
    "# Και ορίζουμε νέες ονομασίες στις στήλες για να μπορούν να είναι ευανάγνωστες.\n",
    "rslt_df.rename(columns={'index': 'itemid', 'itemid': 'times'}).to_csv('D:\\MSc Aegean\\Διατριβή\\MIMIC_IV\\mimic-iv-1.0\\exports\\o12_cerebral_infarction_labevents_counts.csv', index=False)"
   ]
  },
  {
   "cell_type": "code",
   "execution_count": 5,
   "metadata": {},
   "outputs": [],
   "source": [
    "rslt_df = pd.read_csv('D:\\MSc Aegean\\Διατριβή\\MIMIC_IV\\mimic-iv-1.0\\exports\\o12_cerebral_infarction_labevents_counts.csv', index_col=False)"
   ]
  },
  {
   "cell_type": "code",
   "execution_count": 6,
   "metadata": {},
   "outputs": [],
   "source": [
    "rslt_df = rslt_df.set_index('itemid')"
   ]
  },
  {
   "cell_type": "code",
   "execution_count": 7,
   "metadata": {},
   "outputs": [],
   "source": [
    "# Μεταφέρω τις γραμμές σε στήλες\n",
    "rslt_df = rslt_df.transpose()"
   ]
  },
  {
   "cell_type": "code",
   "execution_count": 8,
   "metadata": {},
   "outputs": [],
   "source": [
    "# Αδειάζω την μία και μοναδική γραμμή του πίνακα\n",
    "rslt_df = rslt_df.drop(['times'])"
   ]
  },
  {
   "cell_type": "code",
   "execution_count": 9,
   "metadata": {},
   "outputs": [
    {
     "data": {
      "text/html": [
       "<div>\n",
       "<style scoped>\n",
       "    .dataframe tbody tr th:only-of-type {\n",
       "        vertical-align: middle;\n",
       "    }\n",
       "\n",
       "    .dataframe tbody tr th {\n",
       "        vertical-align: top;\n",
       "    }\n",
       "\n",
       "    .dataframe thead th {\n",
       "        text-align: right;\n",
       "    }\n",
       "</style>\n",
       "<table border=\"1\" class=\"dataframe\">\n",
       "  <thead>\n",
       "    <tr style=\"text-align: right;\">\n",
       "      <th>itemid</th>\n",
       "      <th>50983</th>\n",
       "      <th>50971</th>\n",
       "      <th>50902</th>\n",
       "      <th>50912</th>\n",
       "      <th>51006</th>\n",
       "      <th>50882</th>\n",
       "      <th>50868</th>\n",
       "      <th>50931</th>\n",
       "      <th>51221</th>\n",
       "      <th>50960</th>\n",
       "      <th>...</th>\n",
       "      <th>51621</th>\n",
       "      <th>51084</th>\n",
       "      <th>52274</th>\n",
       "      <th>51531</th>\n",
       "      <th>51119</th>\n",
       "      <th>51494</th>\n",
       "      <th>51495</th>\n",
       "      <th>51511</th>\n",
       "      <th>51461</th>\n",
       "      <th>50934</th>\n",
       "    </tr>\n",
       "  </thead>\n",
       "  <tbody>\n",
       "  </tbody>\n",
       "</table>\n",
       "<p>0 rows × 608 columns</p>\n",
       "</div>"
      ],
      "text/plain": [
       "Empty DataFrame\n",
       "Columns: [50983, 50971, 50902, 50912, 51006, 50882, 50868, 50931, 51221, 50960, 51265, 51222, 51301, 51249, 51279, 51250, 51248, 51277, 50970, 50893, 51275, 52033, 51274, 51237, 50820, 50821, 50802, 50804, 50818, 50808, 50813, 50809, 50822, 50861, 50878, 50817, 50885, 50863, 50812, 50964, 51487, 51464, 51506, 51492, 51484, 51514, 51466, 51498, 51478, 51486, 51491, 50862, 51003, 50910, 50911, 51256, 51200, 51244, 51146, 51254, 50954, 50825, 50920, 51463, 51493, 51516, 51476, 51519, 51087, 50810, 50811, 50824, 50816, 51009, 51512, 50819, 50828, 50806, 50967, 50827, 50826, 51266, 51214, 51144, 51268, 51233, 51246, 51137, 51252, 51267, 51143, 51255, 51251, 51100, 52172, 51000, 51093, 51508, 51097, 51078, ...]\n",
       "Index: []\n",
       "\n",
       "[0 rows x 608 columns]"
      ]
     },
     "execution_count": 9,
     "metadata": {},
     "output_type": "execute_result"
    }
   ],
   "source": [
    "rslt_df"
   ]
  }
 ],
 "metadata": {
  "kernelspec": {
   "display_name": "Python 3",
   "language": "python",
   "name": "python3"
  },
  "language_info": {
   "codemirror_mode": {
    "name": "ipython",
    "version": 3
   },
   "file_extension": ".py",
   "mimetype": "text/x-python",
   "name": "python",
   "nbconvert_exporter": "python",
   "pygments_lexer": "ipython3",
   "version": "3.8.5"
  }
 },
 "nbformat": 4,
 "nbformat_minor": 4
}
